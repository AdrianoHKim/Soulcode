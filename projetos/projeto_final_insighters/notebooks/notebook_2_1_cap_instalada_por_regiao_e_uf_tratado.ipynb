{
  "nbformat": 4,
  "nbformat_minor": 0,
  "metadata": {
    "colab": {
      "provenance": [],
      "collapsed_sections": [
        "ELp0xHUwTO0T",
        "L7abbfpEBjvV",
        "FG2L2jSi2Alp",
        "61BpULdxB4eG",
        "mGQ05qUq6O-Q"
      ],
      "include_colab_link": true
    },
    "kernelspec": {
      "name": "python3",
      "display_name": "Python 3"
    },
    "language_info": {
      "name": "python"
    }
  },
  "cells": [
    {
      "cell_type": "markdown",
      "metadata": {
        "id": "view-in-github",
        "colab_type": "text"
      },
      "source": [
        "<a href=\"https://colab.research.google.com/github/AdrianoHKim/Soulcode/blob/main/notebooks/notebook_2_1_cap_instalada_por_regiao_e_uf_tratado.ipynb\" target=\"_parent\"><img src=\"https://colab.research.google.com/assets/colab-badge.svg\" alt=\"Open In Colab\"/></a>"
      ]
    },
    {
      "cell_type": "markdown",
      "source": [
        "## **Projeto Final**\n",
        "Escola: SoulCode Academy\n",
        "\n",
        "Curso: Bootcamp Analista de Dados - Martech - AD2\n",
        "\n",
        "**Alunos: Adriano Kim, José Aurelio, Marcos Paulo, Paulo Vitorino e Renato Costa e Wesley Luiz**\n",
        "\n",
        "Professores: Douglas Ribeiro, Franciane Rodrigues e"
      ],
      "metadata": {
        "id": "8AvV2uVhNLpj"
      }
    },
    {
      "cell_type": "markdown",
      "source": [
        "# Base de Dados Informações gerais\n",
        "A Empresa de Pesquisa Energética (EPE) apresenta o Anuário Estatístico de Energia Elétrica, que traz as informações relativas à cadeia de energia elétrica do Brasil, bem como informações regionais e das unidades federativas.\n",
        "\n",
        "Este Anuário resulta da compilação de dados dos anos de 2013 a 2022, coletados e consolidados pela EPE ao longo de 2023. Cumpre ressaltar que os dados apresentados não contemplam a parcela consumida em unidades autoprodutoras de energia elétrica.Realizado no âmbito da Comissão Permanente de Análise e Acompanhamento do Mercado de Energia Elétrica (COPAM), sob a coordenação da EPE.\n",
        "\n",
        "Os dados relativos à capacidade instalada e geração de energia elétrica são obtidos pelo sistema de informações de geração da Associação Nacional de Energia Elétrica(ANEEL) e pelo Balanço Energético Nacional (BEN).\n",
        "\n",
        "Fonte: hhttps://dashboard.epe.gov.br/apps/anuario-livro/#Apresenta%C3%A7%C3%A3o\n"
      ],
      "metadata": {
        "id": "ELp0xHUwTO0T"
      }
    },
    {
      "cell_type": "markdown",
      "source": [
        "## **Dicionário de dados**"
      ],
      "metadata": {
        "id": "-KiI5to9Uj6i"
      }
    },
    {
      "cell_type": "markdown",
      "source": [
        "### Base de dados: Capacidade instalada e geração por região e UF\n",
        "\n",
        "* Cap. Instalada (MW) : Representa a capacidade instalada máxima de energia gerada por uma usina elétrica, medida em megawatts (MW)  \n",
        "* Geração (GWh): Indica a quantidade real de energia gerada por uma usina elétrica durante um período específico, medida em gigawatt-horas (GWh)\n",
        "\n",
        "\n",
        "\n",
        "\n"
      ],
      "metadata": {
        "id": "SYdPRuwh2PEe"
      }
    },
    {
      "cell_type": "markdown",
      "source": [
        "# ETL\n",
        "Extração, transformação, carregamento dos dados\n",
        "\n"
      ],
      "metadata": {
        "id": "1J_bHlTG0UPq"
      }
    },
    {
      "cell_type": "markdown",
      "source": [
        "## Instalações e bibliotecas\n",
        "Instalações e importações das bibliotecas necessárias para o processo de ETL."
      ],
      "metadata": {
        "id": "L7abbfpEBjvV"
      }
    },
    {
      "cell_type": "code",
      "execution_count": null,
      "metadata": {
        "id": "cGTV4K2w0xhZ",
        "colab": {
          "base_uri": "https://localhost:8080/"
        },
        "outputId": "61bc7cdd-e6d2-4614-a910-3254a857c3e0"
      },
      "outputs": [
        {
          "output_type": "stream",
          "name": "stdout",
          "text": [
            "Requirement already satisfied: gcsfs in /usr/local/lib/python3.10/dist-packages (2023.6.0)\n",
            "Requirement already satisfied: aiohttp!=4.0.0a0,!=4.0.0a1 in /usr/local/lib/python3.10/dist-packages (from gcsfs) (3.8.5)\n",
            "Requirement already satisfied: decorator>4.1.2 in /usr/local/lib/python3.10/dist-packages (from gcsfs) (4.4.2)\n",
            "Requirement already satisfied: fsspec==2023.6.0 in /usr/local/lib/python3.10/dist-packages (from gcsfs) (2023.6.0)\n",
            "Requirement already satisfied: google-auth>=1.2 in /usr/local/lib/python3.10/dist-packages (from gcsfs) (2.17.3)\n",
            "Requirement already satisfied: google-auth-oauthlib in /usr/local/lib/python3.10/dist-packages (from gcsfs) (1.0.0)\n",
            "Requirement already satisfied: google-cloud-storage in /usr/local/lib/python3.10/dist-packages (from gcsfs) (2.8.0)\n",
            "Requirement already satisfied: requests in /usr/local/lib/python3.10/dist-packages (from gcsfs) (2.31.0)\n",
            "Requirement already satisfied: attrs>=17.3.0 in /usr/local/lib/python3.10/dist-packages (from aiohttp!=4.0.0a0,!=4.0.0a1->gcsfs) (23.1.0)\n",
            "Requirement already satisfied: charset-normalizer<4.0,>=2.0 in /usr/local/lib/python3.10/dist-packages (from aiohttp!=4.0.0a0,!=4.0.0a1->gcsfs) (3.2.0)\n",
            "Requirement already satisfied: multidict<7.0,>=4.5 in /usr/local/lib/python3.10/dist-packages (from aiohttp!=4.0.0a0,!=4.0.0a1->gcsfs) (6.0.4)\n",
            "Requirement already satisfied: async-timeout<5.0,>=4.0.0a3 in /usr/local/lib/python3.10/dist-packages (from aiohttp!=4.0.0a0,!=4.0.0a1->gcsfs) (4.0.2)\n",
            "Requirement already satisfied: yarl<2.0,>=1.0 in /usr/local/lib/python3.10/dist-packages (from aiohttp!=4.0.0a0,!=4.0.0a1->gcsfs) (1.9.2)\n",
            "Requirement already satisfied: frozenlist>=1.1.1 in /usr/local/lib/python3.10/dist-packages (from aiohttp!=4.0.0a0,!=4.0.0a1->gcsfs) (1.4.0)\n",
            "Requirement already satisfied: aiosignal>=1.1.2 in /usr/local/lib/python3.10/dist-packages (from aiohttp!=4.0.0a0,!=4.0.0a1->gcsfs) (1.3.1)\n",
            "Requirement already satisfied: cachetools<6.0,>=2.0.0 in /usr/local/lib/python3.10/dist-packages (from google-auth>=1.2->gcsfs) (5.3.1)\n",
            "Requirement already satisfied: pyasn1-modules>=0.2.1 in /usr/local/lib/python3.10/dist-packages (from google-auth>=1.2->gcsfs) (0.3.0)\n",
            "Requirement already satisfied: six>=1.9.0 in /usr/local/lib/python3.10/dist-packages (from google-auth>=1.2->gcsfs) (1.16.0)\n",
            "Requirement already satisfied: rsa<5,>=3.1.4 in /usr/local/lib/python3.10/dist-packages (from google-auth>=1.2->gcsfs) (4.9)\n",
            "Requirement already satisfied: requests-oauthlib>=0.7.0 in /usr/local/lib/python3.10/dist-packages (from google-auth-oauthlib->gcsfs) (1.3.1)\n",
            "Requirement already satisfied: google-api-core!=2.0.*,!=2.1.*,!=2.2.*,!=2.3.0,<3.0.0dev,>=1.31.5 in /usr/local/lib/python3.10/dist-packages (from google-cloud-storage->gcsfs) (2.11.1)\n",
            "Requirement already satisfied: google-cloud-core<3.0dev,>=2.3.0 in /usr/local/lib/python3.10/dist-packages (from google-cloud-storage->gcsfs) (2.3.3)\n",
            "Requirement already satisfied: google-resumable-media>=2.3.2 in /usr/local/lib/python3.10/dist-packages (from google-cloud-storage->gcsfs) (2.5.0)\n",
            "Requirement already satisfied: idna<4,>=2.5 in /usr/local/lib/python3.10/dist-packages (from requests->gcsfs) (3.4)\n",
            "Requirement already satisfied: urllib3<3,>=1.21.1 in /usr/local/lib/python3.10/dist-packages (from requests->gcsfs) (1.26.16)\n",
            "Requirement already satisfied: certifi>=2017.4.17 in /usr/local/lib/python3.10/dist-packages (from requests->gcsfs) (2023.7.22)\n",
            "Requirement already satisfied: googleapis-common-protos<2.0.dev0,>=1.56.2 in /usr/local/lib/python3.10/dist-packages (from google-api-core!=2.0.*,!=2.1.*,!=2.2.*,!=2.3.0,<3.0.0dev,>=1.31.5->google-cloud-storage->gcsfs) (1.60.0)\n",
            "Requirement already satisfied: protobuf!=3.20.0,!=3.20.1,!=4.21.0,!=4.21.1,!=4.21.2,!=4.21.3,!=4.21.4,!=4.21.5,<5.0.0.dev0,>=3.19.5 in /usr/local/lib/python3.10/dist-packages (from google-api-core!=2.0.*,!=2.1.*,!=2.2.*,!=2.3.0,<3.0.0dev,>=1.31.5->google-cloud-storage->gcsfs) (3.20.3)\n",
            "Requirement already satisfied: google-crc32c<2.0dev,>=1.0 in /usr/local/lib/python3.10/dist-packages (from google-resumable-media>=2.3.2->google-cloud-storage->gcsfs) (1.5.0)\n",
            "Requirement already satisfied: pyasn1<0.6.0,>=0.4.6 in /usr/local/lib/python3.10/dist-packages (from pyasn1-modules>=0.2.1->google-auth>=1.2->gcsfs) (0.5.0)\n",
            "Requirement already satisfied: oauthlib>=3.0.0 in /usr/local/lib/python3.10/dist-packages (from requests-oauthlib>=0.7.0->google-auth-oauthlib->gcsfs) (3.2.2)\n"
          ]
        }
      ],
      "source": [
        "# instalaçao de biblioteca para interagir com google cloud\n",
        "!pip install gcsfs"
      ]
    },
    {
      "cell_type": "code",
      "source": [
        "# instalaçao de biblioteca para validar dados com pandera\n",
        "!pip install pandera"
      ],
      "metadata": {
        "id": "jnnF93Nv9L64",
        "colab": {
          "base_uri": "https://localhost:8080/"
        },
        "outputId": "66be19d7-5fca-4c83-900c-2815d59da8e0"
      },
      "execution_count": null,
      "outputs": [
        {
          "output_type": "stream",
          "name": "stdout",
          "text": [
            "Collecting pandera\n",
            "  Downloading pandera-0.16.1-py3-none-any.whl (201 kB)\n",
            "\u001b[2K     \u001b[90m━━━━━━━━━━━━━━━━━━━━━━━━━━━━━━━━━━━━━━━\u001b[0m \u001b[32m201.6/201.6 kB\u001b[0m \u001b[31m1.8 MB/s\u001b[0m eta \u001b[36m0:00:00\u001b[0m\n",
            "\u001b[?25hCollecting multimethod (from pandera)\n",
            "  Downloading multimethod-1.9.1-py3-none-any.whl (10 kB)\n",
            "Requirement already satisfied: numpy>=1.19.0 in /usr/local/lib/python3.10/dist-packages (from pandera) (1.23.5)\n",
            "Requirement already satisfied: packaging>=20.0 in /usr/local/lib/python3.10/dist-packages (from pandera) (23.1)\n",
            "Requirement already satisfied: pandas>=1.2.0 in /usr/local/lib/python3.10/dist-packages (from pandera) (1.5.3)\n",
            "Requirement already satisfied: pydantic<2.0.0 in /usr/local/lib/python3.10/dist-packages (from pandera) (1.10.12)\n",
            "Collecting typeguard>=3.0.2 (from pandera)\n",
            "  Downloading typeguard-4.1.0-py3-none-any.whl (33 kB)\n",
            "Collecting typing-inspect>=0.6.0 (from pandera)\n",
            "  Downloading typing_inspect-0.9.0-py3-none-any.whl (8.8 kB)\n",
            "Requirement already satisfied: wrapt in /usr/local/lib/python3.10/dist-packages (from pandera) (1.14.1)\n",
            "Requirement already satisfied: python-dateutil>=2.8.1 in /usr/local/lib/python3.10/dist-packages (from pandas>=1.2.0->pandera) (2.8.2)\n",
            "Requirement already satisfied: pytz>=2020.1 in /usr/local/lib/python3.10/dist-packages (from pandas>=1.2.0->pandera) (2022.7.1)\n",
            "Requirement already satisfied: typing-extensions>=4.2.0 in /usr/local/lib/python3.10/dist-packages (from pydantic<2.0.0->pandera) (4.7.1)\n",
            "Collecting mypy-extensions>=0.3.0 (from typing-inspect>=0.6.0->pandera)\n",
            "  Downloading mypy_extensions-1.0.0-py3-none-any.whl (4.7 kB)\n",
            "Requirement already satisfied: six>=1.5 in /usr/local/lib/python3.10/dist-packages (from python-dateutil>=2.8.1->pandas>=1.2.0->pandera) (1.16.0)\n",
            "Installing collected packages: typeguard, mypy-extensions, multimethod, typing-inspect, pandera\n",
            "Successfully installed multimethod-1.9.1 mypy-extensions-1.0.0 pandera-0.16.1 typeguard-4.1.0 typing-inspect-0.9.0\n"
          ]
        }
      ]
    },
    {
      "cell_type": "code",
      "source": [
        "#Importando bibliotecas\n",
        "import os\n",
        "import pandas as pd\n",
        "import numpy as np\n",
        "import os\n",
        "import pandera as pa\n",
        "import matplotlib.pyplot as plt\n",
        "import matplotlib.patches as mpatches\n",
        "import seaborn as sns\n",
        "from google.cloud import storage\n",
        "from oauth2client.client import GoogleCredentials"
      ],
      "metadata": {
        "id": "9PyA1knO9Wau"
      },
      "execution_count": null,
      "outputs": []
    },
    {
      "cell_type": "code",
      "source": [
        "# Ignorando alguns alertas desnecessários\n",
        "import warnings\n",
        "warnings.filterwarnings(\"ignore\")"
      ],
      "metadata": {
        "id": "um2OUpf69mnW"
      },
      "execution_count": null,
      "outputs": []
    },
    {
      "cell_type": "code",
      "source": [
        "# Configuração da quantidade de colunas para aparecer em um DataFrame\n",
        "pd.set_option('display.max_columns',100)"
      ],
      "metadata": {
        "id": "AeslQXYjNiEy"
      },
      "execution_count": null,
      "outputs": []
    },
    {
      "cell_type": "markdown",
      "source": [
        "## Extração\n",
        "A primeira etapa da ETL é a extração dos dados de sua fonte original. Dependendo do tipo de dados e da fonte, você pode precisar de diferentes ferramentas e técnicas para extrair os dados."
      ],
      "metadata": {
        "id": "0dZJqZvm1DES"
      }
    },
    {
      "cell_type": "code",
      "source": [
        "# CONFIGURANDO DA CHAVE DE SEGURANCA - ACESSO O PROJETO\n",
        "serviceAccount = '/content/projeto-final-ad2-e8-ae566c3a2c2b.json'\n",
        "os.environ['GOOGLE_APPLICATION_CREDENTIALS'] = serviceAccount"
      ],
      "metadata": {
        "id": "15DlC0EbFcRL"
      },
      "execution_count": null,
      "outputs": []
    },
    {
      "cell_type": "code",
      "source": [
        "# Conexão com a bucket do Google Cloud\n",
        "\n",
        "client = storage.Client()\n",
        "bucket = client.get_bucket('projeto-final-ad2-e8') # nome do bucket\n",
        "bucket.blob('projeto-final-ad2-e8/dados/brutos/excel/2_1_cap_instalada_por_regiao_e_uf.xlsx ') # nome do arquivo\n",
        "path = 'gs://projeto-final-ad2-e8/dados/brutos/excel/2_1_cap_instalada_por_regiao_e_uf.xlsx' # gsutil\n",
        "\n"
      ],
      "metadata": {
        "id": "TV-rH7EWbVpm"
      },
      "execution_count": null,
      "outputs": []
    },
    {
      "cell_type": "code",
      "source": [
        "# Leitura e configuração dos arquivos extraidos\n",
        "df = pd.read_excel(path)"
      ],
      "metadata": {
        "id": "5RA70GsGesUH"
      },
      "execution_count": null,
      "outputs": []
    },
    {
      "cell_type": "markdown",
      "source": [
        "### Pré Análise"
      ],
      "metadata": {
        "id": "V1UNCIESAaZN"
      }
    },
    {
      "cell_type": "code",
      "source": [
        "# Visualização geral\n",
        "df"
      ],
      "metadata": {
        "id": "ji1Xb8ccfuyt",
        "colab": {
          "base_uri": "https://localhost:8080/",
          "height": 424
        },
        "outputId": "f4903918-956e-49a9-8c5f-f752c29cc41a"
      },
      "execution_count": null,
      "outputs": [
        {
          "output_type": "execute_result",
          "data": {
            "text/plain": [
              "              grupo macro_grupo   ano   tipo_de_informacao          total\n",
              "0            Brasil      Brasil  2013  Cap. Instalada (MW)  126743.303060\n",
              "1            Brasil      Brasil  2013        Geração (GWh)  570834.647328\n",
              "2            Brasil      Brasil  2014  Cap. Instalada (MW)  133912.521110\n",
              "3            Brasil      Brasil  2014        Geração (GWh)  590542.338656\n",
              "4            Brasil      Brasil  2015  Cap. Instalada (MW)  140857.748378\n",
              "..              ...         ...   ...                  ...            ...\n",
              "555  Santa Catarina         Sul  2020        Geração (GWh)   16590.335429\n",
              "556  Santa Catarina         Sul  2021  Cap. Instalada (MW)    5817.516860\n",
              "557  Santa Catarina         Sul  2021        Geração (GWh)   20602.443775\n",
              "558  Santa Catarina         Sul  2022  Cap. Instalada (MW)    5953.170600\n",
              "559  Santa Catarina         Sul  2022        Geração (GWh)   26793.393078\n",
              "\n",
              "[560 rows x 5 columns]"
            ],
            "text/html": [
              "\n",
              "\n",
              "  <div id=\"df-4b2cbc9f-7655-45be-8c3b-12b340ebf15b\">\n",
              "    <div class=\"colab-df-container\">\n",
              "      <div>\n",
              "<style scoped>\n",
              "    .dataframe tbody tr th:only-of-type {\n",
              "        vertical-align: middle;\n",
              "    }\n",
              "\n",
              "    .dataframe tbody tr th {\n",
              "        vertical-align: top;\n",
              "    }\n",
              "\n",
              "    .dataframe thead th {\n",
              "        text-align: right;\n",
              "    }\n",
              "</style>\n",
              "<table border=\"1\" class=\"dataframe\">\n",
              "  <thead>\n",
              "    <tr style=\"text-align: right;\">\n",
              "      <th></th>\n",
              "      <th>grupo</th>\n",
              "      <th>macro_grupo</th>\n",
              "      <th>ano</th>\n",
              "      <th>tipo_de_informacao</th>\n",
              "      <th>total</th>\n",
              "    </tr>\n",
              "  </thead>\n",
              "  <tbody>\n",
              "    <tr>\n",
              "      <th>0</th>\n",
              "      <td>Brasil</td>\n",
              "      <td>Brasil</td>\n",
              "      <td>2013</td>\n",
              "      <td>Cap. Instalada (MW)</td>\n",
              "      <td>126743.303060</td>\n",
              "    </tr>\n",
              "    <tr>\n",
              "      <th>1</th>\n",
              "      <td>Brasil</td>\n",
              "      <td>Brasil</td>\n",
              "      <td>2013</td>\n",
              "      <td>Geração (GWh)</td>\n",
              "      <td>570834.647328</td>\n",
              "    </tr>\n",
              "    <tr>\n",
              "      <th>2</th>\n",
              "      <td>Brasil</td>\n",
              "      <td>Brasil</td>\n",
              "      <td>2014</td>\n",
              "      <td>Cap. Instalada (MW)</td>\n",
              "      <td>133912.521110</td>\n",
              "    </tr>\n",
              "    <tr>\n",
              "      <th>3</th>\n",
              "      <td>Brasil</td>\n",
              "      <td>Brasil</td>\n",
              "      <td>2014</td>\n",
              "      <td>Geração (GWh)</td>\n",
              "      <td>590542.338656</td>\n",
              "    </tr>\n",
              "    <tr>\n",
              "      <th>4</th>\n",
              "      <td>Brasil</td>\n",
              "      <td>Brasil</td>\n",
              "      <td>2015</td>\n",
              "      <td>Cap. Instalada (MW)</td>\n",
              "      <td>140857.748378</td>\n",
              "    </tr>\n",
              "    <tr>\n",
              "      <th>...</th>\n",
              "      <td>...</td>\n",
              "      <td>...</td>\n",
              "      <td>...</td>\n",
              "      <td>...</td>\n",
              "      <td>...</td>\n",
              "    </tr>\n",
              "    <tr>\n",
              "      <th>555</th>\n",
              "      <td>Santa Catarina</td>\n",
              "      <td>Sul</td>\n",
              "      <td>2020</td>\n",
              "      <td>Geração (GWh)</td>\n",
              "      <td>16590.335429</td>\n",
              "    </tr>\n",
              "    <tr>\n",
              "      <th>556</th>\n",
              "      <td>Santa Catarina</td>\n",
              "      <td>Sul</td>\n",
              "      <td>2021</td>\n",
              "      <td>Cap. Instalada (MW)</td>\n",
              "      <td>5817.516860</td>\n",
              "    </tr>\n",
              "    <tr>\n",
              "      <th>557</th>\n",
              "      <td>Santa Catarina</td>\n",
              "      <td>Sul</td>\n",
              "      <td>2021</td>\n",
              "      <td>Geração (GWh)</td>\n",
              "      <td>20602.443775</td>\n",
              "    </tr>\n",
              "    <tr>\n",
              "      <th>558</th>\n",
              "      <td>Santa Catarina</td>\n",
              "      <td>Sul</td>\n",
              "      <td>2022</td>\n",
              "      <td>Cap. Instalada (MW)</td>\n",
              "      <td>5953.170600</td>\n",
              "    </tr>\n",
              "    <tr>\n",
              "      <th>559</th>\n",
              "      <td>Santa Catarina</td>\n",
              "      <td>Sul</td>\n",
              "      <td>2022</td>\n",
              "      <td>Geração (GWh)</td>\n",
              "      <td>26793.393078</td>\n",
              "    </tr>\n",
              "  </tbody>\n",
              "</table>\n",
              "<p>560 rows × 5 columns</p>\n",
              "</div>\n",
              "      <button class=\"colab-df-convert\" onclick=\"convertToInteractive('df-4b2cbc9f-7655-45be-8c3b-12b340ebf15b')\"\n",
              "              title=\"Convert this dataframe to an interactive table.\"\n",
              "              style=\"display:none;\">\n",
              "\n",
              "  <svg xmlns=\"http://www.w3.org/2000/svg\" height=\"24px\"viewBox=\"0 0 24 24\"\n",
              "       width=\"24px\">\n",
              "    <path d=\"M0 0h24v24H0V0z\" fill=\"none\"/>\n",
              "    <path d=\"M18.56 5.44l.94 2.06.94-2.06 2.06-.94-2.06-.94-.94-2.06-.94 2.06-2.06.94zm-11 1L8.5 8.5l.94-2.06 2.06-.94-2.06-.94L8.5 2.5l-.94 2.06-2.06.94zm10 10l.94 2.06.94-2.06 2.06-.94-2.06-.94-.94-2.06-.94 2.06-2.06.94z\"/><path d=\"M17.41 7.96l-1.37-1.37c-.4-.4-.92-.59-1.43-.59-.52 0-1.04.2-1.43.59L10.3 9.45l-7.72 7.72c-.78.78-.78 2.05 0 2.83L4 21.41c.39.39.9.59 1.41.59.51 0 1.02-.2 1.41-.59l7.78-7.78 2.81-2.81c.8-.78.8-2.07 0-2.86zM5.41 20L4 18.59l7.72-7.72 1.47 1.35L5.41 20z\"/>\n",
              "  </svg>\n",
              "      </button>\n",
              "\n",
              "\n",
              "\n",
              "    <div id=\"df-b5d6c0fc-895a-4b4d-a2d8-2e623240c7fd\">\n",
              "      <button class=\"colab-df-quickchart\" onclick=\"quickchart('df-b5d6c0fc-895a-4b4d-a2d8-2e623240c7fd')\"\n",
              "              title=\"Suggest charts.\"\n",
              "              style=\"display:none;\">\n",
              "\n",
              "<svg xmlns=\"http://www.w3.org/2000/svg\" height=\"24px\"viewBox=\"0 0 24 24\"\n",
              "     width=\"24px\">\n",
              "    <g>\n",
              "        <path d=\"M19 3H5c-1.1 0-2 .9-2 2v14c0 1.1.9 2 2 2h14c1.1 0 2-.9 2-2V5c0-1.1-.9-2-2-2zM9 17H7v-7h2v7zm4 0h-2V7h2v10zm4 0h-2v-4h2v4z\"/>\n",
              "    </g>\n",
              "</svg>\n",
              "      </button>\n",
              "    </div>\n",
              "\n",
              "<style>\n",
              "  .colab-df-quickchart {\n",
              "    background-color: #E8F0FE;\n",
              "    border: none;\n",
              "    border-radius: 50%;\n",
              "    cursor: pointer;\n",
              "    display: none;\n",
              "    fill: #1967D2;\n",
              "    height: 32px;\n",
              "    padding: 0 0 0 0;\n",
              "    width: 32px;\n",
              "  }\n",
              "\n",
              "  .colab-df-quickchart:hover {\n",
              "    background-color: #E2EBFA;\n",
              "    box-shadow: 0px 1px 2px rgba(60, 64, 67, 0.3), 0px 1px 3px 1px rgba(60, 64, 67, 0.15);\n",
              "    fill: #174EA6;\n",
              "  }\n",
              "\n",
              "  [theme=dark] .colab-df-quickchart {\n",
              "    background-color: #3B4455;\n",
              "    fill: #D2E3FC;\n",
              "  }\n",
              "\n",
              "  [theme=dark] .colab-df-quickchart:hover {\n",
              "    background-color: #434B5C;\n",
              "    box-shadow: 0px 1px 3px 1px rgba(0, 0, 0, 0.15);\n",
              "    filter: drop-shadow(0px 1px 2px rgba(0, 0, 0, 0.3));\n",
              "    fill: #FFFFFF;\n",
              "  }\n",
              "</style>\n",
              "\n",
              "    <script>\n",
              "      async function quickchart(key) {\n",
              "        const containerElement = document.querySelector('#' + key);\n",
              "        const charts = await google.colab.kernel.invokeFunction(\n",
              "            'suggestCharts', [key], {});\n",
              "      }\n",
              "    </script>\n",
              "\n",
              "      <script>\n",
              "\n",
              "function displayQuickchartButton(domScope) {\n",
              "  let quickchartButtonEl =\n",
              "    domScope.querySelector('#df-b5d6c0fc-895a-4b4d-a2d8-2e623240c7fd button.colab-df-quickchart');\n",
              "  quickchartButtonEl.style.display =\n",
              "    google.colab.kernel.accessAllowed ? 'block' : 'none';\n",
              "}\n",
              "\n",
              "        displayQuickchartButton(document);\n",
              "      </script>\n",
              "      <style>\n",
              "    .colab-df-container {\n",
              "      display:flex;\n",
              "      flex-wrap:wrap;\n",
              "      gap: 12px;\n",
              "    }\n",
              "\n",
              "    .colab-df-convert {\n",
              "      background-color: #E8F0FE;\n",
              "      border: none;\n",
              "      border-radius: 50%;\n",
              "      cursor: pointer;\n",
              "      display: none;\n",
              "      fill: #1967D2;\n",
              "      height: 32px;\n",
              "      padding: 0 0 0 0;\n",
              "      width: 32px;\n",
              "    }\n",
              "\n",
              "    .colab-df-convert:hover {\n",
              "      background-color: #E2EBFA;\n",
              "      box-shadow: 0px 1px 2px rgba(60, 64, 67, 0.3), 0px 1px 3px 1px rgba(60, 64, 67, 0.15);\n",
              "      fill: #174EA6;\n",
              "    }\n",
              "\n",
              "    [theme=dark] .colab-df-convert {\n",
              "      background-color: #3B4455;\n",
              "      fill: #D2E3FC;\n",
              "    }\n",
              "\n",
              "    [theme=dark] .colab-df-convert:hover {\n",
              "      background-color: #434B5C;\n",
              "      box-shadow: 0px 1px 3px 1px rgba(0, 0, 0, 0.15);\n",
              "      filter: drop-shadow(0px 1px 2px rgba(0, 0, 0, 0.3));\n",
              "      fill: #FFFFFF;\n",
              "    }\n",
              "  </style>\n",
              "\n",
              "      <script>\n",
              "        const buttonEl =\n",
              "          document.querySelector('#df-4b2cbc9f-7655-45be-8c3b-12b340ebf15b button.colab-df-convert');\n",
              "        buttonEl.style.display =\n",
              "          google.colab.kernel.accessAllowed ? 'block' : 'none';\n",
              "\n",
              "        async function convertToInteractive(key) {\n",
              "          const element = document.querySelector('#df-4b2cbc9f-7655-45be-8c3b-12b340ebf15b');\n",
              "          const dataTable =\n",
              "            await google.colab.kernel.invokeFunction('convertToInteractive',\n",
              "                                                     [key], {});\n",
              "          if (!dataTable) return;\n",
              "\n",
              "          const docLinkHtml = 'Like what you see? Visit the ' +\n",
              "            '<a target=\"_blank\" href=https://colab.research.google.com/notebooks/data_table.ipynb>data table notebook</a>'\n",
              "            + ' to learn more about interactive tables.';\n",
              "          element.innerHTML = '';\n",
              "          dataTable['output_type'] = 'display_data';\n",
              "          await google.colab.output.renderOutput(dataTable, element);\n",
              "          const docLink = document.createElement('div');\n",
              "          docLink.innerHTML = docLinkHtml;\n",
              "          element.appendChild(docLink);\n",
              "        }\n",
              "      </script>\n",
              "    </div>\n",
              "  </div>\n"
            ]
          },
          "metadata": {},
          "execution_count": 9
        }
      ]
    },
    {
      "cell_type": "code",
      "source": [
        "# Visualização de forma aleatoria\n",
        "df.sample(3)"
      ],
      "metadata": {
        "id": "7VOwplWAj1qP",
        "colab": {
          "base_uri": "https://localhost:8080/",
          "height": 143
        },
        "outputId": "d551863a-1c0a-4bf8-fc62-c2d1676be0d6"
      },
      "execution_count": null,
      "outputs": [
        {
          "output_type": "execute_result",
          "data": {
            "text/plain": [
              "              grupo macro_grupo   ano tipo_de_informacao         total\n",
              "173        Maranhão    Nordeste  2019      Geração (GWh)  13209.177047\n",
              "207      Pernambuco    Nordeste  2016      Geração (GWh)  10997.703624\n",
              "473  Rio de Janeiro     Sudeste  2019      Geração (GWh)  51724.838581"
            ],
            "text/html": [
              "\n",
              "\n",
              "  <div id=\"df-a50a3e62-4bbb-4d1a-b563-7ce072f55ea1\">\n",
              "    <div class=\"colab-df-container\">\n",
              "      <div>\n",
              "<style scoped>\n",
              "    .dataframe tbody tr th:only-of-type {\n",
              "        vertical-align: middle;\n",
              "    }\n",
              "\n",
              "    .dataframe tbody tr th {\n",
              "        vertical-align: top;\n",
              "    }\n",
              "\n",
              "    .dataframe thead th {\n",
              "        text-align: right;\n",
              "    }\n",
              "</style>\n",
              "<table border=\"1\" class=\"dataframe\">\n",
              "  <thead>\n",
              "    <tr style=\"text-align: right;\">\n",
              "      <th></th>\n",
              "      <th>grupo</th>\n",
              "      <th>macro_grupo</th>\n",
              "      <th>ano</th>\n",
              "      <th>tipo_de_informacao</th>\n",
              "      <th>total</th>\n",
              "    </tr>\n",
              "  </thead>\n",
              "  <tbody>\n",
              "    <tr>\n",
              "      <th>173</th>\n",
              "      <td>Maranhão</td>\n",
              "      <td>Nordeste</td>\n",
              "      <td>2019</td>\n",
              "      <td>Geração (GWh)</td>\n",
              "      <td>13209.177047</td>\n",
              "    </tr>\n",
              "    <tr>\n",
              "      <th>207</th>\n",
              "      <td>Pernambuco</td>\n",
              "      <td>Nordeste</td>\n",
              "      <td>2016</td>\n",
              "      <td>Geração (GWh)</td>\n",
              "      <td>10997.703624</td>\n",
              "    </tr>\n",
              "    <tr>\n",
              "      <th>473</th>\n",
              "      <td>Rio de Janeiro</td>\n",
              "      <td>Sudeste</td>\n",
              "      <td>2019</td>\n",
              "      <td>Geração (GWh)</td>\n",
              "      <td>51724.838581</td>\n",
              "    </tr>\n",
              "  </tbody>\n",
              "</table>\n",
              "</div>\n",
              "      <button class=\"colab-df-convert\" onclick=\"convertToInteractive('df-a50a3e62-4bbb-4d1a-b563-7ce072f55ea1')\"\n",
              "              title=\"Convert this dataframe to an interactive table.\"\n",
              "              style=\"display:none;\">\n",
              "\n",
              "  <svg xmlns=\"http://www.w3.org/2000/svg\" height=\"24px\"viewBox=\"0 0 24 24\"\n",
              "       width=\"24px\">\n",
              "    <path d=\"M0 0h24v24H0V0z\" fill=\"none\"/>\n",
              "    <path d=\"M18.56 5.44l.94 2.06.94-2.06 2.06-.94-2.06-.94-.94-2.06-.94 2.06-2.06.94zm-11 1L8.5 8.5l.94-2.06 2.06-.94-2.06-.94L8.5 2.5l-.94 2.06-2.06.94zm10 10l.94 2.06.94-2.06 2.06-.94-2.06-.94-.94-2.06-.94 2.06-2.06.94z\"/><path d=\"M17.41 7.96l-1.37-1.37c-.4-.4-.92-.59-1.43-.59-.52 0-1.04.2-1.43.59L10.3 9.45l-7.72 7.72c-.78.78-.78 2.05 0 2.83L4 21.41c.39.39.9.59 1.41.59.51 0 1.02-.2 1.41-.59l7.78-7.78 2.81-2.81c.8-.78.8-2.07 0-2.86zM5.41 20L4 18.59l7.72-7.72 1.47 1.35L5.41 20z\"/>\n",
              "  </svg>\n",
              "      </button>\n",
              "\n",
              "\n",
              "\n",
              "    <div id=\"df-509572a1-4ff2-405d-9e52-806525039942\">\n",
              "      <button class=\"colab-df-quickchart\" onclick=\"quickchart('df-509572a1-4ff2-405d-9e52-806525039942')\"\n",
              "              title=\"Suggest charts.\"\n",
              "              style=\"display:none;\">\n",
              "\n",
              "<svg xmlns=\"http://www.w3.org/2000/svg\" height=\"24px\"viewBox=\"0 0 24 24\"\n",
              "     width=\"24px\">\n",
              "    <g>\n",
              "        <path d=\"M19 3H5c-1.1 0-2 .9-2 2v14c0 1.1.9 2 2 2h14c1.1 0 2-.9 2-2V5c0-1.1-.9-2-2-2zM9 17H7v-7h2v7zm4 0h-2V7h2v10zm4 0h-2v-4h2v4z\"/>\n",
              "    </g>\n",
              "</svg>\n",
              "      </button>\n",
              "    </div>\n",
              "\n",
              "<style>\n",
              "  .colab-df-quickchart {\n",
              "    background-color: #E8F0FE;\n",
              "    border: none;\n",
              "    border-radius: 50%;\n",
              "    cursor: pointer;\n",
              "    display: none;\n",
              "    fill: #1967D2;\n",
              "    height: 32px;\n",
              "    padding: 0 0 0 0;\n",
              "    width: 32px;\n",
              "  }\n",
              "\n",
              "  .colab-df-quickchart:hover {\n",
              "    background-color: #E2EBFA;\n",
              "    box-shadow: 0px 1px 2px rgba(60, 64, 67, 0.3), 0px 1px 3px 1px rgba(60, 64, 67, 0.15);\n",
              "    fill: #174EA6;\n",
              "  }\n",
              "\n",
              "  [theme=dark] .colab-df-quickchart {\n",
              "    background-color: #3B4455;\n",
              "    fill: #D2E3FC;\n",
              "  }\n",
              "\n",
              "  [theme=dark] .colab-df-quickchart:hover {\n",
              "    background-color: #434B5C;\n",
              "    box-shadow: 0px 1px 3px 1px rgba(0, 0, 0, 0.15);\n",
              "    filter: drop-shadow(0px 1px 2px rgba(0, 0, 0, 0.3));\n",
              "    fill: #FFFFFF;\n",
              "  }\n",
              "</style>\n",
              "\n",
              "    <script>\n",
              "      async function quickchart(key) {\n",
              "        const containerElement = document.querySelector('#' + key);\n",
              "        const charts = await google.colab.kernel.invokeFunction(\n",
              "            'suggestCharts', [key], {});\n",
              "      }\n",
              "    </script>\n",
              "\n",
              "      <script>\n",
              "\n",
              "function displayQuickchartButton(domScope) {\n",
              "  let quickchartButtonEl =\n",
              "    domScope.querySelector('#df-509572a1-4ff2-405d-9e52-806525039942 button.colab-df-quickchart');\n",
              "  quickchartButtonEl.style.display =\n",
              "    google.colab.kernel.accessAllowed ? 'block' : 'none';\n",
              "}\n",
              "\n",
              "        displayQuickchartButton(document);\n",
              "      </script>\n",
              "      <style>\n",
              "    .colab-df-container {\n",
              "      display:flex;\n",
              "      flex-wrap:wrap;\n",
              "      gap: 12px;\n",
              "    }\n",
              "\n",
              "    .colab-df-convert {\n",
              "      background-color: #E8F0FE;\n",
              "      border: none;\n",
              "      border-radius: 50%;\n",
              "      cursor: pointer;\n",
              "      display: none;\n",
              "      fill: #1967D2;\n",
              "      height: 32px;\n",
              "      padding: 0 0 0 0;\n",
              "      width: 32px;\n",
              "    }\n",
              "\n",
              "    .colab-df-convert:hover {\n",
              "      background-color: #E2EBFA;\n",
              "      box-shadow: 0px 1px 2px rgba(60, 64, 67, 0.3), 0px 1px 3px 1px rgba(60, 64, 67, 0.15);\n",
              "      fill: #174EA6;\n",
              "    }\n",
              "\n",
              "    [theme=dark] .colab-df-convert {\n",
              "      background-color: #3B4455;\n",
              "      fill: #D2E3FC;\n",
              "    }\n",
              "\n",
              "    [theme=dark] .colab-df-convert:hover {\n",
              "      background-color: #434B5C;\n",
              "      box-shadow: 0px 1px 3px 1px rgba(0, 0, 0, 0.15);\n",
              "      filter: drop-shadow(0px 1px 2px rgba(0, 0, 0, 0.3));\n",
              "      fill: #FFFFFF;\n",
              "    }\n",
              "  </style>\n",
              "\n",
              "      <script>\n",
              "        const buttonEl =\n",
              "          document.querySelector('#df-a50a3e62-4bbb-4d1a-b563-7ce072f55ea1 button.colab-df-convert');\n",
              "        buttonEl.style.display =\n",
              "          google.colab.kernel.accessAllowed ? 'block' : 'none';\n",
              "\n",
              "        async function convertToInteractive(key) {\n",
              "          const element = document.querySelector('#df-a50a3e62-4bbb-4d1a-b563-7ce072f55ea1');\n",
              "          const dataTable =\n",
              "            await google.colab.kernel.invokeFunction('convertToInteractive',\n",
              "                                                     [key], {});\n",
              "          if (!dataTable) return;\n",
              "\n",
              "          const docLinkHtml = 'Like what you see? Visit the ' +\n",
              "            '<a target=\"_blank\" href=https://colab.research.google.com/notebooks/data_table.ipynb>data table notebook</a>'\n",
              "            + ' to learn more about interactive tables.';\n",
              "          element.innerHTML = '';\n",
              "          dataTable['output_type'] = 'display_data';\n",
              "          await google.colab.output.renderOutput(dataTable, element);\n",
              "          const docLink = document.createElement('div');\n",
              "          docLink.innerHTML = docLinkHtml;\n",
              "          element.appendChild(docLink);\n",
              "        }\n",
              "      </script>\n",
              "    </div>\n",
              "  </div>\n"
            ]
          },
          "metadata": {},
          "execution_count": 10
        }
      ]
    },
    {
      "cell_type": "code",
      "source": [
        "# Tamanho total de (linhas , colunas)\n",
        "df.shape"
      ],
      "metadata": {
        "id": "Vk8p8Nd-kMWP",
        "colab": {
          "base_uri": "https://localhost:8080/"
        },
        "outputId": "1def4264-49b9-4dd9-e8f3-06bcb5016eaa"
      },
      "execution_count": null,
      "outputs": [
        {
          "output_type": "execute_result",
          "data": {
            "text/plain": [
              "(560, 5)"
            ]
          },
          "metadata": {},
          "execution_count": 11
        }
      ]
    },
    {
      "cell_type": "code",
      "source": [
        "# Todos os tipos de dados presentes\n",
        "df.dtypes"
      ],
      "metadata": {
        "id": "fsZ6_xn6mGo3",
        "colab": {
          "base_uri": "https://localhost:8080/"
        },
        "outputId": "db43f1f9-bc5f-4765-a232-121ddf6b54a4"
      },
      "execution_count": null,
      "outputs": [
        {
          "output_type": "execute_result",
          "data": {
            "text/plain": [
              "grupo                  object\n",
              "macro_grupo            object\n",
              "ano                     int64\n",
              "tipo_de_informacao     object\n",
              "total                 float64\n",
              "dtype: object"
            ]
          },
          "metadata": {},
          "execution_count": 12
        }
      ]
    },
    {
      "cell_type": "code",
      "source": [
        "# Contagem de observações para cada coluna\n",
        "df.count()"
      ],
      "metadata": {
        "id": "-mLulv3imH94",
        "colab": {
          "base_uri": "https://localhost:8080/"
        },
        "outputId": "0142d706-a054-4f0f-aec5-79bbe398d277"
      },
      "execution_count": null,
      "outputs": [
        {
          "output_type": "execute_result",
          "data": {
            "text/plain": [
              "grupo                 560\n",
              "macro_grupo           560\n",
              "ano                   560\n",
              "tipo_de_informacao    560\n",
              "total                 560\n",
              "dtype: int64"
            ]
          },
          "metadata": {},
          "execution_count": 13
        }
      ]
    },
    {
      "cell_type": "code",
      "source": [
        "# Informações detalhadas\n",
        "df.info()"
      ],
      "metadata": {
        "id": "m6SgfErBpnz3",
        "colab": {
          "base_uri": "https://localhost:8080/"
        },
        "outputId": "9e39acc1-c296-4553-9cc0-af292f7c22e5"
      },
      "execution_count": null,
      "outputs": [
        {
          "output_type": "stream",
          "name": "stdout",
          "text": [
            "<class 'pandas.core.frame.DataFrame'>\n",
            "RangeIndex: 560 entries, 0 to 559\n",
            "Data columns (total 5 columns):\n",
            " #   Column              Non-Null Count  Dtype  \n",
            "---  ------              --------------  -----  \n",
            " 0   grupo               560 non-null    object \n",
            " 1   macro_grupo         560 non-null    object \n",
            " 2   ano                 560 non-null    int64  \n",
            " 3   tipo_de_informacao  560 non-null    object \n",
            " 4   total               560 non-null    float64\n",
            "dtypes: float64(1), int64(1), object(3)\n",
            "memory usage: 22.0+ KB\n"
          ]
        }
      ]
    },
    {
      "cell_type": "code",
      "source": [
        "# Backup local\n",
        "dfbackup1 = df.copy()"
      ],
      "metadata": {
        "id": "HhW4D4A9qTwe"
      },
      "execution_count": null,
      "outputs": []
    },
    {
      "cell_type": "code",
      "source": [
        "# Fazendo um relatório para mostrar os valores únicos de cada atributo.\n",
        "# O for vai garantir que a atividade seja feita automaticamentepara todos os atributos\n",
        "\n",
        "for coluna in df:\n",
        "    valor = (df[coluna].unique())\n",
        "    print(\"-\"*70)\n",
        "    msg = f\"Valores únicos para o atributo {coluna}:\"\n",
        "    print(f\"{msg:^70}\")\n",
        "    print(\"-\"*70)\n",
        "    print(f\"\\n{valor}\\n\")\n",
        "    print(\"-\"*70)\n"
      ],
      "metadata": {
        "id": "KcNCjl87B9rk",
        "colab": {
          "base_uri": "https://localhost:8080/"
        },
        "outputId": "4fa736c9-66ce-4a6a-8516-c8e6a8e7dcdc"
      },
      "execution_count": null,
      "outputs": [
        {
          "output_type": "stream",
          "name": "stdout",
          "text": [
            "----------------------------------------------------------------------\n",
            "                Valores únicos para o atributo grupo:                 \n",
            "----------------------------------------------------------------------\n",
            "\n",
            "['Brasil' 'Distrito Federal' 'Goiás' 'Mato Grosso' 'Mato Grosso do Sul'\n",
            " 'Alagoas' 'Bahia' 'Ceará' 'Maranhão' 'Paraíba' 'Pernambuco' 'Piauí'\n",
            " 'Rio Grande do Norte' 'Sergipe' 'Acre' 'Amapá' 'Amazonas' 'Pará'\n",
            " 'Rondônia' 'Roraima' 'Tocantins' 'Espírito Santo' 'Minas Gerais'\n",
            " 'Rio de Janeiro' 'São Paulo' 'Paraná' 'Rio Grande do Sul'\n",
            " 'Santa Catarina']\n",
            "\n",
            "----------------------------------------------------------------------\n",
            "----------------------------------------------------------------------\n",
            "             Valores únicos para o atributo macro_grupo:              \n",
            "----------------------------------------------------------------------\n",
            "\n",
            "['Brasil' 'Centro-Oeste' 'Nordeste' 'Norte' 'Sudeste' 'Sul']\n",
            "\n",
            "----------------------------------------------------------------------\n",
            "----------------------------------------------------------------------\n",
            "                 Valores únicos para o atributo ano:                  \n",
            "----------------------------------------------------------------------\n",
            "\n",
            "[2013 2014 2015 2016 2017 2018 2019 2020 2021 2022]\n",
            "\n",
            "----------------------------------------------------------------------\n",
            "----------------------------------------------------------------------\n",
            "          Valores únicos para o atributo tipo_de_informacao:          \n",
            "----------------------------------------------------------------------\n",
            "\n",
            "['Cap. Instalada (MW)' 'Geração (GWh)']\n",
            "\n",
            "----------------------------------------------------------------------\n",
            "----------------------------------------------------------------------\n",
            "                Valores únicos para o atributo total:                 \n",
            "----------------------------------------------------------------------\n",
            "\n",
            "[1.26743303e+05 5.70834647e+05 1.33912521e+05 5.90542339e+05\n",
            " 1.40857748e+05 5.81486091e+05 1.50337577e+05 5.78898256e+05\n",
            " 1.57112176e+05 5.87961724e+05 1.62840080e+05 6.01396488e+05\n",
            " 1.70118010e+05 6.26324349e+05 1.74736520e+05 6.21218753e+05\n",
            " 1.81609728e+05 6.56109157e+05 1.89126594e+05 6.77436870e+05\n",
            " 4.70060000e+01 1.29214009e+02 4.73799100e+01 1.27053057e+02\n",
            " 5.33240000e+01 1.19157618e+02 4.73240000e+01 8.49254047e+01\n",
            " 4.73935087e+01 6.69455472e+01 4.76240000e+01 9.84161897e+01\n",
            " 3.76200000e+01 1.14895198e+02 1.76284520e+02 4.04740000e+01\n",
            " 1.91923378e+02 4.13860000e+01 3.17115910e+02 7.73608420e+03\n",
            " 3.12122382e+04 7.86557688e+03 3.11155173e+04 7.94440540e+03\n",
            " 2.68691986e+04 8.07756434e+03 2.41354496e+04 8.16395753e+03\n",
            " 2.13750105e+04 8.24145098e+03 2.50575962e+04 8.27380000e+03\n",
            " 2.64556780e+04 8.29360000e+03 2.96850741e+04 8.27550280e+03\n",
            " 2.26040365e+04 8.32410320e+03 2.50735934e+04 2.72756882e+03\n",
            " 1.23608953e+04 2.75191594e+03 1.42609255e+04 3.56900160e+03\n",
            " 1.42527916e+04 4.80760810e+03 1.34275570e+04 5.03512268e+03\n",
            " 1.99517628e+04 5.52555078e+03 2.35129813e+04 6.31500000e+03\n",
            " 2.67722104e+04 6.35556000e+03 2.45669866e+04 5.60308620e+03\n",
            " 2.32361400e+04 5.75262640e+03 2.42081560e+04 5.41225301e+03\n",
            " 2.52805288e+04 5.47387565e+03 2.43437724e+04 5.70095238e+03\n",
            " 2.36105565e+04 5.64452938e+03 2.43031718e+04 5.98027750e+03\n",
            " 2.41293953e+04 5.83837639e+03 2.52092454e+04 5.85516000e+03\n",
            " 2.54578170e+04 5.86876000e+03 2.54794077e+04 6.12187139e+03\n",
            " 2.26775109e+04 6.16071593e+03 2.20340082e+04 4.02848100e+03\n",
            " 1.30291097e+04 4.04728100e+03 1.13754127e+04 4.02313100e+03\n",
            " 1.00517215e+04 4.04173100e+03 8.50402049e+03 4.04399974e+03\n",
            " 6.13765604e+03 4.05874850e+03 5.94958150e+03 4.05142000e+03\n",
            " 8.21110777e+03 4.05137000e+03 1.39759803e+04 4.05201820e+03\n",
            " 1.02545468e+04 4.05531820e+03 1.52384622e+04 7.00581220e+03\n",
            " 2.24157077e+04 7.63505904e+03 2.31033766e+04 8.01569658e+03\n",
            " 2.22888795e+04 8.52901458e+03 2.12786593e+04 9.38091292e+03\n",
            " 2.18271544e+04 1.06312754e+04 2.59113460e+04 1.12723900e+04\n",
            " 3.23421168e+04 1.18201700e+04 3.78670981e+04 1.32232807e+04\n",
            " 4.04901790e+04 1.45160057e+04 5.03685524e+04 2.60724992e+03\n",
            " 1.03960653e+04 3.17224508e+03 1.59567526e+04 3.21267180e+03\n",
            " 1.65192337e+04 3.48527300e+03 1.43432809e+04 3.71501709e+03\n",
            " 1.55471715e+04 4.36379400e+03 1.29566563e+04 4.44479000e+03\n",
            " 1.43959403e+04 4.57872000e+03 1.03453053e+04 5.17624600e+03\n",
            " 1.66088183e+04 5.35881932e+03 9.87289667e+03 2.36562286e+03\n",
            " 1.11806087e+04 2.72268009e+03 1.59715723e+04 2.64248663e+03\n",
            " 1.37810999e+04 3.15509063e+03 1.47409894e+04 3.38804079e+03\n",
            " 1.44003058e+04 3.41810363e+03 1.32094326e+04 3.59050000e+03\n",
            " 1.32091770e+04 3.57331000e+03 1.36336053e+04 3.57395983e+03\n",
            " 1.84453517e+04 3.94328483e+03 1.11390183e+04 6.41470000e+02\n",
            " 1.85430095e+03 6.41475950e+02 3.43450263e+03 3.35594030e+03\n",
            " 6.53470000e+02 1.49625223e+03 7.74979181e+02 1.89475535e+03\n",
            " 8.53970000e+02 1.83804163e+03 8.85250000e+02 1.56998972e+03\n",
            " 9.09370000e+02 1.50147988e+03 1.35227860e+03 3.43418574e+03\n",
            " 1.72906760e+03 3.48583664e+03 2.65520173e+03 9.73324723e+03\n",
            " 2.66650582e+03 1.27140877e+04 3.07936545e+03 1.10324425e+04\n",
            " 3.36387490e+03 1.09977036e+04 3.50008317e+03 1.17674241e+04\n",
            " 3.48722984e+03 1.05701407e+04 3.50972000e+03 1.01660275e+04\n",
            " 3.56726000e+03 1.01510514e+04 3.78771684e+03 1.28405922e+04\n",
            " 4.06053929e+03 9.44306151e+03 1.99464800e+02 7.30979521e+02\n",
            " 2.69464800e+02 9.90441411e+02 6.84564800e+02 1.44429796e+03\n",
            " 1.06666480e+03 3.61937329e+03 1.83423029e+03 5.55208273e+03\n",
            " 2.08436480e+03 7.06753877e+03 2.08436000e+03 7.76476145e+03\n",
            " 3.26307000e+03 8.17188339e+03 3.64287280e+03 1.14993823e+04\n",
            " 4.76868480e+03 1.46841390e+04 9.30251000e+02 3.75598139e+03\n",
            " 2.13505393e+03 7.01156939e+03 2.88021582e+03 1.05459501e+04\n",
            " 3.80155604e+03 1.37661233e+04 4.16066311e+03 1.59222549e+04\n",
            " 4.45865619e+03 1.60520492e+04 4.76552000e+03 1.62732618e+04\n",
            " 5.41530000e+03 1.78963669e+04 6.91985849e+03 2.41037301e+04\n",
            " 7.72414849e+03 2.59337033e+04 1.70327940e+03 6.76024040e+03\n",
            " 5.89639873e+03 1.70347940e+03 5.23323409e+03 1.70627940e+03\n",
            " 4.33302730e+03 1.70700545e+03 2.97904819e+03 1.70696740e+03\n",
            " 2.83419628e+03 1.70697000e+03 4.18618193e+03 3.22261000e+03\n",
            " 8.01468154e+03 3.22316740e+03 9.86097144e+03 3.30152640e+03\n",
            " 8.76064843e+03 1.88569100e+02 2.33794341e+02 2.50423456e+02\n",
            " 1.94069100e+02 2.80567541e+02 2.58987900e+02 2.40656605e+02\n",
            " 2.46568140e+02 1.88849726e+02 1.11084600e+02 2.42271654e+02\n",
            " 1.11900000e+02 2.52421390e+02 6.80600000e+01 2.57108189e+02\n",
            " 6.87756000e+01 2.65098064e+02 6.94726000e+01 3.02344102e+02\n",
            " 3.61308000e+02 1.81578718e+03 7.23604000e+02 1.93307660e+03\n",
            " 8.42059140e+02 2.38024414e+03 8.83297000e+02 1.89133678e+03\n",
            " 8.98000950e+02 2.65985594e+03 7.50511200e+02 3.16102817e+03\n",
            " 7.04910000e+02 3.19167405e+03 7.94910000e+02 2.64546404e+03\n",
            " 8.72911200e+02 4.18752513e+03 7.64720200e+02 3.83559508e+03\n",
            " 2.47536300e+03 9.96971923e+03 2.29934200e+03 8.94555920e+03\n",
            " 2.33424922e+03 9.14256371e+03 2.31508404e+03 6.69928308e+03\n",
            " 2.26975035e+03 7.06982996e+03 2.18842164e+03 8.81301371e+03\n",
            " 2.33762000e+03 1.04545958e+04 2.33771000e+03 1.08107572e+04\n",
            " 2.34419394e+03 1.13117789e+04 2.00533428e+03 9.51214530e+03\n",
            " 9.13602800e+03 4.11913717e+04 9.20747380e+03 4.19512278e+04\n",
            " 9.25343173e+03 3.83035920e+04 1.12685863e+04 3.17736089e+04\n",
            " 1.38166723e+04 4.30017767e+04 1.69092697e+04 5.41416150e+04\n",
            " 2.05209900e+04 5.86276533e+04 2.04866600e+04 6.07933610e+04\n",
            " 2.11860346e+04 7.11352032e+04 2.12088896e+04 7.67144496e+04\n",
            " 2.16454048e+03 6.40690797e+03 4.77042348e+03 1.51478649e+04\n",
            " 6.30567348e+03 2.64634009e+04 8.02239836e+03 2.31629925e+04\n",
            " 8.35821456e+03 3.42381637e+04 8.30665860e+03 3.66250821e+04\n",
            " 8.31612000e+03 3.90640530e+04 8.34016000e+03 3.52403498e+04\n",
            " 8.37098110e+03 3.76043986e+04 8.38665988e+03 3.46650118e+04\n",
            " 9.93180000e+01 1.69353733e+02 1.19205200e+02 2.44638114e+02\n",
            " 1.21840400e+02 1.93697671e+02 2.56601200e+02 1.56150458e+02\n",
            " 2.68027036e+02 1.19596960e+02 2.83809180e+02 3.01896945e+02\n",
            " 3.41950000e+02 1.10234472e+03 3.45230000e+02 1.26186189e+03\n",
            " 3.40629580e+02 1.22917200e+03 5.76637200e+02 1.36740667e+03\n",
            " 2.44390000e+03 1.18806822e+04 2.44553171e+03 1.22279249e+04\n",
            " 2.44606400e+03 1.03470230e+04 2.45566400e+03 8.28152181e+03\n",
            " 2.45347311e+03 7.48430843e+03 2.46057100e+03 9.30770159e+03\n",
            " 2.47361000e+03 8.37306612e+03 2.48182000e+03 1.03831801e+04\n",
            " 2.48962800e+03 1.04258109e+04 2.48968740e+03 1.07689923e+04\n",
            " 1.55781500e+03 8.46367707e+03 1.55543547e+03 1.03520427e+04\n",
            " 1.55782500e+03 9.75690626e+03 1.55525250e+03 9.17938983e+03\n",
            " 1.58139974e+03 7.98969660e+03 1.60926250e+03 9.47217869e+03\n",
            " 1.61040000e+03 8.45705482e+03 1.01405575e+04 1.01448444e+04\n",
            " 1.30214027e+04 1.77607675e+03 1.15280275e+04 1.42544221e+04\n",
            " 5.40133050e+04 1.45229593e+04 4.61336849e+04 1.47920779e+04\n",
            " 3.76953412e+04 1.48097681e+04 4.70696027e+04 1.51553578e+04\n",
            " 4.49216913e+04 1.54154003e+04 4.42389634e+04 1.56094400e+04\n",
            " 5.31080557e+04 1.57244900e+04 6.22496189e+04 1.62622677e+03\n",
            " 4.70496146e+04 1.71384671e+04 5.69137855e+04 8.24276816e+03\n",
            " 5.59210366e+04 8.56757125e+03 5.92983862e+04 8.26919740e+03\n",
            " 5.81946159e+04 8.91551247e+03 5.07277622e+04 8.91556098e+03\n",
            " 5.79651369e+04 8.74431357e+03 5.14963156e+04 8.79412000e+03\n",
            " 5.17248386e+04 8.83338000e+03 4.79400501e+04 2.08993109e+04\n",
            " 6.67426099e+04 1.05875061e+04 4.68326187e+04 1.81493291e+04\n",
            " 7.55172541e+04 1.84854208e+04 6.55068806e+04 1.94926668e+04\n",
            " 6.26537838e+04 1.95311141e+04 7.34604845e+04 1.95600786e+04\n",
            " 7.25760763e+04 1.98287234e+04 6.64946704e+04 2.01655100e+04\n",
            " 6.87176123e+04 2.02719900e+04 6.86066506e+04 1.56425912e+04\n",
            " 5.76589225e+04 2.12527263e+04 6.00246165e+04 1.72300615e+04\n",
            " 1.03446603e+05 1.72189625e+04 9.87972362e+04 1.72536989e+04\n",
            " 9.94099930e+04 1.77582080e+04 1.09879839e+05 1.76781045e+04\n",
            " 9.68165649e+04 1.77531270e+04 9.37369141e+04 1.81632600e+04\n",
            " 8.17326810e+04 1.81779500e+04 6.67276444e+04 1.81919926e+04\n",
            " 6.95904503e+04 1.85190098e+04 8.59759546e+04 7.00294310e+03\n",
            " 2.73058418e+04 7.25478617e+03 3.40355748e+04 8.38979858e+03\n",
            " 3.63023564e+04 8.45309643e+03 3.32286507e+04 8.60927338e+03\n",
            " 3.02296119e+04 8.14188766e+03 3.06727089e+04 8.51395000e+03\n",
            " 3.16286285e+04 8.58269000e+03 2.61066089e+04 8.62175804e+03\n",
            " 2.90373576e+04 8.66200965e+03 3.16433375e+04 5.37719260e+03\n",
            " 2.56601966e+04 5.42144289e+03 2.94164360e+04 5.45433190e+03\n",
            " 3.12575016e+04 5.47402668e+03 2.81164435e+04 5.57001152e+03\n",
            " 2.11495979e+04 5.62092759e+03 2.24249055e+04 5.66173000e+03\n",
            " 2.29705052e+04 5.72435000e+03 1.65903354e+04 5.81751686e+03\n",
            " 2.06024438e+04 5.95317060e+03 2.67933931e+04]\n",
            "\n",
            "----------------------------------------------------------------------\n"
          ]
        }
      ]
    },
    {
      "cell_type": "markdown",
      "source": [
        "## Transformação\n",
        "Aqui os dados extraídos precisam ser transformados em um formato adequado para análise, e para isso deve seguir alguns passos, que podem precisar serem repetidos ao longo do processo de análise."
      ],
      "metadata": {
        "id": "VbLM1jZ51glR"
      }
    },
    {
      "cell_type": "markdown",
      "source": [
        "### Limpeza de Dados\n",
        "Remover dados duplicados, corrigir erros de digitação, tratar dados inconsistentes etc."
      ],
      "metadata": {
        "id": "2OIPr02e1w5B"
      }
    },
    {
      "cell_type": "code",
      "source": [
        "# Verificar se há valores duplicados\n",
        "df.duplicated()"
      ],
      "metadata": {
        "id": "Bbj-7zCn2Fee",
        "colab": {
          "base_uri": "https://localhost:8080/"
        },
        "outputId": "a28e4d06-9328-4b76-ef35-d8309202b0cd"
      },
      "execution_count": null,
      "outputs": [
        {
          "output_type": "execute_result",
          "data": {
            "text/plain": [
              "0      False\n",
              "1      False\n",
              "2      False\n",
              "3      False\n",
              "4      False\n",
              "       ...  \n",
              "555    False\n",
              "556    False\n",
              "557    False\n",
              "558    False\n",
              "559    False\n",
              "Length: 560, dtype: bool"
            ]
          },
          "metadata": {},
          "execution_count": 17
        }
      ]
    },
    {
      "cell_type": "code",
      "source": [
        "# Verificar se há valores nulos/ausentes\n",
        "df.isnull().sum()"
      ],
      "metadata": {
        "id": "ByCYsxjVrNy4",
        "colab": {
          "base_uri": "https://localhost:8080/"
        },
        "outputId": "c1546b00-267a-4f40-b759-e86215ae41b6"
      },
      "execution_count": null,
      "outputs": [
        {
          "output_type": "execute_result",
          "data": {
            "text/plain": [
              "grupo                 0\n",
              "macro_grupo           0\n",
              "ano                   0\n",
              "tipo_de_informacao    0\n",
              "total                 0\n",
              "dtype: int64"
            ]
          },
          "metadata": {},
          "execution_count": 18
        }
      ]
    },
    {
      "cell_type": "code",
      "source": [
        "#Backup\n",
        "backup_bruto = df.copy()"
      ],
      "metadata": {
        "id": "rX4pVyz0G2NP"
      },
      "execution_count": null,
      "outputs": []
    },
    {
      "cell_type": "markdown",
      "source": [
        "### Normalização de Dados\n",
        "Colocar os dados em um formato padronizado para facilitar a análise."
      ],
      "metadata": {
        "id": "FG2L2jSi2Alp"
      }
    },
    {
      "cell_type": "markdown",
      "source": [
        "Tipagem"
      ],
      "metadata": {
        "id": "wvAVi48v-O2s"
      }
    },
    {
      "cell_type": "code",
      "source": [
        "#Criando um dataframe para realizar normalização dos dados\n",
        "df_analise = df.copy()"
      ],
      "metadata": {
        "id": "4HEkhOOIHFq_"
      },
      "execution_count": null,
      "outputs": []
    },
    {
      "cell_type": "code",
      "source": [
        "# Convertendo a coluna 'ano' para datetime\n",
        "df_analise['ano'] = pd.to_datetime(df_analise['ano'], format='%Y')"
      ],
      "metadata": {
        "id": "Xab0KVoeIQRN"
      },
      "execution_count": null,
      "outputs": []
    },
    {
      "cell_type": "code",
      "source": [
        "# Extraindo o ano usando o atributo .dt.year\n",
        "df_analise.ano.astype('datetime64[ns]')\n",
        "df_analise.ano.dt.year"
      ],
      "metadata": {
        "colab": {
          "base_uri": "https://localhost:8080/"
        },
        "id": "Aa7dU9NtHe_F",
        "outputId": "a21204e6-06a3-4871-88ec-5395b66ce2a9"
      },
      "execution_count": null,
      "outputs": [
        {
          "output_type": "execute_result",
          "data": {
            "text/plain": [
              "0      2013\n",
              "1      2013\n",
              "2      2014\n",
              "3      2014\n",
              "4      2015\n",
              "       ... \n",
              "555    2020\n",
              "556    2021\n",
              "557    2021\n",
              "558    2022\n",
              "559    2022\n",
              "Name: ano, Length: 560, dtype: int64"
            ]
          },
          "metadata": {},
          "execution_count": 22
        }
      ]
    },
    {
      "cell_type": "code",
      "source": [
        "df_analise.info()"
      ],
      "metadata": {
        "colab": {
          "base_uri": "https://localhost:8080/"
        },
        "id": "XC2AvxENIUiL",
        "outputId": "4dba0f54-0320-4a4c-ebe0-53974ef9311f"
      },
      "execution_count": null,
      "outputs": [
        {
          "output_type": "stream",
          "name": "stdout",
          "text": [
            "<class 'pandas.core.frame.DataFrame'>\n",
            "RangeIndex: 560 entries, 0 to 559\n",
            "Data columns (total 5 columns):\n",
            " #   Column              Non-Null Count  Dtype         \n",
            "---  ------              --------------  -----         \n",
            " 0   grupo               560 non-null    object        \n",
            " 1   macro_grupo         560 non-null    object        \n",
            " 2   ano                 560 non-null    datetime64[ns]\n",
            " 3   tipo_de_informacao  560 non-null    object        \n",
            " 4   total               560 non-null    float64       \n",
            "dtypes: datetime64[ns](1), float64(1), object(3)\n",
            "memory usage: 22.0+ KB\n"
          ]
        }
      ]
    },
    {
      "cell_type": "markdown",
      "source": [
        "Tradução"
      ],
      "metadata": {
        "id": "PlcatBQq-QkD"
      }
    },
    {
      "cell_type": "code",
      "source": [
        "# Examinando se as colunas foram alteradas\n",
        "df.dtypes"
      ],
      "metadata": {
        "id": "YSCe0djotK4u",
        "colab": {
          "base_uri": "https://localhost:8080/"
        },
        "outputId": "3e3f841d-f469-4b1b-98f2-2354b15d443b"
      },
      "execution_count": null,
      "outputs": [
        {
          "output_type": "execute_result",
          "data": {
            "text/plain": [
              "grupo                  object\n",
              "macro_grupo            object\n",
              "ano                     int64\n",
              "tipo_de_informacao     object\n",
              "total                 float64\n",
              "dtype: object"
            ]
          },
          "metadata": {},
          "execution_count": 24
        }
      ]
    },
    {
      "cell_type": "code",
      "source": [
        "# Renomeando nomes de colunas\n",
        "\n",
        "traducao = {\n",
        "    'grupo': 'Grupo',\n",
        "    'macro_grupo': 'Macro_grupo',\n",
        "    'ano':'Ano',\n",
        "    'tipo_de_informacao':'Tipo_de_informacao',\n",
        "    'total': 'Total',\n",
        "}\n",
        "df_analise.rename(columns=traducao,inplace=True)"
      ],
      "metadata": {
        "id": "PPPWrxZi7HFW"
      },
      "execution_count": null,
      "outputs": []
    },
    {
      "cell_type": "code",
      "source": [
        "#Visualização do cabeçalho após a normalização\n",
        "df_analise.head(1)"
      ],
      "metadata": {
        "colab": {
          "base_uri": "https://localhost:8080/"
        },
        "id": "nr2547P6J5UE",
        "outputId": "9734e82b-070a-497c-a87e-926595ba557b"
      },
      "execution_count": null,
      "outputs": [
        {
          "output_type": "execute_result",
          "data": {
            "text/plain": [
              "    Grupo Macro_grupo        Ano   Tipo_de_informacao         Total\n",
              "0  Brasil      Brasil 2013-01-01  Cap. Instalada (MW)  126743.30306"
            ],
            "text/html": [
              "\n",
              "\n",
              "  <div id=\"df-90dad424-13d4-43fc-9124-a9f2495edf40\">\n",
              "    <div class=\"colab-df-container\">\n",
              "      <div>\n",
              "<style scoped>\n",
              "    .dataframe tbody tr th:only-of-type {\n",
              "        vertical-align: middle;\n",
              "    }\n",
              "\n",
              "    .dataframe tbody tr th {\n",
              "        vertical-align: top;\n",
              "    }\n",
              "\n",
              "    .dataframe thead th {\n",
              "        text-align: right;\n",
              "    }\n",
              "</style>\n",
              "<table border=\"1\" class=\"dataframe\">\n",
              "  <thead>\n",
              "    <tr style=\"text-align: right;\">\n",
              "      <th></th>\n",
              "      <th>Grupo</th>\n",
              "      <th>Macro_grupo</th>\n",
              "      <th>Ano</th>\n",
              "      <th>Tipo_de_informacao</th>\n",
              "      <th>Total</th>\n",
              "    </tr>\n",
              "  </thead>\n",
              "  <tbody>\n",
              "    <tr>\n",
              "      <th>0</th>\n",
              "      <td>Brasil</td>\n",
              "      <td>Brasil</td>\n",
              "      <td>2013-01-01</td>\n",
              "      <td>Cap. Instalada (MW)</td>\n",
              "      <td>126743.30306</td>\n",
              "    </tr>\n",
              "  </tbody>\n",
              "</table>\n",
              "</div>\n",
              "      <button class=\"colab-df-convert\" onclick=\"convertToInteractive('df-90dad424-13d4-43fc-9124-a9f2495edf40')\"\n",
              "              title=\"Convert this dataframe to an interactive table.\"\n",
              "              style=\"display:none;\">\n",
              "\n",
              "  <svg xmlns=\"http://www.w3.org/2000/svg\" height=\"24px\"viewBox=\"0 0 24 24\"\n",
              "       width=\"24px\">\n",
              "    <path d=\"M0 0h24v24H0V0z\" fill=\"none\"/>\n",
              "    <path d=\"M18.56 5.44l.94 2.06.94-2.06 2.06-.94-2.06-.94-.94-2.06-.94 2.06-2.06.94zm-11 1L8.5 8.5l.94-2.06 2.06-.94-2.06-.94L8.5 2.5l-.94 2.06-2.06.94zm10 10l.94 2.06.94-2.06 2.06-.94-2.06-.94-.94-2.06-.94 2.06-2.06.94z\"/><path d=\"M17.41 7.96l-1.37-1.37c-.4-.4-.92-.59-1.43-.59-.52 0-1.04.2-1.43.59L10.3 9.45l-7.72 7.72c-.78.78-.78 2.05 0 2.83L4 21.41c.39.39.9.59 1.41.59.51 0 1.02-.2 1.41-.59l7.78-7.78 2.81-2.81c.8-.78.8-2.07 0-2.86zM5.41 20L4 18.59l7.72-7.72 1.47 1.35L5.41 20z\"/>\n",
              "  </svg>\n",
              "      </button>\n",
              "\n",
              "\n",
              "\n",
              "    <div id=\"df-2efe3f11-0205-4ac8-bcc8-22c83e41cb59\">\n",
              "      <button class=\"colab-df-quickchart\" onclick=\"quickchart('df-2efe3f11-0205-4ac8-bcc8-22c83e41cb59')\"\n",
              "              title=\"Suggest charts.\"\n",
              "              style=\"display:none;\">\n",
              "\n",
              "<svg xmlns=\"http://www.w3.org/2000/svg\" height=\"24px\"viewBox=\"0 0 24 24\"\n",
              "     width=\"24px\">\n",
              "    <g>\n",
              "        <path d=\"M19 3H5c-1.1 0-2 .9-2 2v14c0 1.1.9 2 2 2h14c1.1 0 2-.9 2-2V5c0-1.1-.9-2-2-2zM9 17H7v-7h2v7zm4 0h-2V7h2v10zm4 0h-2v-4h2v4z\"/>\n",
              "    </g>\n",
              "</svg>\n",
              "      </button>\n",
              "    </div>\n",
              "\n",
              "<style>\n",
              "  .colab-df-quickchart {\n",
              "    background-color: #E8F0FE;\n",
              "    border: none;\n",
              "    border-radius: 50%;\n",
              "    cursor: pointer;\n",
              "    display: none;\n",
              "    fill: #1967D2;\n",
              "    height: 32px;\n",
              "    padding: 0 0 0 0;\n",
              "    width: 32px;\n",
              "  }\n",
              "\n",
              "  .colab-df-quickchart:hover {\n",
              "    background-color: #E2EBFA;\n",
              "    box-shadow: 0px 1px 2px rgba(60, 64, 67, 0.3), 0px 1px 3px 1px rgba(60, 64, 67, 0.15);\n",
              "    fill: #174EA6;\n",
              "  }\n",
              "\n",
              "  [theme=dark] .colab-df-quickchart {\n",
              "    background-color: #3B4455;\n",
              "    fill: #D2E3FC;\n",
              "  }\n",
              "\n",
              "  [theme=dark] .colab-df-quickchart:hover {\n",
              "    background-color: #434B5C;\n",
              "    box-shadow: 0px 1px 3px 1px rgba(0, 0, 0, 0.15);\n",
              "    filter: drop-shadow(0px 1px 2px rgba(0, 0, 0, 0.3));\n",
              "    fill: #FFFFFF;\n",
              "  }\n",
              "</style>\n",
              "\n",
              "    <script>\n",
              "      async function quickchart(key) {\n",
              "        const containerElement = document.querySelector('#' + key);\n",
              "        const charts = await google.colab.kernel.invokeFunction(\n",
              "            'suggestCharts', [key], {});\n",
              "      }\n",
              "    </script>\n",
              "\n",
              "      <script>\n",
              "\n",
              "function displayQuickchartButton(domScope) {\n",
              "  let quickchartButtonEl =\n",
              "    domScope.querySelector('#df-2efe3f11-0205-4ac8-bcc8-22c83e41cb59 button.colab-df-quickchart');\n",
              "  quickchartButtonEl.style.display =\n",
              "    google.colab.kernel.accessAllowed ? 'block' : 'none';\n",
              "}\n",
              "\n",
              "        displayQuickchartButton(document);\n",
              "      </script>\n",
              "      <style>\n",
              "    .colab-df-container {\n",
              "      display:flex;\n",
              "      flex-wrap:wrap;\n",
              "      gap: 12px;\n",
              "    }\n",
              "\n",
              "    .colab-df-convert {\n",
              "      background-color: #E8F0FE;\n",
              "      border: none;\n",
              "      border-radius: 50%;\n",
              "      cursor: pointer;\n",
              "      display: none;\n",
              "      fill: #1967D2;\n",
              "      height: 32px;\n",
              "      padding: 0 0 0 0;\n",
              "      width: 32px;\n",
              "    }\n",
              "\n",
              "    .colab-df-convert:hover {\n",
              "      background-color: #E2EBFA;\n",
              "      box-shadow: 0px 1px 2px rgba(60, 64, 67, 0.3), 0px 1px 3px 1px rgba(60, 64, 67, 0.15);\n",
              "      fill: #174EA6;\n",
              "    }\n",
              "\n",
              "    [theme=dark] .colab-df-convert {\n",
              "      background-color: #3B4455;\n",
              "      fill: #D2E3FC;\n",
              "    }\n",
              "\n",
              "    [theme=dark] .colab-df-convert:hover {\n",
              "      background-color: #434B5C;\n",
              "      box-shadow: 0px 1px 3px 1px rgba(0, 0, 0, 0.15);\n",
              "      filter: drop-shadow(0px 1px 2px rgba(0, 0, 0, 0.3));\n",
              "      fill: #FFFFFF;\n",
              "    }\n",
              "  </style>\n",
              "\n",
              "      <script>\n",
              "        const buttonEl =\n",
              "          document.querySelector('#df-90dad424-13d4-43fc-9124-a9f2495edf40 button.colab-df-convert');\n",
              "        buttonEl.style.display =\n",
              "          google.colab.kernel.accessAllowed ? 'block' : 'none';\n",
              "\n",
              "        async function convertToInteractive(key) {\n",
              "          const element = document.querySelector('#df-90dad424-13d4-43fc-9124-a9f2495edf40');\n",
              "          const dataTable =\n",
              "            await google.colab.kernel.invokeFunction('convertToInteractive',\n",
              "                                                     [key], {});\n",
              "          if (!dataTable) return;\n",
              "\n",
              "          const docLinkHtml = 'Like what you see? Visit the ' +\n",
              "            '<a target=\"_blank\" href=https://colab.research.google.com/notebooks/data_table.ipynb>data table notebook</a>'\n",
              "            + ' to learn more about interactive tables.';\n",
              "          element.innerHTML = '';\n",
              "          dataTable['output_type'] = 'display_data';\n",
              "          await google.colab.output.renderOutput(dataTable, element);\n",
              "          const docLink = document.createElement('div');\n",
              "          docLink.innerHTML = docLinkHtml;\n",
              "          element.appendChild(docLink);\n",
              "        }\n",
              "      </script>\n",
              "    </div>\n",
              "  </div>\n"
            ]
          },
          "metadata": {},
          "execution_count": 26
        }
      ]
    },
    {
      "cell_type": "code",
      "source": [
        "# Examinando se os registros foram alterados\n",
        "#pd.unique(df.traducao)"
      ],
      "metadata": {
        "id": "cU-SFkb14MWN"
      },
      "execution_count": null,
      "outputs": []
    },
    {
      "cell_type": "markdown",
      "source": [
        "# **Qualidade e integridade dos dados**"
      ],
      "metadata": {
        "id": "j6krOtKKvkR-"
      }
    },
    {
      "cell_type": "markdown",
      "source": [
        "### **Validação da estrutura dos dados (schema)**"
      ],
      "metadata": {
        "id": "S03P8PdZwETm"
      }
    },
    {
      "cell_type": "code",
      "source": [
        "df_analise.info()"
      ],
      "metadata": {
        "colab": {
          "base_uri": "https://localhost:8080/"
        },
        "id": "Hj44LvsPK0tF",
        "outputId": "e75cf3d8-e16d-436e-9051-368ecbb20566"
      },
      "execution_count": null,
      "outputs": [
        {
          "output_type": "stream",
          "name": "stdout",
          "text": [
            "<class 'pandas.core.frame.DataFrame'>\n",
            "RangeIndex: 560 entries, 0 to 559\n",
            "Data columns (total 5 columns):\n",
            " #   Column              Non-Null Count  Dtype         \n",
            "---  ------              --------------  -----         \n",
            " 0   Grupo               560 non-null    object        \n",
            " 1   Macro_grupo         560 non-null    object        \n",
            " 2   Ano                 560 non-null    datetime64[ns]\n",
            " 3   Tipo_de_informacao  560 non-null    object        \n",
            " 4   Total               560 non-null    float64       \n",
            "dtypes: datetime64[ns](1), float64(1), object(3)\n",
            "memory usage: 22.0+ KB\n"
          ]
        }
      ]
    },
    {
      "cell_type": "code",
      "source": [
        "# Definindo o esquema de validação e o examinando\n",
        "schema = pa.DataFrameSchema({\n",
        "    'Grupo': pa.Column(pa.String),\n",
        "    'Macro_grupo': pa.Column(pa.String),\n",
        "    'Ano': pa.Column(pa.DateTime),\n",
        "    'Tipo_de_informacao': pa.Column(pa.String),\n",
        "    'Total': pa.Column(pa.Float)\n",
        "})\n",
        "\n",
        "schema.validate(df_analise)"
      ],
      "metadata": {
        "id": "pSPVby2swCzm",
        "colab": {
          "base_uri": "https://localhost:8080/",
          "height": 424
        },
        "outputId": "7d3bb0f2-ca05-4a37-982a-889538b1b404"
      },
      "execution_count": null,
      "outputs": [
        {
          "output_type": "execute_result",
          "data": {
            "text/plain": [
              "              Grupo Macro_grupo        Ano   Tipo_de_informacao          Total\n",
              "0            Brasil      Brasil 2013-01-01  Cap. Instalada (MW)  126743.303060\n",
              "1            Brasil      Brasil 2013-01-01        Geração (GWh)  570834.647328\n",
              "2            Brasil      Brasil 2014-01-01  Cap. Instalada (MW)  133912.521110\n",
              "3            Brasil      Brasil 2014-01-01        Geração (GWh)  590542.338656\n",
              "4            Brasil      Brasil 2015-01-01  Cap. Instalada (MW)  140857.748378\n",
              "..              ...         ...        ...                  ...            ...\n",
              "555  Santa Catarina         Sul 2020-01-01        Geração (GWh)   16590.335429\n",
              "556  Santa Catarina         Sul 2021-01-01  Cap. Instalada (MW)    5817.516860\n",
              "557  Santa Catarina         Sul 2021-01-01        Geração (GWh)   20602.443775\n",
              "558  Santa Catarina         Sul 2022-01-01  Cap. Instalada (MW)    5953.170600\n",
              "559  Santa Catarina         Sul 2022-01-01        Geração (GWh)   26793.393078\n",
              "\n",
              "[560 rows x 5 columns]"
            ],
            "text/html": [
              "\n",
              "\n",
              "  <div id=\"df-06721a05-876d-4c0f-889b-7cd0308bbb13\">\n",
              "    <div class=\"colab-df-container\">\n",
              "      <div>\n",
              "<style scoped>\n",
              "    .dataframe tbody tr th:only-of-type {\n",
              "        vertical-align: middle;\n",
              "    }\n",
              "\n",
              "    .dataframe tbody tr th {\n",
              "        vertical-align: top;\n",
              "    }\n",
              "\n",
              "    .dataframe thead th {\n",
              "        text-align: right;\n",
              "    }\n",
              "</style>\n",
              "<table border=\"1\" class=\"dataframe\">\n",
              "  <thead>\n",
              "    <tr style=\"text-align: right;\">\n",
              "      <th></th>\n",
              "      <th>Grupo</th>\n",
              "      <th>Macro_grupo</th>\n",
              "      <th>Ano</th>\n",
              "      <th>Tipo_de_informacao</th>\n",
              "      <th>Total</th>\n",
              "    </tr>\n",
              "  </thead>\n",
              "  <tbody>\n",
              "    <tr>\n",
              "      <th>0</th>\n",
              "      <td>Brasil</td>\n",
              "      <td>Brasil</td>\n",
              "      <td>2013-01-01</td>\n",
              "      <td>Cap. Instalada (MW)</td>\n",
              "      <td>126743.303060</td>\n",
              "    </tr>\n",
              "    <tr>\n",
              "      <th>1</th>\n",
              "      <td>Brasil</td>\n",
              "      <td>Brasil</td>\n",
              "      <td>2013-01-01</td>\n",
              "      <td>Geração (GWh)</td>\n",
              "      <td>570834.647328</td>\n",
              "    </tr>\n",
              "    <tr>\n",
              "      <th>2</th>\n",
              "      <td>Brasil</td>\n",
              "      <td>Brasil</td>\n",
              "      <td>2014-01-01</td>\n",
              "      <td>Cap. Instalada (MW)</td>\n",
              "      <td>133912.521110</td>\n",
              "    </tr>\n",
              "    <tr>\n",
              "      <th>3</th>\n",
              "      <td>Brasil</td>\n",
              "      <td>Brasil</td>\n",
              "      <td>2014-01-01</td>\n",
              "      <td>Geração (GWh)</td>\n",
              "      <td>590542.338656</td>\n",
              "    </tr>\n",
              "    <tr>\n",
              "      <th>4</th>\n",
              "      <td>Brasil</td>\n",
              "      <td>Brasil</td>\n",
              "      <td>2015-01-01</td>\n",
              "      <td>Cap. Instalada (MW)</td>\n",
              "      <td>140857.748378</td>\n",
              "    </tr>\n",
              "    <tr>\n",
              "      <th>...</th>\n",
              "      <td>...</td>\n",
              "      <td>...</td>\n",
              "      <td>...</td>\n",
              "      <td>...</td>\n",
              "      <td>...</td>\n",
              "    </tr>\n",
              "    <tr>\n",
              "      <th>555</th>\n",
              "      <td>Santa Catarina</td>\n",
              "      <td>Sul</td>\n",
              "      <td>2020-01-01</td>\n",
              "      <td>Geração (GWh)</td>\n",
              "      <td>16590.335429</td>\n",
              "    </tr>\n",
              "    <tr>\n",
              "      <th>556</th>\n",
              "      <td>Santa Catarina</td>\n",
              "      <td>Sul</td>\n",
              "      <td>2021-01-01</td>\n",
              "      <td>Cap. Instalada (MW)</td>\n",
              "      <td>5817.516860</td>\n",
              "    </tr>\n",
              "    <tr>\n",
              "      <th>557</th>\n",
              "      <td>Santa Catarina</td>\n",
              "      <td>Sul</td>\n",
              "      <td>2021-01-01</td>\n",
              "      <td>Geração (GWh)</td>\n",
              "      <td>20602.443775</td>\n",
              "    </tr>\n",
              "    <tr>\n",
              "      <th>558</th>\n",
              "      <td>Santa Catarina</td>\n",
              "      <td>Sul</td>\n",
              "      <td>2022-01-01</td>\n",
              "      <td>Cap. Instalada (MW)</td>\n",
              "      <td>5953.170600</td>\n",
              "    </tr>\n",
              "    <tr>\n",
              "      <th>559</th>\n",
              "      <td>Santa Catarina</td>\n",
              "      <td>Sul</td>\n",
              "      <td>2022-01-01</td>\n",
              "      <td>Geração (GWh)</td>\n",
              "      <td>26793.393078</td>\n",
              "    </tr>\n",
              "  </tbody>\n",
              "</table>\n",
              "<p>560 rows × 5 columns</p>\n",
              "</div>\n",
              "      <button class=\"colab-df-convert\" onclick=\"convertToInteractive('df-06721a05-876d-4c0f-889b-7cd0308bbb13')\"\n",
              "              title=\"Convert this dataframe to an interactive table.\"\n",
              "              style=\"display:none;\">\n",
              "\n",
              "  <svg xmlns=\"http://www.w3.org/2000/svg\" height=\"24px\"viewBox=\"0 0 24 24\"\n",
              "       width=\"24px\">\n",
              "    <path d=\"M0 0h24v24H0V0z\" fill=\"none\"/>\n",
              "    <path d=\"M18.56 5.44l.94 2.06.94-2.06 2.06-.94-2.06-.94-.94-2.06-.94 2.06-2.06.94zm-11 1L8.5 8.5l.94-2.06 2.06-.94-2.06-.94L8.5 2.5l-.94 2.06-2.06.94zm10 10l.94 2.06.94-2.06 2.06-.94-2.06-.94-.94-2.06-.94 2.06-2.06.94z\"/><path d=\"M17.41 7.96l-1.37-1.37c-.4-.4-.92-.59-1.43-.59-.52 0-1.04.2-1.43.59L10.3 9.45l-7.72 7.72c-.78.78-.78 2.05 0 2.83L4 21.41c.39.39.9.59 1.41.59.51 0 1.02-.2 1.41-.59l7.78-7.78 2.81-2.81c.8-.78.8-2.07 0-2.86zM5.41 20L4 18.59l7.72-7.72 1.47 1.35L5.41 20z\"/>\n",
              "  </svg>\n",
              "      </button>\n",
              "\n",
              "\n",
              "\n",
              "    <div id=\"df-29ee4028-6517-4907-a762-700fd71e3338\">\n",
              "      <button class=\"colab-df-quickchart\" onclick=\"quickchart('df-29ee4028-6517-4907-a762-700fd71e3338')\"\n",
              "              title=\"Suggest charts.\"\n",
              "              style=\"display:none;\">\n",
              "\n",
              "<svg xmlns=\"http://www.w3.org/2000/svg\" height=\"24px\"viewBox=\"0 0 24 24\"\n",
              "     width=\"24px\">\n",
              "    <g>\n",
              "        <path d=\"M19 3H5c-1.1 0-2 .9-2 2v14c0 1.1.9 2 2 2h14c1.1 0 2-.9 2-2V5c0-1.1-.9-2-2-2zM9 17H7v-7h2v7zm4 0h-2V7h2v10zm4 0h-2v-4h2v4z\"/>\n",
              "    </g>\n",
              "</svg>\n",
              "      </button>\n",
              "    </div>\n",
              "\n",
              "<style>\n",
              "  .colab-df-quickchart {\n",
              "    background-color: #E8F0FE;\n",
              "    border: none;\n",
              "    border-radius: 50%;\n",
              "    cursor: pointer;\n",
              "    display: none;\n",
              "    fill: #1967D2;\n",
              "    height: 32px;\n",
              "    padding: 0 0 0 0;\n",
              "    width: 32px;\n",
              "  }\n",
              "\n",
              "  .colab-df-quickchart:hover {\n",
              "    background-color: #E2EBFA;\n",
              "    box-shadow: 0px 1px 2px rgba(60, 64, 67, 0.3), 0px 1px 3px 1px rgba(60, 64, 67, 0.15);\n",
              "    fill: #174EA6;\n",
              "  }\n",
              "\n",
              "  [theme=dark] .colab-df-quickchart {\n",
              "    background-color: #3B4455;\n",
              "    fill: #D2E3FC;\n",
              "  }\n",
              "\n",
              "  [theme=dark] .colab-df-quickchart:hover {\n",
              "    background-color: #434B5C;\n",
              "    box-shadow: 0px 1px 3px 1px rgba(0, 0, 0, 0.15);\n",
              "    filter: drop-shadow(0px 1px 2px rgba(0, 0, 0, 0.3));\n",
              "    fill: #FFFFFF;\n",
              "  }\n",
              "</style>\n",
              "\n",
              "    <script>\n",
              "      async function quickchart(key) {\n",
              "        const containerElement = document.querySelector('#' + key);\n",
              "        const charts = await google.colab.kernel.invokeFunction(\n",
              "            'suggestCharts', [key], {});\n",
              "      }\n",
              "    </script>\n",
              "\n",
              "      <script>\n",
              "\n",
              "function displayQuickchartButton(domScope) {\n",
              "  let quickchartButtonEl =\n",
              "    domScope.querySelector('#df-29ee4028-6517-4907-a762-700fd71e3338 button.colab-df-quickchart');\n",
              "  quickchartButtonEl.style.display =\n",
              "    google.colab.kernel.accessAllowed ? 'block' : 'none';\n",
              "}\n",
              "\n",
              "        displayQuickchartButton(document);\n",
              "      </script>\n",
              "      <style>\n",
              "    .colab-df-container {\n",
              "      display:flex;\n",
              "      flex-wrap:wrap;\n",
              "      gap: 12px;\n",
              "    }\n",
              "\n",
              "    .colab-df-convert {\n",
              "      background-color: #E8F0FE;\n",
              "      border: none;\n",
              "      border-radius: 50%;\n",
              "      cursor: pointer;\n",
              "      display: none;\n",
              "      fill: #1967D2;\n",
              "      height: 32px;\n",
              "      padding: 0 0 0 0;\n",
              "      width: 32px;\n",
              "    }\n",
              "\n",
              "    .colab-df-convert:hover {\n",
              "      background-color: #E2EBFA;\n",
              "      box-shadow: 0px 1px 2px rgba(60, 64, 67, 0.3), 0px 1px 3px 1px rgba(60, 64, 67, 0.15);\n",
              "      fill: #174EA6;\n",
              "    }\n",
              "\n",
              "    [theme=dark] .colab-df-convert {\n",
              "      background-color: #3B4455;\n",
              "      fill: #D2E3FC;\n",
              "    }\n",
              "\n",
              "    [theme=dark] .colab-df-convert:hover {\n",
              "      background-color: #434B5C;\n",
              "      box-shadow: 0px 1px 3px 1px rgba(0, 0, 0, 0.15);\n",
              "      filter: drop-shadow(0px 1px 2px rgba(0, 0, 0, 0.3));\n",
              "      fill: #FFFFFF;\n",
              "    }\n",
              "  </style>\n",
              "\n",
              "      <script>\n",
              "        const buttonEl =\n",
              "          document.querySelector('#df-06721a05-876d-4c0f-889b-7cd0308bbb13 button.colab-df-convert');\n",
              "        buttonEl.style.display =\n",
              "          google.colab.kernel.accessAllowed ? 'block' : 'none';\n",
              "\n",
              "        async function convertToInteractive(key) {\n",
              "          const element = document.querySelector('#df-06721a05-876d-4c0f-889b-7cd0308bbb13');\n",
              "          const dataTable =\n",
              "            await google.colab.kernel.invokeFunction('convertToInteractive',\n",
              "                                                     [key], {});\n",
              "          if (!dataTable) return;\n",
              "\n",
              "          const docLinkHtml = 'Like what you see? Visit the ' +\n",
              "            '<a target=\"_blank\" href=https://colab.research.google.com/notebooks/data_table.ipynb>data table notebook</a>'\n",
              "            + ' to learn more about interactive tables.';\n",
              "          element.innerHTML = '';\n",
              "          dataTable['output_type'] = 'display_data';\n",
              "          await google.colab.output.renderOutput(dataTable, element);\n",
              "          const docLink = document.createElement('div');\n",
              "          docLink.innerHTML = docLinkHtml;\n",
              "          element.appendChild(docLink);\n",
              "        }\n",
              "      </script>\n",
              "    </div>\n",
              "  </div>\n"
            ]
          },
          "metadata": {},
          "execution_count": 29
        }
      ]
    },
    {
      "cell_type": "markdown",
      "source": [
        "## Copia de segurança do tratamento - Backup"
      ],
      "metadata": {
        "id": "59UEX6yQCrqX"
      }
    },
    {
      "cell_type": "code",
      "source": [
        "# Backup para analise\n",
        "df_tratado = df_analise.copy()"
      ],
      "metadata": {
        "id": "kPn9PJEFvtWW"
      },
      "execution_count": null,
      "outputs": []
    },
    {
      "cell_type": "markdown",
      "source": [
        "## Carregamento\n",
        "Depois que os dados são extraídos e transformados adequadamente, eles estarão prontos para as análise, mas antes disso eles precisam ser carregados em um local de armazenamento adequado. Podendo ser um banco de dados SQL ou NoSQL, um sistema de armazenamento em nuvem, e para o caso de disponibilizar o projeto publicamente é ideal que ele seja colocar em uma pasta de datasets, diferenciando o arquivo bruto e o tratado."
      ],
      "metadata": {
        "id": "0hT5rrbf2Xrw"
      }
    },
    {
      "cell_type": "code",
      "source": [
        "# Upando para o Google Cloud\n",
        "\n",
        "#df_tratado.to_csv('gs://projeto-final-ad2-e8/dados/tratados/dataset_tratados_xlsx/2_1_cap_instalada_por_regiao_e_uf_tratado.xlsx', index=False)\n"
      ],
      "metadata": {
        "id": "ya7oNjhIlxeF"
      },
      "execution_count": null,
      "outputs": []
    },
    {
      "cell_type": "markdown",
      "source": [
        "# Análise exploratória de dados.\n",
        "- Descrição de dados: identificação dos tipos de variáveis, dimensões dos dados, valores extremos e estatísticas descritivas.\n",
        "- Visualização dos dados: criação de gráficos, tabelas e outros tipos de visualização para entender a distribuição e a relação entre as variáveis.\n",
        "- Identificação de padrões: identificação de padrões, tendências, correlações e outras relações entre as variáveis.\n",
        "- Testes estatísticos: aplicação de testes estatísticos para confirmar ou refutar hipóteses sobre os dados."
      ],
      "metadata": {
        "id": "irF1ekc2tSqK"
      }
    },
    {
      "cell_type": "markdown",
      "source": [
        "## **Estatisticas**"
      ],
      "metadata": {
        "id": "BbqAkDPBzEGv"
      }
    },
    {
      "cell_type": "code",
      "source": [
        "#Estatística descriva\n",
        "df_tratado.describe()"
      ],
      "metadata": {
        "colab": {
          "base_uri": "https://localhost:8080/",
          "height": 300
        },
        "id": "E6gkOBVj-2Bk",
        "outputId": "54aec63b-215a-45e0-d4de-ab8be10b65d7"
      },
      "execution_count": null,
      "outputs": [
        {
          "output_type": "execute_result",
          "data": {
            "text/plain": [
              "               Total\n",
              "count     560.000000\n",
              "mean    27427.153327\n",
              "std     83027.697857\n",
              "min        37.620000\n",
              "25%      2489.672550\n",
              "50%      8320.111600\n",
              "75%     20325.657500\n",
              "max    677436.870162"
            ],
            "text/html": [
              "\n",
              "\n",
              "  <div id=\"df-d90900bf-9b4a-437a-92bc-fd54a0f744df\">\n",
              "    <div class=\"colab-df-container\">\n",
              "      <div>\n",
              "<style scoped>\n",
              "    .dataframe tbody tr th:only-of-type {\n",
              "        vertical-align: middle;\n",
              "    }\n",
              "\n",
              "    .dataframe tbody tr th {\n",
              "        vertical-align: top;\n",
              "    }\n",
              "\n",
              "    .dataframe thead th {\n",
              "        text-align: right;\n",
              "    }\n",
              "</style>\n",
              "<table border=\"1\" class=\"dataframe\">\n",
              "  <thead>\n",
              "    <tr style=\"text-align: right;\">\n",
              "      <th></th>\n",
              "      <th>Total</th>\n",
              "    </tr>\n",
              "  </thead>\n",
              "  <tbody>\n",
              "    <tr>\n",
              "      <th>count</th>\n",
              "      <td>560.000000</td>\n",
              "    </tr>\n",
              "    <tr>\n",
              "      <th>mean</th>\n",
              "      <td>27427.153327</td>\n",
              "    </tr>\n",
              "    <tr>\n",
              "      <th>std</th>\n",
              "      <td>83027.697857</td>\n",
              "    </tr>\n",
              "    <tr>\n",
              "      <th>min</th>\n",
              "      <td>37.620000</td>\n",
              "    </tr>\n",
              "    <tr>\n",
              "      <th>25%</th>\n",
              "      <td>2489.672550</td>\n",
              "    </tr>\n",
              "    <tr>\n",
              "      <th>50%</th>\n",
              "      <td>8320.111600</td>\n",
              "    </tr>\n",
              "    <tr>\n",
              "      <th>75%</th>\n",
              "      <td>20325.657500</td>\n",
              "    </tr>\n",
              "    <tr>\n",
              "      <th>max</th>\n",
              "      <td>677436.870162</td>\n",
              "    </tr>\n",
              "  </tbody>\n",
              "</table>\n",
              "</div>\n",
              "      <button class=\"colab-df-convert\" onclick=\"convertToInteractive('df-d90900bf-9b4a-437a-92bc-fd54a0f744df')\"\n",
              "              title=\"Convert this dataframe to an interactive table.\"\n",
              "              style=\"display:none;\">\n",
              "\n",
              "  <svg xmlns=\"http://www.w3.org/2000/svg\" height=\"24px\"viewBox=\"0 0 24 24\"\n",
              "       width=\"24px\">\n",
              "    <path d=\"M0 0h24v24H0V0z\" fill=\"none\"/>\n",
              "    <path d=\"M18.56 5.44l.94 2.06.94-2.06 2.06-.94-2.06-.94-.94-2.06-.94 2.06-2.06.94zm-11 1L8.5 8.5l.94-2.06 2.06-.94-2.06-.94L8.5 2.5l-.94 2.06-2.06.94zm10 10l.94 2.06.94-2.06 2.06-.94-2.06-.94-.94-2.06-.94 2.06-2.06.94z\"/><path d=\"M17.41 7.96l-1.37-1.37c-.4-.4-.92-.59-1.43-.59-.52 0-1.04.2-1.43.59L10.3 9.45l-7.72 7.72c-.78.78-.78 2.05 0 2.83L4 21.41c.39.39.9.59 1.41.59.51 0 1.02-.2 1.41-.59l7.78-7.78 2.81-2.81c.8-.78.8-2.07 0-2.86zM5.41 20L4 18.59l7.72-7.72 1.47 1.35L5.41 20z\"/>\n",
              "  </svg>\n",
              "      </button>\n",
              "\n",
              "\n",
              "\n",
              "    <div id=\"df-9d959713-5ded-4e15-bb3f-47238e58c5b1\">\n",
              "      <button class=\"colab-df-quickchart\" onclick=\"quickchart('df-9d959713-5ded-4e15-bb3f-47238e58c5b1')\"\n",
              "              title=\"Suggest charts.\"\n",
              "              style=\"display:none;\">\n",
              "\n",
              "<svg xmlns=\"http://www.w3.org/2000/svg\" height=\"24px\"viewBox=\"0 0 24 24\"\n",
              "     width=\"24px\">\n",
              "    <g>\n",
              "        <path d=\"M19 3H5c-1.1 0-2 .9-2 2v14c0 1.1.9 2 2 2h14c1.1 0 2-.9 2-2V5c0-1.1-.9-2-2-2zM9 17H7v-7h2v7zm4 0h-2V7h2v10zm4 0h-2v-4h2v4z\"/>\n",
              "    </g>\n",
              "</svg>\n",
              "      </button>\n",
              "    </div>\n",
              "\n",
              "<style>\n",
              "  .colab-df-quickchart {\n",
              "    background-color: #E8F0FE;\n",
              "    border: none;\n",
              "    border-radius: 50%;\n",
              "    cursor: pointer;\n",
              "    display: none;\n",
              "    fill: #1967D2;\n",
              "    height: 32px;\n",
              "    padding: 0 0 0 0;\n",
              "    width: 32px;\n",
              "  }\n",
              "\n",
              "  .colab-df-quickchart:hover {\n",
              "    background-color: #E2EBFA;\n",
              "    box-shadow: 0px 1px 2px rgba(60, 64, 67, 0.3), 0px 1px 3px 1px rgba(60, 64, 67, 0.15);\n",
              "    fill: #174EA6;\n",
              "  }\n",
              "\n",
              "  [theme=dark] .colab-df-quickchart {\n",
              "    background-color: #3B4455;\n",
              "    fill: #D2E3FC;\n",
              "  }\n",
              "\n",
              "  [theme=dark] .colab-df-quickchart:hover {\n",
              "    background-color: #434B5C;\n",
              "    box-shadow: 0px 1px 3px 1px rgba(0, 0, 0, 0.15);\n",
              "    filter: drop-shadow(0px 1px 2px rgba(0, 0, 0, 0.3));\n",
              "    fill: #FFFFFF;\n",
              "  }\n",
              "</style>\n",
              "\n",
              "    <script>\n",
              "      async function quickchart(key) {\n",
              "        const containerElement = document.querySelector('#' + key);\n",
              "        const charts = await google.colab.kernel.invokeFunction(\n",
              "            'suggestCharts', [key], {});\n",
              "      }\n",
              "    </script>\n",
              "\n",
              "      <script>\n",
              "\n",
              "function displayQuickchartButton(domScope) {\n",
              "  let quickchartButtonEl =\n",
              "    domScope.querySelector('#df-9d959713-5ded-4e15-bb3f-47238e58c5b1 button.colab-df-quickchart');\n",
              "  quickchartButtonEl.style.display =\n",
              "    google.colab.kernel.accessAllowed ? 'block' : 'none';\n",
              "}\n",
              "\n",
              "        displayQuickchartButton(document);\n",
              "      </script>\n",
              "      <style>\n",
              "    .colab-df-container {\n",
              "      display:flex;\n",
              "      flex-wrap:wrap;\n",
              "      gap: 12px;\n",
              "    }\n",
              "\n",
              "    .colab-df-convert {\n",
              "      background-color: #E8F0FE;\n",
              "      border: none;\n",
              "      border-radius: 50%;\n",
              "      cursor: pointer;\n",
              "      display: none;\n",
              "      fill: #1967D2;\n",
              "      height: 32px;\n",
              "      padding: 0 0 0 0;\n",
              "      width: 32px;\n",
              "    }\n",
              "\n",
              "    .colab-df-convert:hover {\n",
              "      background-color: #E2EBFA;\n",
              "      box-shadow: 0px 1px 2px rgba(60, 64, 67, 0.3), 0px 1px 3px 1px rgba(60, 64, 67, 0.15);\n",
              "      fill: #174EA6;\n",
              "    }\n",
              "\n",
              "    [theme=dark] .colab-df-convert {\n",
              "      background-color: #3B4455;\n",
              "      fill: #D2E3FC;\n",
              "    }\n",
              "\n",
              "    [theme=dark] .colab-df-convert:hover {\n",
              "      background-color: #434B5C;\n",
              "      box-shadow: 0px 1px 3px 1px rgba(0, 0, 0, 0.15);\n",
              "      filter: drop-shadow(0px 1px 2px rgba(0, 0, 0, 0.3));\n",
              "      fill: #FFFFFF;\n",
              "    }\n",
              "  </style>\n",
              "\n",
              "      <script>\n",
              "        const buttonEl =\n",
              "          document.querySelector('#df-d90900bf-9b4a-437a-92bc-fd54a0f744df button.colab-df-convert');\n",
              "        buttonEl.style.display =\n",
              "          google.colab.kernel.accessAllowed ? 'block' : 'none';\n",
              "\n",
              "        async function convertToInteractive(key) {\n",
              "          const element = document.querySelector('#df-d90900bf-9b4a-437a-92bc-fd54a0f744df');\n",
              "          const dataTable =\n",
              "            await google.colab.kernel.invokeFunction('convertToInteractive',\n",
              "                                                     [key], {});\n",
              "          if (!dataTable) return;\n",
              "\n",
              "          const docLinkHtml = 'Like what you see? Visit the ' +\n",
              "            '<a target=\"_blank\" href=https://colab.research.google.com/notebooks/data_table.ipynb>data table notebook</a>'\n",
              "            + ' to learn more about interactive tables.';\n",
              "          element.innerHTML = '';\n",
              "          dataTable['output_type'] = 'display_data';\n",
              "          await google.colab.output.renderOutput(dataTable, element);\n",
              "          const docLink = document.createElement('div');\n",
              "          docLink.innerHTML = docLinkHtml;\n",
              "          element.appendChild(docLink);\n",
              "        }\n",
              "      </script>\n",
              "    </div>\n",
              "  </div>\n"
            ]
          },
          "metadata": {},
          "execution_count": 32
        }
      ]
    },
    {
      "cell_type": "markdown",
      "source": [
        "### Filtros e agrupamentos\n",
        "Criar novas variáveis com base nos dados originais para permitir uma análise mais detalhada por agrupamento."
      ],
      "metadata": {
        "id": "x4JPKG3_xxTE"
      }
    },
    {
      "cell_type": "code",
      "source": [
        "# Filtrar apenas as linhas onde Macro_grupo não é 'Brasil'\n",
        "cap_instalada_df = cap_instalada_df[cap_instalada_df['Macro_grupo'] != 'Brasil']\n",
        "\n",
        "#Groupby por \"Grupo\" e somar as capacidades instaladas (Cap. Instalada (MW)) para cada grupo:\n",
        "grouped_by_grupo_cap_instalada = cap_instalada_df[df_tratado['Tipo_de_informacao'] == 'Cap. Instalada (MW)'].groupby('Grupo')['Total'].sum()\n",
        "print(grouped_by_grupo_cap_instalada)\n"
      ],
      "metadata": {
        "id": "2AB44xJ8wltj",
        "outputId": "3a964a4a-8507-4bc6-9394-13fb9854886d",
        "colab": {
          "base_uri": "https://localhost:8080/"
        }
      },
      "execution_count": null,
      "outputs": [
        {
          "output_type": "stream",
          "name": "stdout",
          "text": [
            "Grupo\n",
            "Acre                     1506.056140\n",
            "Alagoas                 40453.498645\n",
            "Amapá                    7596.231690\n",
            "Amazonas                22907.068469\n",
            "Bahia                  102029.617078\n",
            "Ceará                   40114.826205\n",
            "Distrito Federal          447.151419\n",
            "Espírito Santo          24558.711330\n",
            "Goiás                   81196.045329\n",
            "Maranhão                32373.079286\n",
            "Mato Grosso             48443.040524\n",
            "Mato Grosso do Sul      58056.771632\n",
            "Minas Gerais           139048.609243\n",
            "Paraná                 177944.374568\n",
            "Paraíba                  9082.801331\n",
            "Pará                   152994.036026\n",
            "Pernambuco              33677.497042\n",
            "Piauí                   19897.741888\n",
            "Rio Grande do Norte     43191.223073\n",
            "Rio Grande do Sul       82232.193011\n",
            "Rio de Janeiro         100769.240814\n",
            "Rondônia                71341.829949\n",
            "Roraima                  2753.247796\n",
            "Santa Catarina          56074.700643\n",
            "Sergipe                 21684.564248\n",
            "São Paulo              192380.150290\n",
            "Tocantins               24639.949218\n",
            "Name: Total, dtype: float64\n"
          ]
        }
      ]
    },
    {
      "cell_type": "code",
      "source": [
        "# Filtrar apenas as linhas onde Macro_grupo não é 'Brasil'\n",
        "cap_instalada_df = cap_instalada_df[cap_instalada_df['Macro_grupo'] != 'Brasil']\n",
        "\n",
        "# Groupby por \"Grupo\" e somar as capacidades instaladas (Cap. Instalada (MW)) para cada grupo:\n",
        "grouped_by_grupo_cap_instalada = cap_instalada_df.groupby('Grupo')['Total'].sum()\n",
        "\n",
        "print(grouped_by_grupo_cap_instalada)"
      ],
      "metadata": {
        "id": "l6RAUuQL9Xvw",
        "outputId": "a4385d9e-d99f-49ee-dc78-6474fe62a3cc",
        "colab": {
          "base_uri": "https://localhost:8080/"
        }
      },
      "execution_count": null,
      "outputs": [
        {
          "output_type": "stream",
          "name": "stdout",
          "text": [
            "Grupo\n",
            "Acre                     1506.056140\n",
            "Alagoas                 40453.498645\n",
            "Amapá                    7596.231690\n",
            "Amazonas                22907.068469\n",
            "Bahia                  102029.617078\n",
            "Ceará                   40114.826205\n",
            "Distrito Federal          447.151419\n",
            "Espírito Santo          24558.711330\n",
            "Goiás                   81196.045329\n",
            "Maranhão                32373.079286\n",
            "Mato Grosso             48443.040524\n",
            "Mato Grosso do Sul      58056.771632\n",
            "Minas Gerais           139048.609243\n",
            "Paraná                 177944.374568\n",
            "Paraíba                  9082.801331\n",
            "Pará                   152994.036026\n",
            "Pernambuco              33677.497042\n",
            "Piauí                   19897.741888\n",
            "Rio Grande do Norte     43191.223073\n",
            "Rio Grande do Sul       82232.193011\n",
            "Rio de Janeiro         100769.240814\n",
            "Rondônia                71341.829949\n",
            "Roraima                  2753.247796\n",
            "Santa Catarina          56074.700643\n",
            "Sergipe                 21684.564248\n",
            "São Paulo              192380.150290\n",
            "Tocantins               24639.949218\n",
            "Name: Total, dtype: float64\n"
          ]
        }
      ]
    },
    {
      "cell_type": "code",
      "source": [
        "# Filtrar apenas as linhas de Geração (GWh)\n",
        "geracao_df = df_tratado[df_tratado['Tipo_de_informacao'] == 'Cap. Instalada (MW)']\n",
        "\n",
        "# Filtrar apenas as linhas onde Macro_grupo não é 'Brasil'\n",
        "geracao_df = geracao_df[geracao_df['Macro_grupo'] != 'Brasil']\n",
        "\n",
        "# Groupby por Macro_grupo e calcular a média da geração\n",
        "grouped_by_macro_grupo_geracao_media = geracao_df.groupby('Macro_grupo')['Total'].mean()\n",
        "\n",
        "print(grouped_by_macro_grupo_geracao_media)"
      ],
      "metadata": {
        "id": "yfNcaNok8wM7",
        "outputId": "81f196a7-74a2-423e-f678-c47c016212a9",
        "colab": {
          "base_uri": "https://localhost:8080/"
        }
      },
      "execution_count": null,
      "outputs": [
        {
          "output_type": "stream",
          "name": "stdout",
          "text": [
            "Macro_grupo\n",
            "Centro-Oeste     4703.575223\n",
            "Nordeste         3805.609431\n",
            "Norte            4053.405990\n",
            "Sudeste         11418.917792\n",
            "Sul             10541.708941\n",
            "Name: Total, dtype: float64\n"
          ]
        }
      ]
    },
    {
      "cell_type": "code",
      "source": [
        "# Filtrar apenas as linhas de Geração (GWh)\n",
        "geracao_df = df_tratado[df_tratado['Tipo_de_informacao'] == 'Geração (GWh)']\n",
        "\n",
        "# Filtrar apenas as linhas onde Macro_grupo não é 'Brasil'\n",
        "geracao_df = geracao_df[geracao_df['Macro_grupo'] != 'Brasil']\n",
        "\n",
        "# Groupby por Macro_grupo e calcular a média da geração\n",
        "grouped_by_macro_grupo_geracao_media = geracao_df.groupby('Macro_grupo')['Total'].mean()\n",
        "\n",
        "print(grouped_by_macro_grupo_geracao_media)\n",
        "\n"
      ],
      "metadata": {
        "id": "NOTlGYjtwzqE",
        "outputId": "fe41fa91-2848-4e0e-9f7c-2dc8f935d347",
        "colab": {
          "base_uri": "https://localhost:8080/"
        }
      },
      "execution_count": null,
      "outputs": [
        {
          "output_type": "stream",
          "name": "stdout",
          "text": [
            "Macro_grupo\n",
            "Centro-Oeste    17602.128590\n",
            "Nordeste        12024.439031\n",
            "Norte           14783.182620\n",
            "Sudeste         45245.372979\n",
            "Sul             48709.543859\n",
            "Name: Total, dtype: float64\n"
          ]
        }
      ]
    },
    {
      "cell_type": "code",
      "source": [
        "# Filtrar apenas as linhas de Cap. Instalada (MW)\n",
        "cap_instalada_df = df_tratado[df_tratado['Tipo_de_informacao'] == 'Cap. Instalada (MW)']\n",
        "\n",
        "# Filtrar apenas as linhas onde Macro_grupo não é 'Brasil'\n",
        "cap_instalada_df = cap_instalada_df[cap_instalada_df['Macro_grupo'] != 'Brasil']\n",
        "\n",
        "# Groupby por Ano e Macro_grupo e calcular a soma total da capacidade instalada e energia instalada\n",
        "grouped_data = cap_instalada_df.groupby(['Ano', 'Macro_grupo'])[['Total']].sum()\n",
        "\n",
        "print(grouped_data)"
      ],
      "metadata": {
        "id": "cXuGXABk7jQh",
        "outputId": "7b3b9a4a-d2ea-44fb-e16a-90e243de817e",
        "colab": {
          "base_uri": "https://localhost:8080/"
        }
      },
      "execution_count": null,
      "outputs": [
        {
          "output_type": "stream",
          "name": "stdout",
          "text": [
            "                                Total\n",
            "Ano        Macro_grupo               \n",
            "2013-01-01 Centro-Oeste  15922.912030\n",
            "           Nordeste      22136.832910\n",
            "           Norte         16869.026580\n",
            "           Sudeste       42204.334380\n",
            "           Sul           29610.197160\n",
            "2014-01-01 Centro-Oeste  16138.748380\n",
            "           Nordeste      24993.045110\n",
            "           Norte         19754.149290\n",
            "           Sudeste       43131.386810\n",
            "           Sul           29895.191520\n",
            "2015-01-01 Centro-Oeste  17267.683380\n",
            "           Nordeste      26883.081480\n",
            "           Norte         21497.387080\n",
            "           Sudeste       44111.767098\n",
            "           Sul           31097.829340\n",
            "2016-01-01 Centro-Oeste  18577.025820\n",
            "           Nordeste      29802.954350\n",
            "           Norte         25460.618830\n",
            "           Sudeste       44811.647080\n",
            "           Sul           31685.331080\n",
            "2017-01-01 Centro-Oeste  19226.751225\n",
            "           Nordeste      32504.931736\n",
            "           Norte         28310.706448\n",
            "           Sudeste       45212.397088\n",
            "           Sul           31857.389362\n",
            "2018-01-01 Centro-Oeste  19653.002150\n",
            "           Nordeste      35063.109780\n",
            "           Norte         31010.325960\n",
            "           Sudeste       45597.699750\n",
            "           Sul           31515.942200\n",
            "2019-01-01 Centro-Oeste  20481.580000\n",
            "           Nordeste      36310.920000\n",
            "           Norte         34807.100000\n",
            "           Sudeste       46179.470000\n",
            "           Sul           32338.940000\n",
            "2020-01-01 Centro-Oeste  20555.540000\n",
            "           Nordeste      40401.180000\n",
            "           Norte         34854.550000\n",
            "           Sudeste       46440.260000\n",
            "           Sul           32484.990000\n",
            "2021-01-01 Centro-Oeste  20040.934390\n",
            "           Nordeste      44951.398830\n",
            "           Norte         35673.153980\n",
            "           Sudeste       48312.973280\n",
            "           Sul           32631.267470\n",
            "2022-01-01 Centro-Oeste  20278.831530\n",
            "           Nordeste      49457.394600\n",
            "           Norte         35501.401120\n",
            "           Sudeste       50754.776190\n",
            "           Sul           33134.190090\n"
          ]
        }
      ]
    },
    {
      "cell_type": "code",
      "source": [
        "filtro_brasil = df_tratado.loc[df_tratado.Grupo != 'Brasil']\n",
        "filtro_brasil"
      ],
      "metadata": {
        "colab": {
          "base_uri": "https://localhost:8080/",
          "height": 424
        },
        "id": "45PtukhZaS61",
        "outputId": "2bf990d9-f645-4d5a-856a-cda5fec78f81"
      },
      "execution_count": null,
      "outputs": [
        {
          "output_type": "execute_result",
          "data": {
            "text/plain": [
              "                Grupo   Macro_grupo        Ano   Tipo_de_informacao  \\\n",
              "20   Distrito Federal  Centro-Oeste 2013-01-01  Cap. Instalada (MW)   \n",
              "21   Distrito Federal  Centro-Oeste 2013-01-01        Geração (GWh)   \n",
              "22   Distrito Federal  Centro-Oeste 2014-01-01  Cap. Instalada (MW)   \n",
              "23   Distrito Federal  Centro-Oeste 2014-01-01        Geração (GWh)   \n",
              "24   Distrito Federal  Centro-Oeste 2015-01-01  Cap. Instalada (MW)   \n",
              "..                ...           ...        ...                  ...   \n",
              "555    Santa Catarina           Sul 2020-01-01        Geração (GWh)   \n",
              "556    Santa Catarina           Sul 2021-01-01  Cap. Instalada (MW)   \n",
              "557    Santa Catarina           Sul 2021-01-01        Geração (GWh)   \n",
              "558    Santa Catarina           Sul 2022-01-01  Cap. Instalada (MW)   \n",
              "559    Santa Catarina           Sul 2022-01-01        Geração (GWh)   \n",
              "\n",
              "            Total  \n",
              "20      47.006000  \n",
              "21     129.214009  \n",
              "22      47.379910  \n",
              "23     127.053057  \n",
              "24      53.324000  \n",
              "..            ...  \n",
              "555  16590.335429  \n",
              "556   5817.516860  \n",
              "557  20602.443775  \n",
              "558   5953.170600  \n",
              "559  26793.393078  \n",
              "\n",
              "[540 rows x 5 columns]"
            ],
            "text/html": [
              "\n",
              "\n",
              "  <div id=\"df-529ddb12-a12b-4cbc-a5dd-89e2decb49c9\">\n",
              "    <div class=\"colab-df-container\">\n",
              "      <div>\n",
              "<style scoped>\n",
              "    .dataframe tbody tr th:only-of-type {\n",
              "        vertical-align: middle;\n",
              "    }\n",
              "\n",
              "    .dataframe tbody tr th {\n",
              "        vertical-align: top;\n",
              "    }\n",
              "\n",
              "    .dataframe thead th {\n",
              "        text-align: right;\n",
              "    }\n",
              "</style>\n",
              "<table border=\"1\" class=\"dataframe\">\n",
              "  <thead>\n",
              "    <tr style=\"text-align: right;\">\n",
              "      <th></th>\n",
              "      <th>Grupo</th>\n",
              "      <th>Macro_grupo</th>\n",
              "      <th>Ano</th>\n",
              "      <th>Tipo_de_informacao</th>\n",
              "      <th>Total</th>\n",
              "    </tr>\n",
              "  </thead>\n",
              "  <tbody>\n",
              "    <tr>\n",
              "      <th>20</th>\n",
              "      <td>Distrito Federal</td>\n",
              "      <td>Centro-Oeste</td>\n",
              "      <td>2013-01-01</td>\n",
              "      <td>Cap. Instalada (MW)</td>\n",
              "      <td>47.006000</td>\n",
              "    </tr>\n",
              "    <tr>\n",
              "      <th>21</th>\n",
              "      <td>Distrito Federal</td>\n",
              "      <td>Centro-Oeste</td>\n",
              "      <td>2013-01-01</td>\n",
              "      <td>Geração (GWh)</td>\n",
              "      <td>129.214009</td>\n",
              "    </tr>\n",
              "    <tr>\n",
              "      <th>22</th>\n",
              "      <td>Distrito Federal</td>\n",
              "      <td>Centro-Oeste</td>\n",
              "      <td>2014-01-01</td>\n",
              "      <td>Cap. Instalada (MW)</td>\n",
              "      <td>47.379910</td>\n",
              "    </tr>\n",
              "    <tr>\n",
              "      <th>23</th>\n",
              "      <td>Distrito Federal</td>\n",
              "      <td>Centro-Oeste</td>\n",
              "      <td>2014-01-01</td>\n",
              "      <td>Geração (GWh)</td>\n",
              "      <td>127.053057</td>\n",
              "    </tr>\n",
              "    <tr>\n",
              "      <th>24</th>\n",
              "      <td>Distrito Federal</td>\n",
              "      <td>Centro-Oeste</td>\n",
              "      <td>2015-01-01</td>\n",
              "      <td>Cap. Instalada (MW)</td>\n",
              "      <td>53.324000</td>\n",
              "    </tr>\n",
              "    <tr>\n",
              "      <th>...</th>\n",
              "      <td>...</td>\n",
              "      <td>...</td>\n",
              "      <td>...</td>\n",
              "      <td>...</td>\n",
              "      <td>...</td>\n",
              "    </tr>\n",
              "    <tr>\n",
              "      <th>555</th>\n",
              "      <td>Santa Catarina</td>\n",
              "      <td>Sul</td>\n",
              "      <td>2020-01-01</td>\n",
              "      <td>Geração (GWh)</td>\n",
              "      <td>16590.335429</td>\n",
              "    </tr>\n",
              "    <tr>\n",
              "      <th>556</th>\n",
              "      <td>Santa Catarina</td>\n",
              "      <td>Sul</td>\n",
              "      <td>2021-01-01</td>\n",
              "      <td>Cap. Instalada (MW)</td>\n",
              "      <td>5817.516860</td>\n",
              "    </tr>\n",
              "    <tr>\n",
              "      <th>557</th>\n",
              "      <td>Santa Catarina</td>\n",
              "      <td>Sul</td>\n",
              "      <td>2021-01-01</td>\n",
              "      <td>Geração (GWh)</td>\n",
              "      <td>20602.443775</td>\n",
              "    </tr>\n",
              "    <tr>\n",
              "      <th>558</th>\n",
              "      <td>Santa Catarina</td>\n",
              "      <td>Sul</td>\n",
              "      <td>2022-01-01</td>\n",
              "      <td>Cap. Instalada (MW)</td>\n",
              "      <td>5953.170600</td>\n",
              "    </tr>\n",
              "    <tr>\n",
              "      <th>559</th>\n",
              "      <td>Santa Catarina</td>\n",
              "      <td>Sul</td>\n",
              "      <td>2022-01-01</td>\n",
              "      <td>Geração (GWh)</td>\n",
              "      <td>26793.393078</td>\n",
              "    </tr>\n",
              "  </tbody>\n",
              "</table>\n",
              "<p>540 rows × 5 columns</p>\n",
              "</div>\n",
              "      <button class=\"colab-df-convert\" onclick=\"convertToInteractive('df-529ddb12-a12b-4cbc-a5dd-89e2decb49c9')\"\n",
              "              title=\"Convert this dataframe to an interactive table.\"\n",
              "              style=\"display:none;\">\n",
              "\n",
              "  <svg xmlns=\"http://www.w3.org/2000/svg\" height=\"24px\"viewBox=\"0 0 24 24\"\n",
              "       width=\"24px\">\n",
              "    <path d=\"M0 0h24v24H0V0z\" fill=\"none\"/>\n",
              "    <path d=\"M18.56 5.44l.94 2.06.94-2.06 2.06-.94-2.06-.94-.94-2.06-.94 2.06-2.06.94zm-11 1L8.5 8.5l.94-2.06 2.06-.94-2.06-.94L8.5 2.5l-.94 2.06-2.06.94zm10 10l.94 2.06.94-2.06 2.06-.94-2.06-.94-.94-2.06-.94 2.06-2.06.94z\"/><path d=\"M17.41 7.96l-1.37-1.37c-.4-.4-.92-.59-1.43-.59-.52 0-1.04.2-1.43.59L10.3 9.45l-7.72 7.72c-.78.78-.78 2.05 0 2.83L4 21.41c.39.39.9.59 1.41.59.51 0 1.02-.2 1.41-.59l7.78-7.78 2.81-2.81c.8-.78.8-2.07 0-2.86zM5.41 20L4 18.59l7.72-7.72 1.47 1.35L5.41 20z\"/>\n",
              "  </svg>\n",
              "      </button>\n",
              "\n",
              "\n",
              "\n",
              "    <div id=\"df-49742bd2-a3fd-459e-8164-412cd0d599cb\">\n",
              "      <button class=\"colab-df-quickchart\" onclick=\"quickchart('df-49742bd2-a3fd-459e-8164-412cd0d599cb')\"\n",
              "              title=\"Suggest charts.\"\n",
              "              style=\"display:none;\">\n",
              "\n",
              "<svg xmlns=\"http://www.w3.org/2000/svg\" height=\"24px\"viewBox=\"0 0 24 24\"\n",
              "     width=\"24px\">\n",
              "    <g>\n",
              "        <path d=\"M19 3H5c-1.1 0-2 .9-2 2v14c0 1.1.9 2 2 2h14c1.1 0 2-.9 2-2V5c0-1.1-.9-2-2-2zM9 17H7v-7h2v7zm4 0h-2V7h2v10zm4 0h-2v-4h2v4z\"/>\n",
              "    </g>\n",
              "</svg>\n",
              "      </button>\n",
              "    </div>\n",
              "\n",
              "<style>\n",
              "  .colab-df-quickchart {\n",
              "    background-color: #E8F0FE;\n",
              "    border: none;\n",
              "    border-radius: 50%;\n",
              "    cursor: pointer;\n",
              "    display: none;\n",
              "    fill: #1967D2;\n",
              "    height: 32px;\n",
              "    padding: 0 0 0 0;\n",
              "    width: 32px;\n",
              "  }\n",
              "\n",
              "  .colab-df-quickchart:hover {\n",
              "    background-color: #E2EBFA;\n",
              "    box-shadow: 0px 1px 2px rgba(60, 64, 67, 0.3), 0px 1px 3px 1px rgba(60, 64, 67, 0.15);\n",
              "    fill: #174EA6;\n",
              "  }\n",
              "\n",
              "  [theme=dark] .colab-df-quickchart {\n",
              "    background-color: #3B4455;\n",
              "    fill: #D2E3FC;\n",
              "  }\n",
              "\n",
              "  [theme=dark] .colab-df-quickchart:hover {\n",
              "    background-color: #434B5C;\n",
              "    box-shadow: 0px 1px 3px 1px rgba(0, 0, 0, 0.15);\n",
              "    filter: drop-shadow(0px 1px 2px rgba(0, 0, 0, 0.3));\n",
              "    fill: #FFFFFF;\n",
              "  }\n",
              "</style>\n",
              "\n",
              "    <script>\n",
              "      async function quickchart(key) {\n",
              "        const containerElement = document.querySelector('#' + key);\n",
              "        const charts = await google.colab.kernel.invokeFunction(\n",
              "            'suggestCharts', [key], {});\n",
              "      }\n",
              "    </script>\n",
              "\n",
              "      <script>\n",
              "\n",
              "function displayQuickchartButton(domScope) {\n",
              "  let quickchartButtonEl =\n",
              "    domScope.querySelector('#df-49742bd2-a3fd-459e-8164-412cd0d599cb button.colab-df-quickchart');\n",
              "  quickchartButtonEl.style.display =\n",
              "    google.colab.kernel.accessAllowed ? 'block' : 'none';\n",
              "}\n",
              "\n",
              "        displayQuickchartButton(document);\n",
              "      </script>\n",
              "      <style>\n",
              "    .colab-df-container {\n",
              "      display:flex;\n",
              "      flex-wrap:wrap;\n",
              "      gap: 12px;\n",
              "    }\n",
              "\n",
              "    .colab-df-convert {\n",
              "      background-color: #E8F0FE;\n",
              "      border: none;\n",
              "      border-radius: 50%;\n",
              "      cursor: pointer;\n",
              "      display: none;\n",
              "      fill: #1967D2;\n",
              "      height: 32px;\n",
              "      padding: 0 0 0 0;\n",
              "      width: 32px;\n",
              "    }\n",
              "\n",
              "    .colab-df-convert:hover {\n",
              "      background-color: #E2EBFA;\n",
              "      box-shadow: 0px 1px 2px rgba(60, 64, 67, 0.3), 0px 1px 3px 1px rgba(60, 64, 67, 0.15);\n",
              "      fill: #174EA6;\n",
              "    }\n",
              "\n",
              "    [theme=dark] .colab-df-convert {\n",
              "      background-color: #3B4455;\n",
              "      fill: #D2E3FC;\n",
              "    }\n",
              "\n",
              "    [theme=dark] .colab-df-convert:hover {\n",
              "      background-color: #434B5C;\n",
              "      box-shadow: 0px 1px 3px 1px rgba(0, 0, 0, 0.15);\n",
              "      filter: drop-shadow(0px 1px 2px rgba(0, 0, 0, 0.3));\n",
              "      fill: #FFFFFF;\n",
              "    }\n",
              "  </style>\n",
              "\n",
              "      <script>\n",
              "        const buttonEl =\n",
              "          document.querySelector('#df-529ddb12-a12b-4cbc-a5dd-89e2decb49c9 button.colab-df-convert');\n",
              "        buttonEl.style.display =\n",
              "          google.colab.kernel.accessAllowed ? 'block' : 'none';\n",
              "\n",
              "        async function convertToInteractive(key) {\n",
              "          const element = document.querySelector('#df-529ddb12-a12b-4cbc-a5dd-89e2decb49c9');\n",
              "          const dataTable =\n",
              "            await google.colab.kernel.invokeFunction('convertToInteractive',\n",
              "                                                     [key], {});\n",
              "          if (!dataTable) return;\n",
              "\n",
              "          const docLinkHtml = 'Like what you see? Visit the ' +\n",
              "            '<a target=\"_blank\" href=https://colab.research.google.com/notebooks/data_table.ipynb>data table notebook</a>'\n",
              "            + ' to learn more about interactive tables.';\n",
              "          element.innerHTML = '';\n",
              "          dataTable['output_type'] = 'display_data';\n",
              "          await google.colab.output.renderOutput(dataTable, element);\n",
              "          const docLink = document.createElement('div');\n",
              "          docLink.innerHTML = docLinkHtml;\n",
              "          element.appendChild(docLink);\n",
              "        }\n",
              "      </script>\n",
              "    </div>\n",
              "  </div>\n"
            ]
          },
          "metadata": {},
          "execution_count": 40
        }
      ]
    },
    {
      "cell_type": "markdown",
      "source": [
        "## Visualização"
      ],
      "metadata": {
        "id": "_IRmFDtibEJ5"
      }
    },
    {
      "cell_type": "code",
      "source": [
        "df_tratado.head()"
      ],
      "metadata": {
        "colab": {
          "base_uri": "https://localhost:8080/",
          "height": 206
        },
        "id": "DW67MPRFMy9E",
        "outputId": "1f9cd3ee-455d-4f0e-d6c6-d669e671e012"
      },
      "execution_count": null,
      "outputs": [
        {
          "output_type": "execute_result",
          "data": {
            "text/plain": [
              "    Grupo Macro_grupo        Ano   Tipo_de_informacao          Total\n",
              "0  Brasil      Brasil 2013-01-01  Cap. Instalada (MW)  126743.303060\n",
              "1  Brasil      Brasil 2013-01-01        Geração (GWh)  570834.647328\n",
              "2  Brasil      Brasil 2014-01-01  Cap. Instalada (MW)  133912.521110\n",
              "3  Brasil      Brasil 2014-01-01        Geração (GWh)  590542.338656\n",
              "4  Brasil      Brasil 2015-01-01  Cap. Instalada (MW)  140857.748378"
            ],
            "text/html": [
              "\n",
              "\n",
              "  <div id=\"df-ecd32b7d-c4f7-4c5c-92ba-0cd8176028b8\">\n",
              "    <div class=\"colab-df-container\">\n",
              "      <div>\n",
              "<style scoped>\n",
              "    .dataframe tbody tr th:only-of-type {\n",
              "        vertical-align: middle;\n",
              "    }\n",
              "\n",
              "    .dataframe tbody tr th {\n",
              "        vertical-align: top;\n",
              "    }\n",
              "\n",
              "    .dataframe thead th {\n",
              "        text-align: right;\n",
              "    }\n",
              "</style>\n",
              "<table border=\"1\" class=\"dataframe\">\n",
              "  <thead>\n",
              "    <tr style=\"text-align: right;\">\n",
              "      <th></th>\n",
              "      <th>Grupo</th>\n",
              "      <th>Macro_grupo</th>\n",
              "      <th>Ano</th>\n",
              "      <th>Tipo_de_informacao</th>\n",
              "      <th>Total</th>\n",
              "    </tr>\n",
              "  </thead>\n",
              "  <tbody>\n",
              "    <tr>\n",
              "      <th>0</th>\n",
              "      <td>Brasil</td>\n",
              "      <td>Brasil</td>\n",
              "      <td>2013-01-01</td>\n",
              "      <td>Cap. Instalada (MW)</td>\n",
              "      <td>126743.303060</td>\n",
              "    </tr>\n",
              "    <tr>\n",
              "      <th>1</th>\n",
              "      <td>Brasil</td>\n",
              "      <td>Brasil</td>\n",
              "      <td>2013-01-01</td>\n",
              "      <td>Geração (GWh)</td>\n",
              "      <td>570834.647328</td>\n",
              "    </tr>\n",
              "    <tr>\n",
              "      <th>2</th>\n",
              "      <td>Brasil</td>\n",
              "      <td>Brasil</td>\n",
              "      <td>2014-01-01</td>\n",
              "      <td>Cap. Instalada (MW)</td>\n",
              "      <td>133912.521110</td>\n",
              "    </tr>\n",
              "    <tr>\n",
              "      <th>3</th>\n",
              "      <td>Brasil</td>\n",
              "      <td>Brasil</td>\n",
              "      <td>2014-01-01</td>\n",
              "      <td>Geração (GWh)</td>\n",
              "      <td>590542.338656</td>\n",
              "    </tr>\n",
              "    <tr>\n",
              "      <th>4</th>\n",
              "      <td>Brasil</td>\n",
              "      <td>Brasil</td>\n",
              "      <td>2015-01-01</td>\n",
              "      <td>Cap. Instalada (MW)</td>\n",
              "      <td>140857.748378</td>\n",
              "    </tr>\n",
              "  </tbody>\n",
              "</table>\n",
              "</div>\n",
              "      <button class=\"colab-df-convert\" onclick=\"convertToInteractive('df-ecd32b7d-c4f7-4c5c-92ba-0cd8176028b8')\"\n",
              "              title=\"Convert this dataframe to an interactive table.\"\n",
              "              style=\"display:none;\">\n",
              "\n",
              "  <svg xmlns=\"http://www.w3.org/2000/svg\" height=\"24px\"viewBox=\"0 0 24 24\"\n",
              "       width=\"24px\">\n",
              "    <path d=\"M0 0h24v24H0V0z\" fill=\"none\"/>\n",
              "    <path d=\"M18.56 5.44l.94 2.06.94-2.06 2.06-.94-2.06-.94-.94-2.06-.94 2.06-2.06.94zm-11 1L8.5 8.5l.94-2.06 2.06-.94-2.06-.94L8.5 2.5l-.94 2.06-2.06.94zm10 10l.94 2.06.94-2.06 2.06-.94-2.06-.94-.94-2.06-.94 2.06-2.06.94z\"/><path d=\"M17.41 7.96l-1.37-1.37c-.4-.4-.92-.59-1.43-.59-.52 0-1.04.2-1.43.59L10.3 9.45l-7.72 7.72c-.78.78-.78 2.05 0 2.83L4 21.41c.39.39.9.59 1.41.59.51 0 1.02-.2 1.41-.59l7.78-7.78 2.81-2.81c.8-.78.8-2.07 0-2.86zM5.41 20L4 18.59l7.72-7.72 1.47 1.35L5.41 20z\"/>\n",
              "  </svg>\n",
              "      </button>\n",
              "\n",
              "\n",
              "\n",
              "    <div id=\"df-1bdd1d02-981b-4daa-8fd8-3c347c7eb8cc\">\n",
              "      <button class=\"colab-df-quickchart\" onclick=\"quickchart('df-1bdd1d02-981b-4daa-8fd8-3c347c7eb8cc')\"\n",
              "              title=\"Suggest charts.\"\n",
              "              style=\"display:none;\">\n",
              "\n",
              "<svg xmlns=\"http://www.w3.org/2000/svg\" height=\"24px\"viewBox=\"0 0 24 24\"\n",
              "     width=\"24px\">\n",
              "    <g>\n",
              "        <path d=\"M19 3H5c-1.1 0-2 .9-2 2v14c0 1.1.9 2 2 2h14c1.1 0 2-.9 2-2V5c0-1.1-.9-2-2-2zM9 17H7v-7h2v7zm4 0h-2V7h2v10zm4 0h-2v-4h2v4z\"/>\n",
              "    </g>\n",
              "</svg>\n",
              "      </button>\n",
              "    </div>\n",
              "\n",
              "<style>\n",
              "  .colab-df-quickchart {\n",
              "    background-color: #E8F0FE;\n",
              "    border: none;\n",
              "    border-radius: 50%;\n",
              "    cursor: pointer;\n",
              "    display: none;\n",
              "    fill: #1967D2;\n",
              "    height: 32px;\n",
              "    padding: 0 0 0 0;\n",
              "    width: 32px;\n",
              "  }\n",
              "\n",
              "  .colab-df-quickchart:hover {\n",
              "    background-color: #E2EBFA;\n",
              "    box-shadow: 0px 1px 2px rgba(60, 64, 67, 0.3), 0px 1px 3px 1px rgba(60, 64, 67, 0.15);\n",
              "    fill: #174EA6;\n",
              "  }\n",
              "\n",
              "  [theme=dark] .colab-df-quickchart {\n",
              "    background-color: #3B4455;\n",
              "    fill: #D2E3FC;\n",
              "  }\n",
              "\n",
              "  [theme=dark] .colab-df-quickchart:hover {\n",
              "    background-color: #434B5C;\n",
              "    box-shadow: 0px 1px 3px 1px rgba(0, 0, 0, 0.15);\n",
              "    filter: drop-shadow(0px 1px 2px rgba(0, 0, 0, 0.3));\n",
              "    fill: #FFFFFF;\n",
              "  }\n",
              "</style>\n",
              "\n",
              "    <script>\n",
              "      async function quickchart(key) {\n",
              "        const containerElement = document.querySelector('#' + key);\n",
              "        const charts = await google.colab.kernel.invokeFunction(\n",
              "            'suggestCharts', [key], {});\n",
              "      }\n",
              "    </script>\n",
              "\n",
              "      <script>\n",
              "\n",
              "function displayQuickchartButton(domScope) {\n",
              "  let quickchartButtonEl =\n",
              "    domScope.querySelector('#df-1bdd1d02-981b-4daa-8fd8-3c347c7eb8cc button.colab-df-quickchart');\n",
              "  quickchartButtonEl.style.display =\n",
              "    google.colab.kernel.accessAllowed ? 'block' : 'none';\n",
              "}\n",
              "\n",
              "        displayQuickchartButton(document);\n",
              "      </script>\n",
              "      <style>\n",
              "    .colab-df-container {\n",
              "      display:flex;\n",
              "      flex-wrap:wrap;\n",
              "      gap: 12px;\n",
              "    }\n",
              "\n",
              "    .colab-df-convert {\n",
              "      background-color: #E8F0FE;\n",
              "      border: none;\n",
              "      border-radius: 50%;\n",
              "      cursor: pointer;\n",
              "      display: none;\n",
              "      fill: #1967D2;\n",
              "      height: 32px;\n",
              "      padding: 0 0 0 0;\n",
              "      width: 32px;\n",
              "    }\n",
              "\n",
              "    .colab-df-convert:hover {\n",
              "      background-color: #E2EBFA;\n",
              "      box-shadow: 0px 1px 2px rgba(60, 64, 67, 0.3), 0px 1px 3px 1px rgba(60, 64, 67, 0.15);\n",
              "      fill: #174EA6;\n",
              "    }\n",
              "\n",
              "    [theme=dark] .colab-df-convert {\n",
              "      background-color: #3B4455;\n",
              "      fill: #D2E3FC;\n",
              "    }\n",
              "\n",
              "    [theme=dark] .colab-df-convert:hover {\n",
              "      background-color: #434B5C;\n",
              "      box-shadow: 0px 1px 3px 1px rgba(0, 0, 0, 0.15);\n",
              "      filter: drop-shadow(0px 1px 2px rgba(0, 0, 0, 0.3));\n",
              "      fill: #FFFFFF;\n",
              "    }\n",
              "  </style>\n",
              "\n",
              "      <script>\n",
              "        const buttonEl =\n",
              "          document.querySelector('#df-ecd32b7d-c4f7-4c5c-92ba-0cd8176028b8 button.colab-df-convert');\n",
              "        buttonEl.style.display =\n",
              "          google.colab.kernel.accessAllowed ? 'block' : 'none';\n",
              "\n",
              "        async function convertToInteractive(key) {\n",
              "          const element = document.querySelector('#df-ecd32b7d-c4f7-4c5c-92ba-0cd8176028b8');\n",
              "          const dataTable =\n",
              "            await google.colab.kernel.invokeFunction('convertToInteractive',\n",
              "                                                     [key], {});\n",
              "          if (!dataTable) return;\n",
              "\n",
              "          const docLinkHtml = 'Like what you see? Visit the ' +\n",
              "            '<a target=\"_blank\" href=https://colab.research.google.com/notebooks/data_table.ipynb>data table notebook</a>'\n",
              "            + ' to learn more about interactive tables.';\n",
              "          element.innerHTML = '';\n",
              "          dataTable['output_type'] = 'display_data';\n",
              "          await google.colab.output.renderOutput(dataTable, element);\n",
              "          const docLink = document.createElement('div');\n",
              "          docLink.innerHTML = docLinkHtml;\n",
              "          element.appendChild(docLink);\n",
              "        }\n",
              "      </script>\n",
              "    </div>\n",
              "  </div>\n"
            ]
          },
          "metadata": {},
          "execution_count": 41
        }
      ]
    },
    {
      "cell_type": "code",
      "source": [
        "# Filtrando os dados para Brasil e Cap. Instalada (MW)\n",
        "brasil_capacidade = df_tratado[(df_tratado['Macro_grupo'] == 'Brasil') & (df_tratado['Tipo_de_informacao'] == 'Cap. Instalada (MW)')]\n",
        "# Criando gráfico de linha para Capacidade Instalada no Brasil ao longo dos anos\n",
        "plt.figure(figsize=(10, 6))\n",
        "plt.plot(brasil_capacidade['Ano'], brasil_capacidade['Total'], marker='o', label='Capacidade Instalada')\n",
        "plt.xlabel('Ano')\n",
        "plt.ylabel('Capacidade Instalada (MW)')\n",
        "plt.title('Capacidade Instalada no Brasil ao Longo dos Anos')\n",
        "plt.legend()\n",
        "plt.xticks(rotation=45)\n",
        "plt.tight_layout()\n",
        "\n",
        "# Exibindo gráfico\n",
        "plt.show()\n"
      ],
      "metadata": {
        "colab": {
          "base_uri": "https://localhost:8080/",
          "height": 607
        },
        "id": "9Bf3lZMudYDW",
        "outputId": "7f2e0e1f-d871-4cd5-d17a-e110836d835d"
      },
      "execution_count": null,
      "outputs": [
        {
          "output_type": "display_data",
          "data": {
            "text/plain": [
              "<Figure size 1000x600 with 1 Axes>"
            ],
            "image/png": "[encoded data removed]"
          },
          "metadata": {}
        }
      ]
    },
    {
      "cell_type": "code",
      "source": [
        "# Filtrando os dados para Brasil e Geração (GWh)\n",
        "brasil_geracao = df_tratado[(df_tratado['Macro_grupo'] == 'Brasil') & (df_tratado['Tipo_de_informacao'] == 'Geração (GWh)')]\n",
        "# Criando gráfico de linha para Geração de Energia no Brasil ao longo dos anos\n",
        "plt.figure(figsize=(10, 6))\n",
        "plt.plot(brasil_geracao['Ano'], brasil_geracao['Total'], marker='o', color='orange', label='Geração de Energia')\n",
        "plt.xlabel('Ano')\n",
        "plt.ylabel('Geração de Energia (GWh)')\n",
        "plt.title('Geração de Energia no Brasil ao Longo dos Anos')\n",
        "plt.legend()\n",
        "plt.xticks(rotation=45)\n",
        "plt.tight_layout()\n",
        "# Exibindo gráfico\n",
        "plt.show()"
      ],
      "metadata": {
        "colab": {
          "base_uri": "https://localhost:8080/",
          "height": 607
        },
        "id": "Slh35wQ8etrC",
        "outputId": "171899a1-05ef-4ea7-d790-8f3423d4de63"
      },
      "execution_count": null,
      "outputs": [
        {
          "output_type": "display_data",
          "data": {
            "text/plain": [
              "<Figure size 1000x600 with 1 Axes>"
            ],
            "image/png": "[encoded data removed]"
          },
          "metadata": {}
        }
      ]
    },
    {
      "cell_type": "code",
      "source": [
        "# Filtrando os dados para Cap. Instalada (MW)\n",
        "capacidade_instalada = filtro_brasil[filtro_brasil['Tipo_de_informacao'] == 'Cap. Instalada (MW)']\n",
        "\n",
        "# Agrupando por região e estado e somando a capacidade instalada\n",
        "capacidade_por_regiao_estado = capacidade_instalada.groupby(['Grupo', 'Macro_grupo']).sum()\n",
        "\n",
        "# Reformatando o índice para facilitar a plotagem\n",
        "capacidade_por_regiao_estado.reset_index(inplace=True)\n",
        "\n",
        "# Ordenando o DataFrame em ordem decrescente de capacidade instalada\n",
        "capacidade_por_regiao_estado = capacidade_por_regiao_estado.sort_values(by='Total', ascending=False)\n",
        "\n",
        "# Criando gráfico de barras para Capacidade Instalada por Região e Estado\n",
        "plt.figure(figsize=(12, 6))\n",
        "plt.bar(capacidade_por_regiao_estado['Grupo'], capacidade_por_regiao_estado['Total'])\n",
        "plt.xlabel(' Estado')\n",
        "plt.ylabel('Capacidade Instalada (MW)')\n",
        "plt.title('Capacidade Instalada')\n",
        "plt.xticks(rotation=45, ha='right')\n",
        "plt.tight_layout()\n",
        "\n",
        "# Exibindo gráfico\n",
        "plt.show()"
      ],
      "metadata": {
        "colab": {
          "base_uri": "https://localhost:8080/",
          "height": 607
        },
        "id": "LC7gaVADldaj",
        "outputId": "9317b292-6d49-4bc8-8ff1-893ebc836761"
      },
      "execution_count": null,
      "outputs": [
        {
          "output_type": "display_data",
          "data": {
            "text/plain": [
              "<Figure size 1200x600 with 1 Axes>"
            ],
            "image/png": "[encoded data removed]"
          },
          "metadata": {}
        }
      ]
    },
    {
      "cell_type": "code",
      "source": [
        "\n",
        "# Filtrando os dados para Geração (GWh)\n",
        "geracao_energia = filtro_brasil[(filtro_brasil['Tipo_de_informacao'] == 'Geração (GWh)')]\n",
        "\n",
        "# Criando gráfico de barras horizontais para Geração de Energia por Região e Estado\n",
        "plt.figure(figsize=(10, 6))\n",
        "\n",
        "# Ordenando os dados em ordem decrescente para melhor visualização\n",
        "geracao_energia = geracao_energia.sort_values(by='Total', ascending=True)\n",
        "\n",
        "plt.barh(geracao_energia['Grupo'], geracao_energia['Total'])\n",
        "plt.xlabel('Geração de Energia (GWh)')\n",
        "plt.ylabel('Região e Estado')\n",
        "plt.title('Geração de Energia por Estado')\n",
        "plt.tight_layout()\n",
        "\n",
        "# Exibindo gráfico\n",
        "plt.show()"
      ],
      "metadata": {
        "colab": {
          "base_uri": "https://localhost:8080/",
          "height": 607
        },
        "id": "JDz4l9CHe_g_",
        "outputId": "53754ca3-0f09-43ab-e234-2f44f63401f0"
      },
      "execution_count": null,
      "outputs": [
        {
          "output_type": "display_data",
          "data": {
            "text/plain": [
              "<Figure size 1000x600 with 1 Axes>"
            ],
            "image/png": "[encoded data removed]"
          },
          "metadata": {}
        }
      ]
    }
  ]
}