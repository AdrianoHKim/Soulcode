{
  "nbformat": 4,
  "nbformat_minor": 0,
  "metadata": {
    "colab": {
      "provenance": [],
      "toc_visible": true,
      "include_colab_link": true
    },
    "kernelspec": {
      "name": "python3",
      "display_name": "Python 3"
    },
    "language_info": {
      "name": "python"
    }
  },
  "cells": [
    {
      "cell_type": "markdown",
      "metadata": {
        "id": "view-in-github",
        "colab_type": "text"
      },
      "source": [
        "<a href=\"https://colab.research.google.com/github/AdrianoHKim/Soulcode/blob/main/notebooks/notebook_convert_parquet.ipynb\" target=\"_parent\"><img src=\"https://colab.research.google.com/assets/colab-badge.svg\" alt=\"Open In Colab\"/></a>"
      ]
    },
    {
      "cell_type": "markdown",
      "source": [
        "## **Projeto Final**\n",
        "Escola: SoulCode Academy\n",
        "\n",
        "Curso: Bootcamp Analista de Dados - Martech - AD2\n",
        "\n",
        "**Equipe 08**\n",
        "\n",
        "**Integrantes**: Wesley, Marcos Paulo, Adriano Kim, Paulo Vitorino, Renato e José Aurelio\n",
        "\n",
        "Professores: Douglas Ribeiro, Franciane Rodrigues e Jonathas Carneiro"
      ],
      "metadata": {
        "id": "8AvV2uVhNLpj"
      }
    },
    {
      "cell_type": "markdown",
      "source": [
        "## Preparação de Ambiente"
      ],
      "metadata": {
        "id": "L7abbfpEBjvV"
      }
    },
    {
      "cell_type": "code",
      "execution_count": null,
      "metadata": {
        "id": "cGTV4K2w0xhZ"
      },
      "outputs": [],
      "source": [
        "# Instalaçao Bibliotecas\n",
        "!pip install gcsfs -q"
      ]
    },
    {
      "cell_type": "code",
      "source": [
        "# Importando Bibliotecas\n",
        "import os\n",
        "import pandas as pd\n",
        "import random\n",
        "\n",
        "from google.cloud import storage\n",
        "from google.colab import data_table\n",
        "from google.colab import drive\n",
        "from google.colab import auth\n",
        "from pydrive.auth import GoogleAuth\n",
        "from pydrive.drive import GoogleDrive\n",
        "from oauth2client.client import GoogleCredentials"
      ],
      "metadata": {
        "id": "9PyA1knO9Wau"
      },
      "execution_count": null,
      "outputs": []
    },
    {
      "cell_type": "code",
      "source": [
        "# Ignorando alguns alertas desnecessários\n",
        "import warnings\n",
        "warnings.filterwarnings(\"ignore\")"
      ],
      "metadata": {
        "id": "um2OUpf69mnW"
      },
      "execution_count": null,
      "outputs": []
    },
    {
      "cell_type": "markdown",
      "source": [
        "### Compartilhamento Chave GDrive"
      ],
      "metadata": {
        "id": "J5R3Nt3Q1er7"
      }
    },
    {
      "cell_type": "code",
      "source": [
        "# Cria compartilhamento com Google Drive\n",
        "drive.mount('/content/drive', force_remount=True)\n",
        "\n",
        "# Arquivo a ser acessado na pasta compartilhada\n",
        "\n",
        "target = 'projeto-final-ad2-e8-ae566c3a2c2b.json'\n",
        "\n",
        "# Caminho completo da pasta compartilhada\n",
        "folder = '/content/drive/MyDrive/Classroom/AD2 - Analista de Dados/ProjetoFinal'\n",
        "\n",
        "# Acesso ao arquivo no colab\n",
        "serviceAccount = os.path.join(folder, target)"
      ],
      "metadata": {
        "colab": {
          "base_uri": "https://localhost:8080/"
        },
        "id": "pSoSXbShcQVp",
        "outputId": "0fb28fc5-f2c3-4789-c26a-b9571db8add3"
      },
      "execution_count": null,
      "outputs": [
        {
          "output_type": "stream",
          "name": "stdout",
          "text": [
            "Mounted at /content/drive\n"
          ]
        }
      ]
    },
    {
      "cell_type": "markdown",
      "source": [
        "### Configuração da bucket"
      ],
      "metadata": {
        "id": "0dZJqZvm1DES"
      }
    },
    {
      "cell_type": "code",
      "source": [
        "# Nome da bucket\n",
        "bucket_name = 'projeto-final-ad2-e8'\n",
        "\n",
        "# Delimitação de pasta\n",
        "prefix_name = 'dados/tratados/'"
      ],
      "metadata": {
        "id": "KH0J2FihwE7D"
      },
      "execution_count": null,
      "outputs": []
    },
    {
      "cell_type": "code",
      "source": [
        "# Conexão com a conta do Google Cloud\n",
        "os.environ['GOOGLE_APPLICATION_CREDENTIALS'] = serviceAccount"
      ],
      "metadata": {
        "id": "CyymFDdQ2akm"
      },
      "execution_count": null,
      "outputs": []
    },
    {
      "cell_type": "code",
      "source": [
        "# Conexão com a bucket do Google Cloud\n",
        "client = storage.Client()\n",
        "bucket = client.get_bucket(bucket_name)"
      ],
      "metadata": {
        "id": "TV-rH7EWbVpm"
      },
      "execution_count": null,
      "outputs": []
    },
    {
      "cell_type": "markdown",
      "source": [
        "### Conjuntos de dados"
      ],
      "metadata": {
        "id": "Aa2mhAJnEEYp"
      }
    },
    {
      "cell_type": "code",
      "source": [
        "# Habilita formatação tabular\n",
        "data_table.enable_dataframe_formatter()"
      ],
      "metadata": {
        "id": "JQikL7QHwW4j"
      },
      "execution_count": null,
      "outputs": []
    },
    {
      "cell_type": "code",
      "source": [
        "# Listando conjuntos de dados na bucket\n",
        "blobList = [x.name for x in bucket.list_blobs(prefix = prefix_name)]\n",
        "\n",
        "# dataframe lista blobs\n",
        "blobDf = pd.DataFrame(blobList)\n",
        "\n",
        "blobDf"
      ],
      "metadata": {
        "colab": {
          "base_uri": "https://localhost:8080/",
          "height": 402
        },
        "id": "Rha7mHJBwYaQ",
        "outputId": "5714c3e1-e0d0-4caa-a4fc-338e88516db3"
      },
      "execution_count": null,
      "outputs": [
        {
          "output_type": "execute_result",
          "data": {
            "text/plain": [
              "                                                    0\n",
              "0                                     dados/tratados/\n",
              "1   dados/tratados/Veiculos_eletricos_brasil_anfav...\n",
              "2   dados/tratados/Veiculos_eletricos_brasil_anfav...\n",
              "3               dados/tratados/dataset_tratados_xlsx/\n",
              "4   dados/tratados/dataset_tratados_xlsx/2_1_cap_i...\n",
              "5   dados/tratados/dataset_tratados_xlsx/2_2_cap_i...\n",
              "6   dados/tratados/dataset_tratados_xlsx/2_2_cap_i...\n",
              "7   dados/tratados/dataset_tratados_xlsx/2_3_gerac...\n",
              "8   dados/tratados/fator_capacidade_mwh_2015_2023.csv\n",
              "9        dados/tratados/iea_ponto_recarga_tratado.csv\n",
              "10            dados/tratados/iea_veiculos_tratado.csv\n",
              "11     dados/tratados/tratado_geracao_distribuida.csv\n",
              "12  dados/tratados/vendas_veiculoseletricosBrasil_..."
            ],
            "text/html": [
              "\n",
              "\n",
              "  <div id=\"df-03f47157-eb34-4466-939e-9e737dc6d26e\">\n",
              "    <div class=\"colab-df-container\">\n",
              "      <div>\n",
              "<style scoped>\n",
              "    .dataframe tbody tr th:only-of-type {\n",
              "        vertical-align: middle;\n",
              "    }\n",
              "\n",
              "    .dataframe tbody tr th {\n",
              "        vertical-align: top;\n",
              "    }\n",
              "\n",
              "    .dataframe thead th {\n",
              "        text-align: right;\n",
              "    }\n",
              "</style>\n",
              "<table border=\"1\" class=\"dataframe\">\n",
              "  <thead>\n",
              "    <tr style=\"text-align: right;\">\n",
              "      <th></th>\n",
              "      <th>0</th>\n",
              "    </tr>\n",
              "  </thead>\n",
              "  <tbody>\n",
              "    <tr>\n",
              "      <th>0</th>\n",
              "      <td>dados/tratados/</td>\n",
              "    </tr>\n",
              "    <tr>\n",
              "      <th>1</th>\n",
              "      <td>dados/tratados/Veiculos_eletricos_brasil_anfav...</td>\n",
              "    </tr>\n",
              "    <tr>\n",
              "      <th>2</th>\n",
              "      <td>dados/tratados/Veiculos_eletricos_brasil_anfav...</td>\n",
              "    </tr>\n",
              "    <tr>\n",
              "      <th>3</th>\n",
              "      <td>dados/tratados/dataset_tratados_xlsx/</td>\n",
              "    </tr>\n",
              "    <tr>\n",
              "      <th>4</th>\n",
              "      <td>dados/tratados/dataset_tratados_xlsx/2_1_cap_i...</td>\n",
              "    </tr>\n",
              "    <tr>\n",
              "      <th>5</th>\n",
              "      <td>dados/tratados/dataset_tratados_xlsx/2_2_cap_i...</td>\n",
              "    </tr>\n",
              "    <tr>\n",
              "      <th>6</th>\n",
              "      <td>dados/tratados/dataset_tratados_xlsx/2_2_cap_i...</td>\n",
              "    </tr>\n",
              "    <tr>\n",
              "      <th>7</th>\n",
              "      <td>dados/tratados/dataset_tratados_xlsx/2_3_gerac...</td>\n",
              "    </tr>\n",
              "    <tr>\n",
              "      <th>8</th>\n",
              "      <td>dados/tratados/fator_capacidade_mwh_2015_2023.csv</td>\n",
              "    </tr>\n",
              "    <tr>\n",
              "      <th>9</th>\n",
              "      <td>dados/tratados/iea_ponto_recarga_tratado.csv</td>\n",
              "    </tr>\n",
              "    <tr>\n",
              "      <th>10</th>\n",
              "      <td>dados/tratados/iea_veiculos_tratado.csv</td>\n",
              "    </tr>\n",
              "    <tr>\n",
              "      <th>11</th>\n",
              "      <td>dados/tratados/tratado_geracao_distribuida.csv</td>\n",
              "    </tr>\n",
              "    <tr>\n",
              "      <th>12</th>\n",
              "      <td>dados/tratados/vendas_veiculoseletricosBrasil_...</td>\n",
              "    </tr>\n",
              "  </tbody>\n",
              "</table>\n",
              "</div>\n",
              "      <button class=\"colab-df-convert\" onclick=\"convertToInteractive('df-03f47157-eb34-4466-939e-9e737dc6d26e')\"\n",
              "              title=\"Convert this dataframe to an interactive table.\"\n",
              "              style=\"display:none;\">\n",
              "\n",
              "  <svg xmlns=\"http://www.w3.org/2000/svg\" height=\"24px\"viewBox=\"0 0 24 24\"\n",
              "       width=\"24px\">\n",
              "    <path d=\"M0 0h24v24H0V0z\" fill=\"none\"/>\n",
              "    <path d=\"M18.56 5.44l.94 2.06.94-2.06 2.06-.94-2.06-.94-.94-2.06-.94 2.06-2.06.94zm-11 1L8.5 8.5l.94-2.06 2.06-.94-2.06-.94L8.5 2.5l-.94 2.06-2.06.94zm10 10l.94 2.06.94-2.06 2.06-.94-2.06-.94-.94-2.06-.94 2.06-2.06.94z\"/><path d=\"M17.41 7.96l-1.37-1.37c-.4-.4-.92-.59-1.43-.59-.52 0-1.04.2-1.43.59L10.3 9.45l-7.72 7.72c-.78.78-.78 2.05 0 2.83L4 21.41c.39.39.9.59 1.41.59.51 0 1.02-.2 1.41-.59l7.78-7.78 2.81-2.81c.8-.78.8-2.07 0-2.86zM5.41 20L4 18.59l7.72-7.72 1.47 1.35L5.41 20z\"/>\n",
              "  </svg>\n",
              "      </button>\n",
              "\n",
              "\n",
              "\n",
              "    <div id=\"df-1afd0e49-a519-4892-a1be-d561aaa19445\">\n",
              "      <button class=\"colab-df-quickchart\" onclick=\"quickchart('df-1afd0e49-a519-4892-a1be-d561aaa19445')\"\n",
              "              title=\"Suggest charts.\"\n",
              "              style=\"display:none;\">\n",
              "\n",
              "<svg xmlns=\"http://www.w3.org/2000/svg\" height=\"24px\"viewBox=\"0 0 24 24\"\n",
              "     width=\"24px\">\n",
              "    <g>\n",
              "        <path d=\"M19 3H5c-1.1 0-2 .9-2 2v14c0 1.1.9 2 2 2h14c1.1 0 2-.9 2-2V5c0-1.1-.9-2-2-2zM9 17H7v-7h2v7zm4 0h-2V7h2v10zm4 0h-2v-4h2v4z\"/>\n",
              "    </g>\n",
              "</svg>\n",
              "      </button>\n",
              "    </div>\n",
              "\n",
              "<style>\n",
              "  .colab-df-quickchart {\n",
              "    background-color: #E8F0FE;\n",
              "    border: none;\n",
              "    border-radius: 50%;\n",
              "    cursor: pointer;\n",
              "    display: none;\n",
              "    fill: #1967D2;\n",
              "    height: 32px;\n",
              "    padding: 0 0 0 0;\n",
              "    width: 32px;\n",
              "  }\n",
              "\n",
              "  .colab-df-quickchart:hover {\n",
              "    background-color: #E2EBFA;\n",
              "    box-shadow: 0px 1px 2px rgba(60, 64, 67, 0.3), 0px 1px 3px 1px rgba(60, 64, 67, 0.15);\n",
              "    fill: #174EA6;\n",
              "  }\n",
              "\n",
              "  [theme=dark] .colab-df-quickchart {\n",
              "    background-color: #3B4455;\n",
              "    fill: #D2E3FC;\n",
              "  }\n",
              "\n",
              "  [theme=dark] .colab-df-quickchart:hover {\n",
              "    background-color: #434B5C;\n",
              "    box-shadow: 0px 1px 3px 1px rgba(0, 0, 0, 0.15);\n",
              "    filter: drop-shadow(0px 1px 2px rgba(0, 0, 0, 0.3));\n",
              "    fill: #FFFFFF;\n",
              "  }\n",
              "</style>\n",
              "\n",
              "    <script>\n",
              "      async function quickchart(key) {\n",
              "        const containerElement = document.querySelector('#' + key);\n",
              "        const charts = await google.colab.kernel.invokeFunction(\n",
              "            'suggestCharts', [key], {});\n",
              "      }\n",
              "    </script>\n",
              "\n",
              "      <script>\n",
              "\n",
              "function displayQuickchartButton(domScope) {\n",
              "  let quickchartButtonEl =\n",
              "    domScope.querySelector('#df-1afd0e49-a519-4892-a1be-d561aaa19445 button.colab-df-quickchart');\n",
              "  quickchartButtonEl.style.display =\n",
              "    google.colab.kernel.accessAllowed ? 'block' : 'none';\n",
              "}\n",
              "\n",
              "        displayQuickchartButton(document);\n",
              "      </script>\n",
              "      <style>\n",
              "    .colab-df-container {\n",
              "      display:flex;\n",
              "      flex-wrap:wrap;\n",
              "      gap: 12px;\n",
              "    }\n",
              "\n",
              "    .colab-df-convert {\n",
              "      background-color: #E8F0FE;\n",
              "      border: none;\n",
              "      border-radius: 50%;\n",
              "      cursor: pointer;\n",
              "      display: none;\n",
              "      fill: #1967D2;\n",
              "      height: 32px;\n",
              "      padding: 0 0 0 0;\n",
              "      width: 32px;\n",
              "    }\n",
              "\n",
              "    .colab-df-convert:hover {\n",
              "      background-color: #E2EBFA;\n",
              "      box-shadow: 0px 1px 2px rgba(60, 64, 67, 0.3), 0px 1px 3px 1px rgba(60, 64, 67, 0.15);\n",
              "      fill: #174EA6;\n",
              "    }\n",
              "\n",
              "    [theme=dark] .colab-df-convert {\n",
              "      background-color: #3B4455;\n",
              "      fill: #D2E3FC;\n",
              "    }\n",
              "\n",
              "    [theme=dark] .colab-df-convert:hover {\n",
              "      background-color: #434B5C;\n",
              "      box-shadow: 0px 1px 3px 1px rgba(0, 0, 0, 0.15);\n",
              "      filter: drop-shadow(0px 1px 2px rgba(0, 0, 0, 0.3));\n",
              "      fill: #FFFFFF;\n",
              "    }\n",
              "  </style>\n",
              "\n",
              "      <script>\n",
              "        const buttonEl =\n",
              "          document.querySelector('#df-03f47157-eb34-4466-939e-9e737dc6d26e button.colab-df-convert');\n",
              "        buttonEl.style.display =\n",
              "          google.colab.kernel.accessAllowed ? 'block' : 'none';\n",
              "\n",
              "        async function convertToInteractive(key) {\n",
              "          const element = document.querySelector('#df-03f47157-eb34-4466-939e-9e737dc6d26e');\n",
              "          const dataTable =\n",
              "            await google.colab.kernel.invokeFunction('convertToInteractive',\n",
              "                                                     [key], {});\n",
              "          if (!dataTable) return;\n",
              "\n",
              "          const docLinkHtml = 'Like what you see? Visit the ' +\n",
              "            '<a target=\"_blank\" href=https://colab.research.google.com/notebooks/data_table.ipynb>data table notebook</a>'\n",
              "            + ' to learn more about interactive tables.';\n",
              "          element.innerHTML = '';\n",
              "          dataTable['output_type'] = 'display_data';\n",
              "          await google.colab.output.renderOutput(dataTable, element);\n",
              "          const docLink = document.createElement('div');\n",
              "          docLink.innerHTML = docLinkHtml;\n",
              "          element.appendChild(docLink);\n",
              "        }\n",
              "      </script>\n",
              "    </div>\n",
              "  </div>\n"
            ],
            "application/vnd.google.colaboratory.module+javascript": "\n      import \"https://ssl.gstatic.com/colaboratory/data_table/881c4a0d49046431/data_table.js\";\n\n      const table = window.createDataTable({\n        data: [[{\n            'v': 0,\n            'f': \"0\",\n        },\n\"dados/tratados/\"],\n [{\n            'v': 1,\n            'f': \"1\",\n        },\n\"dados/tratados/Veiculos_eletricos_brasil_anfavea_2012_2023_crescimento.csv\"],\n [{\n            'v': 2,\n            'f': \"2\",\n        },\n\"dados/tratados/Veiculos_eletricos_brasil_anfavea_2012_2023_tratado.csv\"],\n [{\n            'v': 3,\n            'f': \"3\",\n        },\n\"dados/tratados/dataset_tratados_xlsx/\"],\n [{\n            'v': 4,\n            'f': \"4\",\n        },\n\"dados/tratados/dataset_tratados_xlsx/2_1_cap_instalada_por_regiao_e_uf_tratado.xlsx\"],\n [{\n            'v': 5,\n            'f': \"5\",\n        },\n\"dados/tratados/dataset_tratados_xlsx/2_2_cap_instalada_de_geracao_eletrica_por_fonte_mw.csv\"],\n [{\n            'v': 6,\n            'f': \"6\",\n        },\n\"dados/tratados/dataset_tratados_xlsx/2_2_cap_instalada_de_geracao_eletrica_por_fonte_mw.xlsx\"],\n [{\n            'v': 7,\n            'f': \"7\",\n        },\n\"dados/tratados/dataset_tratados_xlsx/2_3_geracao_eletrica_por_fonte_gwh_tratado.xlsx\"],\n [{\n            'v': 8,\n            'f': \"8\",\n        },\n\"dados/tratados/fator_capacidade_mwh_2015_2023.csv\"],\n [{\n            'v': 9,\n            'f': \"9\",\n        },\n\"dados/tratados/iea_ponto_recarga_tratado.csv\"],\n [{\n            'v': 10,\n            'f': \"10\",\n        },\n\"dados/tratados/iea_veiculos_tratado.csv\"],\n [{\n            'v': 11,\n            'f': \"11\",\n        },\n\"dados/tratados/tratado_geracao_distribuida.csv\"],\n [{\n            'v': 12,\n            'f': \"12\",\n        },\n\"dados/tratados/vendas_veiculoseletricosBrasil_2012_2023.csv\"]],\n        columns: [[\"number\", \"index\"], [\"string\", \"0\"]],\n        columnOptions: [{\"width\": \"1px\", \"className\": \"index_column\"}],\n        rowsPerPage: 25,\n        helpUrl: \"https://colab.research.google.com/notebooks/data_table.ipynb\",\n        suppressOutputScrolling: true,\n        minimumWidth: undefined,\n      });\n      \n      function appendQuickchartButton(parentElement) {\n        let quickchartButtonContainerElement = document.createElement('div');\n        quickchartButtonContainerElement.innerHTML = `\n    <div id=\"df-390c36d1-50c5-4f15-978f-baea6d2002f2\">\n      <button class=\"colab-df-quickchart\" onclick=\"quickchart('df-390c36d1-50c5-4f15-978f-baea6d2002f2')\"\n              title=\"Suggest charts.\"\n              style=\"display:none;\">\n\n<svg xmlns=\"http://www.w3.org/2000/svg\" height=\"24px\"viewBox=\"0 0 24 24\"\n     width=\"24px\">\n    <g>\n        <path d=\"M19 3H5c-1.1 0-2 .9-2 2v14c0 1.1.9 2 2 2h14c1.1 0 2-.9 2-2V5c0-1.1-.9-2-2-2zM9 17H7v-7h2v7zm4 0h-2V7h2v10zm4 0h-2v-4h2v4z\"/>\n    </g>\n</svg>\n      </button>\n    </div>\n\n<style>\n  .colab-df-quickchart {\n    background-color: #E8F0FE;\n    border: none;\n    border-radius: 50%;\n    cursor: pointer;\n    display: none;\n    fill: #1967D2;\n    height: 32px;\n    padding: 0 0 0 0;\n    width: 32px;\n  }\n\n  .colab-df-quickchart:hover {\n    background-color: #E2EBFA;\n    box-shadow: 0px 1px 2px rgba(60, 64, 67, 0.3), 0px 1px 3px 1px rgba(60, 64, 67, 0.15);\n    fill: #174EA6;\n  }\n\n  [theme=dark] .colab-df-quickchart {\n    background-color: #3B4455;\n    fill: #D2E3FC;\n  }\n\n  [theme=dark] .colab-df-quickchart:hover {\n    background-color: #434B5C;\n    box-shadow: 0px 1px 3px 1px rgba(0, 0, 0, 0.15);\n    filter: drop-shadow(0px 1px 2px rgba(0, 0, 0, 0.3));\n    fill: #FFFFFF;\n  }\n</style>\n\n    <script>\n      async function quickchart(key) {\n        const containerElement = document.querySelector('#' + key);\n        const charts = await google.colab.kernel.invokeFunction(\n            'suggestCharts', [key], {});\n      }\n    </script>\n`;\n        parentElement.appendChild(quickchartButtonContainerElement);\n        \nfunction displayQuickchartButton(domScope) {\n  let quickchartButtonEl =\n    domScope.querySelector('#df-390c36d1-50c5-4f15-978f-baea6d2002f2 button.colab-df-quickchart');\n  quickchartButtonEl.style.display =\n    google.colab.kernel.accessAllowed ? 'block' : 'none';\n}\n\n        displayQuickchartButton(parentElement);\n      }\n\n      appendQuickchartButton(table);\n    "
          },
          "metadata": {},
          "execution_count": 9
        }
      ]
    },
    {
      "cell_type": "code",
      "source": [
        "# Desabilita formatação tabular\n",
        "data_table.disable_dataframe_formatter()"
      ],
      "metadata": {
        "id": "IBHC_acRwaXK"
      },
      "execution_count": null,
      "outputs": []
    },
    {
      "cell_type": "code",
      "source": [
        "# Renomeando coluna\n",
        "blobDf.columns = ['path']\n",
        "\n",
        "# Lista com resultados\n",
        "blobPath = blobDf['path'].tolist()"
      ],
      "metadata": {
        "id": "OTaJr_J3wiv5"
      },
      "execution_count": null,
      "outputs": []
    },
    {
      "cell_type": "markdown",
      "source": [
        "#### Seleção de dados"
      ],
      "metadata": {
        "id": "gOMpz0e3wbFe"
      }
    },
    {
      "cell_type": "code",
      "source": [
        "# Seleção por index conforme caminho da tabela acima\n",
        "index = int(input('Infome o número do índice correspondente ao arquivo, conforme tabela acima:' ))\n",
        "\n",
        "# Seleção do gsutil do arquivo\n",
        "path = f'gs://{bucket_name}/{blobPath[index]}'\n",
        "\n",
        "archive= blobPath[index][len(blobPath[0]):]\n",
        "outpath = f'gs://{bucket_name}/dados/backup/{archive}'\n",
        "\n",
        "print(f'>>> arquivo : {archive}\\n>>> gsutil: {path}\\n>>> saida: {outpath[:-4]}.parquet')"
      ],
      "metadata": {
        "id": "_f15se_jLs3O",
        "colab": {
          "base_uri": "https://localhost:8080/"
        },
        "outputId": "e9e21041-84b2-4f5d-e054-bf1b998fb9c7"
      },
      "execution_count": null,
      "outputs": [
        {
          "output_type": "stream",
          "name": "stdout",
          "text": [
            "Infome o número do índice correspondente ao arquivo, conforme tabela acima:12\n",
            ">>> arquivo : vendas_veiculoseletricosBrasil_2012_2023.csv\n",
            ">>> gsutil: gs://projeto-final-ad2-e8/dados/tratados/vendas_veiculoseletricosBrasil_2012_2023.csv\n",
            ">>> saida: gs://projeto-final-ad2-e8/dados/backup/vendas_veiculoseletricosBrasil_2012_2023.parquet\n"
          ]
        }
      ]
    },
    {
      "cell_type": "code",
      "source": [
        "# Configuração do blob\n",
        "blob = bucket.blob(blobPath[index])\n",
        "\n",
        "# Download do arquivo\n",
        "blob.download_to_filename(f'/content/{archive}')"
      ],
      "metadata": {
        "id": "Xqnn-fEMwpp7"
      },
      "execution_count": null,
      "outputs": []
    },
    {
      "cell_type": "code",
      "source": [
        "downloadFile = f'/content/{archive}'"
      ],
      "metadata": {
        "id": "CMmsw-xkwtWZ"
      },
      "execution_count": null,
      "outputs": []
    },
    {
      "cell_type": "markdown",
      "source": [
        "# Read"
      ],
      "metadata": {
        "id": "E-wQSLzIYcRD"
      }
    },
    {
      "cell_type": "code",
      "source": [
        "# Leitura do arquivo da GCS\n",
        "#df = pd.read_csv(path, skiprows = [random.randint(0, 2000000)],nrows = 200000)\n",
        "df = pd.read_csv(path)"
      ],
      "metadata": {
        "id": "edXF6vP6Ye3g"
      },
      "execution_count": null,
      "outputs": []
    },
    {
      "cell_type": "markdown",
      "source": [
        "Tratamento de erros"
      ],
      "metadata": {
        "id": "93O6vrlyd5Es"
      }
    },
    {
      "cell_type": "code",
      "source": [
        "#try:\n",
        "#    df['CEP'] = pd.to_numeric(df['CEP'], errors='coerce')  # Convertendo 'CEP' para numérico\n",
        "#except pd.errors.ParserError:\n",
        "#    print(\"Erro ao ler o CSV. Verifique o formato dos dados.\")"
      ],
      "metadata": {
        "id": "Q3FivhfIdsPs"
      },
      "execution_count": null,
      "outputs": []
    },
    {
      "cell_type": "markdown",
      "source": [
        "# Load"
      ],
      "metadata": {
        "id": "SeQf2iYzxIkz"
      }
    },
    {
      "cell_type": "code",
      "source": [
        "# Carregamento arquivo no GCS\n",
        "df.to_parquet(outpath, index=False)"
      ],
      "metadata": {
        "id": "yqrIQkK7xHs4"
      },
      "execution_count": null,
      "outputs": []
    }
  ]
}