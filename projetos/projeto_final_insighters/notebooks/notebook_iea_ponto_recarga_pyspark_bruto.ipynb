{
  "nbformat": 4,
  "nbformat_minor": 0,
  "metadata": {
    "colab": {
      "provenance": [],
      "toc_visible": true,
      "include_colab_link": true
    },
    "kernelspec": {
      "name": "python3",
      "display_name": "Python 3"
    },
    "language_info": {
      "name": "python"
    }
  },
  "cells": [
    {
      "cell_type": "markdown",
      "metadata": {
        "id": "view-in-github",
        "colab_type": "text"
      },
      "source": [
        "<a href=\"https://colab.research.google.com/github/squadOito/soulcodead2/blob/joseaureliok%2Fnotebook/notebooks/notebook_iea_ponto_recarga_pyspark_bruto.ipynb\" target=\"_parent\"><img src=\"https://colab.research.google.com/assets/colab-badge.svg\" alt=\"Open In Colab\"/></a>"
      ]
    },
    {
      "cell_type": "markdown",
      "source": [
        "## **Projeto Final**\n",
        "Escola: SoulCode Academy\n",
        "\n",
        "Curso: Bootcamp Analista de Dados - Martech - AD2\n",
        "\n",
        "**Equipe 08**\n",
        "\n",
        "**Alunos: Adriano Kim, José Aurelio, Marcos Paulo, Paulo Vitorino, Renato e Wesley**\n",
        "\n",
        "Professores: Douglas Ribeiro, Franciane Rodrigues e Jonathas Carneiro"
      ],
      "metadata": {
        "id": "8AvV2uVhNLpj"
      }
    },
    {
      "cell_type": "markdown",
      "source": [
        "## Preparação de Ambiente\n",
        "Instalações e importações das bibliotecas necessárias para o processo de ETL."
      ],
      "metadata": {
        "id": "L7abbfpEBjvV"
      }
    },
    {
      "cell_type": "code",
      "execution_count": null,
      "metadata": {
        "id": "cGTV4K2w0xhZ",
        "colab": {
          "base_uri": "https://localhost:8080/"
        },
        "outputId": "7f498d31-ad98-46d3-c63d-660c5d5b39dd"
      },
      "outputs": [
        {
          "output_type": "stream",
          "name": "stdout",
          "text": [
            "\u001b[?25l     \u001b[90m━━━━━━━━━━━━━━━━━━━━━━━━━━━━━━━━━━━━━━━━\u001b[0m \u001b[32m0.0/201.6 kB\u001b[0m \u001b[31m?\u001b[0m eta \u001b[36m-:--:--\u001b[0m\r\u001b[2K     \u001b[91m━━━━━━━━━━━━━━━━━━━━━━━━━━━\u001b[0m\u001b[91m╸\u001b[0m\u001b[90m━━━━━━━━━━━\u001b[0m \u001b[32m143.4/201.6 kB\u001b[0m \u001b[31m4.4 MB/s\u001b[0m eta \u001b[36m0:00:01\u001b[0m\r\u001b[2K     \u001b[90m━━━━━━━━━━━━━━━━━━━━━━━━━━━━━━━━━━━━━━━\u001b[0m \u001b[32m201.6/201.6 kB\u001b[0m \u001b[31m4.0 MB/s\u001b[0m eta \u001b[36m0:00:00\u001b[0m\n",
            "\u001b[?25h"
          ]
        }
      ],
      "source": [
        "# Instalaçao Bibliotecas\n",
        "!pip install gcsfs -q\n",
        "!pip install pandera -q"
      ]
    },
    {
      "cell_type": "code",
      "source": [
        "# Importando Bibliotecas\n",
        "import os\n",
        "import pandas as pd\n",
        "import numpy as np\n",
        "import pandera as pa\n",
        "import datetime as dt\n",
        "from google.cloud import storage\n",
        "from google.colab import drive\n",
        "from google.colab import auth\n",
        "from pydrive.auth import GoogleAuth\n",
        "from pydrive.drive import GoogleDrive\n",
        "from oauth2client.client import GoogleCredentials"
      ],
      "metadata": {
        "id": "9PyA1knO9Wau"
      },
      "execution_count": null,
      "outputs": []
    },
    {
      "cell_type": "code",
      "source": [
        "# Ignorando alguns alertas desnecessários\n",
        "import warnings\n",
        "warnings.filterwarnings(\"ignore\")"
      ],
      "metadata": {
        "id": "um2OUpf69mnW"
      },
      "execution_count": null,
      "outputs": []
    },
    {
      "cell_type": "code",
      "source": [
        "# Configuração da quantidade de colunas para aparecer em um DataFrame\n",
        "pd.set_option('display.max_columns',100)"
      ],
      "metadata": {
        "id": "AeslQXYjNiEy"
      },
      "execution_count": null,
      "outputs": []
    },
    {
      "cell_type": "markdown",
      "source": [
        "### Configuração PySpark"
      ],
      "metadata": {
        "id": "iw_HBWma1nHd"
      }
    },
    {
      "cell_type": "code",
      "source": [
        "!apt-get install openjdk-8-jdk-headless -qq > /dev/null\n",
        "!wget -N -q http://archive.apache.org/dist/spark/spark-3.1.1/spark-3.1.1-bin-hadoop3.2.tgz\n",
        "!tar xf spark-3.1.1-bin-hadoop3.2.tgz\n",
        "!pip install -q findspark"
      ],
      "metadata": {
        "id": "Zzgp2wP_J1zP"
      },
      "execution_count": null,
      "outputs": []
    },
    {
      "cell_type": "code",
      "source": [
        "os.environ[\"JAVA_HOME\"] = \"/usr/lib/jvm/java-8-openjdk-amd64\"\n",
        "os.environ[\"SPARK_HOME\"] = \"/content/spark-3.1.1-bin-hadoop3.2\""
      ],
      "metadata": {
        "id": "WqPM27dsJ2jp"
      },
      "execution_count": null,
      "outputs": []
    },
    {
      "cell_type": "code",
      "source": [
        "import findspark\n",
        "findspark.init()\n",
        "\n",
        "from pyspark.sql import SparkSession\n",
        "spark = SparkSession.builder.master(\"local[*]\").getOrCreate()\n",
        "\n",
        "from pyspark.sql.functions import regexp_replace\n",
        "spark.conf.set(\"spark.sql.repl.eagerEval.enabled\", True) # Para deixar a visualição das tabelas mais amigável\n",
        "\n",
        "import pyspark.sql.functions as F\n",
        "from pyspark.sql.types import *\n",
        "\n",
        "spark"
      ],
      "metadata": {
        "id": "1sAWAoufKBBb",
        "outputId": "e7dfb291-fcd8-42e9-c792-de8ca4c5f90a",
        "colab": {
          "base_uri": "https://localhost:8080/",
          "height": 219
        }
      },
      "execution_count": null,
      "outputs": [
        {
          "output_type": "execute_result",
          "data": {
            "text/plain": [
              "<pyspark.sql.session.SparkSession at 0x783eb07374c0>"
            ],
            "text/html": [
              "\n",
              "            <div>\n",
              "                <p><b>SparkSession - in-memory</b></p>\n",
              "                \n",
              "        <div>\n",
              "            <p><b>SparkContext</b></p>\n",
              "\n",
              "            <p><a href=\"http://3a996870c311:4040\">Spark UI</a></p>\n",
              "\n",
              "            <dl>\n",
              "              <dt>Version</dt>\n",
              "                <dd><code>v3.1.1</code></dd>\n",
              "              <dt>Master</dt>\n",
              "                <dd><code>local[*]</code></dd>\n",
              "              <dt>AppName</dt>\n",
              "                <dd><code>pyspark-shell</code></dd>\n",
              "            </dl>\n",
              "        </div>\n",
              "        \n",
              "            </div>\n",
              "        "
            ]
          },
          "metadata": {},
          "execution_count": 7
        }
      ]
    },
    {
      "cell_type": "markdown",
      "source": [
        "### Compartilhamento Chave GDrive"
      ],
      "metadata": {
        "id": "J5R3Nt3Q1er7"
      }
    },
    {
      "cell_type": "code",
      "source": [
        "# Cria compartilhamento com Google Drive\n",
        "drive.mount('/content/drive', force_remount=True)\n",
        "\n",
        "# Arquivo a ser acessado na pasta compartilhada\n",
        "\n",
        "target = 'projeto-final-ad2-e8-ae566c3a2c2b.json'\n",
        "\n",
        "# Caminho completo da pasta compartilhada\n",
        "folder = '/content/drive/MyDrive/Classroom/AD2 - Analista de Dados/ProjetoFinal'\n",
        "\n",
        "# Acesso ao arquivo no colab\n",
        "serviceAccount = os.path.join(folder, target)"
      ],
      "metadata": {
        "colab": {
          "base_uri": "https://localhost:8080/"
        },
        "id": "pSoSXbShcQVp",
        "outputId": "58960962-2e80-4423-8baa-205f177923a3"
      },
      "execution_count": null,
      "outputs": [
        {
          "output_type": "stream",
          "name": "stdout",
          "text": [
            "Mounted at /content/drive\n"
          ]
        }
      ]
    },
    {
      "cell_type": "markdown",
      "source": [
        "## Extração\n",
        "A primeira etapa da ETL é a extração dos dados de sua fonte original. Dependendo do tipo de dados e da fonte, você pode precisar de diferentes ferramentas e técnicas para extrair os dados."
      ],
      "metadata": {
        "id": "0dZJqZvm1DES"
      }
    },
    {
      "cell_type": "code",
      "source": [
        "# Conexão com a conta do Google Cloud\n",
        "os.environ['GOOGLE_APPLICATION_CREDENTIALS'] = serviceAccount"
      ],
      "metadata": {
        "id": "CyymFDdQ2akm"
      },
      "execution_count": null,
      "outputs": []
    },
    {
      "cell_type": "code",
      "source": [
        "# Conexão com a bucket do Google Cloud\n",
        "client = storage.Client()\n",
        "bucket = client.get_bucket('projeto-final-ad2-e8') # nome do bucket"
      ],
      "metadata": {
        "id": "TV-rH7EWbVpm"
      },
      "execution_count": null,
      "outputs": []
    },
    {
      "cell_type": "code",
      "source": [
        "# Caminho do arquivo\n",
        "path = 'gs://projeto-final-ad2-e8/dados/brutos/excel/iea_ponto_recarga_bruto.xlsx'"
      ],
      "metadata": {
        "id": "_f15se_jLs3O"
      },
      "execution_count": null,
      "outputs": []
    },
    {
      "cell_type": "markdown",
      "source": [
        "Read Pyspark"
      ],
      "metadata": {
        "id": "4gNhnovvPK6t"
      }
    },
    {
      "cell_type": "code",
      "source": [
        "# função de leitura no Spark\n",
        "def spark_read(path):\n",
        "  try:\n",
        "\n",
        "    try:\n",
        "      # leitura csv com pandas\n",
        "      read = pd.read_excel(path)\n",
        "      # conversão em df pandas em df pyspark\n",
        "      df = spark.createDataFrame(read)\n",
        "      # êxito da função retornando o dataframe\n",
        "      return df\n",
        "\n",
        "    except:\n",
        "      # leitura csv com pandas\n",
        "      read = pd.read_excel(path)\n",
        "\n",
        "      # tratamento de tipo de dado do df pandas para conversão em df pyspark\n",
        "      for n in read.columns:\n",
        "        if read[f'{n}'].dtype == object:\n",
        "          read[f'{n}'] = read[f'{n}'].astype(str)\n",
        "        elif read[f'{n}'].dtype == bool:\n",
        "          read[f'{n}'] = read[f'{n}'].astype(bool)\n",
        "        else:\n",
        "          read[f'{n}'] = read[f'{n}'].astype(np.double)\n",
        "\n",
        "      # conversão df pandas em df pyspark\n",
        "      df = spark.createDataFrame(read)\n",
        "      # êxito da função retornando o dataframe\n",
        "      return df\n",
        "\n",
        "  except:\n",
        "    # indicação de erro na leitura do dataframe\n",
        "    print(f'Falha na leitura do DataFrame: {path}!')"
      ],
      "metadata": {
        "id": "p6sG8mcyxvoX"
      },
      "execution_count": null,
      "outputs": []
    },
    {
      "cell_type": "code",
      "source": [
        "df = spark_read(path)"
      ],
      "metadata": {
        "id": "fjvWsAl_eiaJ"
      },
      "execution_count": null,
      "outputs": []
    },
    {
      "cell_type": "markdown",
      "source": [
        "### Pré Análise"
      ],
      "metadata": {
        "id": "V1UNCIESAaZN"
      }
    },
    {
      "cell_type": "code",
      "source": [
        "# Visualização geral\n",
        "df.show(100)"
      ],
      "metadata": {
        "id": "ji1Xb8ccfuyt",
        "colab": {
          "base_uri": "https://localhost:8080/"
        },
        "outputId": "4bd23c3d-affa-4782-917c-9ff5b8295bf6"
      },
      "execution_count": null,
      "outputs": [
        {
          "output_type": "stream",
          "name": "stdout",
          "text": [
            "+---------+----------+------------------+----+--------------------+----+---------------+-----------------+\n",
            "|   region|  category|         parameter|mode|          powertrain|year|           unit|            value|\n",
            "+---------+----------+------------------+----+--------------------+----+---------------+-----------------+\n",
            "|Australia|Historical|EV charging points|  EV|Publicly availabl...|2017|charging points|               40|\n",
            "|Australia|Historical|EV charging points|  EV|Publicly availabl...|2017|charging points|              440|\n",
            "|Australia|Historical|EV charging points|  EV|Publicly availabl...|2018|charging points|               61|\n",
            "|Australia|Historical|EV charging points|  EV|Publicly availabl...|2018|charging points|              670|\n",
            "|Australia|Historical|EV charging points|  EV|Publicly availabl...|2019|charging points|              250|\n",
            "|Australia|Historical|EV charging points|  EV|Publicly availabl...|2019|charging points|             1700|\n",
            "|Australia|Historical|EV charging points|  EV|Publicly availabl...|2020|charging points|              350|\n",
            "|Australia|Historical|EV charging points|  EV|Publicly availabl...|2020|charging points|             2000|\n",
            "|Australia|Historical|EV charging points|  EV|Publicly availabl...|2021|charging points|              320|\n",
            "|Australia|Historical|EV charging points|  EV|Publicly availabl...|2021|charging points|             2000|\n",
            "|Australia|Historical|EV charging points|  EV|Publicly availabl...|2022|charging points|              470|\n",
            "|Australia|Historical|EV charging points|  EV|Publicly availabl...|2022|charging points|             2100|\n",
            "|  Austria|Historical|EV charging points|  EV|Publicly availabl...|2011|charging points|10000000149011600|\n",
            "|  Austria|Historical|EV charging points|  EV|Publicly availabl...|2011|charging points|10000000149011600|\n",
            "|  Austria|Historical|EV charging points|  EV|Publicly availabl...|2012|charging points|10000000149011600|\n",
            "|  Austria|Historical|EV charging points|  EV|Publicly availabl...|2012|charging points|10000000149011600|\n",
            "|  Austria|Historical|EV charging points|  EV|Publicly availabl...|2013|charging points|10000000149011600|\n",
            "|  Austria|Historical|EV charging points|  EV|Publicly availabl...|2013|charging points|10000000149011600|\n",
            "|  Austria|Historical|EV charging points|  EV|Publicly availabl...|2014|charging points|10000000149011600|\n",
            "|  Austria|Historical|EV charging points|  EV|Publicly availabl...|2014|charging points|10000000149011600|\n",
            "|  Austria|Historical|EV charging points|  EV|Publicly availabl...|2015|charging points|10000000149011600|\n",
            "|  Austria|Historical|EV charging points|  EV|Publicly availabl...|2015|charging points|10000000149011600|\n",
            "|  Austria|Historical|EV charging points|  EV|Publicly availabl...|2016|charging points|10000000149011600|\n",
            "|  Austria|Historical|EV charging points|  EV|Publicly availabl...|2016|charging points|10000000149011600|\n",
            "|  Austria|Historical|EV charging points|  EV|Publicly availabl...|2017|charging points|10000000149011600|\n",
            "|  Austria|Historical|EV charging points|  EV|Publicly availabl...|2017|charging points|10000000149011600|\n",
            "|  Austria|Historical|EV charging points|  EV|Publicly availabl...|2018|charging points|10000000149011600|\n",
            "|  Austria|Historical|EV charging points|  EV|Publicly availabl...|2018|charging points|10000000149011600|\n",
            "|  Austria|Historical|EV charging points|  EV|Publicly availabl...|2019|charging points|10000000149011600|\n",
            "|  Austria|Historical|EV charging points|  EV|Publicly availabl...|2019|charging points|10000000149011600|\n",
            "|  Austria|Historical|EV charging points|  EV|Publicly availabl...|2020|charging points|10000000149011600|\n",
            "|  Austria|Historical|EV charging points|  EV|Publicly availabl...|2020|charging points|10000000149011600|\n",
            "|  Austria|Historical|EV charging points|  EV|Publicly availabl...|2021|charging points|             1600|\n",
            "|  Austria|Historical|EV charging points|  EV|Publicly availabl...|2021|charging points|             8900|\n",
            "|  Austria|Historical|EV charging points|  EV|Publicly availabl...|2022|charging points|             2600|\n",
            "|  Austria|Historical|EV charging points|  EV|Publicly availabl...|2022|charging points|            13000|\n",
            "|  Belgium|Historical|EV charging points|  EV|Publicly availabl...|2013|charging points|               47|\n",
            "|  Belgium|Historical|EV charging points|  EV|Publicly availabl...|2013|charging points|              330|\n",
            "|  Belgium|Historical|EV charging points|  EV|Publicly availabl...|2014|charging points|               55|\n",
            "|  Belgium|Historical|EV charging points|  EV|Publicly availabl...|2014|charging points|              560|\n",
            "|  Belgium|Historical|EV charging points|  EV|Publicly availabl...|2015|charging points|               77|\n",
            "|  Belgium|Historical|EV charging points|  EV|Publicly availabl...|2015|charging points|             1300|\n",
            "|  Belgium|Historical|EV charging points|  EV|Publicly availabl...|2016|charging points|              110|\n",
            "|  Belgium|Historical|EV charging points|  EV|Publicly availabl...|2016|charging points|             1500|\n",
            "|  Belgium|Historical|EV charging points|  EV|Publicly availabl...|2017|charging points|              220|\n",
            "|  Belgium|Historical|EV charging points|  EV|Publicly availabl...|2017|charging points|             1500|\n",
            "|  Belgium|Historical|EV charging points|  EV|Publicly availabl...|2018|charging points|              240|\n",
            "|  Belgium|Historical|EV charging points|  EV|Publicly availabl...|2018|charging points|             2700|\n",
            "|  Belgium|Historical|EV charging points|  EV|Publicly availabl...|2019|charging points|              360|\n",
            "|  Belgium|Historical|EV charging points|  EV|Publicly availabl...|2019|charging points|             6100|\n",
            "|  Belgium|Historical|EV charging points|  EV|Publicly availabl...|2020|charging points|              480|\n",
            "|  Belgium|Historical|EV charging points|  EV|Publicly availabl...|2020|charging points|             8000|\n",
            "|  Belgium|Historical|EV charging points|  EV|Publicly availabl...|2021|charging points|              790|\n",
            "|  Belgium|Historical|EV charging points|  EV|Publicly availabl...|2021|charging points|            12000|\n",
            "|  Belgium|Historical|EV charging points|  EV|Publicly availabl...|2022|charging points|             1100|\n",
            "|  Belgium|Historical|EV charging points|  EV|Publicly availabl...|2022|charging points|            23000|\n",
            "|   Brazil|Historical|EV charging points|  EV|Publicly availabl...|2018|charging points| 4900000095367430|\n",
            "|   Brazil|Historical|EV charging points|  EV|Publicly availabl...|2018|charging points|              450|\n",
            "|   Brazil|Historical|EV charging points|  EV|Publicly availabl...|2019|charging points| 4900000095367430|\n",
            "|   Brazil|Historical|EV charging points|  EV|Publicly availabl...|2019|charging points|              450|\n",
            "|   Brazil|Historical|EV charging points|  EV|Publicly availabl...|2020|charging points| 4900000095367430|\n",
            "|   Brazil|Historical|EV charging points|  EV|Publicly availabl...|2020|charging points|              450|\n",
            "|   Brazil|Historical|EV charging points|  EV|Publicly availabl...|2021|charging points| 4900000095367430|\n",
            "|   Brazil|Historical|EV charging points|  EV|Publicly availabl...|2021|charging points|              700|\n",
            "|   Brazil|Historical|EV charging points|  EV|Publicly availabl...|2022|charging points| 4900000095367430|\n",
            "|   Brazil|Historical|EV charging points|  EV|Publicly availabl...|2022|charging points|             1200|\n",
            "|   Canada|Historical|EV charging points|  EV|Publicly availabl...|2012|charging points|                2|\n",
            "|   Canada|Historical|EV charging points|  EV|Publicly availabl...|2012|charging points|              720|\n",
            "|   Canada|Historical|EV charging points|  EV|Publicly availabl...|2013|charging points|                7|\n",
            "|   Canada|Historical|EV charging points|  EV|Publicly availabl...|2013|charging points|             1200|\n",
            "|   Canada|Historical|EV charging points|  EV|Publicly availabl...|2014|charging points|               55|\n",
            "|   Canada|Historical|EV charging points|  EV|Publicly availabl...|2014|charging points|             2300|\n",
            "|   Canada|Historical|EV charging points|  EV|Publicly availabl...|2015|charging points|               63|\n",
            "|   Canada|Historical|EV charging points|  EV|Publicly availabl...|2015|charging points|             3400|\n",
            "|   Canada|Historical|EV charging points|  EV|Publicly availabl...|2016|charging points|              140|\n",
            "|   Canada|Historical|EV charging points|  EV|Publicly availabl...|2016|charging points|             3900|\n",
            "|   Canada|Historical|EV charging points|  EV|Publicly availabl...|2017|charging points|              670|\n",
            "|   Canada|Historical|EV charging points|  EV|Publicly availabl...|2017|charging points|             5200|\n",
            "|   Canada|Historical|EV charging points|  EV|Publicly availabl...|2018|charging points|              840|\n",
            "|   Canada|Historical|EV charging points|  EV|Publicly availabl...|2018|charging points|             7100|\n",
            "|   Canada|Historical|EV charging points|  EV|Publicly availabl...|2019|charging points|              980|\n",
            "|   Canada|Historical|EV charging points|  EV|Publicly availabl...|2019|charging points|             8000|\n",
            "|   Canada|Historical|EV charging points|  EV|Publicly availabl...|2020|charging points|             2300|\n",
            "|   Canada|Historical|EV charging points|  EV|Publicly availabl...|2020|charging points|            11000|\n",
            "|   Canada|Historical|EV charging points|  EV|Publicly availabl...|2021|charging points|             3100|\n",
            "|   Canada|Historical|EV charging points|  EV|Publicly availabl...|2021|charging points|            12000|\n",
            "|   Canada|Historical|EV charging points|  EV|Publicly availabl...|2022|charging points|             3900|\n",
            "|   Canada|Historical|EV charging points|  EV|Publicly availabl...|2022|charging points|            17000|\n",
            "|    Chile|Historical|EV charging points|  EV|Publicly availabl...|2011|charging points|                1|\n",
            "|    Chile|Historical|EV charging points|  EV|Publicly availabl...|2011|charging points|                1|\n",
            "|    Chile|Historical|EV charging points|  EV|Publicly availabl...|2012|charging points|                4|\n",
            "|    Chile|Historical|EV charging points|  EV|Publicly availabl...|2012|charging points|                6|\n",
            "|    Chile|Historical|EV charging points|  EV|Publicly availabl...|2013|charging points|                5|\n",
            "|    Chile|Historical|EV charging points|  EV|Publicly availabl...|2013|charging points|                8|\n",
            "|    Chile|Historical|EV charging points|  EV|Publicly availabl...|2014|charging points|                5|\n",
            "|    Chile|Historical|EV charging points|  EV|Publicly availabl...|2014|charging points|               13|\n",
            "|    Chile|Historical|EV charging points|  EV|Publicly availabl...|2015|charging points|                5|\n",
            "|    Chile|Historical|EV charging points|  EV|Publicly availabl...|2015|charging points|               22|\n",
            "|    Chile|Historical|EV charging points|  EV|Publicly availabl...|2016|charging points|                5|\n",
            "|    Chile|Historical|EV charging points|  EV|Publicly availabl...|2016|charging points|               22|\n",
            "+---------+----------+------------------+----+--------------------+----+---------------+-----------------+\n",
            "only showing top 100 rows\n",
            "\n"
          ]
        }
      ]
    },
    {
      "cell_type": "code",
      "source": [
        "# Tamanho total de (linhas , colunas)\n",
        "describe = df.describe()\n",
        "describe"
      ],
      "metadata": {
        "id": "Vk8p8Nd-kMWP",
        "colab": {
          "base_uri": "https://localhost:8080/",
          "height": 248
        },
        "outputId": "0bc7b116-a116-4674-85c9-09956cd1657a"
      },
      "execution_count": null,
      "outputs": [
        {
          "output_type": "execute_result",
          "data": {
            "text/plain": [
              "+-------+--------------+----------+------------------+----+--------------------+-----------------+---------------+--------------------+\n",
              "|summary|        region|  category|         parameter|mode|          powertrain|             year|           unit|               value|\n",
              "+-------+--------------+----------+------------------+----+--------------------+-----------------+---------------+--------------------+\n",
              "|  count|           604|       604|               604| 604|                 604|              604|            604|                 604|\n",
              "|   mean|          null|      null|              null|null|                null|2017.546357615894|           null|5.703642471083345E14|\n",
              "| stddev|          null|      null|              null|null|                null|3.126864813215356|           null|2.275968481157552E15|\n",
              "|    min|     Australia|Historical|EV charging points|  EV|Publicly availabl...|             2010|charging points|                   1|\n",
              "|    max|United Kingdom|Historical|EV charging points|  EV|Publicly availabl...|             2022|charging points|   10000000149011600|\n",
              "+-------+--------------+----------+------------------+----+--------------------+-----------------+---------------+--------------------+"
            ],
            "text/html": [
              "<table border='1'>\n",
              "<tr><th>summary</th><th>region</th><th>category</th><th>parameter</th><th>mode</th><th>powertrain</th><th>year</th><th>unit</th><th>value</th></tr>\n",
              "<tr><td>count</td><td>604</td><td>604</td><td>604</td><td>604</td><td>604</td><td>604</td><td>604</td><td>604</td></tr>\n",
              "<tr><td>mean</td><td>null</td><td>null</td><td>null</td><td>null</td><td>null</td><td>2017.546357615894</td><td>null</td><td>5.703642471083345E14</td></tr>\n",
              "<tr><td>stddev</td><td>null</td><td>null</td><td>null</td><td>null</td><td>null</td><td>3.126864813215356</td><td>null</td><td>2.275968481157552E15</td></tr>\n",
              "<tr><td>min</td><td>Australia</td><td>Historical</td><td>EV charging points</td><td>EV</td><td>Publicly availabl...</td><td>2010</td><td>charging points</td><td>1</td></tr>\n",
              "<tr><td>max</td><td>United Kingdom</td><td>Historical</td><td>EV charging points</td><td>EV</td><td>Publicly availabl...</td><td>2022</td><td>charging points</td><td>10000000149011600</td></tr>\n",
              "</table>\n"
            ]
          },
          "metadata": {},
          "execution_count": 15
        }
      ]
    },
    {
      "cell_type": "code",
      "source": [
        "# Todos os tipos de dados presentes\n",
        "tiposDados = df.dtypes\n",
        "tiposDados"
      ],
      "metadata": {
        "id": "fsZ6_xn6mGo3",
        "colab": {
          "base_uri": "https://localhost:8080/"
        },
        "outputId": "d60290c8-a819-4937-f03e-0e7a14a0f482"
      },
      "execution_count": null,
      "outputs": [
        {
          "output_type": "execute_result",
          "data": {
            "text/plain": [
              "[('region', 'string'),\n",
              " ('category', 'string'),\n",
              " ('parameter', 'string'),\n",
              " ('mode', 'string'),\n",
              " ('powertrain', 'string'),\n",
              " ('year', 'bigint'),\n",
              " ('unit', 'string'),\n",
              " ('value', 'bigint')]"
            ]
          },
          "metadata": {},
          "execution_count": 16
        }
      ]
    },
    {
      "cell_type": "markdown",
      "source": [
        "### Limpeza de Dados\n",
        "Remover dados duplicados, corrigir erros de digitação, tratar dados inconsistentes etc."
      ],
      "metadata": {
        "id": "2OIPr02e1w5B"
      }
    },
    {
      "cell_type": "markdown",
      "source": [
        "Valores distintos"
      ],
      "metadata": {
        "id": "cnpifyo6Nbhw"
      }
    },
    {
      "cell_type": "code",
      "source": [
        "# Verificar valores distintos por colunas\n",
        "lista_distintos = [F.approx_count_distinct(col).alias(col) for col in df.columns]\n",
        "df_distintos = df.agg(*lista_distintos)\n",
        "display(df_distintos)"
      ],
      "metadata": {
        "id": "Bbj-7zCn2Fee",
        "colab": {
          "base_uri": "https://localhost:8080/",
          "height": 67
        },
        "outputId": "f95eb097-6a0b-4aa8-bdc6-97ff52242fe7"
      },
      "execution_count": null,
      "outputs": [
        {
          "output_type": "display_data",
          "data": {
            "text/plain": [
              "+------+--------+---------+----+----------+----+----+-----+\n",
              "|region|category|parameter|mode|powertrain|year|unit|value|\n",
              "+------+--------+---------+----+----------+----+----+-----+\n",
              "|    33|       1|        1|   1|         2|  13|   1|  231|\n",
              "+------+--------+---------+----+----------+----+----+-----+"
            ],
            "text/html": [
              "<table border='1'>\n",
              "<tr><th>region</th><th>category</th><th>parameter</th><th>mode</th><th>powertrain</th><th>year</th><th>unit</th><th>value</th></tr>\n",
              "<tr><td>33</td><td>1</td><td>1</td><td>1</td><td>2</td><td>13</td><td>1</td><td>231</td></tr>\n",
              "</table>\n"
            ]
          },
          "metadata": {}
        }
      ]
    },
    {
      "cell_type": "code",
      "source": [
        "df_contagem_ptrain = df.groupby('powertrain').count().orderBy(F.col('count').desc())\n",
        "df_contagem_ptrain.show(truncate=False)"
      ],
      "metadata": {
        "colab": {
          "base_uri": "https://localhost:8080/"
        },
        "id": "iHHdpgG6NaFl",
        "outputId": "a0366fa9-05d1-4417-8448-85b1d6381e9f"
      },
      "execution_count": null,
      "outputs": [
        {
          "output_type": "stream",
          "name": "stdout",
          "text": [
            "+-----------------------+-----+\n",
            "|powertrain             |count|\n",
            "+-----------------------+-----+\n",
            "|Publicly available slow|304  |\n",
            "|Publicly available fast|300  |\n",
            "+-----------------------+-----+\n",
            "\n"
          ]
        }
      ]
    },
    {
      "cell_type": "code",
      "source": [
        "df_contagem_region = df.groupby('region').count().orderBy(F.col('count').desc())\n",
        "df_contagem_region.show(100)"
      ],
      "metadata": {
        "colab": {
          "base_uri": "https://localhost:8080/"
        },
        "id": "0rFRMvJySI0u",
        "outputId": "44a04d2f-25c4-4fb4-97e1-b4afc9ede026"
      },
      "execution_count": null,
      "outputs": [
        {
          "output_type": "stream",
          "name": "stdout",
          "text": [
            "+--------------+-----+\n",
            "|        region|count|\n",
            "+--------------+-----+\n",
            "|        Norway|   25|\n",
            "|         Chile|   24|\n",
            "|      Portugal|   24|\n",
            "|       Austria|   24|\n",
            "|   Netherlands|   24|\n",
            "|United Kingdom|   23|\n",
            "|       Germany|   22|\n",
            "|         Italy|   22|\n",
            "|   Switzerland|   22|\n",
            "|        Canada|   22|\n",
            "|         Japan|   22|\n",
            "|        France|   22|\n",
            "|       Denmark|   22|\n",
            "|         Spain|   21|\n",
            "|           USA|   21|\n",
            "|       Belgium|   20|\n",
            "|       Finland|   20|\n",
            "|        Greece|   19|\n",
            "|         China|   18|\n",
            "|        Poland|   18|\n",
            "|       Turkiye|   17|\n",
            "|       Iceland|   17|\n",
            "|        Sweden|   16|\n",
            "|        Mexico|   15|\n",
            "|        Israel|   14|\n",
            "|         Korea|   14|\n",
            "|         India|   13|\n",
            "|      Thailand|   12|\n",
            "|     Australia|   12|\n",
            "|  South Africa|   12|\n",
            "|   New Zealand|   11|\n",
            "|        Brazil|   10|\n",
            "|     Indonesia|    6|\n",
            "+--------------+-----+\n",
            "\n"
          ]
        }
      ]
    },
    {
      "cell_type": "code",
      "source": [
        "df_contagem_year = df.groupby('year').count().orderBy(F.col('count').desc())\n",
        "df_contagem_year"
      ],
      "metadata": {
        "colab": {
          "base_uri": "https://localhost:8080/",
          "height": 342
        },
        "id": "7vwOW0ZWSIn9",
        "outputId": "7d8852bb-c0e7-4d3e-83cf-26adbf5f4643"
      },
      "execution_count": null,
      "outputs": [
        {
          "output_type": "execute_result",
          "data": {
            "text/plain": [
              "+----+-----+\n",
              "|year|count|\n",
              "+----+-----+\n",
              "|2022|   66|\n",
              "|2021|   65|\n",
              "|2020|   65|\n",
              "|2019|   64|\n",
              "|2018|   64|\n",
              "|2017|   61|\n",
              "|2016|   52|\n",
              "|2015|   47|\n",
              "|2014|   42|\n",
              "|2013|   35|\n",
              "|2012|   27|\n",
              "|2011|   12|\n",
              "|2010|    4|\n",
              "+----+-----+"
            ],
            "text/html": [
              "<table border='1'>\n",
              "<tr><th>year</th><th>count</th></tr>\n",
              "<tr><td>2022</td><td>66</td></tr>\n",
              "<tr><td>2021</td><td>65</td></tr>\n",
              "<tr><td>2020</td><td>65</td></tr>\n",
              "<tr><td>2018</td><td>64</td></tr>\n",
              "<tr><td>2019</td><td>64</td></tr>\n",
              "<tr><td>2017</td><td>61</td></tr>\n",
              "<tr><td>2016</td><td>52</td></tr>\n",
              "<tr><td>2015</td><td>47</td></tr>\n",
              "<tr><td>2014</td><td>42</td></tr>\n",
              "<tr><td>2013</td><td>35</td></tr>\n",
              "<tr><td>2012</td><td>27</td></tr>\n",
              "<tr><td>2011</td><td>12</td></tr>\n",
              "<tr><td>2010</td><td>4</td></tr>\n",
              "</table>\n"
            ]
          },
          "metadata": {},
          "execution_count": 20
        }
      ]
    },
    {
      "cell_type": "code",
      "source": [
        "df_contagem_value = df.groupby('value').count().where((F.col('value')> 1000000))\n",
        "df_contagem_value"
      ],
      "metadata": {
        "colab": {
          "base_uri": "https://localhost:8080/",
          "height": 90
        },
        "id": "4o07rWogTrdI",
        "outputId": "ac6e244e-b3d4-4a9c-de77-182c9a90a489"
      },
      "execution_count": null,
      "outputs": [
        {
          "output_type": "execute_result",
          "data": {
            "text/plain": [
              "+-----------------+-----+\n",
              "|            value|count|\n",
              "+-----------------+-----+\n",
              "|10000000149011600|   32|\n",
              "| 4900000095367430|    5|\n",
              "+-----------------+-----+"
            ],
            "text/html": [
              "<table border='1'>\n",
              "<tr><th>value</th><th>count</th></tr>\n",
              "<tr><td>10000000149011600</td><td>32</td></tr>\n",
              "<tr><td>4900000095367430</td><td>5</td></tr>\n",
              "</table>\n"
            ]
          },
          "metadata": {},
          "execution_count": 21
        }
      ]
    },
    {
      "cell_type": "markdown",
      "source": [
        "Valores Nulos"
      ],
      "metadata": {
        "id": "TlaYgFOSNgL4"
      }
    },
    {
      "cell_type": "code",
      "source": [
        "# Verificar se há valores nulos/ausentes\n",
        "lista_nulos = [F.sum(F.when(F.col(c).isNull(), 1).otherwise(0)).alias(c) for c in df.columns]\n",
        "df_nulos = df.agg(*lista_nulos)\n",
        "display(df_nulos)"
      ],
      "metadata": {
        "id": "ByCYsxjVrNy4",
        "colab": {
          "base_uri": "https://localhost:8080/",
          "height": 67
        },
        "outputId": "745241b1-fa0b-43ff-8b52-b16995c18590"
      },
      "execution_count": null,
      "outputs": [
        {
          "output_type": "display_data",
          "data": {
            "text/plain": [
              "+------+--------+---------+----+----------+----+----+-----+\n",
              "|region|category|parameter|mode|powertrain|year|unit|value|\n",
              "+------+--------+---------+----+----------+----+----+-----+\n",
              "|     0|       0|        0|   0|         0|   0|   0|    0|\n",
              "+------+--------+---------+----+----------+----+----+-----+"
            ],
            "text/html": [
              "<table border='1'>\n",
              "<tr><th>region</th><th>category</th><th>parameter</th><th>mode</th><th>powertrain</th><th>year</th><th>unit</th><th>value</th></tr>\n",
              "<tr><td>0</td><td>0</td><td>0</td><td>0</td><td>0</td><td>0</td><td>0</td><td>0</td></tr>\n",
              "</table>\n"
            ]
          },
          "metadata": {}
        }
      ]
    },
    {
      "cell_type": "markdown",
      "source": [
        "### Normalização de Dados\n",
        "Colocar os dados em um formato padronizado para facilitar a análise."
      ],
      "metadata": {
        "id": "FG2L2jSi2Alp"
      }
    },
    {
      "cell_type": "markdown",
      "source": [
        "Renomeando"
      ],
      "metadata": {
        "id": "PlcatBQq-QkD"
      }
    },
    {
      "cell_type": "code",
      "source": [
        "df_br = df"
      ],
      "metadata": {
        "id": "rVB3T2O0GZyH"
      },
      "execution_count": null,
      "outputs": []
    },
    {
      "cell_type": "code",
      "source": [
        "# Renomeando registros do dataframe\n",
        "\n",
        "traducao = {\n",
        "    'Publicly available slow': 'LENTO',\n",
        "    'Publicly available fast': 'RAPIDO',\n",
        "    \"Sweden\": \"SUECIA\",\n",
        "    \"Germany\": \"ALEMANHA\",\n",
        "    \"France\": \"FRANCA\",\n",
        "    \"Greece\": \"GRECIA\",\n",
        "    \"Belgium\": \"BELGICA\",\n",
        "    \"Finland\": \"FINLANDIA\",\n",
        "    \"China\": \"CHINA\",\n",
        "    \"India\": \"INDIA\",\n",
        "    \"Chile\": \"CHILE\",\n",
        "    \"Italy\": \"ITALIA\",\n",
        "    \"Norway\": \"NORUEGA\",\n",
        "    \"Spain\": \"ESPANHA\",\n",
        "    \"Denmark\": \"DINAMARCA\",\n",
        "    \"Thailand\": \"TAILANDIA\",\n",
        "    \"Iceland\": \"ISLANDIA\",\n",
        "    \"Israel\": \"ISRAEL\",\n",
        "    \"USA\": \"ESTADOS UNIDOS\",\n",
        "    \"Mexico\": \"MEXICO\",\n",
        "    \"Indonesia\": \"INDONESIA\",\n",
        "    \"Switzerland\": \"SUIÇA\",\n",
        "    \"Turkiye\": \"TURQUIA\",\n",
        "    \"Canada\": \"CANADA\",\n",
        "    \"Brazil\": \"BRASIL\",\n",
        "    \"Japan\": \"JAPAO\",\n",
        "    \"New Zealand\": \"NOVA ZELANDIA\",\n",
        "    \"Poland\": \"POLONIA\",\n",
        "    \"Portugal\": \"PORTUGAL\",\n",
        "    \"Australia\": \"AUSTRALIA\",\n",
        "    \"Austria\": \"AUSTRIA\",\n",
        "    \"Korea\": \"COREIA\",\n",
        "    \"South Africa\": \"AFRICA DO SUL\",\n",
        "    \"United Kingdom\": \"REINO UNIDO\",\n",
        "    \"Netherlands\": \"PAISES BAIXOS\",\n",
        "    \"Historical\": \"HISTORICO\",\n",
        "    \"charging points\": \"PONTOS DE CARREGAMENTO\",\n",
        "    \"EV charging points\": \"PONTOS DE CARREGAMENTO VEICULAR\",\n",
        "    \"EV\": \"VEICULOS ELETRICOS\"\n",
        "}\n",
        "\n",
        "for i in df_br.columns:\n",
        "    df_br = df_br.withColumn(i, F.coalesce(*(F.when(F.col(i) == value, F.lit(traducao[value])) for value in traducao.keys()), F.col(i)))"
      ],
      "metadata": {
        "id": "PPPWrxZi7HFW"
      },
      "execution_count": null,
      "outputs": []
    },
    {
      "cell_type": "code",
      "source": [
        "df_br.show(100, truncate = False)"
      ],
      "metadata": {
        "colab": {
          "base_uri": "https://localhost:8080/"
        },
        "id": "H1uExGVsGFJ5",
        "outputId": "44286444-86ec-46eb-fd04-f52c0657a6be"
      },
      "execution_count": null,
      "outputs": [
        {
          "output_type": "stream",
          "name": "stdout",
          "text": [
            "+---------+---------+-------------------------------+------------------+----------+----+----------------------+-----------------+\n",
            "|region   |category |parameter                      |mode              |powertrain|year|unit                  |value            |\n",
            "+---------+---------+-------------------------------+------------------+----------+----+----------------------+-----------------+\n",
            "|AUSTRALIA|HISTORICO|PONTOS DE CARREGAMENTO VEICULAR|VEICULOS ELETRICOS|RAPIDO    |2017|PONTOS DE CARREGAMENTO|40               |\n",
            "|AUSTRALIA|HISTORICO|PONTOS DE CARREGAMENTO VEICULAR|VEICULOS ELETRICOS|LENTO     |2017|PONTOS DE CARREGAMENTO|440              |\n",
            "|AUSTRALIA|HISTORICO|PONTOS DE CARREGAMENTO VEICULAR|VEICULOS ELETRICOS|RAPIDO    |2018|PONTOS DE CARREGAMENTO|61               |\n",
            "|AUSTRALIA|HISTORICO|PONTOS DE CARREGAMENTO VEICULAR|VEICULOS ELETRICOS|LENTO     |2018|PONTOS DE CARREGAMENTO|670              |\n",
            "|AUSTRALIA|HISTORICO|PONTOS DE CARREGAMENTO VEICULAR|VEICULOS ELETRICOS|RAPIDO    |2019|PONTOS DE CARREGAMENTO|250              |\n",
            "|AUSTRALIA|HISTORICO|PONTOS DE CARREGAMENTO VEICULAR|VEICULOS ELETRICOS|LENTO     |2019|PONTOS DE CARREGAMENTO|1700             |\n",
            "|AUSTRALIA|HISTORICO|PONTOS DE CARREGAMENTO VEICULAR|VEICULOS ELETRICOS|RAPIDO    |2020|PONTOS DE CARREGAMENTO|350              |\n",
            "|AUSTRALIA|HISTORICO|PONTOS DE CARREGAMENTO VEICULAR|VEICULOS ELETRICOS|LENTO     |2020|PONTOS DE CARREGAMENTO|2000             |\n",
            "|AUSTRALIA|HISTORICO|PONTOS DE CARREGAMENTO VEICULAR|VEICULOS ELETRICOS|RAPIDO    |2021|PONTOS DE CARREGAMENTO|320              |\n",
            "|AUSTRALIA|HISTORICO|PONTOS DE CARREGAMENTO VEICULAR|VEICULOS ELETRICOS|LENTO     |2021|PONTOS DE CARREGAMENTO|2000             |\n",
            "|AUSTRALIA|HISTORICO|PONTOS DE CARREGAMENTO VEICULAR|VEICULOS ELETRICOS|RAPIDO    |2022|PONTOS DE CARREGAMENTO|470              |\n",
            "|AUSTRALIA|HISTORICO|PONTOS DE CARREGAMENTO VEICULAR|VEICULOS ELETRICOS|LENTO     |2022|PONTOS DE CARREGAMENTO|2100             |\n",
            "|AUSTRIA  |HISTORICO|PONTOS DE CARREGAMENTO VEICULAR|VEICULOS ELETRICOS|RAPIDO    |2011|PONTOS DE CARREGAMENTO|10000000149011600|\n",
            "|AUSTRIA  |HISTORICO|PONTOS DE CARREGAMENTO VEICULAR|VEICULOS ELETRICOS|LENTO     |2011|PONTOS DE CARREGAMENTO|10000000149011600|\n",
            "|AUSTRIA  |HISTORICO|PONTOS DE CARREGAMENTO VEICULAR|VEICULOS ELETRICOS|RAPIDO    |2012|PONTOS DE CARREGAMENTO|10000000149011600|\n",
            "|AUSTRIA  |HISTORICO|PONTOS DE CARREGAMENTO VEICULAR|VEICULOS ELETRICOS|LENTO     |2012|PONTOS DE CARREGAMENTO|10000000149011600|\n",
            "|AUSTRIA  |HISTORICO|PONTOS DE CARREGAMENTO VEICULAR|VEICULOS ELETRICOS|RAPIDO    |2013|PONTOS DE CARREGAMENTO|10000000149011600|\n",
            "|AUSTRIA  |HISTORICO|PONTOS DE CARREGAMENTO VEICULAR|VEICULOS ELETRICOS|LENTO     |2013|PONTOS DE CARREGAMENTO|10000000149011600|\n",
            "|AUSTRIA  |HISTORICO|PONTOS DE CARREGAMENTO VEICULAR|VEICULOS ELETRICOS|RAPIDO    |2014|PONTOS DE CARREGAMENTO|10000000149011600|\n",
            "|AUSTRIA  |HISTORICO|PONTOS DE CARREGAMENTO VEICULAR|VEICULOS ELETRICOS|LENTO     |2014|PONTOS DE CARREGAMENTO|10000000149011600|\n",
            "|AUSTRIA  |HISTORICO|PONTOS DE CARREGAMENTO VEICULAR|VEICULOS ELETRICOS|RAPIDO    |2015|PONTOS DE CARREGAMENTO|10000000149011600|\n",
            "|AUSTRIA  |HISTORICO|PONTOS DE CARREGAMENTO VEICULAR|VEICULOS ELETRICOS|LENTO     |2015|PONTOS DE CARREGAMENTO|10000000149011600|\n",
            "|AUSTRIA  |HISTORICO|PONTOS DE CARREGAMENTO VEICULAR|VEICULOS ELETRICOS|RAPIDO    |2016|PONTOS DE CARREGAMENTO|10000000149011600|\n",
            "|AUSTRIA  |HISTORICO|PONTOS DE CARREGAMENTO VEICULAR|VEICULOS ELETRICOS|LENTO     |2016|PONTOS DE CARREGAMENTO|10000000149011600|\n",
            "|AUSTRIA  |HISTORICO|PONTOS DE CARREGAMENTO VEICULAR|VEICULOS ELETRICOS|RAPIDO    |2017|PONTOS DE CARREGAMENTO|10000000149011600|\n",
            "|AUSTRIA  |HISTORICO|PONTOS DE CARREGAMENTO VEICULAR|VEICULOS ELETRICOS|LENTO     |2017|PONTOS DE CARREGAMENTO|10000000149011600|\n",
            "|AUSTRIA  |HISTORICO|PONTOS DE CARREGAMENTO VEICULAR|VEICULOS ELETRICOS|RAPIDO    |2018|PONTOS DE CARREGAMENTO|10000000149011600|\n",
            "|AUSTRIA  |HISTORICO|PONTOS DE CARREGAMENTO VEICULAR|VEICULOS ELETRICOS|LENTO     |2018|PONTOS DE CARREGAMENTO|10000000149011600|\n",
            "|AUSTRIA  |HISTORICO|PONTOS DE CARREGAMENTO VEICULAR|VEICULOS ELETRICOS|RAPIDO    |2019|PONTOS DE CARREGAMENTO|10000000149011600|\n",
            "|AUSTRIA  |HISTORICO|PONTOS DE CARREGAMENTO VEICULAR|VEICULOS ELETRICOS|LENTO     |2019|PONTOS DE CARREGAMENTO|10000000149011600|\n",
            "|AUSTRIA  |HISTORICO|PONTOS DE CARREGAMENTO VEICULAR|VEICULOS ELETRICOS|RAPIDO    |2020|PONTOS DE CARREGAMENTO|10000000149011600|\n",
            "|AUSTRIA  |HISTORICO|PONTOS DE CARREGAMENTO VEICULAR|VEICULOS ELETRICOS|LENTO     |2020|PONTOS DE CARREGAMENTO|10000000149011600|\n",
            "|AUSTRIA  |HISTORICO|PONTOS DE CARREGAMENTO VEICULAR|VEICULOS ELETRICOS|RAPIDO    |2021|PONTOS DE CARREGAMENTO|1600             |\n",
            "|AUSTRIA  |HISTORICO|PONTOS DE CARREGAMENTO VEICULAR|VEICULOS ELETRICOS|LENTO     |2021|PONTOS DE CARREGAMENTO|8900             |\n",
            "|AUSTRIA  |HISTORICO|PONTOS DE CARREGAMENTO VEICULAR|VEICULOS ELETRICOS|RAPIDO    |2022|PONTOS DE CARREGAMENTO|2600             |\n",
            "|AUSTRIA  |HISTORICO|PONTOS DE CARREGAMENTO VEICULAR|VEICULOS ELETRICOS|LENTO     |2022|PONTOS DE CARREGAMENTO|13000            |\n",
            "|BELGICA  |HISTORICO|PONTOS DE CARREGAMENTO VEICULAR|VEICULOS ELETRICOS|RAPIDO    |2013|PONTOS DE CARREGAMENTO|47               |\n",
            "|BELGICA  |HISTORICO|PONTOS DE CARREGAMENTO VEICULAR|VEICULOS ELETRICOS|LENTO     |2013|PONTOS DE CARREGAMENTO|330              |\n",
            "|BELGICA  |HISTORICO|PONTOS DE CARREGAMENTO VEICULAR|VEICULOS ELETRICOS|RAPIDO    |2014|PONTOS DE CARREGAMENTO|55               |\n",
            "|BELGICA  |HISTORICO|PONTOS DE CARREGAMENTO VEICULAR|VEICULOS ELETRICOS|LENTO     |2014|PONTOS DE CARREGAMENTO|560              |\n",
            "|BELGICA  |HISTORICO|PONTOS DE CARREGAMENTO VEICULAR|VEICULOS ELETRICOS|RAPIDO    |2015|PONTOS DE CARREGAMENTO|77               |\n",
            "|BELGICA  |HISTORICO|PONTOS DE CARREGAMENTO VEICULAR|VEICULOS ELETRICOS|LENTO     |2015|PONTOS DE CARREGAMENTO|1300             |\n",
            "|BELGICA  |HISTORICO|PONTOS DE CARREGAMENTO VEICULAR|VEICULOS ELETRICOS|RAPIDO    |2016|PONTOS DE CARREGAMENTO|110              |\n",
            "|BELGICA  |HISTORICO|PONTOS DE CARREGAMENTO VEICULAR|VEICULOS ELETRICOS|LENTO     |2016|PONTOS DE CARREGAMENTO|1500             |\n",
            "|BELGICA  |HISTORICO|PONTOS DE CARREGAMENTO VEICULAR|VEICULOS ELETRICOS|RAPIDO    |2017|PONTOS DE CARREGAMENTO|220              |\n",
            "|BELGICA  |HISTORICO|PONTOS DE CARREGAMENTO VEICULAR|VEICULOS ELETRICOS|LENTO     |2017|PONTOS DE CARREGAMENTO|1500             |\n",
            "|BELGICA  |HISTORICO|PONTOS DE CARREGAMENTO VEICULAR|VEICULOS ELETRICOS|RAPIDO    |2018|PONTOS DE CARREGAMENTO|240              |\n",
            "|BELGICA  |HISTORICO|PONTOS DE CARREGAMENTO VEICULAR|VEICULOS ELETRICOS|LENTO     |2018|PONTOS DE CARREGAMENTO|2700             |\n",
            "|BELGICA  |HISTORICO|PONTOS DE CARREGAMENTO VEICULAR|VEICULOS ELETRICOS|RAPIDO    |2019|PONTOS DE CARREGAMENTO|360              |\n",
            "|BELGICA  |HISTORICO|PONTOS DE CARREGAMENTO VEICULAR|VEICULOS ELETRICOS|LENTO     |2019|PONTOS DE CARREGAMENTO|6100             |\n",
            "|BELGICA  |HISTORICO|PONTOS DE CARREGAMENTO VEICULAR|VEICULOS ELETRICOS|RAPIDO    |2020|PONTOS DE CARREGAMENTO|480              |\n",
            "|BELGICA  |HISTORICO|PONTOS DE CARREGAMENTO VEICULAR|VEICULOS ELETRICOS|LENTO     |2020|PONTOS DE CARREGAMENTO|8000             |\n",
            "|BELGICA  |HISTORICO|PONTOS DE CARREGAMENTO VEICULAR|VEICULOS ELETRICOS|RAPIDO    |2021|PONTOS DE CARREGAMENTO|790              |\n",
            "|BELGICA  |HISTORICO|PONTOS DE CARREGAMENTO VEICULAR|VEICULOS ELETRICOS|LENTO     |2021|PONTOS DE CARREGAMENTO|12000            |\n",
            "|BELGICA  |HISTORICO|PONTOS DE CARREGAMENTO VEICULAR|VEICULOS ELETRICOS|RAPIDO    |2022|PONTOS DE CARREGAMENTO|1100             |\n",
            "|BELGICA  |HISTORICO|PONTOS DE CARREGAMENTO VEICULAR|VEICULOS ELETRICOS|LENTO     |2022|PONTOS DE CARREGAMENTO|23000            |\n",
            "|BRASIL   |HISTORICO|PONTOS DE CARREGAMENTO VEICULAR|VEICULOS ELETRICOS|RAPIDO    |2018|PONTOS DE CARREGAMENTO|4900000095367430 |\n",
            "|BRASIL   |HISTORICO|PONTOS DE CARREGAMENTO VEICULAR|VEICULOS ELETRICOS|LENTO     |2018|PONTOS DE CARREGAMENTO|450              |\n",
            "|BRASIL   |HISTORICO|PONTOS DE CARREGAMENTO VEICULAR|VEICULOS ELETRICOS|RAPIDO    |2019|PONTOS DE CARREGAMENTO|4900000095367430 |\n",
            "|BRASIL   |HISTORICO|PONTOS DE CARREGAMENTO VEICULAR|VEICULOS ELETRICOS|LENTO     |2019|PONTOS DE CARREGAMENTO|450              |\n",
            "|BRASIL   |HISTORICO|PONTOS DE CARREGAMENTO VEICULAR|VEICULOS ELETRICOS|RAPIDO    |2020|PONTOS DE CARREGAMENTO|4900000095367430 |\n",
            "|BRASIL   |HISTORICO|PONTOS DE CARREGAMENTO VEICULAR|VEICULOS ELETRICOS|LENTO     |2020|PONTOS DE CARREGAMENTO|450              |\n",
            "|BRASIL   |HISTORICO|PONTOS DE CARREGAMENTO VEICULAR|VEICULOS ELETRICOS|RAPIDO    |2021|PONTOS DE CARREGAMENTO|4900000095367430 |\n",
            "|BRASIL   |HISTORICO|PONTOS DE CARREGAMENTO VEICULAR|VEICULOS ELETRICOS|LENTO     |2021|PONTOS DE CARREGAMENTO|700              |\n",
            "|BRASIL   |HISTORICO|PONTOS DE CARREGAMENTO VEICULAR|VEICULOS ELETRICOS|RAPIDO    |2022|PONTOS DE CARREGAMENTO|4900000095367430 |\n",
            "|BRASIL   |HISTORICO|PONTOS DE CARREGAMENTO VEICULAR|VEICULOS ELETRICOS|LENTO     |2022|PONTOS DE CARREGAMENTO|1200             |\n",
            "|CANADA   |HISTORICO|PONTOS DE CARREGAMENTO VEICULAR|VEICULOS ELETRICOS|RAPIDO    |2012|PONTOS DE CARREGAMENTO|2                |\n",
            "|CANADA   |HISTORICO|PONTOS DE CARREGAMENTO VEICULAR|VEICULOS ELETRICOS|LENTO     |2012|PONTOS DE CARREGAMENTO|720              |\n",
            "|CANADA   |HISTORICO|PONTOS DE CARREGAMENTO VEICULAR|VEICULOS ELETRICOS|RAPIDO    |2013|PONTOS DE CARREGAMENTO|7                |\n",
            "|CANADA   |HISTORICO|PONTOS DE CARREGAMENTO VEICULAR|VEICULOS ELETRICOS|LENTO     |2013|PONTOS DE CARREGAMENTO|1200             |\n",
            "|CANADA   |HISTORICO|PONTOS DE CARREGAMENTO VEICULAR|VEICULOS ELETRICOS|RAPIDO    |2014|PONTOS DE CARREGAMENTO|55               |\n",
            "|CANADA   |HISTORICO|PONTOS DE CARREGAMENTO VEICULAR|VEICULOS ELETRICOS|LENTO     |2014|PONTOS DE CARREGAMENTO|2300             |\n",
            "|CANADA   |HISTORICO|PONTOS DE CARREGAMENTO VEICULAR|VEICULOS ELETRICOS|RAPIDO    |2015|PONTOS DE CARREGAMENTO|63               |\n",
            "|CANADA   |HISTORICO|PONTOS DE CARREGAMENTO VEICULAR|VEICULOS ELETRICOS|LENTO     |2015|PONTOS DE CARREGAMENTO|3400             |\n",
            "|CANADA   |HISTORICO|PONTOS DE CARREGAMENTO VEICULAR|VEICULOS ELETRICOS|RAPIDO    |2016|PONTOS DE CARREGAMENTO|140              |\n",
            "|CANADA   |HISTORICO|PONTOS DE CARREGAMENTO VEICULAR|VEICULOS ELETRICOS|LENTO     |2016|PONTOS DE CARREGAMENTO|3900             |\n",
            "|CANADA   |HISTORICO|PONTOS DE CARREGAMENTO VEICULAR|VEICULOS ELETRICOS|RAPIDO    |2017|PONTOS DE CARREGAMENTO|670              |\n",
            "|CANADA   |HISTORICO|PONTOS DE CARREGAMENTO VEICULAR|VEICULOS ELETRICOS|LENTO     |2017|PONTOS DE CARREGAMENTO|5200             |\n",
            "|CANADA   |HISTORICO|PONTOS DE CARREGAMENTO VEICULAR|VEICULOS ELETRICOS|RAPIDO    |2018|PONTOS DE CARREGAMENTO|840              |\n",
            "|CANADA   |HISTORICO|PONTOS DE CARREGAMENTO VEICULAR|VEICULOS ELETRICOS|LENTO     |2018|PONTOS DE CARREGAMENTO|7100             |\n",
            "|CANADA   |HISTORICO|PONTOS DE CARREGAMENTO VEICULAR|VEICULOS ELETRICOS|RAPIDO    |2019|PONTOS DE CARREGAMENTO|980              |\n",
            "|CANADA   |HISTORICO|PONTOS DE CARREGAMENTO VEICULAR|VEICULOS ELETRICOS|LENTO     |2019|PONTOS DE CARREGAMENTO|8000             |\n",
            "|CANADA   |HISTORICO|PONTOS DE CARREGAMENTO VEICULAR|VEICULOS ELETRICOS|RAPIDO    |2020|PONTOS DE CARREGAMENTO|2300             |\n",
            "|CANADA   |HISTORICO|PONTOS DE CARREGAMENTO VEICULAR|VEICULOS ELETRICOS|LENTO     |2020|PONTOS DE CARREGAMENTO|11000            |\n",
            "|CANADA   |HISTORICO|PONTOS DE CARREGAMENTO VEICULAR|VEICULOS ELETRICOS|RAPIDO    |2021|PONTOS DE CARREGAMENTO|3100             |\n",
            "|CANADA   |HISTORICO|PONTOS DE CARREGAMENTO VEICULAR|VEICULOS ELETRICOS|LENTO     |2021|PONTOS DE CARREGAMENTO|12000            |\n",
            "|CANADA   |HISTORICO|PONTOS DE CARREGAMENTO VEICULAR|VEICULOS ELETRICOS|RAPIDO    |2022|PONTOS DE CARREGAMENTO|3900             |\n",
            "|CANADA   |HISTORICO|PONTOS DE CARREGAMENTO VEICULAR|VEICULOS ELETRICOS|LENTO     |2022|PONTOS DE CARREGAMENTO|17000            |\n",
            "|CHILE    |HISTORICO|PONTOS DE CARREGAMENTO VEICULAR|VEICULOS ELETRICOS|RAPIDO    |2011|PONTOS DE CARREGAMENTO|1                |\n",
            "|CHILE    |HISTORICO|PONTOS DE CARREGAMENTO VEICULAR|VEICULOS ELETRICOS|LENTO     |2011|PONTOS DE CARREGAMENTO|1                |\n",
            "|CHILE    |HISTORICO|PONTOS DE CARREGAMENTO VEICULAR|VEICULOS ELETRICOS|RAPIDO    |2012|PONTOS DE CARREGAMENTO|4                |\n",
            "|CHILE    |HISTORICO|PONTOS DE CARREGAMENTO VEICULAR|VEICULOS ELETRICOS|LENTO     |2012|PONTOS DE CARREGAMENTO|6                |\n",
            "|CHILE    |HISTORICO|PONTOS DE CARREGAMENTO VEICULAR|VEICULOS ELETRICOS|RAPIDO    |2013|PONTOS DE CARREGAMENTO|5                |\n",
            "|CHILE    |HISTORICO|PONTOS DE CARREGAMENTO VEICULAR|VEICULOS ELETRICOS|LENTO     |2013|PONTOS DE CARREGAMENTO|8                |\n",
            "|CHILE    |HISTORICO|PONTOS DE CARREGAMENTO VEICULAR|VEICULOS ELETRICOS|RAPIDO    |2014|PONTOS DE CARREGAMENTO|5                |\n",
            "|CHILE    |HISTORICO|PONTOS DE CARREGAMENTO VEICULAR|VEICULOS ELETRICOS|LENTO     |2014|PONTOS DE CARREGAMENTO|13               |\n",
            "|CHILE    |HISTORICO|PONTOS DE CARREGAMENTO VEICULAR|VEICULOS ELETRICOS|RAPIDO    |2015|PONTOS DE CARREGAMENTO|5                |\n",
            "|CHILE    |HISTORICO|PONTOS DE CARREGAMENTO VEICULAR|VEICULOS ELETRICOS|LENTO     |2015|PONTOS DE CARREGAMENTO|22               |\n",
            "|CHILE    |HISTORICO|PONTOS DE CARREGAMENTO VEICULAR|VEICULOS ELETRICOS|RAPIDO    |2016|PONTOS DE CARREGAMENTO|5                |\n",
            "|CHILE    |HISTORICO|PONTOS DE CARREGAMENTO VEICULAR|VEICULOS ELETRICOS|LENTO     |2016|PONTOS DE CARREGAMENTO|22               |\n",
            "+---------+---------+-------------------------------+------------------+----------+----+----------------------+-----------------+\n",
            "only showing top 100 rows\n",
            "\n"
          ]
        }
      ]
    },
    {
      "cell_type": "code",
      "source": [
        "# tradução das colunas do dataframe\n",
        "df_br = df_br.withColumnRenamed(\"region\", \"pais\")\\\n",
        "             .withColumnRenamed(\"category\", \"categoria\")\\\n",
        "             .withColumnRenamed(\"parameter\", \"parametro\")\\\n",
        "             .withColumnRenamed(\"mode\", \"veiculo\")\\\n",
        "             .withColumnRenamed(\"powertrain\", \"carregamento\")\\\n",
        "             .withColumnRenamed(\"unit\", \"unidade\")\\\n",
        "             .withColumn(\"valor\", F.col(\"value\").cast(\"long\"))\\\n",
        "             .withColumn(\"ano\", F.col(\"year\").cast(\"int\"))"
      ],
      "metadata": {
        "id": "lSzEaIDJVIeP"
      },
      "execution_count": null,
      "outputs": []
    },
    {
      "cell_type": "code",
      "source": [
        "df_br.dtypes"
      ],
      "metadata": {
        "id": "QUEdMMi1ux3U",
        "colab": {
          "base_uri": "https://localhost:8080/"
        },
        "outputId": "777b6aa7-7edf-4537-f414-a4cd221a84b4"
      },
      "execution_count": null,
      "outputs": [
        {
          "output_type": "execute_result",
          "data": {
            "text/plain": [
              "[('pais', 'string'),\n",
              " ('categoria', 'string'),\n",
              " ('parametro', 'string'),\n",
              " ('veiculo', 'string'),\n",
              " ('carregamento', 'string'),\n",
              " ('year', 'string'),\n",
              " ('unidade', 'string'),\n",
              " ('value', 'string'),\n",
              " ('valor', 'bigint'),\n",
              " ('ano', 'int')]"
            ]
          },
          "metadata": {},
          "execution_count": 27
        }
      ]
    },
    {
      "cell_type": "code",
      "source": [
        "df_br = df_br.drop('year', 'value')"
      ],
      "metadata": {
        "id": "Tx6lJI3Tu_ON"
      },
      "execution_count": null,
      "outputs": []
    },
    {
      "cell_type": "code",
      "source": [
        "df_br.show(100)"
      ],
      "metadata": {
        "id": "NEPLM1LOvSMC",
        "colab": {
          "base_uri": "https://localhost:8080/"
        },
        "outputId": "c173e616-092d-46ea-abdc-b971bac89f09"
      },
      "execution_count": null,
      "outputs": [
        {
          "output_type": "stream",
          "name": "stdout",
          "text": [
            "+---------+---------+--------------------+------------------+------------+--------------------+-----------------+----+\n",
            "|     pais|categoria|           parametro|           veiculo|carregamento|             unidade|            valor| ano|\n",
            "+---------+---------+--------------------+------------------+------------+--------------------+-----------------+----+\n",
            "|AUSTRALIA|HISTORICO|PONTOS DE CARREGA...|VEICULOS ELETRICOS|      RAPIDO|PONTOS DE CARREGA...|               40|2017|\n",
            "|AUSTRALIA|HISTORICO|PONTOS DE CARREGA...|VEICULOS ELETRICOS|       LENTO|PONTOS DE CARREGA...|              440|2017|\n",
            "|AUSTRALIA|HISTORICO|PONTOS DE CARREGA...|VEICULOS ELETRICOS|      RAPIDO|PONTOS DE CARREGA...|               61|2018|\n",
            "|AUSTRALIA|HISTORICO|PONTOS DE CARREGA...|VEICULOS ELETRICOS|       LENTO|PONTOS DE CARREGA...|              670|2018|\n",
            "|AUSTRALIA|HISTORICO|PONTOS DE CARREGA...|VEICULOS ELETRICOS|      RAPIDO|PONTOS DE CARREGA...|              250|2019|\n",
            "|AUSTRALIA|HISTORICO|PONTOS DE CARREGA...|VEICULOS ELETRICOS|       LENTO|PONTOS DE CARREGA...|             1700|2019|\n",
            "|AUSTRALIA|HISTORICO|PONTOS DE CARREGA...|VEICULOS ELETRICOS|      RAPIDO|PONTOS DE CARREGA...|              350|2020|\n",
            "|AUSTRALIA|HISTORICO|PONTOS DE CARREGA...|VEICULOS ELETRICOS|       LENTO|PONTOS DE CARREGA...|             2000|2020|\n",
            "|AUSTRALIA|HISTORICO|PONTOS DE CARREGA...|VEICULOS ELETRICOS|      RAPIDO|PONTOS DE CARREGA...|              320|2021|\n",
            "|AUSTRALIA|HISTORICO|PONTOS DE CARREGA...|VEICULOS ELETRICOS|       LENTO|PONTOS DE CARREGA...|             2000|2021|\n",
            "|AUSTRALIA|HISTORICO|PONTOS DE CARREGA...|VEICULOS ELETRICOS|      RAPIDO|PONTOS DE CARREGA...|              470|2022|\n",
            "|AUSTRALIA|HISTORICO|PONTOS DE CARREGA...|VEICULOS ELETRICOS|       LENTO|PONTOS DE CARREGA...|             2100|2022|\n",
            "|  AUSTRIA|HISTORICO|PONTOS DE CARREGA...|VEICULOS ELETRICOS|      RAPIDO|PONTOS DE CARREGA...|10000000149011600|2011|\n",
            "|  AUSTRIA|HISTORICO|PONTOS DE CARREGA...|VEICULOS ELETRICOS|       LENTO|PONTOS DE CARREGA...|10000000149011600|2011|\n",
            "|  AUSTRIA|HISTORICO|PONTOS DE CARREGA...|VEICULOS ELETRICOS|      RAPIDO|PONTOS DE CARREGA...|10000000149011600|2012|\n",
            "|  AUSTRIA|HISTORICO|PONTOS DE CARREGA...|VEICULOS ELETRICOS|       LENTO|PONTOS DE CARREGA...|10000000149011600|2012|\n",
            "|  AUSTRIA|HISTORICO|PONTOS DE CARREGA...|VEICULOS ELETRICOS|      RAPIDO|PONTOS DE CARREGA...|10000000149011600|2013|\n",
            "|  AUSTRIA|HISTORICO|PONTOS DE CARREGA...|VEICULOS ELETRICOS|       LENTO|PONTOS DE CARREGA...|10000000149011600|2013|\n",
            "|  AUSTRIA|HISTORICO|PONTOS DE CARREGA...|VEICULOS ELETRICOS|      RAPIDO|PONTOS DE CARREGA...|10000000149011600|2014|\n",
            "|  AUSTRIA|HISTORICO|PONTOS DE CARREGA...|VEICULOS ELETRICOS|       LENTO|PONTOS DE CARREGA...|10000000149011600|2014|\n",
            "|  AUSTRIA|HISTORICO|PONTOS DE CARREGA...|VEICULOS ELETRICOS|      RAPIDO|PONTOS DE CARREGA...|10000000149011600|2015|\n",
            "|  AUSTRIA|HISTORICO|PONTOS DE CARREGA...|VEICULOS ELETRICOS|       LENTO|PONTOS DE CARREGA...|10000000149011600|2015|\n",
            "|  AUSTRIA|HISTORICO|PONTOS DE CARREGA...|VEICULOS ELETRICOS|      RAPIDO|PONTOS DE CARREGA...|10000000149011600|2016|\n",
            "|  AUSTRIA|HISTORICO|PONTOS DE CARREGA...|VEICULOS ELETRICOS|       LENTO|PONTOS DE CARREGA...|10000000149011600|2016|\n",
            "|  AUSTRIA|HISTORICO|PONTOS DE CARREGA...|VEICULOS ELETRICOS|      RAPIDO|PONTOS DE CARREGA...|10000000149011600|2017|\n",
            "|  AUSTRIA|HISTORICO|PONTOS DE CARREGA...|VEICULOS ELETRICOS|       LENTO|PONTOS DE CARREGA...|10000000149011600|2017|\n",
            "|  AUSTRIA|HISTORICO|PONTOS DE CARREGA...|VEICULOS ELETRICOS|      RAPIDO|PONTOS DE CARREGA...|10000000149011600|2018|\n",
            "|  AUSTRIA|HISTORICO|PONTOS DE CARREGA...|VEICULOS ELETRICOS|       LENTO|PONTOS DE CARREGA...|10000000149011600|2018|\n",
            "|  AUSTRIA|HISTORICO|PONTOS DE CARREGA...|VEICULOS ELETRICOS|      RAPIDO|PONTOS DE CARREGA...|10000000149011600|2019|\n",
            "|  AUSTRIA|HISTORICO|PONTOS DE CARREGA...|VEICULOS ELETRICOS|       LENTO|PONTOS DE CARREGA...|10000000149011600|2019|\n",
            "|  AUSTRIA|HISTORICO|PONTOS DE CARREGA...|VEICULOS ELETRICOS|      RAPIDO|PONTOS DE CARREGA...|10000000149011600|2020|\n",
            "|  AUSTRIA|HISTORICO|PONTOS DE CARREGA...|VEICULOS ELETRICOS|       LENTO|PONTOS DE CARREGA...|10000000149011600|2020|\n",
            "|  AUSTRIA|HISTORICO|PONTOS DE CARREGA...|VEICULOS ELETRICOS|      RAPIDO|PONTOS DE CARREGA...|             1600|2021|\n",
            "|  AUSTRIA|HISTORICO|PONTOS DE CARREGA...|VEICULOS ELETRICOS|       LENTO|PONTOS DE CARREGA...|             8900|2021|\n",
            "|  AUSTRIA|HISTORICO|PONTOS DE CARREGA...|VEICULOS ELETRICOS|      RAPIDO|PONTOS DE CARREGA...|             2600|2022|\n",
            "|  AUSTRIA|HISTORICO|PONTOS DE CARREGA...|VEICULOS ELETRICOS|       LENTO|PONTOS DE CARREGA...|            13000|2022|\n",
            "|  BELGICA|HISTORICO|PONTOS DE CARREGA...|VEICULOS ELETRICOS|      RAPIDO|PONTOS DE CARREGA...|               47|2013|\n",
            "|  BELGICA|HISTORICO|PONTOS DE CARREGA...|VEICULOS ELETRICOS|       LENTO|PONTOS DE CARREGA...|              330|2013|\n",
            "|  BELGICA|HISTORICO|PONTOS DE CARREGA...|VEICULOS ELETRICOS|      RAPIDO|PONTOS DE CARREGA...|               55|2014|\n",
            "|  BELGICA|HISTORICO|PONTOS DE CARREGA...|VEICULOS ELETRICOS|       LENTO|PONTOS DE CARREGA...|              560|2014|\n",
            "|  BELGICA|HISTORICO|PONTOS DE CARREGA...|VEICULOS ELETRICOS|      RAPIDO|PONTOS DE CARREGA...|               77|2015|\n",
            "|  BELGICA|HISTORICO|PONTOS DE CARREGA...|VEICULOS ELETRICOS|       LENTO|PONTOS DE CARREGA...|             1300|2015|\n",
            "|  BELGICA|HISTORICO|PONTOS DE CARREGA...|VEICULOS ELETRICOS|      RAPIDO|PONTOS DE CARREGA...|              110|2016|\n",
            "|  BELGICA|HISTORICO|PONTOS DE CARREGA...|VEICULOS ELETRICOS|       LENTO|PONTOS DE CARREGA...|             1500|2016|\n",
            "|  BELGICA|HISTORICO|PONTOS DE CARREGA...|VEICULOS ELETRICOS|      RAPIDO|PONTOS DE CARREGA...|              220|2017|\n",
            "|  BELGICA|HISTORICO|PONTOS DE CARREGA...|VEICULOS ELETRICOS|       LENTO|PONTOS DE CARREGA...|             1500|2017|\n",
            "|  BELGICA|HISTORICO|PONTOS DE CARREGA...|VEICULOS ELETRICOS|      RAPIDO|PONTOS DE CARREGA...|              240|2018|\n",
            "|  BELGICA|HISTORICO|PONTOS DE CARREGA...|VEICULOS ELETRICOS|       LENTO|PONTOS DE CARREGA...|             2700|2018|\n",
            "|  BELGICA|HISTORICO|PONTOS DE CARREGA...|VEICULOS ELETRICOS|      RAPIDO|PONTOS DE CARREGA...|              360|2019|\n",
            "|  BELGICA|HISTORICO|PONTOS DE CARREGA...|VEICULOS ELETRICOS|       LENTO|PONTOS DE CARREGA...|             6100|2019|\n",
            "|  BELGICA|HISTORICO|PONTOS DE CARREGA...|VEICULOS ELETRICOS|      RAPIDO|PONTOS DE CARREGA...|              480|2020|\n",
            "|  BELGICA|HISTORICO|PONTOS DE CARREGA...|VEICULOS ELETRICOS|       LENTO|PONTOS DE CARREGA...|             8000|2020|\n",
            "|  BELGICA|HISTORICO|PONTOS DE CARREGA...|VEICULOS ELETRICOS|      RAPIDO|PONTOS DE CARREGA...|              790|2021|\n",
            "|  BELGICA|HISTORICO|PONTOS DE CARREGA...|VEICULOS ELETRICOS|       LENTO|PONTOS DE CARREGA...|            12000|2021|\n",
            "|  BELGICA|HISTORICO|PONTOS DE CARREGA...|VEICULOS ELETRICOS|      RAPIDO|PONTOS DE CARREGA...|             1100|2022|\n",
            "|  BELGICA|HISTORICO|PONTOS DE CARREGA...|VEICULOS ELETRICOS|       LENTO|PONTOS DE CARREGA...|            23000|2022|\n",
            "|   BRASIL|HISTORICO|PONTOS DE CARREGA...|VEICULOS ELETRICOS|      RAPIDO|PONTOS DE CARREGA...| 4900000095367430|2018|\n",
            "|   BRASIL|HISTORICO|PONTOS DE CARREGA...|VEICULOS ELETRICOS|       LENTO|PONTOS DE CARREGA...|              450|2018|\n",
            "|   BRASIL|HISTORICO|PONTOS DE CARREGA...|VEICULOS ELETRICOS|      RAPIDO|PONTOS DE CARREGA...| 4900000095367430|2019|\n",
            "|   BRASIL|HISTORICO|PONTOS DE CARREGA...|VEICULOS ELETRICOS|       LENTO|PONTOS DE CARREGA...|              450|2019|\n",
            "|   BRASIL|HISTORICO|PONTOS DE CARREGA...|VEICULOS ELETRICOS|      RAPIDO|PONTOS DE CARREGA...| 4900000095367430|2020|\n",
            "|   BRASIL|HISTORICO|PONTOS DE CARREGA...|VEICULOS ELETRICOS|       LENTO|PONTOS DE CARREGA...|              450|2020|\n",
            "|   BRASIL|HISTORICO|PONTOS DE CARREGA...|VEICULOS ELETRICOS|      RAPIDO|PONTOS DE CARREGA...| 4900000095367430|2021|\n",
            "|   BRASIL|HISTORICO|PONTOS DE CARREGA...|VEICULOS ELETRICOS|       LENTO|PONTOS DE CARREGA...|              700|2021|\n",
            "|   BRASIL|HISTORICO|PONTOS DE CARREGA...|VEICULOS ELETRICOS|      RAPIDO|PONTOS DE CARREGA...| 4900000095367430|2022|\n",
            "|   BRASIL|HISTORICO|PONTOS DE CARREGA...|VEICULOS ELETRICOS|       LENTO|PONTOS DE CARREGA...|             1200|2022|\n",
            "|   CANADA|HISTORICO|PONTOS DE CARREGA...|VEICULOS ELETRICOS|      RAPIDO|PONTOS DE CARREGA...|                2|2012|\n",
            "|   CANADA|HISTORICO|PONTOS DE CARREGA...|VEICULOS ELETRICOS|       LENTO|PONTOS DE CARREGA...|              720|2012|\n",
            "|   CANADA|HISTORICO|PONTOS DE CARREGA...|VEICULOS ELETRICOS|      RAPIDO|PONTOS DE CARREGA...|                7|2013|\n",
            "|   CANADA|HISTORICO|PONTOS DE CARREGA...|VEICULOS ELETRICOS|       LENTO|PONTOS DE CARREGA...|             1200|2013|\n",
            "|   CANADA|HISTORICO|PONTOS DE CARREGA...|VEICULOS ELETRICOS|      RAPIDO|PONTOS DE CARREGA...|               55|2014|\n",
            "|   CANADA|HISTORICO|PONTOS DE CARREGA...|VEICULOS ELETRICOS|       LENTO|PONTOS DE CARREGA...|             2300|2014|\n",
            "|   CANADA|HISTORICO|PONTOS DE CARREGA...|VEICULOS ELETRICOS|      RAPIDO|PONTOS DE CARREGA...|               63|2015|\n",
            "|   CANADA|HISTORICO|PONTOS DE CARREGA...|VEICULOS ELETRICOS|       LENTO|PONTOS DE CARREGA...|             3400|2015|\n",
            "|   CANADA|HISTORICO|PONTOS DE CARREGA...|VEICULOS ELETRICOS|      RAPIDO|PONTOS DE CARREGA...|              140|2016|\n",
            "|   CANADA|HISTORICO|PONTOS DE CARREGA...|VEICULOS ELETRICOS|       LENTO|PONTOS DE CARREGA...|             3900|2016|\n",
            "|   CANADA|HISTORICO|PONTOS DE CARREGA...|VEICULOS ELETRICOS|      RAPIDO|PONTOS DE CARREGA...|              670|2017|\n",
            "|   CANADA|HISTORICO|PONTOS DE CARREGA...|VEICULOS ELETRICOS|       LENTO|PONTOS DE CARREGA...|             5200|2017|\n",
            "|   CANADA|HISTORICO|PONTOS DE CARREGA...|VEICULOS ELETRICOS|      RAPIDO|PONTOS DE CARREGA...|              840|2018|\n",
            "|   CANADA|HISTORICO|PONTOS DE CARREGA...|VEICULOS ELETRICOS|       LENTO|PONTOS DE CARREGA...|             7100|2018|\n",
            "|   CANADA|HISTORICO|PONTOS DE CARREGA...|VEICULOS ELETRICOS|      RAPIDO|PONTOS DE CARREGA...|              980|2019|\n",
            "|   CANADA|HISTORICO|PONTOS DE CARREGA...|VEICULOS ELETRICOS|       LENTO|PONTOS DE CARREGA...|             8000|2019|\n",
            "|   CANADA|HISTORICO|PONTOS DE CARREGA...|VEICULOS ELETRICOS|      RAPIDO|PONTOS DE CARREGA...|             2300|2020|\n",
            "|   CANADA|HISTORICO|PONTOS DE CARREGA...|VEICULOS ELETRICOS|       LENTO|PONTOS DE CARREGA...|            11000|2020|\n",
            "|   CANADA|HISTORICO|PONTOS DE CARREGA...|VEICULOS ELETRICOS|      RAPIDO|PONTOS DE CARREGA...|             3100|2021|\n",
            "|   CANADA|HISTORICO|PONTOS DE CARREGA...|VEICULOS ELETRICOS|       LENTO|PONTOS DE CARREGA...|            12000|2021|\n",
            "|   CANADA|HISTORICO|PONTOS DE CARREGA...|VEICULOS ELETRICOS|      RAPIDO|PONTOS DE CARREGA...|             3900|2022|\n",
            "|   CANADA|HISTORICO|PONTOS DE CARREGA...|VEICULOS ELETRICOS|       LENTO|PONTOS DE CARREGA...|            17000|2022|\n",
            "|    CHILE|HISTORICO|PONTOS DE CARREGA...|VEICULOS ELETRICOS|      RAPIDO|PONTOS DE CARREGA...|                1|2011|\n",
            "|    CHILE|HISTORICO|PONTOS DE CARREGA...|VEICULOS ELETRICOS|       LENTO|PONTOS DE CARREGA...|                1|2011|\n",
            "|    CHILE|HISTORICO|PONTOS DE CARREGA...|VEICULOS ELETRICOS|      RAPIDO|PONTOS DE CARREGA...|                4|2012|\n",
            "|    CHILE|HISTORICO|PONTOS DE CARREGA...|VEICULOS ELETRICOS|       LENTO|PONTOS DE CARREGA...|                6|2012|\n",
            "|    CHILE|HISTORICO|PONTOS DE CARREGA...|VEICULOS ELETRICOS|      RAPIDO|PONTOS DE CARREGA...|                5|2013|\n",
            "|    CHILE|HISTORICO|PONTOS DE CARREGA...|VEICULOS ELETRICOS|       LENTO|PONTOS DE CARREGA...|                8|2013|\n",
            "|    CHILE|HISTORICO|PONTOS DE CARREGA...|VEICULOS ELETRICOS|      RAPIDO|PONTOS DE CARREGA...|                5|2014|\n",
            "|    CHILE|HISTORICO|PONTOS DE CARREGA...|VEICULOS ELETRICOS|       LENTO|PONTOS DE CARREGA...|               13|2014|\n",
            "|    CHILE|HISTORICO|PONTOS DE CARREGA...|VEICULOS ELETRICOS|      RAPIDO|PONTOS DE CARREGA...|                5|2015|\n",
            "|    CHILE|HISTORICO|PONTOS DE CARREGA...|VEICULOS ELETRICOS|       LENTO|PONTOS DE CARREGA...|               22|2015|\n",
            "|    CHILE|HISTORICO|PONTOS DE CARREGA...|VEICULOS ELETRICOS|      RAPIDO|PONTOS DE CARREGA...|                5|2016|\n",
            "|    CHILE|HISTORICO|PONTOS DE CARREGA...|VEICULOS ELETRICOS|       LENTO|PONTOS DE CARREGA...|               22|2016|\n",
            "+---------+---------+--------------------+------------------+------------+--------------------+-----------------+----+\n",
            "only showing top 100 rows\n",
            "\n"
          ]
        }
      ]
    },
    {
      "cell_type": "markdown",
      "source": [
        "# **Qualidade e integridade dos dados**"
      ],
      "metadata": {
        "id": "j6krOtKKvkR-"
      }
    },
    {
      "cell_type": "markdown",
      "source": [
        "### **Validação da estrutura dos dados (schema)**"
      ],
      "metadata": {
        "id": "S03P8PdZwETm"
      }
    },
    {
      "cell_type": "code",
      "source": [
        "# Definindo o esquema de validação e o examinando\n",
        "schemaBR = StructType([ StructField(\"pais\", StringType()),\n",
        "                      StructField(\"categoria\", StringType()),\n",
        "                      StructField(\"parametro\", StringType()),\n",
        "                      StructField(\"veiculo\", StringType()),\n",
        "                      StructField(\"carregamento\", StringType()),\n",
        "                      StructField(\"unidade\", StringType()),\n",
        "                      StructField(\"valor\", LongType()),\n",
        "                      StructField(\"ano\", IntegerType())\n",
        "                      ])\n"
      ],
      "metadata": {
        "id": "pSPVby2swCzm"
      },
      "execution_count": null,
      "outputs": []
    },
    {
      "cell_type": "code",
      "source": [
        "# estabelecendo laço for para quantificar valores nulos de cada coluna\n",
        "nl = [F.sum(\n",
        "            F.when(\n",
        "                    F.col(c).\\\n",
        "                    isNull(), 1)\\\n",
        "            .otherwise(0))\\\n",
        "            .alias(c)\\\n",
        "      for c in df_br.columns]\n",
        "# somando valores nulos encontrados para cada coluna, obtidos através de dicionários e adicionados em listas\n",
        "nulos = sum(\n",
        "            list(\n",
        "                 (\n",
        "                    (df_br.agg(*nl)\n",
        "                    .collect()[0])\n",
        "                    .asDict())\n",
        "                    .values())\n",
        "                    )"
      ],
      "metadata": {
        "id": "YREb3_wL0U-a"
      },
      "execution_count": null,
      "outputs": []
    },
    {
      "cell_type": "code",
      "source": [
        "# validando Schema e valores nulos do dataframe tratado\n",
        "if df_br.schema == schemaBR and nulos == 0:\n",
        "  print( f'VALIDADEO!')\n",
        "else:\n",
        "  print( f'Não validado!')"
      ],
      "metadata": {
        "colab": {
          "base_uri": "https://localhost:8080/"
        },
        "id": "v8UYHGCWvc0S",
        "outputId": "5604383d-3755-49e5-f3aa-f6e9969ddffd"
      },
      "execution_count": null,
      "outputs": [
        {
          "output_type": "stream",
          "name": "stdout",
          "text": [
            "VALIDADO!\n"
          ]
        }
      ]
    },
    {
      "cell_type": "markdown",
      "source": [
        "## **Colunas Persistidas**"
      ],
      "metadata": {
        "id": "JqXejczoZybS"
      }
    },
    {
      "cell_type": "markdown",
      "source": [
        "================================================================================\n",
        "String\n",
        "================================================================================\n",
        "* pais\n",
        "* categoria\n",
        "* parametro\n",
        "* veiculo\n",
        "* carregamento\n",
        "* unidade\n",
        "\n",
        "================================================================================\n",
        "BigInt\n",
        "================================================================================\n",
        "* valor\n",
        "\n",
        "================================================================================\n",
        "Int\n",
        "================================================================================\n",
        "* ano\n"
      ],
      "metadata": {
        "id": "mNOCmwZecd8v"
      }
    },
    {
      "cell_type": "markdown",
      "source": [
        "## Copia de segurança do tratamento - Backup"
      ],
      "metadata": {
        "id": "59UEX6yQCrqX"
      }
    },
    {
      "cell_type": "code",
      "source": [
        "# Backup para analise\n",
        "df_tratado = df_br"
      ],
      "metadata": {
        "id": "kPn9PJEFvtWW"
      },
      "execution_count": null,
      "outputs": []
    },
    {
      "cell_type": "markdown",
      "source": [
        "## Load\n",
        "Depois que os dados são extraídos e transformados adequadamente, eles estarão prontos para as análise, mas antes disso eles precisam ser carregados em um local de armazenamento adequado. Podendo ser um banco de dados SQL ou NoSQL, um sistema de armazenamento em nuvem, e para o caso de disponibilizar o projeto publicamente é ideal que ele seja colocar em uma pasta de datasets, diferenciando o arquivo bruto e o tratado."
      ],
      "metadata": {
        "id": "0hT5rrbf2Xrw"
      }
    },
    {
      "cell_type": "code",
      "source": [
        "# convertendo em um dataframe Pandas\n",
        "gcs = df_br.toPandas()\n",
        "\n",
        "# carregamento no GCS\n",
        "gcs.to_csv('gs://projeto-final-ad2-e8/dados/analise/Analise_dataset_iea_ponto_recarga_pyspark_bruto.csv', index=False)\n",
        "\n",
        "# encerrando o SparkSession\n",
        "spark.stop()"
      ],
      "metadata": {
        "id": "S6385Mam2kko"
      },
      "execution_count": null,
      "outputs": []
    }
  ]
}