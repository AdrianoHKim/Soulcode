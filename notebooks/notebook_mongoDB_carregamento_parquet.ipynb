{
  "nbformat": 4,
  "nbformat_minor": 0,
  "metadata": {
    "colab": {
      "provenance": [],
      "toc_visible": true,
      "include_colab_link": true
    },
    "kernelspec": {
      "name": "python3",
      "display_name": "Python 3"
    },
    "language_info": {
      "name": "python"
    }
  },
  "cells": [
    {
      "cell_type": "markdown",
      "metadata": {
        "id": "view-in-github",
        "colab_type": "text"
      },
      "source": [
        "<a href=\"https://colab.research.google.com/github/squadOito/soulcodead2/blob/joseaureliok%2Fnotebook/notebooks/notebook_mongoDB_carregamento_parquet.ipynb\" target=\"_parent\"><img src=\"https://colab.research.google.com/assets/colab-badge.svg\" alt=\"Open In Colab\"/></a>"
      ]
    },
    {
      "cell_type": "markdown",
      "source": [
        "## **Projeto Final**\n",
        "Escola: SoulCode Academy\n",
        "\n",
        "Curso: Bootcamp Analista de Dados - Martech - AD2\n",
        "\n",
        "**Equipe 08**\n",
        "\n",
        "**Alunos: Adriano Kim, José Aurelio, Marcos Paulo, Paulo Vitorino, Renato e Wesley**\n",
        "\n",
        "Professores: Douglas Ribeiro, Franciane Rodrigues e Jonathas Carneiro"
      ],
      "metadata": {
        "id": "8AvV2uVhNLpj"
      }
    },
    {
      "cell_type": "markdown",
      "source": [
        "## Preparação de Ambiente"
      ],
      "metadata": {
        "id": "L7abbfpEBjvV"
      }
    },
    {
      "cell_type": "code",
      "execution_count": null,
      "metadata": {
        "id": "cGTV4K2w0xhZ"
      },
      "outputs": [],
      "source": [
        "# Instalação bibliotecas\n",
        "!pip install -q pymongo\n",
        "!pip install -q gcsfs"
      ]
    },
    {
      "cell_type": "code",
      "source": [
        "\n",
        "# Importação de bibliotecas\n",
        "import os\n",
        "import pandas as pd\n",
        "import numpy as np\n",
        "\n",
        "from google.colab import data_table\n",
        "from google.cloud import storage\n",
        "from google.colab import drive\n",
        "from google.colab import auth\n",
        "from oauth2client.client import GoogleCredentials\n",
        "from pydrive.auth import GoogleAuth\n",
        "from pydrive.drive import GoogleDrive\n",
        "from pymongo import MongoClient"
      ],
      "metadata": {
        "id": "9PyA1knO9Wau"
      },
      "execution_count": null,
      "outputs": []
    },
    {
      "cell_type": "markdown",
      "source": [
        "### Função Chave"
      ],
      "metadata": {
        "id": "7eOau36HCPyV"
      }
    },
    {
      "cell_type": "code",
      "source": [
        "def connectKey (chave):\n",
        "  '''\n",
        "  Conecta ao drive para obtenção de chave\n",
        "  chave = nome da chave em string\n",
        "  '''\n",
        "  # Cria compartilhamento com Google Drive\n",
        "  drive.mount('/content/drive', force_remount=True)\n",
        "\n",
        "  # Arquivo a ser acessado na pasta compartilhada\n",
        "  target = chave\n",
        "\n",
        "  # Caminho completo da pasta compartilhada\n",
        "  folder = '/content/drive/MyDrive/Classroom/AD2 - Analista de Dados/ProjetoFinal'\n",
        "\n",
        "  # Acesso ao arquivo no colab\n",
        "  return os.path.join(folder, target)\n",
        "\n"
      ],
      "metadata": {
        "id": "friV8C_2CO_I"
      },
      "execution_count": null,
      "outputs": []
    },
    {
      "cell_type": "markdown",
      "source": [
        "### Compartilhamento Chave GDrive"
      ],
      "metadata": {
        "id": "J5R3Nt3Q1er7"
      }
    },
    {
      "cell_type": "code",
      "source": [
        "# Nome da chave a ser acessada\n",
        "chaveGcp = 'projeto-final-ad2-e8-ae566c3a2c2b.json'\n",
        "\n",
        "# Chave GCP\n",
        "serviceAccount = connectKey(chaveGcp)"
      ],
      "metadata": {
        "colab": {
          "base_uri": "https://localhost:8080/"
        },
        "id": "pSoSXbShcQVp",
        "outputId": "0806c7af-aa05-44e9-e15e-5fe873bf9eb8"
      },
      "execution_count": null,
      "outputs": [
        {
          "output_type": "stream",
          "name": "stdout",
          "text": [
            "Mounted at /content/drive\n"
          ]
        }
      ]
    },
    {
      "cell_type": "code",
      "source": [
        "# Nome da chave a ser acessada\n",
        "chaveMongo = 'X509-cert-5608832275999674572.pem'\n",
        "\n",
        "# Chave MongoDB\n",
        "mongoKey = connectKey(chaveMongo)"
      ],
      "metadata": {
        "colab": {
          "base_uri": "https://localhost:8080/"
        },
        "id": "79gLQC6bCE5L",
        "outputId": "99d492b7-2b1d-4a09-cfb1-c98f99955511"
      },
      "execution_count": null,
      "outputs": [
        {
          "output_type": "stream",
          "name": "stdout",
          "text": [
            "Mounted at /content/drive\n"
          ]
        }
      ]
    },
    {
      "cell_type": "markdown",
      "source": [
        "### Configuração Conexão MongoDB"
      ],
      "metadata": {
        "id": "iw_HBWma1nHd"
      }
    },
    {
      "cell_type": "code",
      "source": [
        "# configurando conexão\n",
        "uri = \"mongodb+srv://energy.drstakp.mongodb.net/?authSource=%24external&authMechanism=MONGODB-X509&retryWrites=true&w=majority\"\n",
        "client = MongoClient(uri,\n",
        "\t\t\t\t\t tls=True,\n",
        "\t\t\t\t\t tlsCertificateKeyFile= mongoKey)"
      ],
      "metadata": {
        "id": "Zzgp2wP_J1zP"
      },
      "execution_count": null,
      "outputs": []
    },
    {
      "cell_type": "markdown",
      "source": [
        "### Configuração da bucket"
      ],
      "metadata": {
        "id": "0dZJqZvm1DES"
      }
    },
    {
      "cell_type": "code",
      "source": [
        "# Nome da bucket\n",
        "bucket_name = 'projeto-final-ad2-e8'\n",
        "\n",
        "# Caminho do prefixo\n",
        "prefix_name = 'dados/backup/'"
      ],
      "metadata": {
        "id": "BrCJdqEZb2Hv"
      },
      "execution_count": null,
      "outputs": []
    },
    {
      "cell_type": "code",
      "source": [
        "# Conexão com a conta do Google Cloud\n",
        "os.environ['GOOGLE_APPLICATION_CREDENTIALS'] = serviceAccount"
      ],
      "metadata": {
        "id": "CyymFDdQ2akm"
      },
      "execution_count": null,
      "outputs": []
    },
    {
      "cell_type": "code",
      "source": [
        "# Conexão com a bucket do Google Cloud\n",
        "clientGCP = storage.Client()\n",
        "bucket = clientGCP.get_bucket(bucket_name)"
      ],
      "metadata": {
        "id": "TV-rH7EWbVpm"
      },
      "execution_count": null,
      "outputs": []
    },
    {
      "cell_type": "markdown",
      "source": [
        "### Conjuntos de dados"
      ],
      "metadata": {
        "id": "Aa2mhAJnEEYp"
      }
    },
    {
      "cell_type": "code",
      "source": [
        "# Formatação tabular\n",
        "data_table.enable_dataframe_formatter()\n",
        "\n",
        "#data_table.disable_dataframe_formatter()"
      ],
      "metadata": {
        "id": "bvgEB5V7ZP5a"
      },
      "execution_count": null,
      "outputs": []
    },
    {
      "cell_type": "code",
      "source": [
        "# Listando conjuntos de dados na bucket\n",
        "blobList = [x.name for x in bucket.list_blobs(prefix = prefix_name)]\n",
        "\n",
        "# dataframe lista blobs\n",
        "blobDf = pd.DataFrame(blobList)\n",
        "\n",
        "blobDf"
      ],
      "metadata": {
        "colab": {
          "base_uri": "https://localhost:8080/",
          "height": 402
        },
        "id": "2slicw962vbz",
        "outputId": "18dcd00d-51a0-4c24-b835-85b54380f273"
      },
      "execution_count": null,
      "outputs": [
        {
          "output_type": "execute_result",
          "data": {
            "text/plain": [
              "                                                    0\n",
              "0                                       dados/backup/\n",
              "1   dados/backup/2_1_cap_instalada_por_regiao_e_uf...\n",
              "2   dados/backup/2_2_cap_instalada_de_geracao_elet...\n",
              "3   dados/backup/2_3_geracao_eletrica_por_fonte_gw...\n",
              "4   dados/backup/Veiculos_eletricos_brasil_anfavea...\n",
              "5   dados/backup/Veiculos_eletricos_brasil_anfavea...\n",
              "6     dados/backup/fator_capacidade_mwh_2015_2023.csv\n",
              "7            dados/backup/global_horizontal_means.csv\n",
              "8          dados/backup/iea_ponto_recarga_tratado.csv\n",
              "9               dados/backup/iea_veiculos_tratado.csv\n",
              "10       dados/backup/tratado_geracao_distribuida.csv\n",
              "11   dados/backup/tratado_geracao_distribuida.csv-mdb\n",
              "12  dados/backup/vendas_veiculoseletricosBrasil_20..."
            ],
            "text/html": [
              "\n",
              "\n",
              "  <div id=\"df-aaf9d5e5-47aa-447d-93df-635e098bcb8a\">\n",
              "    <div class=\"colab-df-container\">\n",
              "      <div>\n",
              "<style scoped>\n",
              "    .dataframe tbody tr th:only-of-type {\n",
              "        vertical-align: middle;\n",
              "    }\n",
              "\n",
              "    .dataframe tbody tr th {\n",
              "        vertical-align: top;\n",
              "    }\n",
              "\n",
              "    .dataframe thead th {\n",
              "        text-align: right;\n",
              "    }\n",
              "</style>\n",
              "<table border=\"1\" class=\"dataframe\">\n",
              "  <thead>\n",
              "    <tr style=\"text-align: right;\">\n",
              "      <th></th>\n",
              "      <th>0</th>\n",
              "    </tr>\n",
              "  </thead>\n",
              "  <tbody>\n",
              "    <tr>\n",
              "      <th>0</th>\n",
              "      <td>dados/backup/</td>\n",
              "    </tr>\n",
              "    <tr>\n",
              "      <th>1</th>\n",
              "      <td>dados/backup/2_1_cap_instalada_por_regiao_e_uf...</td>\n",
              "    </tr>\n",
              "    <tr>\n",
              "      <th>2</th>\n",
              "      <td>dados/backup/2_2_cap_instalada_de_geracao_elet...</td>\n",
              "    </tr>\n",
              "    <tr>\n",
              "      <th>3</th>\n",
              "      <td>dados/backup/2_3_geracao_eletrica_por_fonte_gw...</td>\n",
              "    </tr>\n",
              "    <tr>\n",
              "      <th>4</th>\n",
              "      <td>dados/backup/Veiculos_eletricos_brasil_anfavea...</td>\n",
              "    </tr>\n",
              "    <tr>\n",
              "      <th>5</th>\n",
              "      <td>dados/backup/Veiculos_eletricos_brasil_anfavea...</td>\n",
              "    </tr>\n",
              "    <tr>\n",
              "      <th>6</th>\n",
              "      <td>dados/backup/fator_capacidade_mwh_2015_2023.csv</td>\n",
              "    </tr>\n",
              "    <tr>\n",
              "      <th>7</th>\n",
              "      <td>dados/backup/global_horizontal_means.csv</td>\n",
              "    </tr>\n",
              "    <tr>\n",
              "      <th>8</th>\n",
              "      <td>dados/backup/iea_ponto_recarga_tratado.csv</td>\n",
              "    </tr>\n",
              "    <tr>\n",
              "      <th>9</th>\n",
              "      <td>dados/backup/iea_veiculos_tratado.csv</td>\n",
              "    </tr>\n",
              "    <tr>\n",
              "      <th>10</th>\n",
              "      <td>dados/backup/tratado_geracao_distribuida.csv</td>\n",
              "    </tr>\n",
              "    <tr>\n",
              "      <th>11</th>\n",
              "      <td>dados/backup/tratado_geracao_distribuida.csv-mdb</td>\n",
              "    </tr>\n",
              "    <tr>\n",
              "      <th>12</th>\n",
              "      <td>dados/backup/vendas_veiculoseletricosBrasil_20...</td>\n",
              "    </tr>\n",
              "  </tbody>\n",
              "</table>\n",
              "</div>\n",
              "      <button class=\"colab-df-convert\" onclick=\"convertToInteractive('df-aaf9d5e5-47aa-447d-93df-635e098bcb8a')\"\n",
              "              title=\"Convert this dataframe to an interactive table.\"\n",
              "              style=\"display:none;\">\n",
              "\n",
              "  <svg xmlns=\"http://www.w3.org/2000/svg\" height=\"24px\"viewBox=\"0 0 24 24\"\n",
              "       width=\"24px\">\n",
              "    <path d=\"M0 0h24v24H0V0z\" fill=\"none\"/>\n",
              "    <path d=\"M18.56 5.44l.94 2.06.94-2.06 2.06-.94-2.06-.94-.94-2.06-.94 2.06-2.06.94zm-11 1L8.5 8.5l.94-2.06 2.06-.94-2.06-.94L8.5 2.5l-.94 2.06-2.06.94zm10 10l.94 2.06.94-2.06 2.06-.94-2.06-.94-.94-2.06-.94 2.06-2.06.94z\"/><path d=\"M17.41 7.96l-1.37-1.37c-.4-.4-.92-.59-1.43-.59-.52 0-1.04.2-1.43.59L10.3 9.45l-7.72 7.72c-.78.78-.78 2.05 0 2.83L4 21.41c.39.39.9.59 1.41.59.51 0 1.02-.2 1.41-.59l7.78-7.78 2.81-2.81c.8-.78.8-2.07 0-2.86zM5.41 20L4 18.59l7.72-7.72 1.47 1.35L5.41 20z\"/>\n",
              "  </svg>\n",
              "      </button>\n",
              "\n",
              "\n",
              "\n",
              "    <div id=\"df-359f311f-8372-4c61-9e8a-21b762ae5289\">\n",
              "      <button class=\"colab-df-quickchart\" onclick=\"quickchart('df-359f311f-8372-4c61-9e8a-21b762ae5289')\"\n",
              "              title=\"Suggest charts.\"\n",
              "              style=\"display:none;\">\n",
              "\n",
              "<svg xmlns=\"http://www.w3.org/2000/svg\" height=\"24px\"viewBox=\"0 0 24 24\"\n",
              "     width=\"24px\">\n",
              "    <g>\n",
              "        <path d=\"M19 3H5c-1.1 0-2 .9-2 2v14c0 1.1.9 2 2 2h14c1.1 0 2-.9 2-2V5c0-1.1-.9-2-2-2zM9 17H7v-7h2v7zm4 0h-2V7h2v10zm4 0h-2v-4h2v4z\"/>\n",
              "    </g>\n",
              "</svg>\n",
              "      </button>\n",
              "    </div>\n",
              "\n",
              "<style>\n",
              "  .colab-df-quickchart {\n",
              "    background-color: #E8F0FE;\n",
              "    border: none;\n",
              "    border-radius: 50%;\n",
              "    cursor: pointer;\n",
              "    display: none;\n",
              "    fill: #1967D2;\n",
              "    height: 32px;\n",
              "    padding: 0 0 0 0;\n",
              "    width: 32px;\n",
              "  }\n",
              "\n",
              "  .colab-df-quickchart:hover {\n",
              "    background-color: #E2EBFA;\n",
              "    box-shadow: 0px 1px 2px rgba(60, 64, 67, 0.3), 0px 1px 3px 1px rgba(60, 64, 67, 0.15);\n",
              "    fill: #174EA6;\n",
              "  }\n",
              "\n",
              "  [theme=dark] .colab-df-quickchart {\n",
              "    background-color: #3B4455;\n",
              "    fill: #D2E3FC;\n",
              "  }\n",
              "\n",
              "  [theme=dark] .colab-df-quickchart:hover {\n",
              "    background-color: #434B5C;\n",
              "    box-shadow: 0px 1px 3px 1px rgba(0, 0, 0, 0.15);\n",
              "    filter: drop-shadow(0px 1px 2px rgba(0, 0, 0, 0.3));\n",
              "    fill: #FFFFFF;\n",
              "  }\n",
              "</style>\n",
              "\n",
              "    <script>\n",
              "      async function quickchart(key) {\n",
              "        const containerElement = document.querySelector('#' + key);\n",
              "        const charts = await google.colab.kernel.invokeFunction(\n",
              "            'suggestCharts', [key], {});\n",
              "      }\n",
              "    </script>\n",
              "\n",
              "      <script>\n",
              "\n",
              "function displayQuickchartButton(domScope) {\n",
              "  let quickchartButtonEl =\n",
              "    domScope.querySelector('#df-359f311f-8372-4c61-9e8a-21b762ae5289 button.colab-df-quickchart');\n",
              "  quickchartButtonEl.style.display =\n",
              "    google.colab.kernel.accessAllowed ? 'block' : 'none';\n",
              "}\n",
              "\n",
              "        displayQuickchartButton(document);\n",
              "      </script>\n",
              "      <style>\n",
              "    .colab-df-container {\n",
              "      display:flex;\n",
              "      flex-wrap:wrap;\n",
              "      gap: 12px;\n",
              "    }\n",
              "\n",
              "    .colab-df-convert {\n",
              "      background-color: #E8F0FE;\n",
              "      border: none;\n",
              "      border-radius: 50%;\n",
              "      cursor: pointer;\n",
              "      display: none;\n",
              "      fill: #1967D2;\n",
              "      height: 32px;\n",
              "      padding: 0 0 0 0;\n",
              "      width: 32px;\n",
              "    }\n",
              "\n",
              "    .colab-df-convert:hover {\n",
              "      background-color: #E2EBFA;\n",
              "      box-shadow: 0px 1px 2px rgba(60, 64, 67, 0.3), 0px 1px 3px 1px rgba(60, 64, 67, 0.15);\n",
              "      fill: #174EA6;\n",
              "    }\n",
              "\n",
              "    [theme=dark] .colab-df-convert {\n",
              "      background-color: #3B4455;\n",
              "      fill: #D2E3FC;\n",
              "    }\n",
              "\n",
              "    [theme=dark] .colab-df-convert:hover {\n",
              "      background-color: #434B5C;\n",
              "      box-shadow: 0px 1px 3px 1px rgba(0, 0, 0, 0.15);\n",
              "      filter: drop-shadow(0px 1px 2px rgba(0, 0, 0, 0.3));\n",
              "      fill: #FFFFFF;\n",
              "    }\n",
              "  </style>\n",
              "\n",
              "      <script>\n",
              "        const buttonEl =\n",
              "          document.querySelector('#df-aaf9d5e5-47aa-447d-93df-635e098bcb8a button.colab-df-convert');\n",
              "        buttonEl.style.display =\n",
              "          google.colab.kernel.accessAllowed ? 'block' : 'none';\n",
              "\n",
              "        async function convertToInteractive(key) {\n",
              "          const element = document.querySelector('#df-aaf9d5e5-47aa-447d-93df-635e098bcb8a');\n",
              "          const dataTable =\n",
              "            await google.colab.kernel.invokeFunction('convertToInteractive',\n",
              "                                                     [key], {});\n",
              "          if (!dataTable) return;\n",
              "\n",
              "          const docLinkHtml = 'Like what you see? Visit the ' +\n",
              "            '<a target=\"_blank\" href=https://colab.research.google.com/notebooks/data_table.ipynb>data table notebook</a>'\n",
              "            + ' to learn more about interactive tables.';\n",
              "          element.innerHTML = '';\n",
              "          dataTable['output_type'] = 'display_data';\n",
              "          await google.colab.output.renderOutput(dataTable, element);\n",
              "          const docLink = document.createElement('div');\n",
              "          docLink.innerHTML = docLinkHtml;\n",
              "          element.appendChild(docLink);\n",
              "        }\n",
              "      </script>\n",
              "    </div>\n",
              "  </div>\n"
            ],
            "application/vnd.google.colaboratory.module+javascript": "\n      import \"https://ssl.gstatic.com/colaboratory/data_table/881c4a0d49046431/data_table.js\";\n\n      const table = window.createDataTable({\n        data: [[{\n            'v': 0,\n            'f': \"0\",\n        },\n\"dados/backup/\"],\n [{\n            'v': 1,\n            'f': \"1\",\n        },\n\"dados/backup/2_1_cap_instalada_por_regiao_e_uf_tratado.xlsx\"],\n [{\n            'v': 2,\n            'f': \"2\",\n        },\n\"dados/backup/2_2_cap_instalada_de_geracao_eletrica_por_fonte_mw.csv\"],\n [{\n            'v': 3,\n            'f': \"3\",\n        },\n\"dados/backup/2_3_geracao_eletrica_por_fonte_gwh_tratado.xlsx\"],\n [{\n            'v': 4,\n            'f': \"4\",\n        },\n\"dados/backup/Veiculos_eletricos_brasil_anfavea_2012_2023_crescimento.csv\"],\n [{\n            'v': 5,\n            'f': \"5\",\n        },\n\"dados/backup/Veiculos_eletricos_brasil_anfavea_2012_2023_tratado.csv\"],\n [{\n            'v': 6,\n            'f': \"6\",\n        },\n\"dados/backup/fator_capacidade_mwh_2015_2023.csv\"],\n [{\n            'v': 7,\n            'f': \"7\",\n        },\n\"dados/backup/global_horizontal_means.csv\"],\n [{\n            'v': 8,\n            'f': \"8\",\n        },\n\"dados/backup/iea_ponto_recarga_tratado.csv\"],\n [{\n            'v': 9,\n            'f': \"9\",\n        },\n\"dados/backup/iea_veiculos_tratado.csv\"],\n [{\n            'v': 10,\n            'f': \"10\",\n        },\n\"dados/backup/tratado_geracao_distribuida.csv\"],\n [{\n            'v': 11,\n            'f': \"11\",\n        },\n\"dados/backup/tratado_geracao_distribuida.csv-mdb\"],\n [{\n            'v': 12,\n            'f': \"12\",\n        },\n\"dados/backup/vendas_veiculoseletricosBrasil_2012_2023.csv\"]],\n        columns: [[\"number\", \"index\"], [\"string\", \"0\"]],\n        columnOptions: [{\"width\": \"1px\", \"className\": \"index_column\"}],\n        rowsPerPage: 25,\n        helpUrl: \"https://colab.research.google.com/notebooks/data_table.ipynb\",\n        suppressOutputScrolling: true,\n        minimumWidth: undefined,\n      });\n      \n      function appendQuickchartButton(parentElement) {\n        let quickchartButtonContainerElement = document.createElement('div');\n        quickchartButtonContainerElement.innerHTML = `\n    <div id=\"df-4c3c4f21-8a50-4ea4-b12d-ee43dfd1e348\">\n      <button class=\"colab-df-quickchart\" onclick=\"quickchart('df-4c3c4f21-8a50-4ea4-b12d-ee43dfd1e348')\"\n              title=\"Suggest charts.\"\n              style=\"display:none;\">\n\n<svg xmlns=\"http://www.w3.org/2000/svg\" height=\"24px\"viewBox=\"0 0 24 24\"\n     width=\"24px\">\n    <g>\n        <path d=\"M19 3H5c-1.1 0-2 .9-2 2v14c0 1.1.9 2 2 2h14c1.1 0 2-.9 2-2V5c0-1.1-.9-2-2-2zM9 17H7v-7h2v7zm4 0h-2V7h2v10zm4 0h-2v-4h2v4z\"/>\n    </g>\n</svg>\n      </button>\n    </div>\n\n<style>\n  .colab-df-quickchart {\n    background-color: #E8F0FE;\n    border: none;\n    border-radius: 50%;\n    cursor: pointer;\n    display: none;\n    fill: #1967D2;\n    height: 32px;\n    padding: 0 0 0 0;\n    width: 32px;\n  }\n\n  .colab-df-quickchart:hover {\n    background-color: #E2EBFA;\n    box-shadow: 0px 1px 2px rgba(60, 64, 67, 0.3), 0px 1px 3px 1px rgba(60, 64, 67, 0.15);\n    fill: #174EA6;\n  }\n\n  [theme=dark] .colab-df-quickchart {\n    background-color: #3B4455;\n    fill: #D2E3FC;\n  }\n\n  [theme=dark] .colab-df-quickchart:hover {\n    background-color: #434B5C;\n    box-shadow: 0px 1px 3px 1px rgba(0, 0, 0, 0.15);\n    filter: drop-shadow(0px 1px 2px rgba(0, 0, 0, 0.3));\n    fill: #FFFFFF;\n  }\n</style>\n\n    <script>\n      async function quickchart(key) {\n        const containerElement = document.querySelector('#' + key);\n        const charts = await google.colab.kernel.invokeFunction(\n            'suggestCharts', [key], {});\n      }\n    </script>\n`;\n        parentElement.appendChild(quickchartButtonContainerElement);\n        \nfunction displayQuickchartButton(domScope) {\n  let quickchartButtonEl =\n    domScope.querySelector('#df-4c3c4f21-8a50-4ea4-b12d-ee43dfd1e348 button.colab-df-quickchart');\n  quickchartButtonEl.style.display =\n    google.colab.kernel.accessAllowed ? 'block' : 'none';\n}\n\n        displayQuickchartButton(parentElement);\n      }\n\n      appendQuickchartButton(table);\n    "
          },
          "metadata": {},
          "execution_count": 28
        }
      ]
    },
    {
      "cell_type": "markdown",
      "source": [
        "### Seleção do conjunto de dados"
      ],
      "metadata": {
        "id": "QH7YW34taBbR"
      }
    },
    {
      "cell_type": "code",
      "source": [
        "# Seleção do arquivo parquet\n",
        "listaDf = [blobDf[0][1],\n",
        "           blobDf[0][2],\n",
        "           blobDf[0][3],\n",
        "           blobDf[0][4],\n",
        "           blobDf[0][6],\n",
        "           blobDf[0][7],\n",
        "           blobDf[0][8],\n",
        "           blobDf[0][10]\n",
        "]"
      ],
      "metadata": {
        "id": "AfirjFTfUiae"
      },
      "execution_count": null,
      "outputs": []
    },
    {
      "cell_type": "code",
      "source": [
        "listaDf"
      ],
      "metadata": {
        "colab": {
          "base_uri": "https://localhost:8080/"
        },
        "id": "W53Qzs6kWkgS",
        "outputId": "59cc1c43-86ef-48ed-b10e-ee1400a2db7a"
      },
      "execution_count": null,
      "outputs": [
        {
          "output_type": "execute_result",
          "data": {
            "text/plain": [
              "['dados/backup/2_1_cap_instalada_por_regiao_e_uf_tratado.xlsx',\n",
              " 'dados/backup/2_2_cap_instalada_de_geracao_eletrica_por_fonte_mw.csv',\n",
              " 'dados/backup/2_3_geracao_eletrica_por_fonte_gwh_tratado.xlsx',\n",
              " 'dados/backup/Veiculos_eletricos_brasil_anfavea_2012_2023_crescimento.csv',\n",
              " 'dados/backup/fator_capacidade_mwh_2015_2023.csv',\n",
              " 'dados/backup/global_horizontal_means.csv',\n",
              " 'dados/backup/iea_ponto_recarga_tratado.csv',\n",
              " 'dados/backup/tratado_geracao_distribuida.csv']"
            ]
          },
          "metadata": {},
          "execution_count": 30
        }
      ]
    },
    {
      "cell_type": "code",
      "source": [
        "# Caminho gsutil do arquivo\n",
        "\n",
        "pathC = {\n",
        "        'instalada_fonte' : f'gs://{bucket_name}/{listaDf[1]}',\n",
        "        'veiculos_anfavea' : f'gs://{bucket_name}/{listaDf[3]}',\n",
        "        'fator_capacidade' : f'gs://{bucket_name}/{listaDf[4]}',\n",
        "        'global_means' : f'gs://{bucket_name}/{listaDf[5]}',\n",
        "        'iea_ponto_recarga' : f'gs://{bucket_name}/{listaDf[6]}',\n",
        "        'geracao_distribuida' : f'gs://{bucket_name}/{listaDf[7]}'\n",
        "}\n",
        "\n",
        "pathE = {\n",
        "        'instalada_regiao' : f'gs://{bucket_name}/{listaDf[0]}',\n",
        "        'geracao_eletrica_fonte' : f'gs://{bucket_name}/{listaDf[2]}'\n",
        "}"
      ],
      "metadata": {
        "id": "_f15se_jLs3O"
      },
      "execution_count": null,
      "outputs": []
    },
    {
      "cell_type": "markdown",
      "source": [
        "## Collection"
      ],
      "metadata": {
        "id": "ou_IzTfq4yPg"
      }
    },
    {
      "cell_type": "code",
      "source": [
        "# Criando instância client\n",
        "db = client['backup_tratados']\n",
        "\n",
        "# Criando coleções\n",
        "collection_csv = db['csv']\n",
        "collection_excel = db['excel']"
      ],
      "metadata": {
        "id": "b6LpBr6b44hb"
      },
      "execution_count": null,
      "outputs": []
    },
    {
      "cell_type": "markdown",
      "source": [
        "### Verificação"
      ],
      "metadata": {
        "id": "hosXMRiXEg57"
      }
    },
    {
      "cell_type": "code",
      "source": [
        "# Verificando valores no MongoDB\n",
        "doc_count_csv = collection_csv.count_documents({})\n",
        "doc_count_excel = collection_excel.count_documents({})\n",
        "\n",
        "print( f'\\n-CSV: {doc_count_csv} \\n-EXCEL: {doc_count_excel}')"
      ],
      "metadata": {
        "id": "taBeCO0_6b6u",
        "colab": {
          "base_uri": "https://localhost:8080/"
        },
        "outputId": "50e6ed68-5095-4233-cee0-68a155f7d9f0"
      },
      "execution_count": null,
      "outputs": [
        {
          "output_type": "stream",
          "name": "stdout",
          "text": [
            "\n",
            "-CSV: 0 \n",
            "-EXCEL: 0\n"
          ]
        }
      ]
    },
    {
      "cell_type": "markdown",
      "source": [
        "## Integração Google Cloud Storage - MongoDB"
      ],
      "metadata": {
        "id": "wgXTwxQXBMjK"
      }
    },
    {
      "cell_type": "markdown",
      "source": [
        "### Extração da bucket"
      ],
      "metadata": {
        "id": "1RUCtvRBEXmM"
      }
    },
    {
      "cell_type": "markdown",
      "source": [
        "#### CSV"
      ],
      "metadata": {
        "id": "8XcfkS118xSJ"
      }
    },
    {
      "cell_type": "code",
      "source": [
        "dictC = {}\n",
        "\n",
        "for k, v in pathC.items():\n",
        "  dfC = pd.read_parquet(v)\n",
        "\n",
        "  dictC[k] = dfC\n",
        "\n",
        "print('Done')"
      ],
      "metadata": {
        "id": "NZqEm8rfEXEm",
        "colab": {
          "base_uri": "https://localhost:8080/"
        },
        "outputId": "323216f0-2812-4b5e-be3d-6e474ff7d36c"
      },
      "execution_count": null,
      "outputs": [
        {
          "output_type": "stream",
          "name": "stdout",
          "text": [
            "Done\n"
          ]
        }
      ]
    },
    {
      "cell_type": "markdown",
      "source": [
        "#### EXCEL"
      ],
      "metadata": {
        "id": "TNO_tv1h8xvw"
      }
    },
    {
      "cell_type": "code",
      "source": [
        "dictE = {}\n",
        "\n",
        "for k, v in pathE.items():\n",
        "  dfE = pd.read_parquet(v)\n",
        "\n",
        "  dictE[k] = dfE\n",
        "\n",
        "print('Done')"
      ],
      "metadata": {
        "id": "cOy59X6_oo7l",
        "colab": {
          "base_uri": "https://localhost:8080/"
        },
        "outputId": "0090c1fa-2a89-444c-c7d3-1c958faa6f9d"
      },
      "execution_count": null,
      "outputs": [
        {
          "output_type": "stream",
          "name": "stdout",
          "text": [
            "Done\n"
          ]
        }
      ]
    },
    {
      "cell_type": "markdown",
      "source": [
        "### Carregamento na coleção"
      ],
      "metadata": {
        "id": "8hpjeOytDGkp"
      }
    },
    {
      "cell_type": "code",
      "source": [
        "# geracao_eletrica_fonte\n",
        "collection_excel.insert_many(dictE['geracao_eletrica_fonte'].to_dict(\"records\"))\n",
        "\n",
        "print('Done')"
      ],
      "metadata": {
        "id": "sN3wH7I0jzNU",
        "outputId": "593197dd-fa60-4267-f56b-df9ac0368f8e",
        "colab": {
          "base_uri": "https://localhost:8080/"
        }
      },
      "execution_count": null,
      "outputs": [
        {
          "output_type": "stream",
          "name": "stdout",
          "text": [
            "Done\n"
          ]
        }
      ]
    },
    {
      "cell_type": "code",
      "source": [
        "# instalada_regiao\n",
        "collection_excel.insert_many(dictE['instalada_regiao'].to_dict(\"records\"))\n",
        "\n",
        "print('Done')"
      ],
      "metadata": {
        "id": "w7uDoSsZg476",
        "outputId": "16df17e9-27db-42f0-8b83-697464c56e94",
        "colab": {
          "base_uri": "https://localhost:8080/"
        }
      },
      "execution_count": null,
      "outputs": [
        {
          "output_type": "stream",
          "name": "stdout",
          "text": [
            "Done\n"
          ]
        }
      ]
    },
    {
      "cell_type": "code",
      "source": [
        "# instalada_fonte\n",
        "collection_csv.insert_many(dictC['instalada_fonte'].to_dict(\"records\"))\n",
        "\n",
        "print('Done')"
      ],
      "metadata": {
        "id": "2Sm9ebJwg8D9",
        "outputId": "f34fcb89-5dff-4e56-fdca-40392db1fea5",
        "colab": {
          "base_uri": "https://localhost:8080/"
        }
      },
      "execution_count": null,
      "outputs": [
        {
          "output_type": "stream",
          "name": "stdout",
          "text": [
            "Done\n"
          ]
        }
      ]
    },
    {
      "cell_type": "code",
      "source": [
        "# veiculos_anfavea\n",
        "collection_csv.insert_many(dictC['veiculos_anfavea'].to_dict(\"records\"))\n",
        "\n",
        "print('Done')"
      ],
      "metadata": {
        "id": "CZ67JymzhnYm",
        "outputId": "b25c2c89-b5a2-410e-fbcb-77afef9d0211",
        "colab": {
          "base_uri": "https://localhost:8080/"
        }
      },
      "execution_count": null,
      "outputs": [
        {
          "output_type": "stream",
          "name": "stdout",
          "text": [
            "Done\n"
          ]
        }
      ]
    },
    {
      "cell_type": "code",
      "source": [
        "# global_means\n",
        "collection_csv.insert_many(dictC['global_means'].to_dict(\"records\"))\n",
        "\n",
        "print('Done')"
      ],
      "metadata": {
        "id": "MMRhN2ntC1qJ",
        "colab": {
          "base_uri": "https://localhost:8080/"
        },
        "outputId": "0841ba8c-2a3a-495c-827b-b15ae80642a8"
      },
      "execution_count": null,
      "outputs": [
        {
          "output_type": "stream",
          "name": "stdout",
          "text": [
            "Done\n"
          ]
        }
      ]
    },
    {
      "cell_type": "code",
      "source": [
        "# iea_ponto_recarga\n",
        "collection_csv.insert_many(dictC['iea_ponto_recarga'].to_dict(\"records\"))\n",
        "\n",
        "print('Done')"
      ],
      "metadata": {
        "id": "C3xxUQeuh1Vv",
        "outputId": "c8fc993d-e65e-4613-b345-1cd39701167f",
        "colab": {
          "base_uri": "https://localhost:8080/"
        }
      },
      "execution_count": null,
      "outputs": [
        {
          "output_type": "stream",
          "name": "stdout",
          "text": [
            "Done\n"
          ]
        }
      ]
    },
    {
      "cell_type": "code",
      "source": [
        "# fator_capacidade\n",
        "collection_csv.insert_many(dictC['fator_capacidade'].to_dict(\"records\"))\n",
        "\n",
        "print('Done')"
      ],
      "metadata": {
        "id": "-aPg-yxrh0QM",
        "outputId": "5f59aa5f-648c-4d9a-da1e-780ca5844bd9",
        "colab": {
          "base_uri": "https://localhost:8080/"
        }
      },
      "execution_count": null,
      "outputs": [
        {
          "output_type": "stream",
          "name": "stdout",
          "text": [
            "Done\n"
          ]
        }
      ]
    },
    {
      "cell_type": "code",
      "source": [
        "# geracao_distribuida\n",
        "collection_csv.insert_many(dictC['geracao_distribuida'].to_dict(\"records\"))\n",
        "\n",
        "print('Done')"
      ],
      "metadata": {
        "id": "gai9gTDdh01G",
        "outputId": "62916299-7cf9-4ec9-f435-30780aa352bd",
        "colab": {
          "base_uri": "https://localhost:8080/"
        }
      },
      "execution_count": null,
      "outputs": [
        {
          "output_type": "stream",
          "name": "stdout",
          "text": [
            "Done\n"
          ]
        }
      ]
    },
    {
      "cell_type": "markdown",
      "source": [
        "#### Verificação"
      ],
      "metadata": {
        "id": "TWE5_W7LETpB"
      }
    },
    {
      "cell_type": "code",
      "source": [
        "# Verificando valores no MongoDB\n",
        "doc_count_csv = collection_csv.count_documents({})\n",
        "doc_count_excel = collection_excel.count_documents({})\n",
        "\n",
        "print( f'\\n-CSV: {doc_count_csv} \\n-EXCEL: {doc_count_excel}')"
      ],
      "metadata": {
        "id": "ydqix5RuEW5A",
        "colab": {
          "base_uri": "https://localhost:8080/"
        },
        "outputId": "dc52866e-207e-44e0-9e96-87e24c86f503"
      },
      "execution_count": null,
      "outputs": [
        {
          "output_type": "stream",
          "name": "stdout",
          "text": [
            "\n",
            "-CSV: 73014 \n",
            "-EXCEL: 660\n"
          ]
        }
      ]
    },
    {
      "cell_type": "markdown",
      "source": [
        "# Status"
      ],
      "metadata": {
        "id": "F8KbZcdyErLV"
      }
    },
    {
      "cell_type": "code",
      "source": [
        "print(\"BACKUP CONCLUÍDO COM SUCESSO!!!\")"
      ],
      "metadata": {
        "id": "QmDQnku4Eqt5",
        "colab": {
          "base_uri": "https://localhost:8080/"
        },
        "outputId": "67792e88-3648-448f-c83c-a9a0050723ee"
      },
      "execution_count": null,
      "outputs": [
        {
          "output_type": "stream",
          "name": "stdout",
          "text": [
            "BACKUP CONCLUÍDO COM SUCESSO!!!\n"
          ]
        }
      ]
    }
  ]
}