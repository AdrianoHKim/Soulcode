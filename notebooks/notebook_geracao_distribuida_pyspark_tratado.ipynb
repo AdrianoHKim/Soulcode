{
  "nbformat": 4,
  "nbformat_minor": 0,
  "metadata": {
    "colab": {
      "provenance": [],
      "toc_visible": true,
      "gpuType": "T4",
      "include_colab_link": true
    },
    "kernelspec": {
      "name": "python3",
      "display_name": "Python 3"
    },
    "language_info": {
      "name": "python"
    },
    "accelerator": "GPU"
  },
  "cells": [
    {
      "cell_type": "markdown",
      "metadata": {
        "id": "view-in-github",
        "colab_type": "text"
      },
      "source": [
        "<a href=\"https://colab.research.google.com/github/squadOito/soulcodead2/blob/joseaureliok%2Fnotebook/notebooks/notebook_geracao_distribuida_pyspark_tratado.ipynb\" target=\"_parent\"><img src=\"https://colab.research.google.com/assets/colab-badge.svg\" alt=\"Open In Colab\"/></a>"
      ]
    },
    {
      "cell_type": "markdown",
      "source": [
        "## **Projeto Final**\n",
        "Escola: SoulCode Academy\n",
        "\n",
        "Curso: Bootcamp Analista de Dados - Martech - AD2\n",
        "\n",
        "**Equipe 08**\n",
        "\n",
        "**Alunos: Adriano Kim, José Aurelio, Marcos Paulo, Paulo Vitorino, Renato e Wesley**\n",
        "\n",
        "Professores: Douglas Ribeiro, Franciane Rodrigues e Jonathas Carneiro"
      ],
      "metadata": {
        "id": "8AvV2uVhNLpj"
      }
    },
    {
      "cell_type": "markdown",
      "source": [
        "## Preparação de Ambiente\n",
        "Instalações e importações das bibliotecas necessárias para o processo de ETL."
      ],
      "metadata": {
        "id": "L7abbfpEBjvV"
      }
    },
    {
      "cell_type": "code",
      "execution_count": null,
      "metadata": {
        "id": "cGTV4K2w0xhZ"
      },
      "outputs": [],
      "source": [
        "# Instalaçao Bibliotecas\n",
        "!pip install gcsfs -q"
      ]
    },
    {
      "cell_type": "code",
      "source": [
        "# Importando Bibliotecas\n",
        "import os\n",
        "import pandas as pd\n",
        "import numpy as np\n",
        "\n",
        "from google.colab import data_table\n",
        "from google.cloud import storage\n",
        "from google.colab import drive\n",
        "from google.colab import auth\n",
        "from pydrive.auth import GoogleAuth\n",
        "from pydrive.drive import GoogleDrive\n",
        "from oauth2client.client import GoogleCredentials"
      ],
      "metadata": {
        "id": "9PyA1knO9Wau"
      },
      "execution_count": null,
      "outputs": []
    },
    {
      "cell_type": "code",
      "source": [
        "# Ignorando alguns alertas desnecessários\n",
        "import warnings\n",
        "warnings.filterwarnings(\"ignore\")"
      ],
      "metadata": {
        "id": "um2OUpf69mnW"
      },
      "execution_count": null,
      "outputs": []
    },
    {
      "cell_type": "markdown",
      "source": [
        "### Configuração PySpark"
      ],
      "metadata": {
        "id": "iw_HBWma1nHd"
      }
    },
    {
      "cell_type": "code",
      "source": [
        "!apt-get install openjdk-8-jdk-headless -qq > /dev/null\n",
        "!wget -N -q http://archive.apache.org/dist/spark/spark-3.1.1/spark-3.1.1-bin-hadoop3.2.tgz\n",
        "!tar xf spark-3.1.1-bin-hadoop3.2.tgz\n",
        "!pip install -q findspark"
      ],
      "metadata": {
        "id": "Zzgp2wP_J1zP"
      },
      "execution_count": null,
      "outputs": []
    },
    {
      "cell_type": "code",
      "source": [
        "os.environ[\"JAVA_HOME\"] = \"/usr/lib/jvm/java-8-openjdk-amd64\"\n",
        "os.environ[\"SPARK_HOME\"] = \"/content/spark-3.1.1-bin-hadoop3.2\""
      ],
      "metadata": {
        "id": "WqPM27dsJ2jp"
      },
      "execution_count": null,
      "outputs": []
    },
    {
      "cell_type": "code",
      "source": [
        "import findspark\n",
        "findspark.init()\n",
        "\n",
        "from pyspark.sql import SparkSession\n",
        "spark = SparkSession.builder.master(\"local[*]\").getOrCreate()\n",
        "\n",
        "from pyspark.sql.functions import regexp_replace\n",
        "spark.conf.set(\"spark.sql.repl.eagerEval.enabled\", True) # Para deixar a visualição das tabelas mais amigável\n",
        "\n",
        "import pyspark.sql.functions as F\n",
        "from pyspark.sql.types import *\n",
        "from pyspark.sql.window import Window\n",
        "\n",
        "spark"
      ],
      "metadata": {
        "id": "1sAWAoufKBBb",
        "outputId": "cb41a4ba-1cf0-4c45-da01-a093d4742ed5",
        "colab": {
          "base_uri": "https://localhost:8080/",
          "height": 219
        }
      },
      "execution_count": null,
      "outputs": [
        {
          "output_type": "execute_result",
          "data": {
            "text/plain": [
              "<pyspark.sql.session.SparkSession at 0x794a1beb1420>"
            ],
            "text/html": [
              "\n",
              "            <div>\n",
              "                <p><b>SparkSession - in-memory</b></p>\n",
              "                \n",
              "        <div>\n",
              "            <p><b>SparkContext</b></p>\n",
              "\n",
              "            <p><a href=\"http://b976e6c3089c:4040\">Spark UI</a></p>\n",
              "\n",
              "            <dl>\n",
              "              <dt>Version</dt>\n",
              "                <dd><code>v3.1.1</code></dd>\n",
              "              <dt>Master</dt>\n",
              "                <dd><code>local[*]</code></dd>\n",
              "              <dt>AppName</dt>\n",
              "                <dd><code>pyspark-shell</code></dd>\n",
              "            </dl>\n",
              "        </div>\n",
              "        \n",
              "            </div>\n",
              "        "
            ]
          },
          "metadata": {},
          "execution_count": 6
        }
      ]
    },
    {
      "cell_type": "markdown",
      "source": [
        "### Compartilhamento Chave GDrive"
      ],
      "metadata": {
        "id": "J5R3Nt3Q1er7"
      }
    },
    {
      "cell_type": "code",
      "source": [
        "# Cria compartilhamento com Google Drive\n",
        "drive.mount('/content/drive', force_remount=True)\n",
        "\n",
        "# Arquivo a ser acessado na pasta compartilhada\n",
        "\n",
        "target = 'projeto-final-ad2-e8-ae566c3a2c2b.json'\n",
        "\n",
        "# Caminho completo da pasta compartilhada\n",
        "folder = '/content/drive/MyDrive/Classroom/AD2 - Analista de Dados/ProjetoFinal'\n",
        "\n",
        "# Acesso ao arquivo no colab\n",
        "serviceAccount = os.path.join(folder, target)"
      ],
      "metadata": {
        "colab": {
          "base_uri": "https://localhost:8080/"
        },
        "id": "pSoSXbShcQVp",
        "outputId": "6d79d251-24d9-49d4-fd3a-d520b4785f41"
      },
      "execution_count": null,
      "outputs": [
        {
          "output_type": "stream",
          "name": "stdout",
          "text": [
            "Mounted at /content/drive\n"
          ]
        }
      ]
    },
    {
      "cell_type": "markdown",
      "source": [
        "### Conexão Google Cloud"
      ],
      "metadata": {
        "id": "zdecbyzY8dKs"
      }
    },
    {
      "cell_type": "code",
      "source": [
        "# Nome da bucket\n",
        "bucket_name = 'projeto-final-ad2-e8'\n",
        "\n",
        "# Caminho do prefixo\n",
        "prefix_name = 'dados/tratados/'"
      ],
      "metadata": {
        "id": "O6ikxb3b8UIc"
      },
      "execution_count": null,
      "outputs": []
    },
    {
      "cell_type": "code",
      "source": [
        "# Conexão com a conta do Google Cloud\n",
        "os.environ['GOOGLE_APPLICATION_CREDENTIALS'] = serviceAccount"
      ],
      "metadata": {
        "id": "CyymFDdQ2akm"
      },
      "execution_count": null,
      "outputs": []
    },
    {
      "cell_type": "code",
      "source": [
        "# Conexão com a bucket do Google Cloud\n",
        "client = storage.Client()\n",
        "bucket = client.get_bucket(bucket_name )"
      ],
      "metadata": {
        "id": "TV-rH7EWbVpm"
      },
      "execution_count": null,
      "outputs": []
    },
    {
      "cell_type": "markdown",
      "source": [
        "## Funções"
      ],
      "metadata": {
        "id": "OFvJsNFfaOzI"
      }
    },
    {
      "cell_type": "markdown",
      "source": [
        "# Conjunto de dados"
      ],
      "metadata": {
        "id": "42uKFxX68EpJ"
      }
    },
    {
      "cell_type": "code",
      "source": [
        "# Habilita formatação tabular\n",
        "data_table.enable_dataframe_formatter()"
      ],
      "metadata": {
        "id": "I_zIXQHbclof"
      },
      "execution_count": null,
      "outputs": []
    },
    {
      "cell_type": "code",
      "source": [
        "# Listando conjuntos de dados na bucket\n",
        "blobList = [x.name for x in bucket.list_blobs(prefix = prefix_name)]\n",
        "\n",
        "# dataframe lista blobs\n",
        "blobDf = pd.DataFrame(blobList)\n",
        "\n",
        "blobDf"
      ],
      "metadata": {
        "colab": {
          "base_uri": "https://localhost:8080/",
          "height": 337
        },
        "id": "kGhIB6zY7_k1",
        "outputId": "4f07a777-0a8f-4aef-8f4b-6fb3d0b3ead9"
      },
      "execution_count": null,
      "outputs": [
        {
          "output_type": "execute_result",
          "data": {
            "text/plain": [
              "                                                   0\n",
              "0                                    dados/tratados/\n",
              "1              dados/tratados/dataset_tratados_xlsx/\n",
              "2  dados/tratados/dataset_tratados_xlsx/2_1_cap_i...\n",
              "3  dados/tratados/dataset_tratados_xlsx/2_2_cap_i...\n",
              "4  dados/tratados/dataset_tratados_xlsx/2_2_cap_i...\n",
              "5  dados/tratados/dataset_tratados_xlsx/2_3_gerac...\n",
              "6  dados/tratados/fator_capacidade_mwh_2015_2023.csv\n",
              "7       dados/tratados/iea_ponto_recarga_tratado.csv\n",
              "8            dados/tratados/iea_veiculos_tratado.csv\n",
              "9     dados/tratados/tratado_geracao_distribuida.csv"
            ],
            "text/html": [
              "\n",
              "\n",
              "  <div id=\"df-97f95c1f-4a4f-4b09-ab82-a96b5f46ec43\">\n",
              "    <div class=\"colab-df-container\">\n",
              "      <div>\n",
              "<style scoped>\n",
              "    .dataframe tbody tr th:only-of-type {\n",
              "        vertical-align: middle;\n",
              "    }\n",
              "\n",
              "    .dataframe tbody tr th {\n",
              "        vertical-align: top;\n",
              "    }\n",
              "\n",
              "    .dataframe thead th {\n",
              "        text-align: right;\n",
              "    }\n",
              "</style>\n",
              "<table border=\"1\" class=\"dataframe\">\n",
              "  <thead>\n",
              "    <tr style=\"text-align: right;\">\n",
              "      <th></th>\n",
              "      <th>0</th>\n",
              "    </tr>\n",
              "  </thead>\n",
              "  <tbody>\n",
              "    <tr>\n",
              "      <th>0</th>\n",
              "      <td>dados/tratados/</td>\n",
              "    </tr>\n",
              "    <tr>\n",
              "      <th>1</th>\n",
              "      <td>dados/tratados/dataset_tratados_xlsx/</td>\n",
              "    </tr>\n",
              "    <tr>\n",
              "      <th>2</th>\n",
              "      <td>dados/tratados/dataset_tratados_xlsx/2_1_cap_i...</td>\n",
              "    </tr>\n",
              "    <tr>\n",
              "      <th>3</th>\n",
              "      <td>dados/tratados/dataset_tratados_xlsx/2_2_cap_i...</td>\n",
              "    </tr>\n",
              "    <tr>\n",
              "      <th>4</th>\n",
              "      <td>dados/tratados/dataset_tratados_xlsx/2_2_cap_i...</td>\n",
              "    </tr>\n",
              "    <tr>\n",
              "      <th>5</th>\n",
              "      <td>dados/tratados/dataset_tratados_xlsx/2_3_gerac...</td>\n",
              "    </tr>\n",
              "    <tr>\n",
              "      <th>6</th>\n",
              "      <td>dados/tratados/fator_capacidade_mwh_2015_2023.csv</td>\n",
              "    </tr>\n",
              "    <tr>\n",
              "      <th>7</th>\n",
              "      <td>dados/tratados/iea_ponto_recarga_tratado.csv</td>\n",
              "    </tr>\n",
              "    <tr>\n",
              "      <th>8</th>\n",
              "      <td>dados/tratados/iea_veiculos_tratado.csv</td>\n",
              "    </tr>\n",
              "    <tr>\n",
              "      <th>9</th>\n",
              "      <td>dados/tratados/tratado_geracao_distribuida.csv</td>\n",
              "    </tr>\n",
              "  </tbody>\n",
              "</table>\n",
              "</div>\n",
              "      <button class=\"colab-df-convert\" onclick=\"convertToInteractive('df-97f95c1f-4a4f-4b09-ab82-a96b5f46ec43')\"\n",
              "              title=\"Convert this dataframe to an interactive table.\"\n",
              "              style=\"display:none;\">\n",
              "\n",
              "  <svg xmlns=\"http://www.w3.org/2000/svg\" height=\"24px\"viewBox=\"0 0 24 24\"\n",
              "       width=\"24px\">\n",
              "    <path d=\"M0 0h24v24H0V0z\" fill=\"none\"/>\n",
              "    <path d=\"M18.56 5.44l.94 2.06.94-2.06 2.06-.94-2.06-.94-.94-2.06-.94 2.06-2.06.94zm-11 1L8.5 8.5l.94-2.06 2.06-.94-2.06-.94L8.5 2.5l-.94 2.06-2.06.94zm10 10l.94 2.06.94-2.06 2.06-.94-2.06-.94-.94-2.06-.94 2.06-2.06.94z\"/><path d=\"M17.41 7.96l-1.37-1.37c-.4-.4-.92-.59-1.43-.59-.52 0-1.04.2-1.43.59L10.3 9.45l-7.72 7.72c-.78.78-.78 2.05 0 2.83L4 21.41c.39.39.9.59 1.41.59.51 0 1.02-.2 1.41-.59l7.78-7.78 2.81-2.81c.8-.78.8-2.07 0-2.86zM5.41 20L4 18.59l7.72-7.72 1.47 1.35L5.41 20z\"/>\n",
              "  </svg>\n",
              "      </button>\n",
              "\n",
              "\n",
              "\n",
              "    <div id=\"df-ff22728c-a338-4b17-841d-ddc6aa30efca\">\n",
              "      <button class=\"colab-df-quickchart\" onclick=\"quickchart('df-ff22728c-a338-4b17-841d-ddc6aa30efca')\"\n",
              "              title=\"Suggest charts.\"\n",
              "              style=\"display:none;\">\n",
              "\n",
              "<svg xmlns=\"http://www.w3.org/2000/svg\" height=\"24px\"viewBox=\"0 0 24 24\"\n",
              "     width=\"24px\">\n",
              "    <g>\n",
              "        <path d=\"M19 3H5c-1.1 0-2 .9-2 2v14c0 1.1.9 2 2 2h14c1.1 0 2-.9 2-2V5c0-1.1-.9-2-2-2zM9 17H7v-7h2v7zm4 0h-2V7h2v10zm4 0h-2v-4h2v4z\"/>\n",
              "    </g>\n",
              "</svg>\n",
              "      </button>\n",
              "    </div>\n",
              "\n",
              "<style>\n",
              "  .colab-df-quickchart {\n",
              "    background-color: #E8F0FE;\n",
              "    border: none;\n",
              "    border-radius: 50%;\n",
              "    cursor: pointer;\n",
              "    display: none;\n",
              "    fill: #1967D2;\n",
              "    height: 32px;\n",
              "    padding: 0 0 0 0;\n",
              "    width: 32px;\n",
              "  }\n",
              "\n",
              "  .colab-df-quickchart:hover {\n",
              "    background-color: #E2EBFA;\n",
              "    box-shadow: 0px 1px 2px rgba(60, 64, 67, 0.3), 0px 1px 3px 1px rgba(60, 64, 67, 0.15);\n",
              "    fill: #174EA6;\n",
              "  }\n",
              "\n",
              "  [theme=dark] .colab-df-quickchart {\n",
              "    background-color: #3B4455;\n",
              "    fill: #D2E3FC;\n",
              "  }\n",
              "\n",
              "  [theme=dark] .colab-df-quickchart:hover {\n",
              "    background-color: #434B5C;\n",
              "    box-shadow: 0px 1px 3px 1px rgba(0, 0, 0, 0.15);\n",
              "    filter: drop-shadow(0px 1px 2px rgba(0, 0, 0, 0.3));\n",
              "    fill: #FFFFFF;\n",
              "  }\n",
              "</style>\n",
              "\n",
              "    <script>\n",
              "      async function quickchart(key) {\n",
              "        const containerElement = document.querySelector('#' + key);\n",
              "        const charts = await google.colab.kernel.invokeFunction(\n",
              "            'suggestCharts', [key], {});\n",
              "      }\n",
              "    </script>\n",
              "\n",
              "      <script>\n",
              "\n",
              "function displayQuickchartButton(domScope) {\n",
              "  let quickchartButtonEl =\n",
              "    domScope.querySelector('#df-ff22728c-a338-4b17-841d-ddc6aa30efca button.colab-df-quickchart');\n",
              "  quickchartButtonEl.style.display =\n",
              "    google.colab.kernel.accessAllowed ? 'block' : 'none';\n",
              "}\n",
              "\n",
              "        displayQuickchartButton(document);\n",
              "      </script>\n",
              "      <style>\n",
              "    .colab-df-container {\n",
              "      display:flex;\n",
              "      flex-wrap:wrap;\n",
              "      gap: 12px;\n",
              "    }\n",
              "\n",
              "    .colab-df-convert {\n",
              "      background-color: #E8F0FE;\n",
              "      border: none;\n",
              "      border-radius: 50%;\n",
              "      cursor: pointer;\n",
              "      display: none;\n",
              "      fill: #1967D2;\n",
              "      height: 32px;\n",
              "      padding: 0 0 0 0;\n",
              "      width: 32px;\n",
              "    }\n",
              "\n",
              "    .colab-df-convert:hover {\n",
              "      background-color: #E2EBFA;\n",
              "      box-shadow: 0px 1px 2px rgba(60, 64, 67, 0.3), 0px 1px 3px 1px rgba(60, 64, 67, 0.15);\n",
              "      fill: #174EA6;\n",
              "    }\n",
              "\n",
              "    [theme=dark] .colab-df-convert {\n",
              "      background-color: #3B4455;\n",
              "      fill: #D2E3FC;\n",
              "    }\n",
              "\n",
              "    [theme=dark] .colab-df-convert:hover {\n",
              "      background-color: #434B5C;\n",
              "      box-shadow: 0px 1px 3px 1px rgba(0, 0, 0, 0.15);\n",
              "      filter: drop-shadow(0px 1px 2px rgba(0, 0, 0, 0.3));\n",
              "      fill: #FFFFFF;\n",
              "    }\n",
              "  </style>\n",
              "\n",
              "      <script>\n",
              "        const buttonEl =\n",
              "          document.querySelector('#df-97f95c1f-4a4f-4b09-ab82-a96b5f46ec43 button.colab-df-convert');\n",
              "        buttonEl.style.display =\n",
              "          google.colab.kernel.accessAllowed ? 'block' : 'none';\n",
              "\n",
              "        async function convertToInteractive(key) {\n",
              "          const element = document.querySelector('#df-97f95c1f-4a4f-4b09-ab82-a96b5f46ec43');\n",
              "          const dataTable =\n",
              "            await google.colab.kernel.invokeFunction('convertToInteractive',\n",
              "                                                     [key], {});\n",
              "          if (!dataTable) return;\n",
              "\n",
              "          const docLinkHtml = 'Like what you see? Visit the ' +\n",
              "            '<a target=\"_blank\" href=https://colab.research.google.com/notebooks/data_table.ipynb>data table notebook</a>'\n",
              "            + ' to learn more about interactive tables.';\n",
              "          element.innerHTML = '';\n",
              "          dataTable['output_type'] = 'display_data';\n",
              "          await google.colab.output.renderOutput(dataTable, element);\n",
              "          const docLink = document.createElement('div');\n",
              "          docLink.innerHTML = docLinkHtml;\n",
              "          element.appendChild(docLink);\n",
              "        }\n",
              "      </script>\n",
              "    </div>\n",
              "  </div>\n"
            ],
            "application/vnd.google.colaboratory.module+javascript": "\n      import \"https://ssl.gstatic.com/colaboratory/data_table/881c4a0d49046431/data_table.js\";\n\n      const table = window.createDataTable({\n        data: [[{\n            'v': 0,\n            'f': \"0\",\n        },\n\"dados/tratados/\"],\n [{\n            'v': 1,\n            'f': \"1\",\n        },\n\"dados/tratados/dataset_tratados_xlsx/\"],\n [{\n            'v': 2,\n            'f': \"2\",\n        },\n\"dados/tratados/dataset_tratados_xlsx/2_1_cap_instalada_por_regiao_e_uf_tratado.xlsx\"],\n [{\n            'v': 3,\n            'f': \"3\",\n        },\n\"dados/tratados/dataset_tratados_xlsx/2_2_cap_instalada_de_geracao_eletrica_por_fonte_mw.csv\"],\n [{\n            'v': 4,\n            'f': \"4\",\n        },\n\"dados/tratados/dataset_tratados_xlsx/2_2_cap_instalada_de_geracao_eletrica_por_fonte_mw.xlsx\"],\n [{\n            'v': 5,\n            'f': \"5\",\n        },\n\"dados/tratados/dataset_tratados_xlsx/2_3_geracao_eletrica_por_fonte_gwh_tratado.xlsx\"],\n [{\n            'v': 6,\n            'f': \"6\",\n        },\n\"dados/tratados/fator_capacidade_mwh_2015_2023.csv\"],\n [{\n            'v': 7,\n            'f': \"7\",\n        },\n\"dados/tratados/iea_ponto_recarga_tratado.csv\"],\n [{\n            'v': 8,\n            'f': \"8\",\n        },\n\"dados/tratados/iea_veiculos_tratado.csv\"],\n [{\n            'v': 9,\n            'f': \"9\",\n        },\n\"dados/tratados/tratado_geracao_distribuida.csv\"]],\n        columns: [[\"number\", \"index\"], [\"string\", \"0\"]],\n        columnOptions: [{\"width\": \"1px\", \"className\": \"index_column\"}],\n        rowsPerPage: 25,\n        helpUrl: \"https://colab.research.google.com/notebooks/data_table.ipynb\",\n        suppressOutputScrolling: true,\n        minimumWidth: undefined,\n      });\n      \n      function appendQuickchartButton(parentElement) {\n        let quickchartButtonContainerElement = document.createElement('div');\n        quickchartButtonContainerElement.innerHTML = `\n    <div id=\"df-ef706594-26b6-40ab-897e-442b1a9d5c0e\">\n      <button class=\"colab-df-quickchart\" onclick=\"quickchart('df-ef706594-26b6-40ab-897e-442b1a9d5c0e')\"\n              title=\"Suggest charts.\"\n              style=\"display:none;\">\n\n<svg xmlns=\"http://www.w3.org/2000/svg\" height=\"24px\"viewBox=\"0 0 24 24\"\n     width=\"24px\">\n    <g>\n        <path d=\"M19 3H5c-1.1 0-2 .9-2 2v14c0 1.1.9 2 2 2h14c1.1 0 2-.9 2-2V5c0-1.1-.9-2-2-2zM9 17H7v-7h2v7zm4 0h-2V7h2v10zm4 0h-2v-4h2v4z\"/>\n    </g>\n</svg>\n      </button>\n    </div>\n\n<style>\n  .colab-df-quickchart {\n    background-color: #E8F0FE;\n    border: none;\n    border-radius: 50%;\n    cursor: pointer;\n    display: none;\n    fill: #1967D2;\n    height: 32px;\n    padding: 0 0 0 0;\n    width: 32px;\n  }\n\n  .colab-df-quickchart:hover {\n    background-color: #E2EBFA;\n    box-shadow: 0px 1px 2px rgba(60, 64, 67, 0.3), 0px 1px 3px 1px rgba(60, 64, 67, 0.15);\n    fill: #174EA6;\n  }\n\n  [theme=dark] .colab-df-quickchart {\n    background-color: #3B4455;\n    fill: #D2E3FC;\n  }\n\n  [theme=dark] .colab-df-quickchart:hover {\n    background-color: #434B5C;\n    box-shadow: 0px 1px 3px 1px rgba(0, 0, 0, 0.15);\n    filter: drop-shadow(0px 1px 2px rgba(0, 0, 0, 0.3));\n    fill: #FFFFFF;\n  }\n</style>\n\n    <script>\n      async function quickchart(key) {\n        const containerElement = document.querySelector('#' + key);\n        const charts = await google.colab.kernel.invokeFunction(\n            'suggestCharts', [key], {});\n      }\n    </script>\n`;\n        parentElement.appendChild(quickchartButtonContainerElement);\n        \nfunction displayQuickchartButton(domScope) {\n  let quickchartButtonEl =\n    domScope.querySelector('#df-ef706594-26b6-40ab-897e-442b1a9d5c0e button.colab-df-quickchart');\n  quickchartButtonEl.style.display =\n    google.colab.kernel.accessAllowed ? 'block' : 'none';\n}\n\n        displayQuickchartButton(parentElement);\n      }\n\n      appendQuickchartButton(table);\n    "
          },
          "metadata": {},
          "execution_count": 12
        }
      ]
    },
    {
      "cell_type": "code",
      "source": [
        "# Desabilita formatação tabular\n",
        "data_table.disable_dataframe_formatter()"
      ],
      "metadata": {
        "id": "_EEYMP9Zck4a"
      },
      "execution_count": null,
      "outputs": []
    },
    {
      "cell_type": "code",
      "source": [
        "# Renomeando coluna\n",
        "blobDf.columns = ['path']\n",
        "\n",
        "# Lista com resultados\n",
        "blobPath = blobDf['path'].tolist()"
      ],
      "metadata": {
        "id": "d7oCKOkyec2k"
      },
      "execution_count": null,
      "outputs": []
    },
    {
      "cell_type": "markdown",
      "source": [
        "### Seleção do blob"
      ],
      "metadata": {
        "id": "kBREhTMsftAy"
      }
    },
    {
      "cell_type": "code",
      "source": [
        "# Seleção por index conforme caminho da tabela acima\n",
        "index = 9\n",
        "\n",
        "# Seleção do gsutil do arquivo\n",
        "path = f'gs://{bucket_name}/{blobPath[index]}'\n",
        "\n",
        "archive= blobPath[index][len(blobPath[0]):]\n",
        "\n",
        "print(f'>>> arquivo : {archive}\\n>>> gsutil: {path}')"
      ],
      "metadata": {
        "colab": {
          "base_uri": "https://localhost:8080/"
        },
        "id": "J6nKKfQt8LHu",
        "outputId": "af26dc4e-3b8c-4500-942d-161ba0e873a4"
      },
      "execution_count": null,
      "outputs": [
        {
          "output_type": "stream",
          "name": "stdout",
          "text": [
            ">>> arquivo : tratado_geracao_distribuida.csv\n",
            ">>> gsutil: gs://projeto-final-ad2-e8/dados/tratados/tratado_geracao_distribuida.csv\n"
          ]
        }
      ]
    },
    {
      "cell_type": "code",
      "source": [
        "# Configuração do blob\n",
        "blob = bucket.blob(blobPath[index])\n",
        "\n",
        "# Download do arquivo\n",
        "blob.download_to_filename('/content/' + archive)"
      ],
      "metadata": {
        "id": "9JPdCkIzuUl7"
      },
      "execution_count": null,
      "outputs": []
    },
    {
      "cell_type": "code",
      "source": [
        "csvFile = '/content/tratado_geracao_distribuida.csv'"
      ],
      "metadata": {
        "id": "XTRTqObTwK2n"
      },
      "execution_count": null,
      "outputs": []
    },
    {
      "cell_type": "markdown",
      "source": [
        "# Leitura do dataframe"
      ],
      "metadata": {
        "id": "CNQhvwT5hW-p"
      }
    },
    {
      "cell_type": "code",
      "source": [
        "# Leitura do arquivo em um dataframe PySpark\n",
        "df = spark.read.csv(csvFile, header=True, inferSchema=True)"
      ],
      "metadata": {
        "id": "HaGDUX_ghk04"
      },
      "execution_count": null,
      "outputs": []
    },
    {
      "cell_type": "code",
      "source": [
        "# Exibindo\n",
        "df.show(n=20, truncate=False)"
      ],
      "metadata": {
        "colab": {
          "base_uri": "https://localhost:8080/"
        },
        "id": "UZR1g5uCwyFF",
        "outputId": "88fc15b4-1b5a-434a-da44-4be89e68188c"
      },
      "execution_count": null,
      "outputs": [
        {
          "output_type": "stream",
          "name": "stdout",
          "text": [
            "+------------+---------------+------------------+---------------+--------------------------------------------------------+-------------+-----------------+--------------+------------------+------+---+----------+----------+-------------+---------------+--------+--------------+--------------+-----------------------------------------------+-----------------+----------------------+------------------+-------------------------------------------+--------------+-----------+--------------+------------+---------------------+------------+\n",
            "|dataPesquisa|periodoPesquisa|idDistribuidora   |agenteAbreviado|agenteNome                                              |classeConsumo|nomeClasseConsumo|subgrupoTarifa|nomeSubgrupoTarifa|ufIbge|uf |regiaoIbge|regiaoNome|municipioIbge|municipio      |CEP     |tipoConsumidor|idConsumidor  |nomeTitularEmpreendimento                      |idEmpreendimento |cadastroEmpreendimento|tipoEmpreendimento|tipoHabilitado                             |creditoReceber|tipoGeracao|fonteGeracao  |porte       |potenciaInstalada(KW)|anoCadastral|\n",
            "+------------+---------------+------------------+---------------+--------------------------------------------------------+-------------+-----------------+--------------+------------------+------+---+----------+----------+-------------+---------------+--------+--------------+--------------+-----------------------------------------------+-----------------+----------------------+------------------+-------------------------------------------+--------------+-----------+--------------+------------+---------------------+------------+\n",
            "|2023-07-31  |07/2023        |8.33678300019E12  |CELESC-DIS     |CELESC DISTRIBUICÃO S.A                                 |5            |PODER PÚBLICO    |11            |B3                |42    |SC |4204      |SUL       |4210852      |MIRIM DOCE     |00000000|PJ            |95952289000155|MIRIM DOCE CAMARA DE VEREADORES                |GD.SC.000.188.684|2020-01-20            |P                 |COM MICROGERACAO OU MINIGERACAO DISTRIBUIDA|1             |UFV        |RADIACÃO SOLAR|MICROGERACAO|500                  |2020        |\n",
            "|2023-07-31  |07/2023        |6.1695227000193E13|ELETROPAULO    |ELETROPAULO METROPOLITANA ELETRICIDADE DE SÃO PAULO S.A.|6            |SERVIÇO PÚBLICO  |7             |A4                |35    |SP |3515      |SUDESTE   |3550308      |SÃO PAULO      |01109010|PJ            |10882594001722|INSTITUTO FEDERAL DE EDUCACÃO, CIÊNCIA E TECN. |GD.SP.000.027.612|2017-07-12            |P                 |COM MICROGERACAO OU MINIGERACAO DISTRIBUIDA|1             |UFV        |RADIACÃO SOLAR|MICROGERACAO|6996                 |2017        |\n",
            "|2023-07-31  |07/2023        |6.1695227000193E13|ELETROPAULO    |ELETROPAULO METROPOLITANA ELETRICIDADE DE SÃO PAULO S.A.|5            |PODER PÚBLICO    |9             |B1                |35    |SP |3515      |SUDESTE   |3550308      |SÃO PAULO      |04115000|PF            |000.015.418-00|000                                            |GD.SP.000.081.118|2019-05-30            |P                 |COM MICROGERACAO OU MINIGERACAO DISTRIBUIDA|1             |UFV        |RADIACÃO SOLAR|MICROGERACAO|300                  |2019        |\n",
            "|2023-07-31  |07/2023        |6.1695227000193E13|ELETROPAULO    |ELETROPAULO METROPOLITANA ELETRICIDADE DE SÃO PAULO S.A.|5            |PODER PÚBLICO    |9             |B1                |35    |SP |3515      |SUDESTE   |3510609      |CARAPICUÍBA    |06364000|PF            |000.517.398-00|000                                            |GD.SP.000.210.094|2020-03-30            |P                 |COM MICROGERACAO OU MINIGERACAO DISTRIBUIDA|1             |UFV        |RADIACÃO SOLAR|MICROGERACAO|300                  |2020        |\n",
            "|2023-07-31  |07/2023        |6.1695227000193E13|ELETROPAULO    |ELETROPAULO METROPOLITANA ELETRICIDADE DE SÃO PAULO S.A.|5            |PODER PÚBLICO    |7             |A4                |35    |SP |3515      |SUDESTE   |3505708      |BARUERI        |06462080|PJ            |46523015000135|MUNICIPIO DE BARUERI                           |GD.SP.000.863.525|2021-04-02            |P                 |COM MICROGERACAO OU MINIGERACAO DISTRIBUIDA|1             |UFV        |RADIACÃO SOLAR|MICROGERACAO|2300                 |2021        |\n",
            "|2023-07-31  |07/2023        |2.302100000106E12 |EDP SP         |EDP SÃO PAULO DISTRIBUICÃO DE ENERGIA S.A.              |5            |PODER PÚBLICO    |11            |B3                |35    |SP |3515      |SUDESTE   |3518800      |GUARULHOS      |07160640|PJ            |46319000000150|MUNICIPIO DE GUARULHOS                         |GD.SP.000.251.356|2020-06-09            |P                 |COM MICROGERACAO OU MINIGERACAO DISTRIBUIDA|1             |UFV        |RADIACÃO SOLAR|MICROGERACAO|284                  |2020        |\n",
            "|2023-07-31  |07/2023        |6.1695227000193E13|ELETROPAULO    |ELETROPAULO METROPOLITANA ELETRICIDADE DE SÃO PAULO S.A.|5            |PODER PÚBLICO    |11            |B3                |35    |SP |3515      |SUDESTE   |3550308      |SÃO PAULO      |08265060|PJ            |74118514000182|SAO PAULO SECRETARIA VERDE MEIO AMB            |GD.SP.000.049.685|2018-12-11            |P                 |COM MICROGERACAO OU MINIGERACAO DISTRIBUIDA|1             |UFV        |RADIACÃO SOLAR|MICROGERACAO|300                  |2018        |\n",
            "|2023-07-31  |07/2023        |2.302100000106E12 |EDP SP         |EDP SÃO PAULO DISTRIBUICÃO DE ENERGIA S.A.              |6            |SERVIÇO PÚBLICO  |7             |A4                |35    |SP |3515      |SUDESTE   |3552502      |SUZANO         |08683000|PJ            |43776517000180|CIA DE SANEAMENTO BASICO DO ESTADO DE S        |GD.SP.001.908.917|2023-06-07            |P                 |COM MICROGERACAO OU MINIGERACAO DISTRIBUIDA|1             |UFV        |RADIACÃO SOLAR|MINIGERACAO |200000               |2023        |\n",
            "|2023-07-31  |07/2023        |2.302100000106E12 |EDP SP         |EDP SÃO PAULO DISTRIBUICÃO DE ENERGIA S.A.              |5            |PODER PÚBLICO    |7             |A4                |35    |SP |3515      |SUDESTE   |3530607      |MOGI DAS CRUZES|08750770|PJ            |46523270000188|MUNICIPIO DE MOGI DAS CRUZES                   |GD.SP.000.351.911|2020-10-19            |P                 |COM MICROGERACAO OU MINIGERACAO DISTRIBUIDA|1             |UFV        |RADIACÃO SOLAR|MICROGERACAO|6000                 |2020        |\n",
            "|2023-07-31  |07/2023        |2.302100000106E12 |EDP SP         |EDP SÃO PAULO DISTRIBUICÃO DE ENERGIA S.A.              |5            |PODER PÚBLICO    |9             |B1                |35    |SP |3513      |SUDESTE   |3550704      |SÃO SEBASTIÃO  |11619000|PF            |000.090.248-00|000                                            |GD.SP.000.314.370|2020-10-05            |P                 |COM MICROGERACAO OU MINIGERACAO DISTRIBUIDA|1             |UFV        |RADIACÃO SOLAR|MICROGERACAO|200                  |2020        |\n",
            "|2023-07-31  |07/2023        |2.328280000197E12 |ELEKTRO        |ELEKTRO REDES S.A.                                      |5            |PODER PÚBLICO    |11            |B3                |35    |SP |3513      |SUDESTE   |3555406      |UBATUBA        |11680000|PJ            |05914497000177|FUNDACAO DA CRIANCA E DO ADOLESCENTE DE UBATUBA|GD.SP.000.014.952|2017-09-05            |P                 |COM MICROGERACAO OU MINIGERACAO DISTRIBUIDA|1             |UFV        |RADIACÃO SOLAR|MICROGERACAO|206                  |2017        |\n",
            "|2023-07-31  |07/2023        |2.302100000106E12 |EDP SP         |EDP SÃO PAULO DISTRIBUICÃO DE ENERGIA S.A.              |5            |PODER PÚBLICO    |11            |B3                |35    |SP |3513      |SUDESTE   |3531704      |MONTEIRO LOBATO|12250000|PJ            |46643482000107|PM MONTEIRO LOBATO                             |GD.SP.000.080.823|2019-05-29            |P                 |COM MICROGERACAO OU MINIGERACAO DISTRIBUIDA|1             |UFV        |RADIACÃO SOLAR|MICROGERACAO|500                  |2019        |\n",
            "|2023-07-31  |07/2023        |2.302100000106E12 |EDP SP         |EDP SÃO PAULO DISTRIBUICÃO DE ENERGIA S.A.              |5            |PODER PÚBLICO    |11            |B3                |35    |SP |3513      |SUDESTE   |3518404      |GUARATINGUETÁ  |12515530|PJ            |46680500000112|MUNICIPIO DE GUARATINGUETA                     |GD.SP.001.830.935|2023-05-09            |P                 |COM MICROGERACAO OU MINIGERACAO DISTRIBUIDA|1             |UFV        |RADIACÃO SOLAR|MICROGERACAO|81                   |2023        |\n",
            "|2023-07-31  |07/2023        |2.302100000106E12 |EDP SP         |EDP SÃO PAULO DISTRIBUICÃO DE ENERGIA S.A.              |5            |PODER PÚBLICO    |11            |B3                |35    |SP |3513      |SUDESTE   |3518404      |GUARATINGUETÁ  |12515530|PJ            |46680500000112|MUNICIPIO DE GUARATINGUETA                     |GD.SP.001.830.934|2023-05-09            |P                 |COM MICROGERACAO OU MINIGERACAO DISTRIBUIDA|1             |UFV        |RADIACÃO SOLAR|MICROGERACAO|81                   |2023        |\n",
            "|2023-07-31  |07/2023        |2.302100000106E12 |EDP SP         |EDP SÃO PAULO DISTRIBUICÃO DE ENERGIA S.A.              |5            |PODER PÚBLICO    |11            |B3                |35    |SP |3513      |SUDESTE   |3518404      |GUARATINGUETÁ  |12515530|PJ            |46680500000112|MUNICIPIO DE GUARATINGUETA                     |GD.SP.001.831.040|2023-05-09            |P                 |COM MICROGERACAO OU MINIGERACAO DISTRIBUIDA|1             |UFV        |RADIACÃO SOLAR|MICROGERACAO|81                   |2023        |\n",
            "|2023-07-31  |07/2023        |2.302100000106E12 |EDP SP         |EDP SÃO PAULO DISTRIBUICÃO DE ENERGIA S.A.              |5            |PODER PÚBLICO    |11            |B3                |35    |SP |3513      |SUDESTE   |3518404      |GUARATINGUETÁ  |12515530|PJ            |46680500000112|MUNICIPIO DE GUARATINGUETA                     |GD.SP.001.831.050|2023-05-09            |P                 |COM MICROGERACAO OU MINIGERACAO DISTRIBUIDA|1             |UFV        |RADIACÃO SOLAR|MICROGERACAO|81                   |2023        |\n",
            "|2023-07-31  |07/2023        |2.302100000106E12 |EDP SP         |EDP SÃO PAULO DISTRIBUICÃO DE ENERGIA S.A.              |6            |SERVIÇO PÚBLICO  |11            |B3                |35    |SP |3513      |SUDESTE   |3544301      |ROSEIRA        |12580000|PJ            |45212008000150|PM ROSEIRA                                     |GD.SP.000.245.528|2020-06-02            |P                 |COM MICROGERACAO OU MINIGERACAO DISTRIBUIDA|1             |UFV        |RADIACÃO SOLAR|MICROGERACAO|284                  |2020        |\n",
            "|2023-07-31  |07/2023        |3.3050196000188E13|CPFL-PAULISTA  |COMPANHIA PAULISTA DE FORÇA E LUZ                       |6            |SERVIÇO PÚBLICO  |13            |AS                |35    |SP |3507      |SUDESTE   |3509502      |CAMPINAS       |13070115|PJ            |09559385000104|COMANDO 11 BRIGADA DE INFANTARIA               |GD.SP.000.737.153|2021-12-03            |P                 |COM MICROGERACAO OU MINIGERACAO DISTRIBUIDA|1             |UFV        |RADIACÃO SOLAR|MICROGERACAO|7500                 |2021        |\n",
            "|2023-07-31  |07/2023        |3.3050196000188E13|CPFL-PAULISTA  |COMPANHIA PAULISTA DE FORÇA E LUZ                       |5            |PODER PÚBLICO    |11            |B3                |35    |SP |3507      |SUDESTE   |3519071      |HORTOLÂNDIA    |13186512|PJ            |67995027000132|MUNICIPIO DE HORTOLANDIA                       |GD.SP.001.052.769|2022-06-01            |P                 |COM MICROGERACAO OU MINIGERACAO DISTRIBUIDA|1             |UFV        |RADIACÃO SOLAR|MICROGERACAO|442                  |2022        |\n",
            "|2023-07-31  |07/2023        |3.3050196000188E13|CPFL-PAULISTA  |COMPANHIA PAULISTA DE FORÇA E LUZ                       |5            |PODER PÚBLICO    |7             |A4                |35    |SP |3507      |SUDESTE   |3501608      |AMERICANA      |13478640|PJ            |47716204000197|FUNDACAO DE SAUDE DO MUNICIPIO DE AMERICANA    |GD.SP.000.515.410|2021-06-11            |P                 |COM MICROGERACAO OU MINIGERACAO DISTRIBUIDA|1             |UFV        |RADIACÃO SOLAR|MINIGERACAO |26000                |2021        |\n",
            "+------------+---------------+------------------+---------------+--------------------------------------------------------+-------------+-----------------+--------------+------------------+------+---+----------+----------+-------------+---------------+--------+--------------+--------------+-----------------------------------------------+-----------------+----------------------+------------------+-------------------------------------------+--------------+-----------+--------------+------------+---------------------+------------+\n",
            "only showing top 20 rows\n",
            "\n"
          ]
        }
      ]
    },
    {
      "cell_type": "markdown",
      "source": [
        "## Copia de segurança do tratamento - Backup"
      ],
      "metadata": {
        "id": "59UEX6yQCrqX"
      }
    },
    {
      "cell_type": "code",
      "source": [
        "# Backup para analise\n",
        "dfbackup = df"
      ],
      "metadata": {
        "id": "kPn9PJEFvtWW"
      },
      "execution_count": null,
      "outputs": []
    },
    {
      "cell_type": "markdown",
      "source": [
        "# Consultas"
      ],
      "metadata": {
        "id": "-WIhdkQBm9lV"
      }
    },
    {
      "cell_type": "code",
      "source": [
        "# Registros distindos para tipoHabilitado e tipoEmpreendimento\n",
        "df.select('tipoHabilitado', 'tipoEmpreendimento').distinct().show(truncate=False)"
      ],
      "metadata": {
        "colab": {
          "base_uri": "https://localhost:8080/"
        },
        "id": "jXeiHRpCwkK6",
        "outputId": "b5600e1a-e5b5-4650-9df3-34190862d676"
      },
      "execution_count": null,
      "outputs": [
        {
          "output_type": "stream",
          "name": "stdout",
          "text": [
            "+--------------------------------------------+------------------+\n",
            "|tipoHabilitado                              |tipoEmpreendimento|\n",
            "+--------------------------------------------+------------------+\n",
            "|INTEGRANTE DE EMPREENDIMENTO DE MULTIPLAS UC|M                 |\n",
            "|CARACTERIZADA COMO AUTOCONSUMO REMOTO       |R                 |\n",
            "|COM MICROGERACAO OU MINIGERACAO DISTRIBUIDA |P                 |\n",
            "|CARACTERIZADA COMO GERACAO COMPARTILHADA    |C                 |\n",
            "+--------------------------------------------+------------------+\n",
            "\n"
          ]
        }
      ]
    },
    {
      "cell_type": "code",
      "source": [
        "# Contagem de registros do atributo tipoHabilitado\n",
        "queryCtHabilitado = df.select('tipoHabilitado').groupby(df.tipoHabilitado).count()\n",
        "\n",
        "queryCtHabilitado.show(truncate = False)"
      ],
      "metadata": {
        "colab": {
          "base_uri": "https://localhost:8080/"
        },
        "id": "DGCFp8dNzMF6",
        "outputId": "4c62beba-d6f9-4cad-a6fb-bc26efc7b0bf"
      },
      "execution_count": null,
      "outputs": [
        {
          "output_type": "stream",
          "name": "stdout",
          "text": [
            "+--------------------------------------------+-------+\n",
            "|tipoHabilitado                              |count  |\n",
            "+--------------------------------------------+-------+\n",
            "|CARACTERIZADA COMO AUTOCONSUMO REMOTO       |357907 |\n",
            "|COM MICROGERACAO OU MINIGERACAO DISTRIBUIDA |1688038|\n",
            "|INTEGRANTE DE EMPREENDIMENTO DE MULTIPLAS UC|317    |\n",
            "|CARACTERIZADA COMO GERACAO COMPARTILHADA    |6448   |\n",
            "+--------------------------------------------+-------+\n",
            "\n"
          ]
        }
      ]
    },
    {
      "cell_type": "code",
      "source": [
        "# Contagem de registro por atributos tipoConsumidor e tipoHabilitado ordenado por tipoConsumidor e count()\n",
        "queryConsHab = df.groupBy('tipoConsumidor', 'tipoHabilitado').count().orderBy('tipoConsumidor', 'count')\n",
        "\n",
        "queryConsHab.show(truncate=False)"
      ],
      "metadata": {
        "colab": {
          "base_uri": "https://localhost:8080/"
        },
        "id": "zuW8phrW0C1B",
        "outputId": "cc9281aa-cc8e-4521-b76b-384ec911396a"
      },
      "execution_count": null,
      "outputs": [
        {
          "output_type": "stream",
          "name": "stdout",
          "text": [
            "+--------------+--------------------------------------------+-------+\n",
            "|tipoConsumidor|tipoHabilitado                              |count  |\n",
            "+--------------+--------------------------------------------+-------+\n",
            "|PF            |INTEGRANTE DE EMPREENDIMENTO DE MULTIPLAS UC|135    |\n",
            "|PF            |CARACTERIZADA COMO GERACAO COMPARTILHADA    |4729   |\n",
            "|PF            |CARACTERIZADA COMO AUTOCONSUMO REMOTO       |313550 |\n",
            "|PF            |COM MICROGERACAO OU MINIGERACAO DISTRIBUIDA |1528149|\n",
            "|PJ            |INTEGRANTE DE EMPREENDIMENTO DE MULTIPLAS UC|182    |\n",
            "|PJ            |CARACTERIZADA COMO GERACAO COMPARTILHADA    |1719   |\n",
            "|PJ            |CARACTERIZADA COMO AUTOCONSUMO REMOTO       |44357  |\n",
            "|PJ            |COM MICROGERACAO OU MINIGERACAO DISTRIBUIDA |159889 |\n",
            "+--------------+--------------------------------------------+-------+\n",
            "\n"
          ]
        }
      ]
    },
    {
      "cell_type": "code",
      "source": [
        "# Dataframe com soma do atributo potenciaInstalada (KW), exibida pelos respectivos atributos regiaoNome e tipoConsumidor\n",
        "dfSomaPotencia = df.groupBy('regiaoNome', 'tipoConsumidor').agg(F.sum('potenciaInstalada(KW)').alias('soma_potencia')).orderBy('regiaoNome')\n",
        "dfSomaPotencia"
      ],
      "metadata": {
        "colab": {
          "base_uri": "https://localhost:8080/",
          "height": 278
        },
        "id": "fQ0Z2X0Z5g9d",
        "outputId": "15387900-0988-4c07-88e9-4d069a26d06f"
      },
      "execution_count": null,
      "outputs": [
        {
          "output_type": "execute_result",
          "data": {
            "text/plain": [
              "+------------+--------------+-------------+\n",
              "|  regiaoNome|tipoConsumidor|soma_potencia|\n",
              "+------------+--------------+-------------+\n",
              "|CENTRO OESTE|            PF|    223837242|\n",
              "|CENTRO OESTE|            PJ|    131075259|\n",
              "|    NORDESTE|            PF|    284869240|\n",
              "|    NORDESTE|            PJ|    162028570|\n",
              "|       NORTE|            PJ|     44285991|\n",
              "|       NORTE|            PF|    103162532|\n",
              "|     SUDESTE|            PF|    444634295|\n",
              "|     SUDESTE|            PJ|    314711476|\n",
              "|         SUL|            PJ|    194268449|\n",
              "|         SUL|            PF|    396868999|\n",
              "+------------+--------------+-------------+"
            ],
            "text/html": [
              "<table border='1'>\n",
              "<tr><th>regiaoNome</th><th>tipoConsumidor</th><th>soma_potencia</th></tr>\n",
              "<tr><td>CENTRO OESTE</td><td>PJ</td><td>131075259</td></tr>\n",
              "<tr><td>CENTRO OESTE</td><td>PF</td><td>223837242</td></tr>\n",
              "<tr><td>NORDESTE</td><td>PF</td><td>284869240</td></tr>\n",
              "<tr><td>NORDESTE</td><td>PJ</td><td>162028570</td></tr>\n",
              "<tr><td>NORTE</td><td>PJ</td><td>44285991</td></tr>\n",
              "<tr><td>NORTE</td><td>PF</td><td>103162532</td></tr>\n",
              "<tr><td>SUDESTE</td><td>PF</td><td>444634295</td></tr>\n",
              "<tr><td>SUDESTE</td><td>PJ</td><td>314711476</td></tr>\n",
              "<tr><td>SUL</td><td>PJ</td><td>194268449</td></tr>\n",
              "<tr><td>SUL</td><td>PF</td><td>396868999</td></tr>\n",
              "</table>\n"
            ]
          },
          "metadata": {},
          "execution_count": 24
        }
      ]
    },
    {
      "cell_type": "code",
      "source": [
        "# Valor máximo e mínimo para soma de potenciaInstalada (KW) em relação ao tipoConsumidor\n",
        "queryConsumidorPotencia = dfSomaPotencia.groupBy('tipoConsumidor').agg(F.max('soma_potencia').alias('max_soma_potencia'), F.min('soma_potencia').alias('min_soma_potencia'))\n",
        "\n",
        "queryConsumidorPotencia"
      ],
      "metadata": {
        "colab": {
          "base_uri": "https://localhost:8080/",
          "height": 91
        },
        "id": "uiN01R0YEE5_",
        "outputId": "5d54667f-9336-4f9d-d186-9b99760fa02a"
      },
      "execution_count": null,
      "outputs": [
        {
          "output_type": "execute_result",
          "data": {
            "text/plain": [
              "+--------------+-----------------+-----------------+\n",
              "|tipoConsumidor|max_soma_potencia|min_soma_potencia|\n",
              "+--------------+-----------------+-----------------+\n",
              "|            PF|        444634295|        103162532|\n",
              "|            PJ|        314711476|         44285991|\n",
              "+--------------+-----------------+-----------------+"
            ],
            "text/html": [
              "<table border='1'>\n",
              "<tr><th>tipoConsumidor</th><th>max_soma_potencia</th><th>min_soma_potencia</th></tr>\n",
              "<tr><td>PF</td><td>444634295</td><td>103162532</td></tr>\n",
              "<tr><td>PJ</td><td>314711476</td><td>44285991</td></tr>\n",
              "</table>\n"
            ]
          },
          "metadata": {},
          "execution_count": 25
        }
      ]
    },
    {
      "cell_type": "code",
      "source": [
        "# Valor máximo para soma de potenciaInstalada (KW) em relação ao tipoConsumidor e regiaoNome\n",
        "queryMaxPotencia = dfSomaPotencia.where(F.col('soma_potencia') == dfSomaPotencia.agg(F.max('soma_potencia')).first()[0])\n",
        "\n",
        "queryMaxPotencia"
      ],
      "metadata": {
        "colab": {
          "base_uri": "https://localhost:8080/",
          "height": 68
        },
        "id": "r9ks5tki9zEs",
        "outputId": "66b23c24-493d-494d-8aaf-436ef771301b"
      },
      "execution_count": null,
      "outputs": [
        {
          "output_type": "execute_result",
          "data": {
            "text/plain": [
              "+----------+--------------+-------------+\n",
              "|regiaoNome|tipoConsumidor|soma_potencia|\n",
              "+----------+--------------+-------------+\n",
              "|   SUDESTE|            PF|    444634295|\n",
              "+----------+--------------+-------------+"
            ],
            "text/html": [
              "<table border='1'>\n",
              "<tr><th>regiaoNome</th><th>tipoConsumidor</th><th>soma_potencia</th></tr>\n",
              "<tr><td>SUDESTE</td><td>PF</td><td>444634295</td></tr>\n",
              "</table>\n"
            ]
          },
          "metadata": {},
          "execution_count": 26
        }
      ]
    },
    {
      "cell_type": "code",
      "source": [
        "# Potencia instalada media por tipo de consumidor\n",
        "queryAvgConsumidor = df\\\n",
        "                        .groupBy('tipoConsumidor')\\\n",
        "                        .agg\\\n",
        "                            (F.round(F.avg('potenciaInstalada(KW)'), 2)\\\n",
        "                             .alias('media_potencia'))\n",
        "\n",
        "queryAvgConsumidor"
      ],
      "metadata": {
        "colab": {
          "base_uri": "https://localhost:8080/",
          "height": 91
        },
        "id": "mulkjaKMC5ey",
        "outputId": "d7abc627-69c3-4f5f-cc10-afbd1869cf07"
      },
      "execution_count": null,
      "outputs": [
        {
          "output_type": "execute_result",
          "data": {
            "text/plain": [
              "+--------------+--------------+\n",
              "|tipoConsumidor|media_potencia|\n",
              "+--------------+--------------+\n",
              "|            PF|        787.07|\n",
              "|            PJ|       4105.66|\n",
              "+--------------+--------------+"
            ],
            "text/html": [
              "<table border='1'>\n",
              "<tr><th>tipoConsumidor</th><th>media_potencia</th></tr>\n",
              "<tr><td>PF</td><td>787.07</td></tr>\n",
              "<tr><td>PJ</td><td>4105.66</td></tr>\n",
              "</table>\n"
            ]
          },
          "metadata": {},
          "execution_count": 27
        }
      ]
    },
    {
      "cell_type": "code",
      "source": [
        "# Potencia media instalada por região do país\n",
        "queryAvgRegiao = df\\\n",
        "                   .groupBy('regiaoNome')\\\n",
        "                   .agg\\\n",
        "                        (F.round(F.avg('potenciaInstalada(KW)'), 2)\n",
        "                        .alias('media_potencia'))\\\n",
        "                   .orderBy('media_potencia')\n",
        "\n",
        "queryAvgRegiao"
      ],
      "metadata": {
        "colab": {
          "base_uri": "https://localhost:8080/",
          "height": 161
        },
        "id": "CTLjo73RJZv3",
        "outputId": "fe38e253-39f5-4bdc-9492-7a66f907d6c7"
      },
      "execution_count": null,
      "outputs": [
        {
          "output_type": "execute_result",
          "data": {
            "text/plain": [
              "+------------+--------------+\n",
              "|  regiaoNome|media_potencia|\n",
              "+------------+--------------+\n",
              "|     SUDESTE|       1052.58|\n",
              "|    NORDESTE|       1068.17|\n",
              "|         SUL|       1144.82|\n",
              "|       NORTE|       1193.88|\n",
              "|CENTRO OESTE|       1299.77|\n",
              "+------------+--------------+"
            ],
            "text/html": [
              "<table border='1'>\n",
              "<tr><th>regiaoNome</th><th>media_potencia</th></tr>\n",
              "<tr><td>SUDESTE</td><td>1052.58</td></tr>\n",
              "<tr><td>NORDESTE</td><td>1068.17</td></tr>\n",
              "<tr><td>SUL</td><td>1144.82</td></tr>\n",
              "<tr><td>NORTE</td><td>1193.88</td></tr>\n",
              "<tr><td>CENTRO OESTE</td><td>1299.77</td></tr>\n",
              "</table>\n"
            ]
          },
          "metadata": {},
          "execution_count": 28
        }
      ]
    },
    {
      "cell_type": "code",
      "source": [
        "# Somatorio da potencia instalada (KW) por ano e região\n",
        "dfRegiaoAno= df.groupBy('anoCadastral', 'regiaoNome').agg(F.sum('potenciaInstalada(KW)').alias('somatorio (KW)')).orderBy('anoCadastral', 'regiaoNome')\n",
        "\n",
        "dfRegiaoAno.show(100)"
      ],
      "metadata": {
        "colab": {
          "base_uri": "https://localhost:8080/"
        },
        "id": "epZee7BvKaWr",
        "outputId": "6f0ae33e-315e-4392-cb9b-a96bc8cf1ebf"
      },
      "execution_count": null,
      "outputs": [
        {
          "output_type": "stream",
          "name": "stdout",
          "text": [
            "+------------+------------+--------------+\n",
            "|anoCadastral|  regiaoNome|somatorio (KW)|\n",
            "+------------+------------+--------------+\n",
            "|        2009|CENTRO OESTE|           600|\n",
            "|        2009|       NORTE|           820|\n",
            "|        2010|CENTRO OESTE|           400|\n",
            "|        2010|    NORDESTE|           600|\n",
            "|        2010|     SUDESTE|           600|\n",
            "|        2011|CENTRO OESTE|          7500|\n",
            "|        2011|       NORTE|           100|\n",
            "|        2011|     SUDESTE|           500|\n",
            "|        2012|    NORDESTE|         40600|\n",
            "|        2012|     SUDESTE|          4380|\n",
            "|        2012|         SUL|         19500|\n",
            "|        2013|    NORDESTE|        107337|\n",
            "|        2013|       NORTE|          4270|\n",
            "|        2013|     SUDESTE|         20980|\n",
            "|        2013|         SUL|          2370|\n",
            "|        2014|CENTRO OESTE|          9794|\n",
            "|        2014|    NORDESTE|         96361|\n",
            "|        2014|       NORTE|          5180|\n",
            "|        2014|     SUDESTE|        110092|\n",
            "|        2014|         SUL|         48473|\n",
            "|        2015|CENTRO OESTE|         61272|\n",
            "|        2015|    NORDESTE|        301179|\n",
            "|        2015|       NORTE|         14501|\n",
            "|        2015|     SUDESTE|        831440|\n",
            "|        2015|         SUL|        348374|\n",
            "|        2016|CENTRO OESTE|        402484|\n",
            "|        2016|    NORDESTE|       1735101|\n",
            "|        2016|       NORTE|         52348|\n",
            "|        2016|     SUDESTE|       2845702|\n",
            "|        2016|         SUL|       1370960|\n",
            "|        2017|CENTRO OESTE|       1275815|\n",
            "|        2017|    NORDESTE|       2343791|\n",
            "|        2017|       NORTE|        356980|\n",
            "|        2017|     SUDESTE|       7338436|\n",
            "|        2017|         SUL|       4315207|\n",
            "|        2018|CENTRO OESTE|       6222350|\n",
            "|        2018|    NORDESTE|       6695452|\n",
            "|        2018|       NORTE|       1340572|\n",
            "|        2018|     SUDESTE|      16322315|\n",
            "|        2018|         SUL|      14003594|\n",
            "|        2019|CENTRO OESTE|      26354046|\n",
            "|        2019|    NORDESTE|      23449620|\n",
            "|        2019|       NORTE|       6589792|\n",
            "|        2019|     SUDESTE|      56508063|\n",
            "|        2019|         SUL|      49930629|\n",
            "|        2020|CENTRO OESTE|      50758689|\n",
            "|        2020|    NORDESTE|      54186176|\n",
            "|        2020|       NORTE|      16889103|\n",
            "|        2020|     SUDESTE|     106402541|\n",
            "|        2020|         SUL|      70259842|\n",
            "|        2021|CENTRO OESTE|      71408836|\n",
            "|        2021|    NORDESTE|      93834999|\n",
            "|        2021|       NORTE|      32420326|\n",
            "|        2021|     SUDESTE|     156250762|\n",
            "|        2021|         SUL|     118904163|\n",
            "|        2022|CENTRO OESTE|     113610861|\n",
            "|        2022|    NORDESTE|     159577379|\n",
            "|        2022|       NORTE|      51456078|\n",
            "|        2022|     SUDESTE|     258236181|\n",
            "|        2022|         SUL|     248043356|\n",
            "|        2023|CENTRO OESTE|      84799854|\n",
            "|        2023|    NORDESTE|     104529215|\n",
            "|        2023|       NORTE|      38318453|\n",
            "|        2023|     SUDESTE|     154473779|\n",
            "|        2023|         SUL|      83890980|\n",
            "+------------+------------+--------------+\n",
            "\n"
          ]
        }
      ]
    },
    {
      "cell_type": "code",
      "source": [
        "# Dicionario e lista com valores maximos anuais do somatório da potencia instalada (KW)\n",
        "dictMaxSum = (\n",
        "    dfRegiaoAno\n",
        "    .groupBy('anoCadastral')\n",
        "    .agg(F.max(F.col('somatorio (KW)')).alias('max_somatorio'))\n",
        "    .orderBy('anoCadastral')\n",
        "    ).toPandas()\\\n",
        "    .set_index('anoCadastral')\\\n",
        "    .to_dict()['max_somatorio']\n",
        "\n",
        "listaSum = list(dictMaxSum.values())\n",
        "listaYear = list(dictMaxSum.keys())"
      ],
      "metadata": {
        "id": "2HZ2OMedWz9a"
      },
      "execution_count": null,
      "outputs": []
    },
    {
      "cell_type": "code",
      "source": [
        "# Valores maximos somatório da potencia instalada (KW) por ano e indicação da região\n",
        "queryMaxSum = (\n",
        "    dfRegiaoAno\n",
        "    .where(F.col('anoCadastral').isin(listaYear) & F.col('somatorio (KW)').isin(listaSum))\n",
        "    .select('*')\n",
        "    .withColumn('rank', F.row_number().over(Window.partitionBy('anoCadastral').orderBy(F.col('somatorio (KW)').desc())))\n",
        "    .filter(F.col('rank') == 1)\n",
        "    .drop('rank')\n",
        "    .orderBy('anoCadastral')\n",
        "    )\n",
        "\n",
        "queryMaxSum"
      ],
      "metadata": {
        "colab": {
          "base_uri": "https://localhost:8080/",
          "height": 395
        },
        "id": "EyZFzSpBd9TE",
        "outputId": "92bbf5c5-243e-44be-a084-b228f30cc2b1"
      },
      "execution_count": null,
      "outputs": [
        {
          "output_type": "execute_result",
          "data": {
            "text/plain": [
              "+------------+------------+--------------+\n",
              "|anoCadastral|  regiaoNome|somatorio (KW)|\n",
              "+------------+------------+--------------+\n",
              "|        2009|       NORTE|           820|\n",
              "|        2010|    NORDESTE|           600|\n",
              "|        2011|CENTRO OESTE|          7500|\n",
              "|        2012|    NORDESTE|         40600|\n",
              "|        2013|    NORDESTE|        107337|\n",
              "|        2014|     SUDESTE|        110092|\n",
              "|        2015|     SUDESTE|        831440|\n",
              "|        2016|     SUDESTE|       2845702|\n",
              "|        2017|     SUDESTE|       7338436|\n",
              "|        2018|     SUDESTE|      16322315|\n",
              "|        2019|     SUDESTE|      56508063|\n",
              "|        2020|     SUDESTE|     106402541|\n",
              "|        2021|     SUDESTE|     156250762|\n",
              "|        2022|     SUDESTE|     258236181|\n",
              "|        2023|     SUDESTE|     154473779|\n",
              "+------------+------------+--------------+"
            ],
            "text/html": [
              "<table border='1'>\n",
              "<tr><th>anoCadastral</th><th>regiaoNome</th><th>somatorio (KW)</th></tr>\n",
              "<tr><td>2009</td><td>NORTE</td><td>820</td></tr>\n",
              "<tr><td>2010</td><td>NORDESTE</td><td>600</td></tr>\n",
              "<tr><td>2011</td><td>CENTRO OESTE</td><td>7500</td></tr>\n",
              "<tr><td>2012</td><td>NORDESTE</td><td>40600</td></tr>\n",
              "<tr><td>2013</td><td>NORDESTE</td><td>107337</td></tr>\n",
              "<tr><td>2014</td><td>SUDESTE</td><td>110092</td></tr>\n",
              "<tr><td>2015</td><td>SUDESTE</td><td>831440</td></tr>\n",
              "<tr><td>2016</td><td>SUDESTE</td><td>2845702</td></tr>\n",
              "<tr><td>2017</td><td>SUDESTE</td><td>7338436</td></tr>\n",
              "<tr><td>2018</td><td>SUDESTE</td><td>16322315</td></tr>\n",
              "<tr><td>2019</td><td>SUDESTE</td><td>56508063</td></tr>\n",
              "<tr><td>2020</td><td>SUDESTE</td><td>106402541</td></tr>\n",
              "<tr><td>2021</td><td>SUDESTE</td><td>156250762</td></tr>\n",
              "<tr><td>2022</td><td>SUDESTE</td><td>258236181</td></tr>\n",
              "<tr><td>2023</td><td>SUDESTE</td><td>154473779</td></tr>\n",
              "</table>\n"
            ]
          },
          "metadata": {},
          "execution_count": 31
        }
      ]
    },
    {
      "cell_type": "code",
      "source": [
        "# Dicionario e lista com valores mínimos anuais do somatório da potencia instalada (KW)\n",
        "dictMinSum = (\n",
        "    dfRegiaoAno\n",
        "    .groupBy('anoCadastral')\n",
        "    .agg(F.min(F.col('somatorio (KW)')).alias('min_somatorio'))\n",
        "    .orderBy('anoCadastral')\n",
        "    ).toPandas()\\\n",
        "    .set_index('anoCadastral')\\\n",
        "    .to_dict()['min_somatorio']\n",
        "\n",
        "listaMin = list(dictMinSum.values())\n",
        "listaAno = list(dictMinSum.keys())"
      ],
      "metadata": {
        "id": "__p5BH6AgdGx"
      },
      "execution_count": null,
      "outputs": []
    },
    {
      "cell_type": "code",
      "source": [
        "# Valores mínimos somatório da potencia instalada (KW) por ano e indicação da região\n",
        "queryMinSum = (\n",
        "    dfRegiaoAno\n",
        "    .where(F.col('anoCadastral').isin(listaYear) & F.col('somatorio (KW)').isin(listaMin))\n",
        "    .select('*')\n",
        "    .withColumn('rank', F.row_number().over(Window.partitionBy('anoCadastral').orderBy(F.col('somatorio (KW)').desc())))\n",
        "    .filter(F.col('rank') == 1)\n",
        "    .drop('rank')\n",
        "    .orderBy('anoCadastral')\n",
        "    )\n",
        "\n",
        "queryMinSum"
      ],
      "metadata": {
        "colab": {
          "base_uri": "https://localhost:8080/",
          "height": 395
        },
        "id": "0pBdx0EbgS-_",
        "outputId": "14191ea4-78d8-451b-e8ae-3d2a75c8edf9"
      },
      "execution_count": null,
      "outputs": [
        {
          "output_type": "execute_result",
          "data": {
            "text/plain": [
              "+------------+------------+--------------+\n",
              "|anoCadastral|  regiaoNome|somatorio (KW)|\n",
              "+------------+------------+--------------+\n",
              "|        2009|CENTRO OESTE|           600|\n",
              "|        2010|    NORDESTE|           600|\n",
              "|        2011|       NORTE|           100|\n",
              "|        2012|     SUDESTE|          4380|\n",
              "|        2013|         SUL|          2370|\n",
              "|        2014|       NORTE|          5180|\n",
              "|        2015|       NORTE|         14501|\n",
              "|        2016|       NORTE|         52348|\n",
              "|        2017|       NORTE|        356980|\n",
              "|        2018|       NORTE|       1340572|\n",
              "|        2019|       NORTE|       6589792|\n",
              "|        2020|       NORTE|      16889103|\n",
              "|        2021|       NORTE|      32420326|\n",
              "|        2022|       NORTE|      51456078|\n",
              "|        2023|       NORTE|      38318453|\n",
              "+------------+------------+--------------+"
            ],
            "text/html": [
              "<table border='1'>\n",
              "<tr><th>anoCadastral</th><th>regiaoNome</th><th>somatorio (KW)</th></tr>\n",
              "<tr><td>2009</td><td>CENTRO OESTE</td><td>600</td></tr>\n",
              "<tr><td>2010</td><td>NORDESTE</td><td>600</td></tr>\n",
              "<tr><td>2011</td><td>NORTE</td><td>100</td></tr>\n",
              "<tr><td>2012</td><td>SUDESTE</td><td>4380</td></tr>\n",
              "<tr><td>2013</td><td>SUL</td><td>2370</td></tr>\n",
              "<tr><td>2014</td><td>NORTE</td><td>5180</td></tr>\n",
              "<tr><td>2015</td><td>NORTE</td><td>14501</td></tr>\n",
              "<tr><td>2016</td><td>NORTE</td><td>52348</td></tr>\n",
              "<tr><td>2017</td><td>NORTE</td><td>356980</td></tr>\n",
              "<tr><td>2018</td><td>NORTE</td><td>1340572</td></tr>\n",
              "<tr><td>2019</td><td>NORTE</td><td>6589792</td></tr>\n",
              "<tr><td>2020</td><td>NORTE</td><td>16889103</td></tr>\n",
              "<tr><td>2021</td><td>NORTE</td><td>32420326</td></tr>\n",
              "<tr><td>2022</td><td>NORTE</td><td>51456078</td></tr>\n",
              "<tr><td>2023</td><td>NORTE</td><td>38318453</td></tr>\n",
              "</table>\n"
            ]
          },
          "metadata": {},
          "execution_count": 33
        }
      ]
    },
    {
      "cell_type": "code",
      "source": [
        "# Somatorio da potencia instalada (KW) por fonte de geração e região\n",
        "dfFonteRegiao= df.groupBy('regiaoNome', 'fonteGeracao').agg(F.sum('potenciaInstalada(KW)').alias('somatorio (KW)')).orderBy('regiaoNome', F.col('somatorio (KW)').desc())\n",
        "\n",
        "dfFonteRegiao.where( F.col('regiaoNome') == 'NORDESTE').show(truncate = False)\n",
        "dfFonteRegiao.where( F.col('regiaoNome') == 'SUDESTE').show(truncate = False)\n",
        "dfFonteRegiao.where( F.col('regiaoNome') == 'CENTRO OESTE').show(truncate = False)\n",
        "dfFonteRegiao.where( F.col('regiaoNome') == 'NORTE').show(truncate = False)\n",
        "dfFonteRegiao.where( F.col('regiaoNome') == 'SUL').show(truncate = False)"
      ],
      "metadata": {
        "colab": {
          "base_uri": "https://localhost:8080/"
        },
        "id": "Nu34YrdMoX4a",
        "outputId": "dd03252f-531f-48fa-80f5-a3cfd25d9f62"
      },
      "execution_count": null,
      "outputs": [
        {
          "output_type": "stream",
          "name": "stdout",
          "text": [
            "+----------+----------------------------+--------------+\n",
            "|regiaoNome|fonteGeracao                |somatorio (KW)|\n",
            "+----------+----------------------------+--------------+\n",
            "|NORDESTE  |RADIACÃO SOLAR              |443799712     |\n",
            "|NORDESTE  |CINÉTICA DO VENTO           |1674006       |\n",
            "|NORDESTE  |BIOGÁS - RU                 |341718        |\n",
            "|NORDESTE  |BIOGÁS - RA                 |308352        |\n",
            "|NORDESTE  |GÁS DE ALTO FORNO - BIOMASSA|264000        |\n",
            "|NORDESTE  |GÁS NATURAL                 |231332        |\n",
            "|NORDESTE  |BIOGÁS - FLORESTA           |156300        |\n",
            "|NORDESTE  |BAGAÇO DE CANA DE ACÚCAR    |88890         |\n",
            "|NORDESTE  |POTENCIAL HIDRÁULICO        |23000         |\n",
            "|NORDESTE  |BIOGÁS-AGR                  |10500         |\n",
            "+----------+----------------------------+--------------+\n",
            "\n",
            "+----------+----------------------------+--------------+\n",
            "|regiaoNome|fonteGeracao                |somatorio (KW)|\n",
            "+----------+----------------------------+--------------+\n",
            "|SUDESTE   |RADIACÃO SOLAR              |747678665     |\n",
            "|SUDESTE   |POTENCIAL HIDRÁULICO        |5110697       |\n",
            "|SUDESTE   |BIOGÁS - RU                 |3179588       |\n",
            "|SUDESTE   |BIOGÁS - RA                 |1967920       |\n",
            "|SUDESTE   |BIOGÁS-AGR                  |621336        |\n",
            "|SUDESTE   |GÁS DE ALTO FORNO - BIOMASSA|599900        |\n",
            "|SUDESTE   |BAGAÇO DE CANA DE ACÚCAR    |69200         |\n",
            "|SUDESTE   |BIOGÁS - FLORESTA           |53250         |\n",
            "|SUDESTE   |GÁS NATURAL                 |51100         |\n",
            "|SUDESTE   |CINÉTICA DO VENTO           |14115         |\n",
            "+----------+----------------------------+--------------+\n",
            "\n",
            "+------------+-----------------------------+--------------+\n",
            "|regiaoNome  |fonteGeracao                 |somatorio (KW)|\n",
            "+------------+-----------------------------+--------------+\n",
            "|CENTRO OESTE|RADIACÃO SOLAR               |350477109     |\n",
            "|CENTRO OESTE|BIOGÁS - RA                  |1560253       |\n",
            "|CENTRO OESTE|POTENCIAL HIDRÁULICO         |825700        |\n",
            "|CENTRO OESTE|BAGAÇO DE CANA DE ACÚCAR     |676032        |\n",
            "|CENTRO OESTE|BIOGÁS-AGR                   |435488        |\n",
            "|CENTRO OESTE|GÁS DE ALTO FORNO - BIOMASSA |415600        |\n",
            "|CENTRO OESTE|LENHA                        |250000        |\n",
            "|CENTRO OESTE|BIOGÁS - FLORESTA            |107400        |\n",
            "|CENTRO OESTE|RESÍDUOS SÓLIDOS URBANOS - RU|94200         |\n",
            "|CENTRO OESTE|BIOGÁS - RU                  |70319         |\n",
            "|CENTRO OESTE|CINÉTICA DO VENTO            |400           |\n",
            "+------------+-----------------------------+--------------+\n",
            "\n",
            "+----------+----------------------------+--------------+\n",
            "|regiaoNome|fonteGeracao                |somatorio (KW)|\n",
            "+----------+----------------------------+--------------+\n",
            "|NORTE     |RADIACÃO SOLAR              |147220229     |\n",
            "|NORTE     |RESÍDUOS FLORESTAIS         |200000        |\n",
            "|NORTE     |BIOGÁS-AGR                  |8500          |\n",
            "|NORTE     |GÁS DE ALTO FORNO - BIOMASSA|8500          |\n",
            "|NORTE     |BIOGÁS - RA                 |6900          |\n",
            "|NORTE     |BIOGÁS - FLORESTA           |2400          |\n",
            "|NORTE     |CINÉTICA DO VENTO           |1994          |\n",
            "+----------+----------------------------+--------------+\n",
            "\n",
            "+----------+-----------------------------+--------------+\n",
            "|regiaoNome|fonteGeracao                 |somatorio (KW)|\n",
            "+----------+-----------------------------+--------------+\n",
            "|SUL       |RADIACÃO SOLAR               |585249633     |\n",
            "|SUL       |BIOGÁS - RA                  |1656013       |\n",
            "|SUL       |CASCA DE ARROZ               |1024640       |\n",
            "|SUL       |RESÍDUOS FLORESTAIS          |986000        |\n",
            "|SUL       |POTENCIAL HIDRÁULICO         |953080        |\n",
            "|SUL       |BIOGÁS - RU                  |448914        |\n",
            "|SUL       |BIOGÁS - FLORESTA            |375040        |\n",
            "|SUL       |BIOGÁS-AGR                   |321304        |\n",
            "|SUL       |RESÍDUOS SÓLIDOS URBANOS - RU|65800         |\n",
            "|SUL       |CINÉTICA DO VENTO            |38840         |\n",
            "|SUL       |GÁS NATURAL                  |9300          |\n",
            "|SUL       |BAGAÇO DE CANA DE ACÚCAR     |8884          |\n",
            "+----------+-----------------------------+--------------+\n",
            "\n"
          ]
        }
      ]
    },
    {
      "cell_type": "markdown",
      "source": [
        "# Encerramento"
      ],
      "metadata": {
        "id": "0hT5rrbf2Xrw"
      }
    },
    {
      "cell_type": "code",
      "source": [
        "# encerrando o SparkSession\n",
        "spark.stop()"
      ],
      "metadata": {
        "id": "S6385Mam2kko"
      },
      "execution_count": null,
      "outputs": []
    }
  ]
}