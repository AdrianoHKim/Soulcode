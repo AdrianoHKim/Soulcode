{
  "nbformat": 4,
  "nbformat_minor": 0,
  "metadata": {
    "colab": {
      "provenance": [],
      "toc_visible": true,
      "include_colab_link": true
    },
    "kernelspec": {
      "name": "python3",
      "display_name": "Python 3"
    },
    "language_info": {
      "name": "python"
    }
  },
  "cells": [
    {
      "cell_type": "markdown",
      "metadata": {
        "id": "view-in-github",
        "colab_type": "text"
      },
      "source": [
        "<a href=\"https://colab.research.google.com/github/squadOito/soulcodead2/blob/joseaureliok%2Fnotebook/notebooks/notebook_mongoDB_carregamento.ipynb\" target=\"_parent\"><img src=\"https://colab.research.google.com/assets/colab-badge.svg\" alt=\"Open In Colab\"/></a>"
      ]
    },
    {
      "cell_type": "markdown",
      "source": [
        "## **Projeto Final**\n",
        "Escola: SoulCode Academy\n",
        "\n",
        "Curso: Bootcamp Analista de Dados - Martech - AD2\n",
        "\n",
        "**Alunos: Nomes, Nomes**\n",
        "\n",
        "Professores: Douglas Ribeiro e Franciane Rodrigues"
      ],
      "metadata": {
        "id": "8AvV2uVhNLpj"
      }
    },
    {
      "cell_type": "markdown",
      "source": [
        "## Preparação de Ambiente"
      ],
      "metadata": {
        "id": "L7abbfpEBjvV"
      }
    },
    {
      "cell_type": "code",
      "execution_count": 1,
      "metadata": {
        "id": "cGTV4K2w0xhZ",
        "colab": {
          "base_uri": "https://localhost:8080/"
        },
        "outputId": "5bc25030-bd2b-4a94-8eaf-894ddddffd5c"
      },
      "outputs": [
        {
          "output_type": "stream",
          "name": "stdout",
          "text": [
            "\u001b[2K     \u001b[90m━━━━━━━━━━━━━━━━━━━━━━━━━━━━━━━━━━━━━━━\u001b[0m \u001b[32m603.6/603.6 kB\u001b[0m \u001b[31m5.4 MB/s\u001b[0m eta \u001b[36m0:00:00\u001b[0m\n",
            "\u001b[2K     \u001b[90m━━━━━━━━━━━━━━━━━━━━━━━━━━━━━━━━━━━━━━━\u001b[0m \u001b[32m300.4/300.4 kB\u001b[0m \u001b[31m7.8 MB/s\u001b[0m eta \u001b[36m0:00:00\u001b[0m\n",
            "\u001b[?25h"
          ]
        }
      ],
      "source": [
        "# Instalação bibliotecas\n",
        "!pip install -q pymongo\n",
        "!pip install -q gcsfs"
      ]
    },
    {
      "cell_type": "code",
      "source": [
        "# Importação de bibliotecas\n",
        "import os\n",
        "import pandas as pd\n",
        "import numpy as np\n",
        "\n",
        "from google.colab import data_table\n",
        "from google.cloud import storage\n",
        "from google.colab import drive\n",
        "from google.colab import auth\n",
        "from oauth2client.client import GoogleCredentials\n",
        "from pydrive.auth import GoogleAuth\n",
        "from pydrive.drive import GoogleDrive\n",
        "from pymongo import MongoClient"
      ],
      "metadata": {
        "id": "9PyA1knO9Wau"
      },
      "execution_count": 2,
      "outputs": []
    },
    {
      "cell_type": "markdown",
      "source": [
        "### Função Chave"
      ],
      "metadata": {
        "id": "7eOau36HCPyV"
      }
    },
    {
      "cell_type": "code",
      "source": [
        "def connectKey (chave):\n",
        "  '''\n",
        "  Conecta ao drive para obtenção de chave\n",
        "  chave = nome da chave em string\n",
        "  '''\n",
        "  # Cria compartilhamento com Google Drive\n",
        "  drive.mount('/content/drive', force_remount=True)\n",
        "\n",
        "  # Arquivo a ser acessado na pasta compartilhada\n",
        "  target = chave\n",
        "\n",
        "  # Caminho completo da pasta compartilhada\n",
        "  folder = '/content/drive/MyDrive/Classroom/AD2 - Analista de Dados/ProjetoFinal'\n",
        "\n",
        "  # Acesso ao arquivo no colab\n",
        "  return os.path.join(folder, target)\n",
        "\n"
      ],
      "metadata": {
        "id": "friV8C_2CO_I"
      },
      "execution_count": 3,
      "outputs": []
    },
    {
      "cell_type": "markdown",
      "source": [
        "### Compartilhamento Chave GDrive"
      ],
      "metadata": {
        "id": "J5R3Nt3Q1er7"
      }
    },
    {
      "cell_type": "code",
      "source": [
        "# Nome da chave a ser acessada\n",
        "chaveGcp = 'projeto-final-ad2-e8-ae566c3a2c2b.json'\n",
        "\n",
        "# Chave GCP\n",
        "serviceAccount = connectKey(chaveGcp)"
      ],
      "metadata": {
        "colab": {
          "base_uri": "https://localhost:8080/"
        },
        "id": "pSoSXbShcQVp",
        "outputId": "f013e71e-2e22-4171-9af6-8a217a62173d"
      },
      "execution_count": 4,
      "outputs": [
        {
          "output_type": "stream",
          "name": "stdout",
          "text": [
            "Mounted at /content/drive\n"
          ]
        }
      ]
    },
    {
      "cell_type": "code",
      "source": [
        "# Nome da chave a ser acessada\n",
        "chaveMongo = 'X509-cert-5608832275999674572.pem'\n",
        "\n",
        "# Chave MongoDB\n",
        "mongoKey = connectKey(chaveMongo)"
      ],
      "metadata": {
        "colab": {
          "base_uri": "https://localhost:8080/"
        },
        "id": "79gLQC6bCE5L",
        "outputId": "1d7e061a-b290-4dee-d187-2966f91c0a4a"
      },
      "execution_count": 5,
      "outputs": [
        {
          "output_type": "stream",
          "name": "stdout",
          "text": [
            "Mounted at /content/drive\n"
          ]
        }
      ]
    },
    {
      "cell_type": "markdown",
      "source": [
        "### Configuração Conexão MongoDB"
      ],
      "metadata": {
        "id": "iw_HBWma1nHd"
      }
    },
    {
      "cell_type": "code",
      "source": [
        "# configurando conexão\n",
        "uri = \"mongodb+srv://energy.drstakp.mongodb.net/?authSource=%24external&authMechanism=MONGODB-X509&retryWrites=true&w=majority\"\n",
        "client = MongoClient(uri,\n",
        "\t\t\t\t\t tls=True,\n",
        "\t\t\t\t\t tlsCertificateKeyFile= mongoKey)"
      ],
      "metadata": {
        "id": "Zzgp2wP_J1zP"
      },
      "execution_count": 6,
      "outputs": []
    },
    {
      "cell_type": "markdown",
      "source": [
        "### Configuração da bucket"
      ],
      "metadata": {
        "id": "0dZJqZvm1DES"
      }
    },
    {
      "cell_type": "code",
      "source": [
        "# Nome da bucket\n",
        "bucket_name = 'projeto-final-ad2-e8'\n",
        "\n",
        "# Caminho do prefixo\n",
        "prefix_name = 'dados/tratados/'"
      ],
      "metadata": {
        "id": "BrCJdqEZb2Hv"
      },
      "execution_count": 7,
      "outputs": []
    },
    {
      "cell_type": "code",
      "source": [
        "# Conexão com a conta do Google Cloud\n",
        "os.environ['GOOGLE_APPLICATION_CREDENTIALS'] = serviceAccount"
      ],
      "metadata": {
        "id": "CyymFDdQ2akm"
      },
      "execution_count": 8,
      "outputs": []
    },
    {
      "cell_type": "code",
      "source": [
        "# Conexão com a bucket do Google Cloud\n",
        "clientGcp = storage.Client()\n",
        "bucket = clientGcp.get_bucket(bucket_name)"
      ],
      "metadata": {
        "id": "TV-rH7EWbVpm"
      },
      "execution_count": 9,
      "outputs": []
    },
    {
      "cell_type": "markdown",
      "source": [
        "### Conjuntos de dados"
      ],
      "metadata": {
        "id": "Aa2mhAJnEEYp"
      }
    },
    {
      "cell_type": "code",
      "source": [
        "# Formatação tabular\n",
        "data_table.enable_dataframe_formatter()\n",
        "\n",
        "#data_table.disable_dataframe_formatter()"
      ],
      "metadata": {
        "id": "bvgEB5V7ZP5a"
      },
      "execution_count": 10,
      "outputs": []
    },
    {
      "cell_type": "code",
      "source": [
        "# Listando conjuntos de dados na bucket\n",
        "blobList = [x.name for x in bucket.list_blobs(prefix = prefix_name)]\n",
        "\n",
        "# dataframe lista blobs\n",
        "blobDf = pd.DataFrame(blobList)\n",
        "\n",
        "blobDf"
      ],
      "metadata": {
        "colab": {
          "base_uri": "https://localhost:8080/",
          "height": 380
        },
        "id": "2slicw962vbz",
        "outputId": "efa0cc8d-ec73-494f-ba45-4213223aaea8"
      },
      "execution_count": 11,
      "outputs": [
        {
          "output_type": "execute_result",
          "data": {
            "text/plain": [
              "                                                    0\n",
              "0                                     dados/tratados/\n",
              "1   dados/tratados/Veiculos_eletricos_brasil_anfav...\n",
              "2               dados/tratados/dataset_tratados_xlsx/\n",
              "3   dados/tratados/dataset_tratados_xlsx/2_1_cap_i...\n",
              "4   dados/tratados/dataset_tratados_xlsx/2_2_cap_i...\n",
              "5   dados/tratados/dataset_tratados_xlsx/2_2_cap_i...\n",
              "6   dados/tratados/dataset_tratados_xlsx/2_3_gerac...\n",
              "7   dados/tratados/fator_capacidade_mwh_2015_2023.csv\n",
              "8        dados/tratados/iea_ponto_recarga_tratado.csv\n",
              "9             dados/tratados/iea_veiculos_tratado.csv\n",
              "10     dados/tratados/tratado_geracao_distribuida.csv\n",
              "11  dados/tratados/tratado_global_horizontal_means..."
            ],
            "text/html": [
              "\n",
              "\n",
              "  <div id=\"df-f238be42-c9e7-4936-9ad8-ddfad532c3ea\">\n",
              "    <div class=\"colab-df-container\">\n",
              "      <div>\n",
              "<style scoped>\n",
              "    .dataframe tbody tr th:only-of-type {\n",
              "        vertical-align: middle;\n",
              "    }\n",
              "\n",
              "    .dataframe tbody tr th {\n",
              "        vertical-align: top;\n",
              "    }\n",
              "\n",
              "    .dataframe thead th {\n",
              "        text-align: right;\n",
              "    }\n",
              "</style>\n",
              "<table border=\"1\" class=\"dataframe\">\n",
              "  <thead>\n",
              "    <tr style=\"text-align: right;\">\n",
              "      <th></th>\n",
              "      <th>0</th>\n",
              "    </tr>\n",
              "  </thead>\n",
              "  <tbody>\n",
              "    <tr>\n",
              "      <th>0</th>\n",
              "      <td>dados/tratados/</td>\n",
              "    </tr>\n",
              "    <tr>\n",
              "      <th>1</th>\n",
              "      <td>dados/tratados/Veiculos_eletricos_brasil_anfav...</td>\n",
              "    </tr>\n",
              "    <tr>\n",
              "      <th>2</th>\n",
              "      <td>dados/tratados/dataset_tratados_xlsx/</td>\n",
              "    </tr>\n",
              "    <tr>\n",
              "      <th>3</th>\n",
              "      <td>dados/tratados/dataset_tratados_xlsx/2_1_cap_i...</td>\n",
              "    </tr>\n",
              "    <tr>\n",
              "      <th>4</th>\n",
              "      <td>dados/tratados/dataset_tratados_xlsx/2_2_cap_i...</td>\n",
              "    </tr>\n",
              "    <tr>\n",
              "      <th>5</th>\n",
              "      <td>dados/tratados/dataset_tratados_xlsx/2_2_cap_i...</td>\n",
              "    </tr>\n",
              "    <tr>\n",
              "      <th>6</th>\n",
              "      <td>dados/tratados/dataset_tratados_xlsx/2_3_gerac...</td>\n",
              "    </tr>\n",
              "    <tr>\n",
              "      <th>7</th>\n",
              "      <td>dados/tratados/fator_capacidade_mwh_2015_2023.csv</td>\n",
              "    </tr>\n",
              "    <tr>\n",
              "      <th>8</th>\n",
              "      <td>dados/tratados/iea_ponto_recarga_tratado.csv</td>\n",
              "    </tr>\n",
              "    <tr>\n",
              "      <th>9</th>\n",
              "      <td>dados/tratados/iea_veiculos_tratado.csv</td>\n",
              "    </tr>\n",
              "    <tr>\n",
              "      <th>10</th>\n",
              "      <td>dados/tratados/tratado_geracao_distribuida.csv</td>\n",
              "    </tr>\n",
              "    <tr>\n",
              "      <th>11</th>\n",
              "      <td>dados/tratados/tratado_global_horizontal_means...</td>\n",
              "    </tr>\n",
              "  </tbody>\n",
              "</table>\n",
              "</div>\n",
              "      <button class=\"colab-df-convert\" onclick=\"convertToInteractive('df-f238be42-c9e7-4936-9ad8-ddfad532c3ea')\"\n",
              "              title=\"Convert this dataframe to an interactive table.\"\n",
              "              style=\"display:none;\">\n",
              "\n",
              "  <svg xmlns=\"http://www.w3.org/2000/svg\" height=\"24px\"viewBox=\"0 0 24 24\"\n",
              "       width=\"24px\">\n",
              "    <path d=\"M0 0h24v24H0V0z\" fill=\"none\"/>\n",
              "    <path d=\"M18.56 5.44l.94 2.06.94-2.06 2.06-.94-2.06-.94-.94-2.06-.94 2.06-2.06.94zm-11 1L8.5 8.5l.94-2.06 2.06-.94-2.06-.94L8.5 2.5l-.94 2.06-2.06.94zm10 10l.94 2.06.94-2.06 2.06-.94-2.06-.94-.94-2.06-.94 2.06-2.06.94z\"/><path d=\"M17.41 7.96l-1.37-1.37c-.4-.4-.92-.59-1.43-.59-.52 0-1.04.2-1.43.59L10.3 9.45l-7.72 7.72c-.78.78-.78 2.05 0 2.83L4 21.41c.39.39.9.59 1.41.59.51 0 1.02-.2 1.41-.59l7.78-7.78 2.81-2.81c.8-.78.8-2.07 0-2.86zM5.41 20L4 18.59l7.72-7.72 1.47 1.35L5.41 20z\"/>\n",
              "  </svg>\n",
              "      </button>\n",
              "\n",
              "\n",
              "\n",
              "    <div id=\"df-0fcfe194-2eac-4c9d-b8fc-af7107670285\">\n",
              "      <button class=\"colab-df-quickchart\" onclick=\"quickchart('df-0fcfe194-2eac-4c9d-b8fc-af7107670285')\"\n",
              "              title=\"Suggest charts.\"\n",
              "              style=\"display:none;\">\n",
              "\n",
              "<svg xmlns=\"http://www.w3.org/2000/svg\" height=\"24px\"viewBox=\"0 0 24 24\"\n",
              "     width=\"24px\">\n",
              "    <g>\n",
              "        <path d=\"M19 3H5c-1.1 0-2 .9-2 2v14c0 1.1.9 2 2 2h14c1.1 0 2-.9 2-2V5c0-1.1-.9-2-2-2zM9 17H7v-7h2v7zm4 0h-2V7h2v10zm4 0h-2v-4h2v4z\"/>\n",
              "    </g>\n",
              "</svg>\n",
              "      </button>\n",
              "    </div>\n",
              "\n",
              "<style>\n",
              "  .colab-df-quickchart {\n",
              "    background-color: #E8F0FE;\n",
              "    border: none;\n",
              "    border-radius: 50%;\n",
              "    cursor: pointer;\n",
              "    display: none;\n",
              "    fill: #1967D2;\n",
              "    height: 32px;\n",
              "    padding: 0 0 0 0;\n",
              "    width: 32px;\n",
              "  }\n",
              "\n",
              "  .colab-df-quickchart:hover {\n",
              "    background-color: #E2EBFA;\n",
              "    box-shadow: 0px 1px 2px rgba(60, 64, 67, 0.3), 0px 1px 3px 1px rgba(60, 64, 67, 0.15);\n",
              "    fill: #174EA6;\n",
              "  }\n",
              "\n",
              "  [theme=dark] .colab-df-quickchart {\n",
              "    background-color: #3B4455;\n",
              "    fill: #D2E3FC;\n",
              "  }\n",
              "\n",
              "  [theme=dark] .colab-df-quickchart:hover {\n",
              "    background-color: #434B5C;\n",
              "    box-shadow: 0px 1px 3px 1px rgba(0, 0, 0, 0.15);\n",
              "    filter: drop-shadow(0px 1px 2px rgba(0, 0, 0, 0.3));\n",
              "    fill: #FFFFFF;\n",
              "  }\n",
              "</style>\n",
              "\n",
              "    <script>\n",
              "      async function quickchart(key) {\n",
              "        const containerElement = document.querySelector('#' + key);\n",
              "        const charts = await google.colab.kernel.invokeFunction(\n",
              "            'suggestCharts', [key], {});\n",
              "      }\n",
              "    </script>\n",
              "\n",
              "      <script>\n",
              "\n",
              "function displayQuickchartButton(domScope) {\n",
              "  let quickchartButtonEl =\n",
              "    domScope.querySelector('#df-0fcfe194-2eac-4c9d-b8fc-af7107670285 button.colab-df-quickchart');\n",
              "  quickchartButtonEl.style.display =\n",
              "    google.colab.kernel.accessAllowed ? 'block' : 'none';\n",
              "}\n",
              "\n",
              "        displayQuickchartButton(document);\n",
              "      </script>\n",
              "      <style>\n",
              "    .colab-df-container {\n",
              "      display:flex;\n",
              "      flex-wrap:wrap;\n",
              "      gap: 12px;\n",
              "    }\n",
              "\n",
              "    .colab-df-convert {\n",
              "      background-color: #E8F0FE;\n",
              "      border: none;\n",
              "      border-radius: 50%;\n",
              "      cursor: pointer;\n",
              "      display: none;\n",
              "      fill: #1967D2;\n",
              "      height: 32px;\n",
              "      padding: 0 0 0 0;\n",
              "      width: 32px;\n",
              "    }\n",
              "\n",
              "    .colab-df-convert:hover {\n",
              "      background-color: #E2EBFA;\n",
              "      box-shadow: 0px 1px 2px rgba(60, 64, 67, 0.3), 0px 1px 3px 1px rgba(60, 64, 67, 0.15);\n",
              "      fill: #174EA6;\n",
              "    }\n",
              "\n",
              "    [theme=dark] .colab-df-convert {\n",
              "      background-color: #3B4455;\n",
              "      fill: #D2E3FC;\n",
              "    }\n",
              "\n",
              "    [theme=dark] .colab-df-convert:hover {\n",
              "      background-color: #434B5C;\n",
              "      box-shadow: 0px 1px 3px 1px rgba(0, 0, 0, 0.15);\n",
              "      filter: drop-shadow(0px 1px 2px rgba(0, 0, 0, 0.3));\n",
              "      fill: #FFFFFF;\n",
              "    }\n",
              "  </style>\n",
              "\n",
              "      <script>\n",
              "        const buttonEl =\n",
              "          document.querySelector('#df-f238be42-c9e7-4936-9ad8-ddfad532c3ea button.colab-df-convert');\n",
              "        buttonEl.style.display =\n",
              "          google.colab.kernel.accessAllowed ? 'block' : 'none';\n",
              "\n",
              "        async function convertToInteractive(key) {\n",
              "          const element = document.querySelector('#df-f238be42-c9e7-4936-9ad8-ddfad532c3ea');\n",
              "          const dataTable =\n",
              "            await google.colab.kernel.invokeFunction('convertToInteractive',\n",
              "                                                     [key], {});\n",
              "          if (!dataTable) return;\n",
              "\n",
              "          const docLinkHtml = 'Like what you see? Visit the ' +\n",
              "            '<a target=\"_blank\" href=https://colab.research.google.com/notebooks/data_table.ipynb>data table notebook</a>'\n",
              "            + ' to learn more about interactive tables.';\n",
              "          element.innerHTML = '';\n",
              "          dataTable['output_type'] = 'display_data';\n",
              "          await google.colab.output.renderOutput(dataTable, element);\n",
              "          const docLink = document.createElement('div');\n",
              "          docLink.innerHTML = docLinkHtml;\n",
              "          element.appendChild(docLink);\n",
              "        }\n",
              "      </script>\n",
              "    </div>\n",
              "  </div>\n"
            ],
            "application/vnd.google.colaboratory.module+javascript": "\n      import \"https://ssl.gstatic.com/colaboratory/data_table/881c4a0d49046431/data_table.js\";\n\n      const table = window.createDataTable({\n        data: [[{\n            'v': 0,\n            'f': \"0\",\n        },\n\"dados/tratados/\"],\n [{\n            'v': 1,\n            'f': \"1\",\n        },\n\"dados/tratados/Veiculos_eletricos_brasil_anfavea_2012_2023_crescimento.csv\"],\n [{\n            'v': 2,\n            'f': \"2\",\n        },\n\"dados/tratados/dataset_tratados_xlsx/\"],\n [{\n            'v': 3,\n            'f': \"3\",\n        },\n\"dados/tratados/dataset_tratados_xlsx/2_1_cap_instalada_por_regiao_e_uf_tratado.xlsx\"],\n [{\n            'v': 4,\n            'f': \"4\",\n        },\n\"dados/tratados/dataset_tratados_xlsx/2_2_cap_instalada_de_geracao_eletrica_por_fonte_mw.csv\"],\n [{\n            'v': 5,\n            'f': \"5\",\n        },\n\"dados/tratados/dataset_tratados_xlsx/2_2_cap_instalada_de_geracao_eletrica_por_fonte_mw.xlsx\"],\n [{\n            'v': 6,\n            'f': \"6\",\n        },\n\"dados/tratados/dataset_tratados_xlsx/2_3_geracao_eletrica_por_fonte_gwh_tratado.xlsx\"],\n [{\n            'v': 7,\n            'f': \"7\",\n        },\n\"dados/tratados/fator_capacidade_mwh_2015_2023.csv\"],\n [{\n            'v': 8,\n            'f': \"8\",\n        },\n\"dados/tratados/iea_ponto_recarga_tratado.csv\"],\n [{\n            'v': 9,\n            'f': \"9\",\n        },\n\"dados/tratados/iea_veiculos_tratado.csv\"],\n [{\n            'v': 10,\n            'f': \"10\",\n        },\n\"dados/tratados/tratado_geracao_distribuida.csv\"],\n [{\n            'v': 11,\n            'f': \"11\",\n        },\n\"dados/tratados/tratado_global_horizontal_means.csv\"]],\n        columns: [[\"number\", \"index\"], [\"string\", \"0\"]],\n        columnOptions: [{\"width\": \"1px\", \"className\": \"index_column\"}],\n        rowsPerPage: 25,\n        helpUrl: \"https://colab.research.google.com/notebooks/data_table.ipynb\",\n        suppressOutputScrolling: true,\n        minimumWidth: undefined,\n      });\n      \n      function appendQuickchartButton(parentElement) {\n        let quickchartButtonContainerElement = document.createElement('div');\n        quickchartButtonContainerElement.innerHTML = `\n    <div id=\"df-7604f9ee-e315-4afb-aa4a-9aaf8ebda224\">\n      <button class=\"colab-df-quickchart\" onclick=\"quickchart('df-7604f9ee-e315-4afb-aa4a-9aaf8ebda224')\"\n              title=\"Suggest charts.\"\n              style=\"display:none;\">\n\n<svg xmlns=\"http://www.w3.org/2000/svg\" height=\"24px\"viewBox=\"0 0 24 24\"\n     width=\"24px\">\n    <g>\n        <path d=\"M19 3H5c-1.1 0-2 .9-2 2v14c0 1.1.9 2 2 2h14c1.1 0 2-.9 2-2V5c0-1.1-.9-2-2-2zM9 17H7v-7h2v7zm4 0h-2V7h2v10zm4 0h-2v-4h2v4z\"/>\n    </g>\n</svg>\n      </button>\n    </div>\n\n<style>\n  .colab-df-quickchart {\n    background-color: #E8F0FE;\n    border: none;\n    border-radius: 50%;\n    cursor: pointer;\n    display: none;\n    fill: #1967D2;\n    height: 32px;\n    padding: 0 0 0 0;\n    width: 32px;\n  }\n\n  .colab-df-quickchart:hover {\n    background-color: #E2EBFA;\n    box-shadow: 0px 1px 2px rgba(60, 64, 67, 0.3), 0px 1px 3px 1px rgba(60, 64, 67, 0.15);\n    fill: #174EA6;\n  }\n\n  [theme=dark] .colab-df-quickchart {\n    background-color: #3B4455;\n    fill: #D2E3FC;\n  }\n\n  [theme=dark] .colab-df-quickchart:hover {\n    background-color: #434B5C;\n    box-shadow: 0px 1px 3px 1px rgba(0, 0, 0, 0.15);\n    filter: drop-shadow(0px 1px 2px rgba(0, 0, 0, 0.3));\n    fill: #FFFFFF;\n  }\n</style>\n\n    <script>\n      async function quickchart(key) {\n        const containerElement = document.querySelector('#' + key);\n        const charts = await google.colab.kernel.invokeFunction(\n            'suggestCharts', [key], {});\n      }\n    </script>\n`;\n        parentElement.appendChild(quickchartButtonContainerElement);\n        \nfunction displayQuickchartButton(domScope) {\n  let quickchartButtonEl =\n    domScope.querySelector('#df-7604f9ee-e315-4afb-aa4a-9aaf8ebda224 button.colab-df-quickchart');\n  quickchartButtonEl.style.display =\n    google.colab.kernel.accessAllowed ? 'block' : 'none';\n}\n\n        displayQuickchartButton(parentElement);\n      }\n\n      appendQuickchartButton(table);\n    "
          },
          "metadata": {},
          "execution_count": 11
        }
      ]
    },
    {
      "cell_type": "markdown",
      "source": [
        "### Seleção do conjunto de dados"
      ],
      "metadata": {
        "id": "QH7YW34taBbR"
      }
    },
    {
      "cell_type": "code",
      "source": [
        "# Seleção do blob - CSV\n",
        "blobC1 = 'dados/tratados/fator_capacidade_mwh_2015_2023.csv'\n",
        "blobC2 = 'dados/tratados/tratado_geracao_distribuida.csv'\n",
        "blobC3 = 'dados/tratados/iea_ponto_recarga_tratado.csv'\n",
        "blobC4 = 'dados/tratados/Veiculos_eletricos_brasil_anfavea_2012_2023_crescimento.csv'\n",
        "blobC5 = 'dados/tratados/tratado_global_horizontal_means.csv'\n",
        "blobC6 = 'dados/tratados/dataset_tratados_xlsx/2_2_cap_instalada_de_geracao_eletrica_por_fonte_mw.csv'\n",
        "\n",
        "# Seleção do blob - EXCEL\n",
        "blobE1 = 'dados/tratados/dataset_tratados_xlsx/2_1_cap_instalada_por_regiao_e_uf_tratado.xlsx'\n",
        "blobE3 = \t'dados/tratados/dataset_tratados_xlsx/2_3_geracao_eletrica_por_fonte_gwh_tratado.xlsx'"
      ],
      "metadata": {
        "id": "G8ObSJZmaeAL"
      },
      "execution_count": 12,
      "outputs": []
    },
    {
      "cell_type": "code",
      "source": [
        "# Caminho gsutil do arquivo\n",
        "\n",
        "pathC = {\n",
        "        'fator_capacidade' : f'gs://{bucket_name}/{blobC1}',\n",
        "        'geracao_distribuida' : f'gs://{bucket_name}/{blobC2}',\n",
        "        'iea_recarga' : f'gs://{bucket_name}/{blobC3}',\n",
        "        'veiculos_anfeava' : f'gs://{bucket_name}/{blobC4}',\n",
        "        'global_means' : f'gs://{bucket_name}/{blobC5}',\n",
        "        'instalada_fonte' : f'gs://{bucket_name}/{blobC6}'\n",
        "}\n",
        "\n",
        "pathE = {\n",
        "        'instalada_regiao' : f'gs://{bucket_name}/{blobE1}',\n",
        "        'geracao_fonte' : f'gs://{bucket_name}/{blobE3}'\n",
        "}"
      ],
      "metadata": {
        "id": "_f15se_jLs3O"
      },
      "execution_count": 13,
      "outputs": []
    },
    {
      "cell_type": "markdown",
      "source": [
        "## Collection"
      ],
      "metadata": {
        "id": "ou_IzTfq4yPg"
      }
    },
    {
      "cell_type": "code",
      "source": [
        "# Criando instância client\n",
        "db = client['backup']\n",
        "\n",
        "# Criando coleções\n",
        "collection_csv = db['csv']\n",
        "collection_excel = db['excel']"
      ],
      "metadata": {
        "id": "b6LpBr6b44hb"
      },
      "execution_count": 14,
      "outputs": []
    },
    {
      "cell_type": "markdown",
      "source": [
        "### Verificação"
      ],
      "metadata": {
        "id": "hosXMRiXEg57"
      }
    },
    {
      "cell_type": "code",
      "source": [
        "# Verificando valores no MongoDB\n",
        "doc_count_csv = collection_csv.count_documents({})\n",
        "doc_count_excel = collection_excel.count_documents({})\n",
        "\n",
        "print( f'\\n-CSV: {doc_count_csv} \\n-EXCEL: {doc_count_excel}')"
      ],
      "metadata": {
        "id": "taBeCO0_6b6u",
        "colab": {
          "base_uri": "https://localhost:8080/"
        },
        "outputId": "e5c04986-f82f-4e7d-d8dd-4598f39cac5f"
      },
      "execution_count": 15,
      "outputs": [
        {
          "output_type": "stream",
          "name": "stdout",
          "text": [
            "\n",
            "-CSV: 0 \n",
            "-EXCEL: 0\n"
          ]
        }
      ]
    },
    {
      "cell_type": "markdown",
      "source": [
        "## Integração Google Cloud Storage - MongoDB"
      ],
      "metadata": {
        "id": "wgXTwxQXBMjK"
      }
    },
    {
      "cell_type": "markdown",
      "source": [
        "### Extração da bucket"
      ],
      "metadata": {
        "id": "1RUCtvRBEXmM"
      }
    },
    {
      "cell_type": "markdown",
      "source": [
        "#### CSV"
      ],
      "metadata": {
        "id": "8XcfkS118xSJ"
      }
    },
    {
      "cell_type": "code",
      "source": [
        "dictC = {}\n",
        "\n",
        "for k, v in pathC.items():\n",
        "  dfC = pd.read_csv(v)\n",
        "\n",
        "  dictC[k] = dfC\n",
        "\n",
        "print(dictC)"
      ],
      "metadata": {
        "id": "NZqEm8rfEXEm",
        "colab": {
          "base_uri": "https://localhost:8080/"
        },
        "outputId": "7bb62e82-1725-4b2a-985f-80e81cd149e0"
      },
      "execution_count": 16,
      "outputs": [
        {
          "output_type": "stream",
          "name": "stderr",
          "text": [
            "<ipython-input-16-c2864569bb55>:4: DtypeWarning: Columns (15) have mixed types. Specify dtype option on import or set low_memory=False.\n",
            "  dfC = pd.read_csv(v)\n"
          ]
        },
        {
          "output_type": "stream",
          "name": "stdout",
          "text": [
            "{'fator_capacidade':         id_subsistema        nom_subsistema id_estado nom_estado  \\\n",
            "0                  NE              Nordeste        BA      BAHIA   \n",
            "1                  NE              Nordeste        BA      BAHIA   \n",
            "2                  NE              Nordeste        BA      BAHIA   \n",
            "3                  NE              Nordeste        BA      BAHIA   \n",
            "4                  NE              Nordeste        BA      BAHIA   \n",
            "...               ...                   ...       ...        ...   \n",
            "8622775            SE  Sudeste/Centro-Oeste        SP  SAO PAULO   \n",
            "8622776            SE  Sudeste/Centro-Oeste        SP  SAO PAULO   \n",
            "8622777            SE  Sudeste/Centro-Oeste        SP  SAO PAULO   \n",
            "8622778            SE  Sudeste/Centro-Oeste        SP  SAO PAULO   \n",
            "8622779            SE  Sudeste/Centro-Oeste        SP  SAO PAULO   \n",
            "\n",
            "                   nom_pontoconexao nom_localizacao  val_latitudesecoletora  \\\n",
            "0            IGAPORA II - 69 kV (A)        Interior              -14.208409   \n",
            "1           IGAPORA II - 230 kV (B)        Interior              -14.102794   \n",
            "2           IGAPORA II - 230 kV (B)        Interior              -14.186292   \n",
            "3            IGAPORA II - 69 kV (A)        Interior              -13.916364   \n",
            "4            IGAPORA II - 69 kV (A)        Interior              -14.172142   \n",
            "...                             ...             ...                     ...   \n",
            "8622775    TRES IRMAOS - 138 kV (A)             NaN              -20.790444   \n",
            "8622776        DRACENA - 138 kV (A)             NaN              -21.450214   \n",
            "8622777       GETULINA - 138 kV (A)             NaN              -21.893809   \n",
            "8622778  AGUA VERMELHA - 138 kV (A)             NaN              -20.195849   \n",
            "8622779    TRES IRMAOS - 138 kV (A)             NaN              -20.620000   \n",
            "\n",
            "         val_longitudesecoletora  val_latitudepontoconexao  \\\n",
            "0                     -42.636807                -14.027222   \n",
            "1                     -42.609369                -14.027222   \n",
            "2                     -42.493356                -14.027222   \n",
            "3                     -42.616201                -14.027222   \n",
            "4                     -42.598414                -14.027222   \n",
            "...                          ...                       ...   \n",
            "8622775               -51.529266                -20.656389   \n",
            "8622776               -51.587776                -21.457222   \n",
            "8622777               -49.863684                -21.855464   \n",
            "8622778               -50.032683                -19.867222   \n",
            "8622779               -51.300000                -20.656389   \n",
            "\n",
            "         val_longitudepontoconexao nom_modalidadeoperacao nom_tipousina  \\\n",
            "0                       -42.629444     Conjunto de Usinas        Eólica   \n",
            "1                       -42.629444     Conjunto de Usinas        Eólica   \n",
            "2                       -42.629444     Conjunto de Usinas        Eólica   \n",
            "3                       -42.629444     Conjunto de Usinas        Eólica   \n",
            "4                       -42.629444     Conjunto de Usinas        Eólica   \n",
            "...                            ...                    ...           ...   \n",
            "8622775                 -51.482778     Conjunto de Usinas         Solar   \n",
            "8622776                 -51.526667     Conjunto de Usinas         Solar   \n",
            "8622777                 -49.838358     Conjunto de Usinas         Solar   \n",
            "8622778                 -50.350000     Conjunto de Usinas         Solar   \n",
            "8622779                 -51.482778     Conjunto de Usinas         Solar   \n",
            "\n",
            "             nom_usina_conjunto      id_ons ceg                 data  \\\n",
            "0                Conj. Alvorada   CJU_BAALV   -  2015-01-01 00:00:00   \n",
            "1                  Conj. Araçás   CJU_BAARA   -  2015-01-01 00:00:00   \n",
            "2             Conj. Caetité 123   CJU_BACAE   -  2015-01-01 00:00:00   \n",
            "3        Conj. Curva dos Ventos   CJU_BACVN   -  2015-01-01 00:00:00   \n",
            "4                 Conj. Guirapá   CJU_BAGRP   -  2015-01-01 00:00:00   \n",
            "...                         ...         ...  ..                  ...   \n",
            "8622775          Conj. Castilho  CJU_SPCST3   -  2023-08-01 23:00:00   \n",
            "8622776           Conj. Dracena   CJU_SPUFD   -  2023-08-01 23:00:00   \n",
            "8622777           Conj. Guaimbê  CJU_SPCUFG   -  2023-08-01 23:00:00   \n",
            "8622778      Conj. Pedranópolis   CJU_SPPED   -  2023-08-01 23:00:00   \n",
            "8622779   Conj. Pereira Barreto    CJU_SPPB   -  2023-08-01 23:00:00   \n",
            "\n",
            "         val_geracaoprogramada  val_geracaoverificada  \\\n",
            "0                         35.5              36.092073   \n",
            "1                         29.0              65.187220   \n",
            "2                         23.0              36.777401   \n",
            "3                         11.5              19.176730   \n",
            "4                         27.5              34.876650   \n",
            "...                        ...                    ...   \n",
            "8622775                    0.0               0.137000   \n",
            "8622776                    0.0               0.000000   \n",
            "8622777                    0.0               0.000000   \n",
            "8622778                    0.0               0.000000   \n",
            "8622779                    0.0               0.000000   \n",
            "\n",
            "         val_capacidadeinstalada  val_fatorcapacidade  \n",
            "0                          38.40             0.939898  \n",
            "1                         107.22             0.607976  \n",
            "2                          90.00             0.408638  \n",
            "3                          54.05             0.354796  \n",
            "4                          52.80             0.660543  \n",
            "...                          ...                  ...  \n",
            "8622775                   210.70             0.000650  \n",
            "8622776                    81.00             0.000000  \n",
            "8622777                   150.00             0.000000  \n",
            "8622778                    90.36             0.000000  \n",
            "8622779                   203.52             0.000000  \n",
            "\n",
            "[8622780 rows x 20 columns], 'geracao_distribuida':         dataPesquisa periodoPesquisa  idDistribuidora agenteAbreviado  \\\n",
            "0         2023-07-31         07/2023     8.336783e+12      CELESC-DIS   \n",
            "1         2023-07-31         07/2023     6.169523e+13     ELETROPAULO   \n",
            "2         2023-07-31         07/2023     6.169523e+13     ELETROPAULO   \n",
            "3         2023-07-31         07/2023     6.169523e+13     ELETROPAULO   \n",
            "4         2023-07-31         07/2023     6.169523e+13     ELETROPAULO   \n",
            "...              ...             ...              ...             ...   \n",
            "2052705   2023-07-31         07/2023     8.324196e+12          COSERN   \n",
            "2052706   2023-07-31         07/2023     8.324196e+12          COSERN   \n",
            "2052707   2023-07-31         07/2023     8.324196e+12          COSERN   \n",
            "2052708   2023-07-31         07/2023     7.047251e+12         ENEL CE   \n",
            "2052709   2023-07-31         07/2023     6.840748e+12   EQUATORIAL PI   \n",
            "\n",
            "                                                agenteNome  classeConsumo  \\\n",
            "0                                  CELESC DISTRIBUICÃO S.A              5   \n",
            "1        ELETROPAULO METROPOLITANA ELETRICIDADE DE SÃO ...              6   \n",
            "2        ELETROPAULO METROPOLITANA ELETRICIDADE DE SÃO ...              5   \n",
            "3        ELETROPAULO METROPOLITANA ELETRICIDADE DE SÃO ...              5   \n",
            "4        ELETROPAULO METROPOLITANA ELETRICIDADE DE SÃO ...              5   \n",
            "...                                                    ...            ...   \n",
            "2052705  COMPANHIA ENERGÉTICA DO RIO GRANDE DO NORTE CO...              7   \n",
            "2052706  COMPANHIA ENERGÉTICA DO RIO GRANDE DO NORTE CO...              7   \n",
            "2052707  COMPANHIA ENERGÉTICA DO RIO GRANDE DO NORTE CO...              7   \n",
            "2052708                      COMPANHIA ENERGÉTICA DO CEARÁ              7   \n",
            "2052709      EQUATORIAL PIAUÍ DISTRIBUIDORA DE ENERGIA S.A              7   \n",
            "\n",
            "          nomeClasseConsumo  subgrupoTarifa nomeSubgrupoTarifa  ufIbge  ...  \\\n",
            "0             PODER PÚBLICO              11                 B3      42  ...   \n",
            "1           SERVIÇO PÚBLICO               7                 A4      35  ...   \n",
            "2             PODER PÚBLICO               9                 B1      35  ...   \n",
            "3             PODER PÚBLICO               9                 B1      35  ...   \n",
            "4             PODER PÚBLICO               7                 A4      35  ...   \n",
            "...                     ...             ...                ...     ...  ...   \n",
            "2052705  ILUMINACÃO PÚBLICA               9                 B1      24  ...   \n",
            "2052706  ILUMINACÃO PÚBLICA               9                 B1      24  ...   \n",
            "2052707  ILUMINACÃO PÚBLICA              10                 B2      24  ...   \n",
            "2052708  ILUMINACÃO PÚBLICA              11                 B3      23  ...   \n",
            "2052709  ILUMINACÃO PÚBLICA               9                 B1      22  ...   \n",
            "\n",
            "          idEmpreendimento  cadastroEmpreendimento tipoEmpreendimento  \\\n",
            "0        GD.SC.000.188.684              2020-01-20                  P   \n",
            "1        GD.SP.000.027.612              2017-07-12                  P   \n",
            "2        GD.SP.000.081.118              2019-05-30                  P   \n",
            "3        GD.SP.000.210.094              2020-03-30                  P   \n",
            "4        GD.SP.000.863.525              2021-04-02                  P   \n",
            "...                    ...                     ...                ...   \n",
            "2052705  GD.RN.000.549.804              2021-07-31                  P   \n",
            "2052706  GD.RN.000.863.246              2022-02-25                  P   \n",
            "2052707  GD.RN.000.349.903              2020-11-06                  P   \n",
            "2052708  GD.CE.000.166.397              2019-12-31                  P   \n",
            "2052709  GD.PI.000.893.818              2022-03-11                  R   \n",
            "\n",
            "                                      tipoHabilitado creditoReceber  \\\n",
            "0        COM MICROGERACAO OU MINIGERACAO DISTRIBUIDA              1   \n",
            "1        COM MICROGERACAO OU MINIGERACAO DISTRIBUIDA              1   \n",
            "2        COM MICROGERACAO OU MINIGERACAO DISTRIBUIDA              1   \n",
            "3        COM MICROGERACAO OU MINIGERACAO DISTRIBUIDA              1   \n",
            "4        COM MICROGERACAO OU MINIGERACAO DISTRIBUIDA              1   \n",
            "...                                              ...            ...   \n",
            "2052705  COM MICROGERACAO OU MINIGERACAO DISTRIBUIDA              1   \n",
            "2052706  COM MICROGERACAO OU MINIGERACAO DISTRIBUIDA              1   \n",
            "2052707  COM MICROGERACAO OU MINIGERACAO DISTRIBUIDA              1   \n",
            "2052708  COM MICROGERACAO OU MINIGERACAO DISTRIBUIDA              1   \n",
            "2052709        CARACTERIZADA COMO AUTOCONSUMO REMOTO              2   \n",
            "\n",
            "        tipoGeracao    fonteGeracao         porte potenciaInstalada(KW)  \\\n",
            "0               UFV  RADIACÃO SOLAR  MICROGERACAO                   500   \n",
            "1               UFV  RADIACÃO SOLAR  MICROGERACAO                  6996   \n",
            "2               UFV  RADIACÃO SOLAR  MICROGERACAO                   300   \n",
            "3               UFV  RADIACÃO SOLAR  MICROGERACAO                   300   \n",
            "4               UFV  RADIACÃO SOLAR  MICROGERACAO                  2300   \n",
            "...             ...             ...           ...                   ...   \n",
            "2052705         UFV  RADIACÃO SOLAR  MICROGERACAO                   737   \n",
            "2052706         UFV  RADIACÃO SOLAR  MICROGERACAO                   300   \n",
            "2052707         UFV  RADIACÃO SOLAR  MICROGERACAO                   600   \n",
            "2052708         UFV  RADIACÃO SOLAR  MICROGERACAO                  4460   \n",
            "2052709         UFV  RADIACÃO SOLAR  MICROGERACAO                   500   \n",
            "\n",
            "        anoCadastral  \n",
            "0               2020  \n",
            "1               2017  \n",
            "2               2019  \n",
            "3               2020  \n",
            "4               2021  \n",
            "...              ...  \n",
            "2052705         2021  \n",
            "2052706         2022  \n",
            "2052707         2020  \n",
            "2052708         2019  \n",
            "2052709         2022  \n",
            "\n",
            "[2052710 rows x 29 columns], 'iea_recarga':                pais  categoria                        parametro  \\\n",
            "0         AUSTRALIA  HISTORICO  PONTOS DE CARREGAMENTO VEICULAR   \n",
            "1         AUSTRALIA  HISTORICO  PONTOS DE CARREGAMENTO VEICULAR   \n",
            "2         AUSTRALIA  HISTORICO  PONTOS DE CARREGAMENTO VEICULAR   \n",
            "3         AUSTRALIA  HISTORICO  PONTOS DE CARREGAMENTO VEICULAR   \n",
            "4         AUSTRALIA  HISTORICO  PONTOS DE CARREGAMENTO VEICULAR   \n",
            "..              ...        ...                              ...   \n",
            "599  ESTADOS UNIDOS  HISTORICO  PONTOS DE CARREGAMENTO VEICULAR   \n",
            "600  ESTADOS UNIDOS  HISTORICO  PONTOS DE CARREGAMENTO VEICULAR   \n",
            "601  ESTADOS UNIDOS  HISTORICO  PONTOS DE CARREGAMENTO VEICULAR   \n",
            "602  ESTADOS UNIDOS  HISTORICO  PONTOS DE CARREGAMENTO VEICULAR   \n",
            "603  ESTADOS UNIDOS  HISTORICO  PONTOS DE CARREGAMENTO VEICULAR   \n",
            "\n",
            "                veiculo carregamento                 unidade   valor   ano  \n",
            "0    VEICULOS ELETRICOS       RAPIDO  PONTOS DE CARREGAMENTO      40  2017  \n",
            "1    VEICULOS ELETRICOS        LENTO  PONTOS DE CARREGAMENTO     440  2017  \n",
            "2    VEICULOS ELETRICOS       RAPIDO  PONTOS DE CARREGAMENTO      61  2018  \n",
            "3    VEICULOS ELETRICOS        LENTO  PONTOS DE CARREGAMENTO     670  2018  \n",
            "4    VEICULOS ELETRICOS       RAPIDO  PONTOS DE CARREGAMENTO     250  2019  \n",
            "..                  ...          ...                     ...     ...   ...  \n",
            "599  VEICULOS ELETRICOS        LENTO  PONTOS DE CARREGAMENTO   82000  2020  \n",
            "600  VEICULOS ELETRICOS       RAPIDO  PONTOS DE CARREGAMENTO   22000  2021  \n",
            "601  VEICULOS ELETRICOS        LENTO  PONTOS DE CARREGAMENTO   92000  2021  \n",
            "602  VEICULOS ELETRICOS       RAPIDO  PONTOS DE CARREGAMENTO   28000  2022  \n",
            "603  VEICULOS ELETRICOS        LENTO  PONTOS DE CARREGAMENTO  100000  2022  \n",
            "\n",
            "[604 rows x 8 columns], 'veiculos_anfeava':          Ano  AnoNumber         Tipo   Jan   Fev   Mar   Abr   Mai   Jun  \\\n",
            "0   01/01/12       2012     Elétrico     9    16     7     3    13    23   \n",
            "1   01/01/13       2013     Elétrico    45    22    53    50    12    29   \n",
            "2   01/01/14       2014     Elétrico    93    61    65    53    94    52   \n",
            "3   01/01/15       2015     Elétrico    72    56    61    73    72    74   \n",
            "4   01/01/16       2016     Elétrico    58    64    60   137    41    91   \n",
            "5   01/01/17       2017     Elétrico   178   157   227   176   208   238   \n",
            "6   01/01/18       2018     Elétrico   272   254   367   367   302   382   \n",
            "7   01/01/19       2019     Elétrico   370   287   336   290   357   716   \n",
            "8   01/01/20       2020     Elétrico  1568  2053  1570   442   601  1334   \n",
            "9   01/01/21       2021     Elétrico   140   127    99    63    86   224   \n",
            "10  01/01/21       2021      Híbrido  1181  1262  1773  2645  3016  3283   \n",
            "11  01/01/21       2021  ElétricoBus     1     6    14     1     6     4   \n",
            "12  01/01/22       2022     Elétrico   368   406   517   461   555  1087   \n",
            "13  01/01/22       2022      Híbrido  2190  3071  3331  2662  2831  2983   \n",
            "14  01/01/22       2022  ElétricoBus    63   197    88    34    25    18   \n",
            "15  01/01/23       2023     Elétrico   753   638   584   557   610   618   \n",
            "16  01/01/23       2023      Híbrido  3748  3663  5402  4229  5821  5607   \n",
            "17  01/01/23       2023  ElétricoBus    19    67    41    56    22    14   \n",
            "\n",
            "     Jul   Ago   Set   Out   Nov   Dez  Total Ano CrescimentoAno  \n",
            "0      5     3     2     2    18    16        117          0,00%  \n",
            "1     65    45    23    39    52    56        491        320,00%  \n",
            "2     61    79    71    53    87    86        855         74,00%  \n",
            "3     74   100    82    55    65    62        846         -1,00%  \n",
            "4     48    59    79    93   159   202       1091         29,00%  \n",
            "5    268   627   384   243   240   350       3296        202,00%  \n",
            "6    262   262   286   405   374   437       3970         20,00%  \n",
            "7    960   867  1264  1989  2013  2409      11858        199,00%  \n",
            "8   1668  1943  2113  2273  2231  1949      19745         67,00%  \n",
            "9    183   234   267   382   343   712       2860        -86,00%  \n",
            "10  3442  3639  2489  2405  3162  3833      32130          0,00%  \n",
            "11    14    33    42    36    92    64        313          0,00%  \n",
            "12   440   946  1408   634   720   898       8440        195,00%  \n",
            "13  2696  3300  4980  3821  4268  4689      40822         27,00%  \n",
            "14    63    16    30    92    67    56        749        139,00%  \n",
            "15   946     0     0     0     0     0       4706        -44,00%  \n",
            "16  6513     0     0     0     0     0      34983        -14,00%  \n",
            "17    15     0     0     0     0     0        234        -69,00%  , 'global_means':           id    pais  longitude  latitude  anual  janeiro  fevereiro  marco  \\\n",
            "0          1  Brasil    -53.549  -33.7005   4444     6603       5747   4999   \n",
            "1          2  Brasil    -53.449  -33.7005   4446     6610       5735   4986   \n",
            "2          3  Brasil    -53.349  -33.7005   4452     6630       5732   4989   \n",
            "3          4  Brasil    -53.249  -33.7005   4468     6709       5820   5047   \n",
            "4          5  Brasil    -53.549  -33.6005   4454     6658       5771   5014   \n",
            "...      ...     ...        ...       ...    ...      ...        ...    ...   \n",
            "72267  72268  Brasil    -60.349    5.1995   4655     4138       4328   4684   \n",
            "72268  72269  Brasil    -60.249    5.1995   4603     3992       4190   4483   \n",
            "72269  72270  Brasil    -60.149    5.1995   4567     3949       4090   4361   \n",
            "72270  72271  Brasil    -60.249    5.2995   4725     4048       4271   4554   \n",
            "72271  72272  Brasil    -60.149    5.2995   4728     4061       4217   4548   \n",
            "\n",
            "       abril  maio  junho  julho  agosto  setembro  outubro  novembro  \\\n",
            "0       3597  2536   2172   2292    2924      3784     5180      6453   \n",
            "1       3588  2550   2167   2280    2926      3810     5199      6470   \n",
            "2       3572  2563   2170   2279    2928      3820     5213      6465   \n",
            "3       3575  2555   2151   2247    2904      3818     5219      6476   \n",
            "4       3620  2546   2159   2271    2932      3797     5168      6443   \n",
            "...      ...   ...    ...    ...     ...       ...      ...       ...   \n",
            "72267   4875  4514   4447   4622    5019      5303     5055      4717   \n",
            "72268   4751  4426   4459   4654    5060      5396     5079      4676   \n",
            "72269   4604  4370   4402   4732    5103      5464     5107      4645   \n",
            "72270   4867  4554   4545   4769    5224      5603     5274      4849   \n",
            "72271   4791  4496   4577   4848    5220      5691     5288      4867   \n",
            "\n",
            "       dezembro  \n",
            "0          7037  \n",
            "1          7036  \n",
            "2          7058  \n",
            "3          7090  \n",
            "4          7072  \n",
            "...         ...  \n",
            "72267      4156  \n",
            "72268      4073  \n",
            "72269      3972  \n",
            "72270      4138  \n",
            "72271      4130  \n",
            "\n",
            "[72272 rows x 17 columns], 'instalada_fonte':             ano                  grupo          total\n",
            "0    2013-01-01               Biomassa   11449.195087\n",
            "1    2013-01-01                    CGH     266.387413\n",
            "2    2013-01-01                 Carvão    3389.465000\n",
            "3    2013-01-01  Derivados de Petróleo    7515.175863\n",
            "4    2013-01-01            Gás Natural   12300.288650\n",
            "..          ...                    ...            ...\n",
            "115  2018-01-01                  Total  162840.079840\n",
            "116  2019-01-01                  Total  170118.022150\n",
            "117  2020-01-01                  Total  174736.512910\n",
            "118  2021-01-01                  Total  181609.727950\n",
            "119  2022-01-01                  Total  189126.593530\n",
            "\n",
            "[120 rows x 3 columns]}\n"
          ]
        }
      ]
    },
    {
      "cell_type": "markdown",
      "source": [
        "#### EXCEL"
      ],
      "metadata": {
        "id": "TNO_tv1h8xvw"
      }
    },
    {
      "cell_type": "code",
      "source": [
        "dictE = {}\n",
        "\n",
        "for k, v in pathE.items():\n",
        "  dfE = pd.read_csv(v)\n",
        "\n",
        "  dictE[k] = dfE\n",
        "\n",
        "print(dictE)"
      ],
      "metadata": {
        "id": "cOy59X6_oo7l",
        "colab": {
          "base_uri": "https://localhost:8080/"
        },
        "outputId": "9d627249-8320-435a-b39d-ee9655ccc0c7"
      },
      "execution_count": 23,
      "outputs": [
        {
          "output_type": "stream",
          "name": "stdout",
          "text": [
            "{'instalada_regiao':               Grupo Macro_grupo         Ano   Tipo_de_informacao  \\\n",
            "0            Brasil      Brasil  2013-01-01  Cap. Instalada (MW)   \n",
            "1            Brasil      Brasil  2013-01-01        Geração (GWh)   \n",
            "2            Brasil      Brasil  2014-01-01  Cap. Instalada (MW)   \n",
            "3            Brasil      Brasil  2014-01-01        Geração (GWh)   \n",
            "4            Brasil      Brasil  2015-01-01  Cap. Instalada (MW)   \n",
            "..              ...         ...         ...                  ...   \n",
            "555  Santa Catarina         Sul  2020-01-01        Geração (GWh)   \n",
            "556  Santa Catarina         Sul  2021-01-01  Cap. Instalada (MW)   \n",
            "557  Santa Catarina         Sul  2021-01-01        Geração (GWh)   \n",
            "558  Santa Catarina         Sul  2022-01-01  Cap. Instalada (MW)   \n",
            "559  Santa Catarina         Sul  2022-01-01        Geração (GWh)   \n",
            "\n",
            "             Total  \n",
            "0    126743.303060  \n",
            "1    570834.647328  \n",
            "2    133912.521110  \n",
            "3    590542.338656  \n",
            "4    140857.748378  \n",
            "..             ...  \n",
            "555   16590.335429  \n",
            "556    5817.516860  \n",
            "557   20602.443775  \n",
            "558    5953.170600  \n",
            "559   26793.393078  \n",
            "\n",
            "[560 rows x 5 columns], 'geracao_fonte':            Ano                       Grupo          Total\n",
            "0   2013-01-01              Biomassa (iii)   39683.802484\n",
            "1   2013-01-01                      Carvão   14801.485105\n",
            "2   2013-01-01  Derivados de Petróleo (ii)   22223.190607\n",
            "3   2013-01-01                      Eólica    6578.409847\n",
            "4   2013-01-01                 Gás Natural   68941.547741\n",
            "..         ...                         ...            ...\n",
            "95  2018-01-01                       Total  601396.487660\n",
            "96  2019-01-01                       Total  626324.349399\n",
            "97  2020-01-01                       Total  621218.753276\n",
            "98  2021-01-01                       Total  656109.156622\n",
            "99  2022-01-01                       Total  677436.870162\n",
            "\n",
            "[100 rows x 3 columns]}\n"
          ]
        }
      ]
    },
    {
      "cell_type": "markdown",
      "source": [
        "### Carregamento na coleção"
      ],
      "metadata": {
        "id": "8hpjeOytDGkp"
      }
    },
    {
      "cell_type": "code",
      "source": [
        "# geracao_fonte\n",
        "collection_excel.insert_many(dictE['geracao_fonte'].to_dict(\"records\"))\n",
        "\n",
        "print('Done')"
      ],
      "metadata": {
        "id": "MMRhN2ntC1qJ",
        "colab": {
          "base_uri": "https://localhost:8080/"
        },
        "outputId": "45ca5d6a-c548-448b-9eef-83915bb0e690"
      },
      "execution_count": 25,
      "outputs": [
        {
          "output_type": "stream",
          "name": "stdout",
          "text": [
            "Done\n"
          ]
        }
      ]
    },
    {
      "cell_type": "code",
      "source": [
        "# instalada_regiao\n",
        "collection_excel.insert_many(dictE['instalada_regiao'].to_dict(\"records\"))\n",
        "\n",
        "print('Done')"
      ],
      "metadata": {
        "id": "hnx693afD9fN",
        "colab": {
          "base_uri": "https://localhost:8080/"
        },
        "outputId": "b20fa5ba-a7f4-47a1-9a4f-3f29c0832831"
      },
      "execution_count": 26,
      "outputs": [
        {
          "output_type": "stream",
          "name": "stdout",
          "text": [
            "Done\n"
          ]
        }
      ]
    },
    {
      "cell_type": "code",
      "source": [
        "# instalada_fonte\n",
        "collection_csv.insert_many(dictC['instalada_fonte'].to_dict(\"records\"))\n",
        "\n",
        "print('Done')"
      ],
      "metadata": {
        "colab": {
          "base_uri": "https://localhost:8080/"
        },
        "id": "sBHdqHeBvy4g",
        "outputId": "ce0a7611-84d0-4520-e417-f1a0ea8f8efd"
      },
      "execution_count": 27,
      "outputs": [
        {
          "output_type": "stream",
          "name": "stdout",
          "text": [
            "Done\n"
          ]
        }
      ]
    },
    {
      "cell_type": "code",
      "source": [
        "# veiculos_anfavea\n",
        "collection_csv.insert_many(dictC['veiculos_anfeava'].to_dict(\"records\"))\n",
        "\n",
        "print('Done')"
      ],
      "metadata": {
        "colab": {
          "base_uri": "https://localhost:8080/"
        },
        "id": "tWoiW2ZWv18b",
        "outputId": "0ee82d18-03e2-42ac-fa7d-4c81b6c209cf"
      },
      "execution_count": 29,
      "outputs": [
        {
          "output_type": "stream",
          "name": "stdout",
          "text": [
            "Done\n"
          ]
        }
      ]
    },
    {
      "cell_type": "code",
      "source": [
        "# global_means\n",
        "collection_csv.insert_many(dictC['global_means'].to_dict(\"records\"))\n",
        "\n",
        "print('Done')"
      ],
      "metadata": {
        "colab": {
          "base_uri": "https://localhost:8080/"
        },
        "id": "YCziipupv2uW",
        "outputId": "9becaf25-e725-4471-82bd-fb4f5a79ef1e"
      },
      "execution_count": 30,
      "outputs": [
        {
          "output_type": "stream",
          "name": "stdout",
          "text": [
            "Done\n"
          ]
        }
      ]
    },
    {
      "cell_type": "code",
      "source": [
        "# iea_recarga\n",
        "collection_csv.insert_many(dictC['iea_recarga'].to_dict(\"records\"))\n",
        "\n",
        "print('Done')"
      ],
      "metadata": {
        "colab": {
          "base_uri": "https://localhost:8080/"
        },
        "id": "SmOnAiUuv5Nx",
        "outputId": "80acfe39-57cc-4430-e3b8-ef43b911ad3a"
      },
      "execution_count": 32,
      "outputs": [
        {
          "output_type": "stream",
          "name": "stdout",
          "text": [
            "Done\n"
          ]
        }
      ]
    },
    {
      "cell_type": "markdown",
      "source": [
        "Os últimos dois conjuntos de dados, a seguir, em razão do volume de dados e do armazenamento disponível no MongoDB para contas gratuitas, foram reduzidos, extraindo-se amostragem de 10 mil linhas para cada, para fins de disponibilização de backup"
      ],
      "metadata": {
        "id": "DUiibeThyW3h"
      }
    },
    {
      "cell_type": "code",
      "source": [
        "# geracao_distribuida\n",
        "collection_csv.insert_many((dictC['geracao_distribuida'].sample(10000)).to_dict(\"records\"))\n",
        "\n",
        "print('Done')"
      ],
      "metadata": {
        "colab": {
          "base_uri": "https://localhost:8080/"
        },
        "id": "Jket596ov-f-",
        "outputId": "0ac26be2-a7ff-4b43-8bbe-c9ceba2ec5ed"
      },
      "execution_count": 36,
      "outputs": [
        {
          "output_type": "stream",
          "name": "stdout",
          "text": [
            "Done\n"
          ]
        }
      ]
    },
    {
      "cell_type": "code",
      "source": [
        "# fator_capacidade\n",
        "collection_csv.insert_many((dictC['fator_capacidade'].sample(10000)).to_dict(\"records\"))\n",
        "\n",
        "print('Done')"
      ],
      "metadata": {
        "colab": {
          "base_uri": "https://localhost:8080/"
        },
        "id": "DzmYCceEyMWb",
        "outputId": "2bc25799-4f6e-4d5b-ecf1-d28591ac0ca8"
      },
      "execution_count": 37,
      "outputs": [
        {
          "output_type": "stream",
          "name": "stdout",
          "text": [
            "Done\n"
          ]
        }
      ]
    },
    {
      "cell_type": "markdown",
      "source": [
        "#### Verificação"
      ],
      "metadata": {
        "id": "TWE5_W7LETpB"
      }
    },
    {
      "cell_type": "code",
      "source": [
        "# Verificando valores no MongoDB\n",
        "doc_count_csv = collection_csv.count_documents({})\n",
        "doc_count_excel = collection_excel.count_documents({})\n",
        "\n",
        "print( f'\\n-CSV: {doc_count_csv} \\n-EXCEL: {doc_count_excel}')"
      ],
      "metadata": {
        "id": "ydqix5RuEW5A",
        "colab": {
          "base_uri": "https://localhost:8080/"
        },
        "outputId": "73d892ea-e916-4b6a-f11f-ae8b0ebe7546"
      },
      "execution_count": 38,
      "outputs": [
        {
          "output_type": "stream",
          "name": "stdout",
          "text": [
            "\n",
            "-CSV: 93014 \n",
            "-EXCEL: 660\n"
          ]
        }
      ]
    },
    {
      "cell_type": "markdown",
      "source": [
        "# Status"
      ],
      "metadata": {
        "id": "F8KbZcdyErLV"
      }
    },
    {
      "cell_type": "code",
      "source": [
        "print(\"BACKUP CONCLUÍDO COM SUCESSO!!!\")"
      ],
      "metadata": {
        "id": "QmDQnku4Eqt5",
        "colab": {
          "base_uri": "https://localhost:8080/"
        },
        "outputId": "27598521-78da-4b61-c62c-f69d5ee3a14c"
      },
      "execution_count": 39,
      "outputs": [
        {
          "output_type": "stream",
          "name": "stdout",
          "text": [
            "BACKUP CONCLUÍDO COM SUCESSO!!!\n"
          ]
        }
      ]
    }
  ]
}