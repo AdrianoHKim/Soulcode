{
  "nbformat": 4,
  "nbformat_minor": 0,
  "metadata": {
    "colab": {
      "provenance": [],
      "toc_visible": true,
      "gpuType": "T4",
      "include_colab_link": true
    },
    "kernelspec": {
      "name": "python3",
      "display_name": "Python 3"
    },
    "language_info": {
      "name": "python"
    },
    "accelerator": "GPU"
  },
  "cells": [
    {
      "cell_type": "markdown",
      "metadata": {
        "id": "view-in-github",
        "colab_type": "text"
      },
      "source": [
        "<a href=\"https://colab.research.google.com/github/squadOito/soulcodead2/blob/joseaureliok%2Fnotebook/notebooks/notebook_iea_ponto_veiculos_pyspark_bruto.ipynb\" target=\"_parent\"><img src=\"https://colab.research.google.com/assets/colab-badge.svg\" alt=\"Open In Colab\"/></a>"
      ]
    },
    {
      "cell_type": "markdown",
      "source": [
        "## **Projeto Final**\n",
        "Escola: SoulCode Academy\n",
        "\n",
        "Curso: Bootcamp Analista de Dados - Martech - AD2\n",
        "\n",
        "**Equipe 08**\n",
        "\n",
        "**Alunos: Adriano Kim, José Aurelio, Marcos Paulo, Paulo Vitorino, Renato e Wesley**\n",
        "\n",
        "Professores: Douglas Ribeiro, Franciane Rodrigues e Jonathas Carneiro"
      ],
      "metadata": {
        "id": "8AvV2uVhNLpj"
      }
    },
    {
      "cell_type": "markdown",
      "source": [
        "## Preparação de Ambiente\n",
        "Instalações e importações das bibliotecas necessárias para o processo de ETL."
      ],
      "metadata": {
        "id": "L7abbfpEBjvV"
      }
    },
    {
      "cell_type": "code",
      "execution_count": null,
      "metadata": {
        "id": "cGTV4K2w0xhZ"
      },
      "outputs": [],
      "source": [
        "# Instalaçao Bibliotecas\n",
        "!pip install gcsfs -q"
      ]
    },
    {
      "cell_type": "code",
      "source": [
        "# Importando Bibliotecas\n",
        "import os\n",
        "import pandas as pd\n",
        "import numpy as np\n",
        "\n",
        "from google.colab import data_table\n",
        "from google.cloud import storage\n",
        "from google.colab import drive\n",
        "from google.colab import auth\n",
        "from pydrive.auth import GoogleAuth\n",
        "from pydrive.drive import GoogleDrive\n",
        "from oauth2client.client import GoogleCredentials"
      ],
      "metadata": {
        "id": "9PyA1knO9Wau"
      },
      "execution_count": null,
      "outputs": []
    },
    {
      "cell_type": "code",
      "source": [
        "# Ignorando alguns alertas desnecessários\n",
        "import warnings\n",
        "warnings.filterwarnings(\"ignore\")"
      ],
      "metadata": {
        "id": "um2OUpf69mnW"
      },
      "execution_count": null,
      "outputs": []
    },
    {
      "cell_type": "code",
      "source": [
        "# Configuração da quantidade de colunas para aparecer em um DataFrame\n",
        "pd.set_option('display.max_columns',100)"
      ],
      "metadata": {
        "id": "AeslQXYjNiEy"
      },
      "execution_count": null,
      "outputs": []
    },
    {
      "cell_type": "markdown",
      "source": [
        "### Configuração PySpark"
      ],
      "metadata": {
        "id": "iw_HBWma1nHd"
      }
    },
    {
      "cell_type": "code",
      "source": [
        "!apt-get install openjdk-8-jdk-headless -qq > /dev/null\n",
        "!wget -N -q http://archive.apache.org/dist/spark/spark-3.1.1/spark-3.1.1-bin-hadoop3.2.tgz\n",
        "!tar xf spark-3.1.1-bin-hadoop3.2.tgz\n",
        "!pip install -q findspark"
      ],
      "metadata": {
        "id": "Zzgp2wP_J1zP"
      },
      "execution_count": null,
      "outputs": []
    },
    {
      "cell_type": "code",
      "source": [
        "os.environ[\"JAVA_HOME\"] = \"/usr/lib/jvm/java-8-openjdk-amd64\"\n",
        "os.environ[\"SPARK_HOME\"] = \"/content/spark-3.1.1-bin-hadoop3.2\""
      ],
      "metadata": {
        "id": "WqPM27dsJ2jp"
      },
      "execution_count": null,
      "outputs": []
    },
    {
      "cell_type": "code",
      "source": [
        "import findspark\n",
        "findspark.init()\n",
        "\n",
        "from pyspark.sql import SparkSession\n",
        "spark = SparkSession.builder.master(\"local[*]\").getOrCreate()\n",
        "\n",
        "from pyspark.sql.functions import regexp_replace\n",
        "spark.conf.set(\"spark.sql.repl.eagerEval.enabled\", True)\n",
        "\n",
        "import pyspark.sql.functions as F\n",
        "from pyspark.sql.types import *\n",
        "\n",
        "spark"
      ],
      "metadata": {
        "id": "1sAWAoufKBBb",
        "outputId": "51d79ff6-104d-4ec4-960b-e58625c8c0c5",
        "colab": {
          "base_uri": "https://localhost:8080/",
          "height": 219
        }
      },
      "execution_count": null,
      "outputs": [
        {
          "output_type": "execute_result",
          "data": {
            "text/plain": [
              "<pyspark.sql.session.SparkSession at 0x7b676aa312a0>"
            ],
            "text/html": [
              "\n",
              "            <div>\n",
              "                <p><b>SparkSession - in-memory</b></p>\n",
              "                \n",
              "        <div>\n",
              "            <p><b>SparkContext</b></p>\n",
              "\n",
              "            <p><a href=\"http://6892965126f7:4040\">Spark UI</a></p>\n",
              "\n",
              "            <dl>\n",
              "              <dt>Version</dt>\n",
              "                <dd><code>v3.1.1</code></dd>\n",
              "              <dt>Master</dt>\n",
              "                <dd><code>local[*]</code></dd>\n",
              "              <dt>AppName</dt>\n",
              "                <dd><code>pyspark-shell</code></dd>\n",
              "            </dl>\n",
              "        </div>\n",
              "        \n",
              "            </div>\n",
              "        "
            ]
          },
          "metadata": {},
          "execution_count": 7
        }
      ]
    },
    {
      "cell_type": "markdown",
      "source": [
        "### Compartilhamento Chave GDrive"
      ],
      "metadata": {
        "id": "J5R3Nt3Q1er7"
      }
    },
    {
      "cell_type": "code",
      "source": [
        "# Cria compartilhamento com Google Drive\n",
        "drive.mount('/content/drive', force_remount=True)\n",
        "\n",
        "# Arquivo a ser acessado na pasta compartilhada\n",
        "\n",
        "target = 'projeto-final-ad2-e8-ae566c3a2c2b.json'\n",
        "\n",
        "# Caminho completo da pasta compartilhada\n",
        "folder = '/content/drive/MyDrive/Classroom/AD2 - Analista de Dados/ProjetoFinal'\n",
        "\n",
        "# Acesso ao arquivo no colab\n",
        "serviceAccount = os.path.join(folder, target)"
      ],
      "metadata": {
        "colab": {
          "base_uri": "https://localhost:8080/"
        },
        "id": "pSoSXbShcQVp",
        "outputId": "221f7ef4-12d9-4e0a-e824-c23c2f5f057d"
      },
      "execution_count": null,
      "outputs": [
        {
          "output_type": "stream",
          "name": "stdout",
          "text": [
            "Mounted at /content/drive\n"
          ]
        }
      ]
    },
    {
      "cell_type": "markdown",
      "source": [
        "### Conexão Google Cloud"
      ],
      "metadata": {
        "id": "zdecbyzY8dKs"
      }
    },
    {
      "cell_type": "code",
      "source": [
        "# Conexão com a conta do Google Cloud\n",
        "os.environ['GOOGLE_APPLICATION_CREDENTIALS'] = serviceAccount"
      ],
      "metadata": {
        "id": "CyymFDdQ2akm"
      },
      "execution_count": null,
      "outputs": []
    },
    {
      "cell_type": "code",
      "source": [
        "# Conexão com a bucket do Google Cloud\n",
        "client = storage.Client()\n",
        "bucket = client.get_bucket('projeto-final-ad2-e8')"
      ],
      "metadata": {
        "id": "TV-rH7EWbVpm"
      },
      "execution_count": null,
      "outputs": []
    },
    {
      "cell_type": "markdown",
      "source": [
        "## Funções"
      ],
      "metadata": {
        "id": "OFvJsNFfaOzI"
      }
    },
    {
      "cell_type": "code",
      "source": [
        "# função de leitura no Spark\n",
        "def spark_read(path):\n",
        "  try:\n",
        "\n",
        "    try:\n",
        "      # leitura csv com pandas\n",
        "      read = pd.read_excel(path)\n",
        "      # conversão em df pandas em df pyspark\n",
        "      df = spark.createDataFrame(read)\n",
        "      # êxito da função retornando o dataframe\n",
        "      return df\n",
        "\n",
        "    except:\n",
        "      # leitura csv com pandas\n",
        "      read = pd.read_excel(path)\n",
        "\n",
        "      # tratamento de tipo de dado do df pandas para conversão em df pyspark\n",
        "      for n in read.columns:\n",
        "        if read[f'{n}'].dtype == object:\n",
        "          read[f'{n}'] = read[f'{n}'].astype(str)\n",
        "        elif read[f'{n}'].dtype == bool:\n",
        "          read[f'{n}'] = read[f'{n}'].astype(bool)\n",
        "        else:\n",
        "          read[f'{n}'] = read[f'{n}'].astype(np.double)\n",
        "\n",
        "      # conversão df pandas em df pyspark\n",
        "      df = spark.createDataFrame(read)\n",
        "      # êxito da função retornando o dataframe\n",
        "      return df\n",
        "\n",
        "  except:\n",
        "    # indicação de erro na leitura do dataframe\n",
        "    print(f'Falha na leitura do DataFrame: {path}!')"
      ],
      "metadata": {
        "id": "p6sG8mcyxvoX"
      },
      "execution_count": null,
      "outputs": []
    },
    {
      "cell_type": "code",
      "source": [
        "# Função contagem distintos por atributos\n",
        "def listDistinct(dataframe):\n",
        "  '''\n",
        "  Executa a contagem de valores distintos por atributo!\n",
        "  dataframe = nome do dataframe, tipo string\n",
        "  '''\n",
        "  lista_distintos = [F.approx_count_distinct(col).alias(col) for col in dataframe.columns]\n",
        "  distintos = dataframe.agg(*lista_distintos)\n",
        "  data_table.enable_dataframe_formatter()\n",
        "  distintos.show(truncate=False)"
      ],
      "metadata": {
        "id": "j64ZWVoLPclv"
      },
      "execution_count": null,
      "outputs": []
    },
    {
      "cell_type": "code",
      "source": [
        "# Função contagem distintos por registro\n",
        "def countDistinct(dataframe):\n",
        "  '''\n",
        "  Exibe valores distintos por registro!\n",
        "  dataframe = nome do dataframe, tipo string\n",
        "  '''\n",
        "  for coluna in dataframe.columns:\n",
        "    contagem = dataframe.groupby(coluna).count().orderBy(F.col('count').desc())\n",
        "    print('==*'*70)\n",
        "    print(coluna)\n",
        "    print('==*'*70)\n",
        "    contagem.show(n=50, truncate=False)"
      ],
      "metadata": {
        "id": "kKto39tLEMGa"
      },
      "execution_count": null,
      "outputs": []
    },
    {
      "cell_type": "code",
      "source": [
        "# Função contagem nulos\n",
        "def fnull(dataframe):\n",
        "  '''\n",
        "  Exibe valores nulos por atributo!\n",
        "  dataframe = nome do dataframe, tipo string\n",
        "  '''\n",
        "  lista_nulos = [F.sum(F.when(F.col(c).isNull(), 1).otherwise(0)).alias(c) for c in dataframe.columns]\n",
        "  nulos = dataframe.agg(*lista_nulos)\n",
        "  nulos.show(truncate = False)"
      ],
      "metadata": {
        "id": "R3vuWz_Zb8XB"
      },
      "execution_count": null,
      "outputs": []
    },
    {
      "cell_type": "code",
      "source": [
        "# Função validação\n",
        "def validar(dataframe, tabela):\n",
        "  '''\n",
        "  tabela = nome da tabela\n",
        "  dataframe = nome do dataframe, tipo string\n",
        "  '''\n",
        "  # estabelecendo laço for para quantificar valores nulos de cada coluna\n",
        "  nl = [F.sum(F.when(F.col(c).isNull(), 1).otherwise(0)).alias(c) for c in dataframe.columns]\n",
        "\n",
        "  # somando valores nulos encontrados para cada coluna, obtidos através de dicionários e adicionados em listas\n",
        "  nulos = sum(list(((dataframe.agg(*nl).collect()[0]).asDict()).values()))\n",
        "\n",
        "  schema1 = dataframe.schema == schemaBR1\n",
        "  schema2 = dataframe.schema == schemaBR2\n",
        "\n",
        "  # validando Schema e valores nulos do dataframe tratado\n",
        "  if schema1 == True and nulos == 0:\n",
        "    print( f'Tabela {tabela} VALIDADA!')\n",
        "  elif schema2 == True and nulos == 0:\n",
        "    print( f'Tabela {tabela} VALIDADA!')\n",
        "  else:\n",
        "    print( f'Tabela {tabela} NÃO validada:\\n -> Schema {schema1} e {schema2};\\n -> Nulos: {nulos}!')"
      ],
      "metadata": {
        "id": "N67YtNzah3bJ"
      },
      "execution_count": null,
      "outputs": []
    },
    {
      "cell_type": "markdown",
      "source": [
        "## Extração\n",
        "A primeira etapa da ETL é a extração dos dados de sua fonte original. Dependendo do tipo de dados e da fonte, você pode precisar de diferentes ferramentas e técnicas para extrair os dados."
      ],
      "metadata": {
        "id": "0dZJqZvm1DES"
      }
    },
    {
      "cell_type": "code",
      "source": [
        "# Caminho do arquivo entrada\n",
        "pathPontoRecarga = 'gs://projeto-final-ad2-e8/dados/brutos/excel/iea_ponto_recarga_bruto.xlsx'\n",
        "pathVeiculos = 'gs://projeto-final-ad2-e8/dados/brutos/excel/iea_veiculos_bruto data.xlsx'\n",
        "\n",
        "# Caminho do arquivo saída\n",
        "outpathPontoRecarga = 'gs://projeto-final-ad2-e8/dados/tratados/iea_ponto_recarga_tratado.csv'\n",
        "outpathVeiculos = 'gs://projeto-final-ad2-e8/dados/tratados/iea_veiculos_tratado.csv'"
      ],
      "metadata": {
        "id": "_f15se_jLs3O"
      },
      "execution_count": null,
      "outputs": []
    },
    {
      "cell_type": "markdown",
      "source": [
        "### Read Pyspark"
      ],
      "metadata": {
        "id": "4gNhnovvPK6t"
      }
    },
    {
      "cell_type": "code",
      "source": [
        "# Leitura do conjunto de dados iea_ponto_recarga\n",
        "dfp = spark_read(pathPontoRecarga)"
      ],
      "metadata": {
        "id": "fjvWsAl_eiaJ"
      },
      "execution_count": null,
      "outputs": []
    },
    {
      "cell_type": "code",
      "source": [
        "# Leitura do conjunto de dados iea_veiculos\n",
        "dfv = spark_read(pathVeiculos)"
      ],
      "metadata": {
        "id": "LrPBQR26JpV3"
      },
      "execution_count": null,
      "outputs": []
    },
    {
      "cell_type": "markdown",
      "source": [
        "### Pré Análise"
      ],
      "metadata": {
        "id": "V1UNCIESAaZN"
      }
    },
    {
      "cell_type": "code",
      "source": [
        "# Visualização geral Ponto Recarga\n",
        "print('Ponto Recarga')\n",
        "dfp.show(n=50, truncate=False)"
      ],
      "metadata": {
        "id": "ji1Xb8ccfuyt",
        "colab": {
          "base_uri": "https://localhost:8080/"
        },
        "outputId": "9bed2924-048f-4c26-8963-a05f306b0848"
      },
      "execution_count": null,
      "outputs": [
        {
          "output_type": "stream",
          "name": "stdout",
          "text": [
            "Ponto Recarga\n",
            "+---------+----------+------------------+----+-----------------------+----+---------------+-----------------+\n",
            "|region   |category  |parameter         |mode|powertrain             |year|unit           |value            |\n",
            "+---------+----------+------------------+----+-----------------------+----+---------------+-----------------+\n",
            "|Australia|Historical|EV charging points|EV  |Publicly available fast|2017|charging points|40               |\n",
            "|Australia|Historical|EV charging points|EV  |Publicly available slow|2017|charging points|440              |\n",
            "|Australia|Historical|EV charging points|EV  |Publicly available fast|2018|charging points|61               |\n",
            "|Australia|Historical|EV charging points|EV  |Publicly available slow|2018|charging points|670              |\n",
            "|Australia|Historical|EV charging points|EV  |Publicly available fast|2019|charging points|250              |\n",
            "|Australia|Historical|EV charging points|EV  |Publicly available slow|2019|charging points|1700             |\n",
            "|Australia|Historical|EV charging points|EV  |Publicly available fast|2020|charging points|350              |\n",
            "|Australia|Historical|EV charging points|EV  |Publicly available slow|2020|charging points|2000             |\n",
            "|Australia|Historical|EV charging points|EV  |Publicly available fast|2021|charging points|320              |\n",
            "|Australia|Historical|EV charging points|EV  |Publicly available slow|2021|charging points|2000             |\n",
            "|Australia|Historical|EV charging points|EV  |Publicly available fast|2022|charging points|470              |\n",
            "|Australia|Historical|EV charging points|EV  |Publicly available slow|2022|charging points|2100             |\n",
            "|Austria  |Historical|EV charging points|EV  |Publicly available fast|2011|charging points|10000000149011600|\n",
            "|Austria  |Historical|EV charging points|EV  |Publicly available slow|2011|charging points|10000000149011600|\n",
            "|Austria  |Historical|EV charging points|EV  |Publicly available fast|2012|charging points|10000000149011600|\n",
            "|Austria  |Historical|EV charging points|EV  |Publicly available slow|2012|charging points|10000000149011600|\n",
            "|Austria  |Historical|EV charging points|EV  |Publicly available fast|2013|charging points|10000000149011600|\n",
            "|Austria  |Historical|EV charging points|EV  |Publicly available slow|2013|charging points|10000000149011600|\n",
            "|Austria  |Historical|EV charging points|EV  |Publicly available fast|2014|charging points|10000000149011600|\n",
            "|Austria  |Historical|EV charging points|EV  |Publicly available slow|2014|charging points|10000000149011600|\n",
            "|Austria  |Historical|EV charging points|EV  |Publicly available fast|2015|charging points|10000000149011600|\n",
            "|Austria  |Historical|EV charging points|EV  |Publicly available slow|2015|charging points|10000000149011600|\n",
            "|Austria  |Historical|EV charging points|EV  |Publicly available fast|2016|charging points|10000000149011600|\n",
            "|Austria  |Historical|EV charging points|EV  |Publicly available slow|2016|charging points|10000000149011600|\n",
            "|Austria  |Historical|EV charging points|EV  |Publicly available fast|2017|charging points|10000000149011600|\n",
            "|Austria  |Historical|EV charging points|EV  |Publicly available slow|2017|charging points|10000000149011600|\n",
            "|Austria  |Historical|EV charging points|EV  |Publicly available fast|2018|charging points|10000000149011600|\n",
            "|Austria  |Historical|EV charging points|EV  |Publicly available slow|2018|charging points|10000000149011600|\n",
            "|Austria  |Historical|EV charging points|EV  |Publicly available fast|2019|charging points|10000000149011600|\n",
            "|Austria  |Historical|EV charging points|EV  |Publicly available slow|2019|charging points|10000000149011600|\n",
            "|Austria  |Historical|EV charging points|EV  |Publicly available fast|2020|charging points|10000000149011600|\n",
            "|Austria  |Historical|EV charging points|EV  |Publicly available slow|2020|charging points|10000000149011600|\n",
            "|Austria  |Historical|EV charging points|EV  |Publicly available fast|2021|charging points|1600             |\n",
            "|Austria  |Historical|EV charging points|EV  |Publicly available slow|2021|charging points|8900             |\n",
            "|Austria  |Historical|EV charging points|EV  |Publicly available fast|2022|charging points|2600             |\n",
            "|Austria  |Historical|EV charging points|EV  |Publicly available slow|2022|charging points|13000            |\n",
            "|Belgium  |Historical|EV charging points|EV  |Publicly available fast|2013|charging points|47               |\n",
            "|Belgium  |Historical|EV charging points|EV  |Publicly available slow|2013|charging points|330              |\n",
            "|Belgium  |Historical|EV charging points|EV  |Publicly available fast|2014|charging points|55               |\n",
            "|Belgium  |Historical|EV charging points|EV  |Publicly available slow|2014|charging points|560              |\n",
            "|Belgium  |Historical|EV charging points|EV  |Publicly available fast|2015|charging points|77               |\n",
            "|Belgium  |Historical|EV charging points|EV  |Publicly available slow|2015|charging points|1300             |\n",
            "|Belgium  |Historical|EV charging points|EV  |Publicly available fast|2016|charging points|110              |\n",
            "|Belgium  |Historical|EV charging points|EV  |Publicly available slow|2016|charging points|1500             |\n",
            "|Belgium  |Historical|EV charging points|EV  |Publicly available fast|2017|charging points|220              |\n",
            "|Belgium  |Historical|EV charging points|EV  |Publicly available slow|2017|charging points|1500             |\n",
            "|Belgium  |Historical|EV charging points|EV  |Publicly available fast|2018|charging points|240              |\n",
            "|Belgium  |Historical|EV charging points|EV  |Publicly available slow|2018|charging points|2700             |\n",
            "|Belgium  |Historical|EV charging points|EV  |Publicly available fast|2019|charging points|360              |\n",
            "|Belgium  |Historical|EV charging points|EV  |Publicly available slow|2019|charging points|6100             |\n",
            "+---------+----------+------------------+----+-----------------------+----+---------------+-----------------+\n",
            "only showing top 50 rows\n",
            "\n"
          ]
        }
      ]
    },
    {
      "cell_type": "code",
      "source": [
        "# Visualização geral Veículos\n",
        "print('Veiculos')\n",
        "dfv.show(n=50, truncate=False)"
      ],
      "metadata": {
        "colab": {
          "base_uri": "https://localhost:8080/"
        },
        "id": "TNnr2xR8KofT",
        "outputId": "db51d147-af88-4266-8df9-757f90926562"
      },
      "execution_count": null,
      "outputs": [
        {
          "output_type": "stream",
          "name": "stdout",
          "text": [
            "Veiculos\n",
            "+---------+----------+------------------+----+-----------------------+------+---------------+-----------------+\n",
            "|region   |category  |parameter         |mode|powertrain             |year  |unit           |value            |\n",
            "+---------+----------+------------------+----+-----------------------+------+---------------+-----------------+\n",
            "|Australia|Historical|EV sales          |Cars|BEV                    |2011.0|Vehicles       |49               |\n",
            "|Australia|Historical|EV stock          |Cars|BEV                    |2011.0|Vehicles       |49               |\n",
            "|Australia|Historical|EV sales share    |Cars|EV                     |2011.0|percent        |6500000134110450 |\n",
            "|Australia|Historical|EV stock share    |Cars|EV                     |2011.0|percent        |4600000102072950 |\n",
            "|Australia|Historical|EV stock share    |Cars|EV                     |2012.0|percent        |279999990016222  |\n",
            "|Australia|Historical|EV sales share    |Cars|EV                     |2012.0|percent        |29999999329447700|\n",
            "|Australia|Historical|EV stock          |Cars|BEV                    |2012.0|Vehicles       |220              |\n",
            "|Australia|Historical|EV stock          |Cars|PHEV                   |2012.0|Vehicles       |80               |\n",
            "|Australia|Historical|EV sales          |Cars|PHEV                   |2012.0|Vehicles       |80               |\n",
            "|Australia|Historical|EV sales          |Cars|BEV                    |2012.0|Vehicles       |170              |\n",
            "|Australia|Historical|EV sales          |Cars|BEV                    |2013.0|Vehicles       |190              |\n",
            "|Australia|Historical|EV sales          |Cars|PHEV                   |2013.0|Vehicles       |100              |\n",
            "|Australia|Historical|EV stock          |Cars|PHEV                   |2013.0|Vehicles       |180              |\n",
            "|Australia|Historical|EV stock          |Cars|BEV                    |2013.0|Vehicles       |410              |\n",
            "|Australia|Historical|EV sales share    |Cars|EV                     |2013.0|percent        |3400000184774390 |\n",
            "|Australia|Historical|EV stock share    |Cars|EV                     |2013.0|percent        |5400000140070910 |\n",
            "|Australia|Historical|EV stock share    |Cars|EV                     |2014.0|percent        |17000000923871900|\n",
            "|Australia|Historical|EV sales share    |Cars|EV                     |2014.0|percent        |1599999964237210 |\n",
            "|Australia|Historical|EV stock          |Cars|BEV                    |2014.0|Vehicles       |780              |\n",
            "|Australia|Historical|EV stock          |Cars|PHEV                   |2014.0|Vehicles       |1100             |\n",
            "|Australia|Historical|EV sales          |Cars|PHEV                   |2014.0|Vehicles       |950              |\n",
            "|Australia|Historical|EV sales          |Cars|BEV                    |2014.0|Vehicles       |370              |\n",
            "|Australia|Historical|EV sales          |Cars|BEV                    |2015.0|Vehicles       |760              |\n",
            "|Australia|Historical|EV sales          |Cars|PHEV                   |2015.0|Vehicles       |1000             |\n",
            "|Australia|Historical|EV stock          |Cars|PHEV                   |2015.0|Vehicles       |2100             |\n",
            "|Australia|Historical|EV stock          |Cars|BEV                    |2015.0|Vehicles       |1500             |\n",
            "|Australia|Historical|EV sales share    |Cars|EV                     |2015.0|percent        |20000000298023200|\n",
            "|Australia|Historical|EV stock share    |Cars|EV                     |2015.0|percent        |3200000151991840 |\n",
            "|Australia|Historical|EV stock share    |Cars|EV                     |2016.0|percent        |430000014603138  |\n",
            "|Australia|Historical|EV sales share    |Cars|EV                     |2016.0|percent        |15000000596046400|\n",
            "|Australia|Historical|EV stock          |Cars|BEV                    |2016.0|Vehicles       |2200             |\n",
            "|Australia|Historical|EV stock          |Cars|PHEV                   |2016.0|Vehicles       |2800             |\n",
            "|Australia|Historical|EV sales          |Cars|PHEV                   |2016.0|Vehicles       |700              |\n",
            "|Australia|Historical|EV sales          |Cars|BEV                    |2016.0|Vehicles       |670              |\n",
            "|Australia|Historical|EV sales          |Cars|BEV                    |2017.0|Vehicles       |1200             |\n",
            "|Australia|Historical|EV sales          |Cars|PHEV                   |2017.0|Vehicles       |1100             |\n",
            "|Australia|Historical|EV stock          |Cars|PHEV                   |2017.0|Vehicles       |3900             |\n",
            "|Australia|Historical|EV stock          |Cars|BEV                    |2017.0|Vehicles       |3400             |\n",
            "|Australia|Historical|EV charging points|EV  |Publicly available fast|2017.0|charging points|40               |\n",
            "|Australia|Historical|EV charging points|EV  |Publicly available slow|2017.0|charging points|440              |\n",
            "|Australia|Historical|EV sales share    |Cars|EV                     |2017.0|percent        |25999999046325600|\n",
            "|Australia|Historical|EV stock share    |Cars|EV                     |2017.0|percent        |61000000685453400|\n",
            "|Australia|Historical|EV stock share    |Cars|EV                     |2018.0|percent        |8900000154972070 |\n",
            "|Australia|Historical|EV sales share    |Cars|EV                     |2018.0|percent        |41999998688697800|\n",
            "|Australia|Historical|EV charging points|EV  |Publicly available fast|2018.0|charging points|61               |\n",
            "|Australia|Historical|EV charging points|EV  |Publicly available slow|2018.0|charging points|670              |\n",
            "|Australia|Historical|EV stock          |Cars|BEV                    |2018.0|Vehicles       |5200             |\n",
            "|Australia|Historical|EV stock          |Cars|PHEV                   |2018.0|Vehicles       |5700             |\n",
            "|Australia|Historical|EV sales          |Cars|PHEV                   |2018.0|Vehicles       |1800             |\n",
            "|Australia|Historical|EV sales          |Cars|BEV                    |2018.0|Vehicles       |1800             |\n",
            "+---------+----------+------------------+----+-----------------------+------+---------------+-----------------+\n",
            "only showing top 50 rows\n",
            "\n"
          ]
        }
      ]
    },
    {
      "cell_type": "code",
      "source": [
        "# Tamanho total de (linhas , colunas)\n",
        "describep = dfp.describe()\n",
        "describev = dfv.describe()\n",
        "\n",
        "print('Ponto Recarga')\n",
        "print(describep)\n",
        "print('Veiculos')\n",
        "print('-'*100)\n",
        "print(describev)"
      ],
      "metadata": {
        "id": "Vk8p8Nd-kMWP",
        "colab": {
          "base_uri": "https://localhost:8080/"
        },
        "outputId": "af2a4feb-6ecd-4218-e996-8663ea084ebe"
      },
      "execution_count": null,
      "outputs": [
        {
          "output_type": "stream",
          "name": "stdout",
          "text": [
            "Ponto Recarga\n",
            "+-------+--------------+----------+------------------+----+--------------------+-----------------+---------------+--------------------+\n",
            "|summary|        region|  category|         parameter|mode|          powertrain|             year|           unit|               value|\n",
            "+-------+--------------+----------+------------------+----+--------------------+-----------------+---------------+--------------------+\n",
            "|  count|           604|       604|               604| 604|                 604|              604|            604|                 604|\n",
            "|   mean|          null|      null|              null|null|                null|2017.546357615894|           null|5.703642471083345E14|\n",
            "| stddev|          null|      null|              null|null|                null|3.126864813215356|           null|2.275968481157552E15|\n",
            "|    min|     Australia|Historical|EV charging points|  EV|Publicly availabl...|             2010|charging points|                   1|\n",
            "|    max|United Kingdom|Historical|EV charging points|  EV|Publicly availabl...|             2022|charging points|   10000000149011600|\n",
            "+-------+--------------+----------+------------------+----+--------------------+-----------------+---------------+--------------------+\n",
            "\n",
            "Veiculos\n",
            "----------------------------------------------------------------------------------------------------\n",
            "+-------+---------+----------------+--------------------+-----+--------------------+------------------+-------+--------------------+\n",
            "|summary|   region|        category|           parameter| mode|          powertrain|              year|   unit|               value|\n",
            "+-------+---------+----------------+--------------------+-----+--------------------+------------------+-------+--------------------+\n",
            "|  count|    10079|           10079|               10079|10079|               10079|             10079|  10079|               10079|\n",
            "|   mean|     null|            null|                null| null|                null|2018.1583490425637|   null|3.924936025759483...|\n",
            "| stddev|     null|            null|                null| null|                null| 4.593640769126813|   null|8.751030375304867E15|\n",
            "|    min|Australia|      Historical|  EV charging points|Buses|                 BEV|            2010.0|    GWh|                0.25|\n",
            "|    max|    World|Projection-STEPS|Oil displacement,...| Vans|Publicly availabl...|            2030.0|percent|    9999999776482580|\n",
            "+-------+---------+----------------+--------------------+-----+--------------------+------------------+-------+--------------------+\n",
            "\n"
          ]
        }
      ]
    },
    {
      "cell_type": "code",
      "source": [
        "# Todos os tipos de dados presentes\n",
        "tipop = dfp.dtypes\n",
        "tipov = dfv.dtypes\n",
        "\n",
        "print('Ponto Recarga')\n",
        "print(tipop)\n",
        "print('\\n')\n",
        "print('Veiculos')\n",
        "print('-'*100)\n",
        "print(tipov)"
      ],
      "metadata": {
        "id": "fsZ6_xn6mGo3",
        "colab": {
          "base_uri": "https://localhost:8080/"
        },
        "outputId": "cbc791c5-1999-484e-ffca-fda17e66bbc8"
      },
      "execution_count": null,
      "outputs": [
        {
          "output_type": "stream",
          "name": "stdout",
          "text": [
            "Ponto Recarga\n",
            "[('region', 'string'), ('category', 'string'), ('parameter', 'string'), ('mode', 'string'), ('powertrain', 'string'), ('year', 'bigint'), ('unit', 'string'), ('value', 'bigint')]\n",
            "\n",
            "\n",
            "Veiculos\n",
            "----------------------------------------------------------------------------------------------------\n",
            "[('region', 'string'), ('category', 'string'), ('parameter', 'string'), ('mode', 'string'), ('powertrain', 'string'), ('year', 'double'), ('unit', 'string'), ('value', 'string')]\n"
          ]
        }
      ]
    },
    {
      "cell_type": "markdown",
      "source": [
        "### Limpeza de Dados\n",
        "Remover dados duplicados, corrigir erros de digitação, tratar dados inconsistentes etc."
      ],
      "metadata": {
        "id": "2OIPr02e1w5B"
      }
    },
    {
      "cell_type": "markdown",
      "source": [
        "#### Valores distintos"
      ],
      "metadata": {
        "id": "cnpifyo6Nbhw"
      }
    },
    {
      "cell_type": "code",
      "source": [
        "# Valores distintos por atributo\n",
        "print('Ponto Recarga')\n",
        "atrp = listDistinct(dfp)\n",
        "\n",
        "print('Veiculos')\n",
        "atrv = listDistinct(dfv)"
      ],
      "metadata": {
        "colab": {
          "base_uri": "https://localhost:8080/"
        },
        "id": "pPXihHvyUwoP",
        "outputId": "7b1831ec-d369-4127-ced1-b32cf68a0f05"
      },
      "execution_count": null,
      "outputs": [
        {
          "output_type": "stream",
          "name": "stdout",
          "text": [
            "Ponto Recarga\n",
            "+------+--------+---------+----+----------+----+----+-----+\n",
            "|region|category|parameter|mode|powertrain|year|unit|value|\n",
            "+------+--------+---------+----+----------+----+----+-----+\n",
            "|33    |1       |1        |1   |2         |13  |1   |231  |\n",
            "+------+--------+---------+----+----------+----+----+-----+\n",
            "\n",
            "Veiculos\n",
            "+------+--------+---------+----+----------+----+----+-----+\n",
            "|region|category|parameter|mode|powertrain|year|unit|value|\n",
            "+------+--------+---------+----+----------+----+----+-----+\n",
            "|37    |3       |8        |5   |5         |15  |6   |997  |\n",
            "+------+--------+---------+----+----------+----+----+-----+\n",
            "\n"
          ]
        }
      ]
    },
    {
      "cell_type": "code",
      "source": [
        "# Aplicando função para contar valores distintos por registro\n",
        "print('Ponto Recarga')\n",
        "countDistinct(dfp)"
      ],
      "metadata": {
        "colab": {
          "base_uri": "https://localhost:8080/"
        },
        "id": "2CtQ3lkNIFfQ",
        "outputId": "f9aaeea5-9394-4c81-a8ae-22770803d4e9"
      },
      "execution_count": null,
      "outputs": [
        {
          "output_type": "stream",
          "name": "stdout",
          "text": [
            "Ponto Recarga\n",
            "==*==*==*==*==*==*==*==*==*==*==*==*==*==*==*==*==*==*==*==*==*==*==*==*==*==*==*==*==*==*==*==*==*==*==*==*==*==*==*==*==*==*==*==*==*==*==*==*==*==*==*==*==*==*==*==*==*==*==*==*==*==*==*==*==*==*==*==*==*==*\n",
            "region\n",
            "==*==*==*==*==*==*==*==*==*==*==*==*==*==*==*==*==*==*==*==*==*==*==*==*==*==*==*==*==*==*==*==*==*==*==*==*==*==*==*==*==*==*==*==*==*==*==*==*==*==*==*==*==*==*==*==*==*==*==*==*==*==*==*==*==*==*==*==*==*==*\n",
            "+--------------+-----+\n",
            "|region        |count|\n",
            "+--------------+-----+\n",
            "|Norway        |25   |\n",
            "|Chile         |24   |\n",
            "|Portugal      |24   |\n",
            "|Austria       |24   |\n",
            "|Netherlands   |24   |\n",
            "|United Kingdom|23   |\n",
            "|Italy         |22   |\n",
            "|Switzerland   |22   |\n",
            "|Canada        |22   |\n",
            "|Japan         |22   |\n",
            "|France        |22   |\n",
            "|Denmark       |22   |\n",
            "|Germany       |22   |\n",
            "|Spain         |21   |\n",
            "|USA           |21   |\n",
            "|Belgium       |20   |\n",
            "|Finland       |20   |\n",
            "|Greece        |19   |\n",
            "|Poland        |18   |\n",
            "|China         |18   |\n",
            "|Turkiye       |17   |\n",
            "|Iceland       |17   |\n",
            "|Sweden        |16   |\n",
            "|Mexico        |15   |\n",
            "|Israel        |14   |\n",
            "|Korea         |14   |\n",
            "|India         |13   |\n",
            "|South Africa  |12   |\n",
            "|Thailand      |12   |\n",
            "|Australia     |12   |\n",
            "|New Zealand   |11   |\n",
            "|Brazil        |10   |\n",
            "|Indonesia     |6    |\n",
            "+--------------+-----+\n",
            "\n",
            "==*==*==*==*==*==*==*==*==*==*==*==*==*==*==*==*==*==*==*==*==*==*==*==*==*==*==*==*==*==*==*==*==*==*==*==*==*==*==*==*==*==*==*==*==*==*==*==*==*==*==*==*==*==*==*==*==*==*==*==*==*==*==*==*==*==*==*==*==*==*\n",
            "category\n",
            "==*==*==*==*==*==*==*==*==*==*==*==*==*==*==*==*==*==*==*==*==*==*==*==*==*==*==*==*==*==*==*==*==*==*==*==*==*==*==*==*==*==*==*==*==*==*==*==*==*==*==*==*==*==*==*==*==*==*==*==*==*==*==*==*==*==*==*==*==*==*\n",
            "+----------+-----+\n",
            "|category  |count|\n",
            "+----------+-----+\n",
            "|Historical|604  |\n",
            "+----------+-----+\n",
            "\n",
            "==*==*==*==*==*==*==*==*==*==*==*==*==*==*==*==*==*==*==*==*==*==*==*==*==*==*==*==*==*==*==*==*==*==*==*==*==*==*==*==*==*==*==*==*==*==*==*==*==*==*==*==*==*==*==*==*==*==*==*==*==*==*==*==*==*==*==*==*==*==*\n",
            "parameter\n",
            "==*==*==*==*==*==*==*==*==*==*==*==*==*==*==*==*==*==*==*==*==*==*==*==*==*==*==*==*==*==*==*==*==*==*==*==*==*==*==*==*==*==*==*==*==*==*==*==*==*==*==*==*==*==*==*==*==*==*==*==*==*==*==*==*==*==*==*==*==*==*\n",
            "+------------------+-----+\n",
            "|parameter         |count|\n",
            "+------------------+-----+\n",
            "|EV charging points|604  |\n",
            "+------------------+-----+\n",
            "\n",
            "==*==*==*==*==*==*==*==*==*==*==*==*==*==*==*==*==*==*==*==*==*==*==*==*==*==*==*==*==*==*==*==*==*==*==*==*==*==*==*==*==*==*==*==*==*==*==*==*==*==*==*==*==*==*==*==*==*==*==*==*==*==*==*==*==*==*==*==*==*==*\n",
            "mode\n",
            "==*==*==*==*==*==*==*==*==*==*==*==*==*==*==*==*==*==*==*==*==*==*==*==*==*==*==*==*==*==*==*==*==*==*==*==*==*==*==*==*==*==*==*==*==*==*==*==*==*==*==*==*==*==*==*==*==*==*==*==*==*==*==*==*==*==*==*==*==*==*\n",
            "+----+-----+\n",
            "|mode|count|\n",
            "+----+-----+\n",
            "|EV  |604  |\n",
            "+----+-----+\n",
            "\n",
            "==*==*==*==*==*==*==*==*==*==*==*==*==*==*==*==*==*==*==*==*==*==*==*==*==*==*==*==*==*==*==*==*==*==*==*==*==*==*==*==*==*==*==*==*==*==*==*==*==*==*==*==*==*==*==*==*==*==*==*==*==*==*==*==*==*==*==*==*==*==*\n",
            "powertrain\n",
            "==*==*==*==*==*==*==*==*==*==*==*==*==*==*==*==*==*==*==*==*==*==*==*==*==*==*==*==*==*==*==*==*==*==*==*==*==*==*==*==*==*==*==*==*==*==*==*==*==*==*==*==*==*==*==*==*==*==*==*==*==*==*==*==*==*==*==*==*==*==*\n",
            "+-----------------------+-----+\n",
            "|powertrain             |count|\n",
            "+-----------------------+-----+\n",
            "|Publicly available slow|304  |\n",
            "|Publicly available fast|300  |\n",
            "+-----------------------+-----+\n",
            "\n",
            "==*==*==*==*==*==*==*==*==*==*==*==*==*==*==*==*==*==*==*==*==*==*==*==*==*==*==*==*==*==*==*==*==*==*==*==*==*==*==*==*==*==*==*==*==*==*==*==*==*==*==*==*==*==*==*==*==*==*==*==*==*==*==*==*==*==*==*==*==*==*\n",
            "year\n",
            "==*==*==*==*==*==*==*==*==*==*==*==*==*==*==*==*==*==*==*==*==*==*==*==*==*==*==*==*==*==*==*==*==*==*==*==*==*==*==*==*==*==*==*==*==*==*==*==*==*==*==*==*==*==*==*==*==*==*==*==*==*==*==*==*==*==*==*==*==*==*\n",
            "+----+-----+\n",
            "|year|count|\n",
            "+----+-----+\n",
            "|2022|66   |\n",
            "|2020|65   |\n",
            "|2021|65   |\n",
            "|2018|64   |\n",
            "|2019|64   |\n",
            "|2017|61   |\n",
            "|2016|52   |\n",
            "|2015|47   |\n",
            "|2014|42   |\n",
            "|2013|35   |\n",
            "|2012|27   |\n",
            "|2011|12   |\n",
            "|2010|4    |\n",
            "+----+-----+\n",
            "\n",
            "==*==*==*==*==*==*==*==*==*==*==*==*==*==*==*==*==*==*==*==*==*==*==*==*==*==*==*==*==*==*==*==*==*==*==*==*==*==*==*==*==*==*==*==*==*==*==*==*==*==*==*==*==*==*==*==*==*==*==*==*==*==*==*==*==*==*==*==*==*==*\n",
            "unit\n",
            "==*==*==*==*==*==*==*==*==*==*==*==*==*==*==*==*==*==*==*==*==*==*==*==*==*==*==*==*==*==*==*==*==*==*==*==*==*==*==*==*==*==*==*==*==*==*==*==*==*==*==*==*==*==*==*==*==*==*==*==*==*==*==*==*==*==*==*==*==*==*\n",
            "+---------------+-----+\n",
            "|unit           |count|\n",
            "+---------------+-----+\n",
            "|charging points|604  |\n",
            "+---------------+-----+\n",
            "\n",
            "==*==*==*==*==*==*==*==*==*==*==*==*==*==*==*==*==*==*==*==*==*==*==*==*==*==*==*==*==*==*==*==*==*==*==*==*==*==*==*==*==*==*==*==*==*==*==*==*==*==*==*==*==*==*==*==*==*==*==*==*==*==*==*==*==*==*==*==*==*==*\n",
            "value\n",
            "==*==*==*==*==*==*==*==*==*==*==*==*==*==*==*==*==*==*==*==*==*==*==*==*==*==*==*==*==*==*==*==*==*==*==*==*==*==*==*==*==*==*==*==*==*==*==*==*==*==*==*==*==*==*==*==*==*==*==*==*==*==*==*==*==*==*==*==*==*==*\n",
            "+-----------------+-----+\n",
            "|value            |count|\n",
            "+-----------------+-----+\n",
            "|10000000149011600|32   |\n",
            "|1200             |13   |\n",
            "|1100             |11   |\n",
            "|1400             |9    |\n",
            "|12000            |8    |\n",
            "|22000            |7    |\n",
            "|110              |7    |\n",
            "|1700             |7    |\n",
            "|120              |7    |\n",
            "|1500             |6    |\n",
            "|1000             |6    |\n",
            "|1300             |6    |\n",
            "|2300             |6    |\n",
            "|6                |6    |\n",
            "|130              |6    |\n",
            "|7                |6    |\n",
            "|220              |6    |\n",
            "|140              |6    |\n",
            "|240              |5    |\n",
            "|400              |5    |\n",
            "|15000            |5    |\n",
            "|4900000095367430 |5    |\n",
            "|2600             |5    |\n",
            "|2                |5    |\n",
            "|13000            |5    |\n",
            "|25               |5    |\n",
            "|3900             |5    |\n",
            "|710              |5    |\n",
            "|330              |5    |\n",
            "|8                |5    |\n",
            "|1                |5    |\n",
            "|5                |5    |\n",
            "|76               |5    |\n",
            "|1800             |5    |\n",
            "|1600             |5    |\n",
            "|2800             |5    |\n",
            "|4500             |4    |\n",
            "|21000            |4    |\n",
            "|310              |4    |\n",
            "|2200             |4    |\n",
            "|180              |4    |\n",
            "|10               |4    |\n",
            "|10000            |4    |\n",
            "|160              |4    |\n",
            "|17000            |4    |\n",
            "|5200             |4    |\n",
            "|3400             |4    |\n",
            "|150              |4    |\n",
            "|2100             |4    |\n",
            "|800              |4    |\n",
            "+-----------------+-----+\n",
            "only showing top 50 rows\n",
            "\n"
          ]
        }
      ]
    },
    {
      "cell_type": "code",
      "source": [
        "# Aplicando função para contar valores distintos por registro\n",
        "print('Veiculos')\n",
        "countDistinct(dfv)"
      ],
      "metadata": {
        "colab": {
          "base_uri": "https://localhost:8080/"
        },
        "id": "OVITtxXhIwut",
        "outputId": "67191dc5-d27d-4380-b938-12346744c735"
      },
      "execution_count": null,
      "outputs": [
        {
          "output_type": "stream",
          "name": "stdout",
          "text": [
            "Veiculos\n",
            "==*==*==*==*==*==*==*==*==*==*==*==*==*==*==*==*==*==*==*==*==*==*==*==*==*==*==*==*==*==*==*==*==*==*==*==*==*==*==*==*==*==*==*==*==*==*==*==*==*==*==*==*==*==*==*==*==*==*==*==*==*==*==*==*==*==*==*==*==*==*\n",
            "region\n",
            "==*==*==*==*==*==*==*==*==*==*==*==*==*==*==*==*==*==*==*==*==*==*==*==*==*==*==*==*==*==*==*==*==*==*==*==*==*==*==*==*==*==*==*==*==*==*==*==*==*==*==*==*==*==*==*==*==*==*==*==*==*==*==*==*==*==*==*==*==*==*\n",
            "+-----------------+-----+\n",
            "|region           |count|\n",
            "+-----------------+-----+\n",
            "|China            |948  |\n",
            "|World            |942  |\n",
            "|Europe           |931  |\n",
            "|Rest of the world|779  |\n",
            "|India            |510  |\n",
            "|USA              |374  |\n",
            "|EU27             |284  |\n",
            "|United Kingdom   |283  |\n",
            "|France           |270  |\n",
            "|Denmark          |262  |\n",
            "|Netherlands      |259  |\n",
            "|Belgium          |255  |\n",
            "|Austria          |231  |\n",
            "|Other Europe     |223  |\n",
            "|Sweden           |220  |\n",
            "|Germany          |219  |\n",
            "|Norway           |217  |\n",
            "|Japan            |208  |\n",
            "|Italy            |208  |\n",
            "|Spain            |205  |\n",
            "|Iceland          |197  |\n",
            "|Canada           |196  |\n",
            "|Switzerland      |190  |\n",
            "|Poland           |174  |\n",
            "|Finland          |172  |\n",
            "|New Zealand      |170  |\n",
            "|Korea            |170  |\n",
            "|Portugal         |166  |\n",
            "|Israel           |138  |\n",
            "|Brazil           |130  |\n",
            "|Greece           |118  |\n",
            "|Mexico           |95   |\n",
            "|Chile            |90   |\n",
            "|Australia        |82   |\n",
            "|Turkiye          |75   |\n",
            "|South Africa     |70   |\n",
            "|Thailand         |12   |\n",
            "|Indonesia        |6    |\n",
            "+-----------------+-----+\n",
            "\n",
            "==*==*==*==*==*==*==*==*==*==*==*==*==*==*==*==*==*==*==*==*==*==*==*==*==*==*==*==*==*==*==*==*==*==*==*==*==*==*==*==*==*==*==*==*==*==*==*==*==*==*==*==*==*==*==*==*==*==*==*==*==*==*==*==*==*==*==*==*==*==*\n",
            "category\n",
            "==*==*==*==*==*==*==*==*==*==*==*==*==*==*==*==*==*==*==*==*==*==*==*==*==*==*==*==*==*==*==*==*==*==*==*==*==*==*==*==*==*==*==*==*==*==*==*==*==*==*==*==*==*==*==*==*==*==*==*==*==*==*==*==*==*==*==*==*==*==*\n",
            "+----------------+-----+\n",
            "|category        |count|\n",
            "+----------------+-----+\n",
            "|Historical      |8116 |\n",
            "|Projection-STEPS|1013 |\n",
            "|Projection-APS  |950  |\n",
            "+----------------+-----+\n",
            "\n",
            "==*==*==*==*==*==*==*==*==*==*==*==*==*==*==*==*==*==*==*==*==*==*==*==*==*==*==*==*==*==*==*==*==*==*==*==*==*==*==*==*==*==*==*==*==*==*==*==*==*==*==*==*==*==*==*==*==*==*==*==*==*==*==*==*==*==*==*==*==*==*\n",
            "parameter\n",
            "==*==*==*==*==*==*==*==*==*==*==*==*==*==*==*==*==*==*==*==*==*==*==*==*==*==*==*==*==*==*==*==*==*==*==*==*==*==*==*==*==*==*==*==*==*==*==*==*==*==*==*==*==*==*==*==*==*==*==*==*==*==*==*==*==*==*==*==*==*==*\n",
            "+-----------------------------+-----+\n",
            "|parameter                    |count|\n",
            "+-----------------------------+-----+\n",
            "|EV stock                     |2387 |\n",
            "|EV sales                     |2234 |\n",
            "|EV stock share               |1475 |\n",
            "|EV sales share               |1407 |\n",
            "|EV charging points           |664  |\n",
            "|Oil displacement, million lge|654  |\n",
            "|Oil displacement Mbd         |654  |\n",
            "|Electricity demand           |604  |\n",
            "+-----------------------------+-----+\n",
            "\n",
            "==*==*==*==*==*==*==*==*==*==*==*==*==*==*==*==*==*==*==*==*==*==*==*==*==*==*==*==*==*==*==*==*==*==*==*==*==*==*==*==*==*==*==*==*==*==*==*==*==*==*==*==*==*==*==*==*==*==*==*==*==*==*==*==*==*==*==*==*==*==*\n",
            "mode\n",
            "==*==*==*==*==*==*==*==*==*==*==*==*==*==*==*==*==*==*==*==*==*==*==*==*==*==*==*==*==*==*==*==*==*==*==*==*==*==*==*==*==*==*==*==*==*==*==*==*==*==*==*==*==*==*==*==*==*==*==*==*==*==*==*==*==*==*==*==*==*==*\n",
            "+------+-----+\n",
            "|mode  |count|\n",
            "+------+-----+\n",
            "|Cars  |3487 |\n",
            "|Vans  |2273 |\n",
            "|Buses |2094 |\n",
            "|Trucks|1561 |\n",
            "|EV    |664  |\n",
            "+------+-----+\n",
            "\n",
            "==*==*==*==*==*==*==*==*==*==*==*==*==*==*==*==*==*==*==*==*==*==*==*==*==*==*==*==*==*==*==*==*==*==*==*==*==*==*==*==*==*==*==*==*==*==*==*==*==*==*==*==*==*==*==*==*==*==*==*==*==*==*==*==*==*==*==*==*==*==*\n",
            "powertrain\n",
            "==*==*==*==*==*==*==*==*==*==*==*==*==*==*==*==*==*==*==*==*==*==*==*==*==*==*==*==*==*==*==*==*==*==*==*==*==*==*==*==*==*==*==*==*==*==*==*==*==*==*==*==*==*==*==*==*==*==*==*==*==*==*==*==*==*==*==*==*==*==*\n",
            "+-----------------------+-----+\n",
            "|powertrain             |count|\n",
            "+-----------------------+-----+\n",
            "|EV                     |4794 |\n",
            "|BEV                    |2886 |\n",
            "|PHEV                   |1735 |\n",
            "|Publicly available slow|334  |\n",
            "|Publicly available fast|330  |\n",
            "+-----------------------+-----+\n",
            "\n",
            "==*==*==*==*==*==*==*==*==*==*==*==*==*==*==*==*==*==*==*==*==*==*==*==*==*==*==*==*==*==*==*==*==*==*==*==*==*==*==*==*==*==*==*==*==*==*==*==*==*==*==*==*==*==*==*==*==*==*==*==*==*==*==*==*==*==*==*==*==*==*\n",
            "year\n",
            "==*==*==*==*==*==*==*==*==*==*==*==*==*==*==*==*==*==*==*==*==*==*==*==*==*==*==*==*==*==*==*==*==*==*==*==*==*==*==*==*==*==*==*==*==*==*==*==*==*==*==*==*==*==*==*==*==*==*==*==*==*==*==*==*==*==*==*==*==*==*\n",
            "+------+-----+\n",
            "|year  |count|\n",
            "+------+-----+\n",
            "|2022.0|1135 |\n",
            "|2021.0|1116 |\n",
            "|2020.0|1100 |\n",
            "|2019.0|767  |\n",
            "|2018.0|735  |\n",
            "|2017.0|689  |\n",
            "|2016.0|649  |\n",
            "|2015.0|605  |\n",
            "|2014.0|556  |\n",
            "|2013.0|527  |\n",
            "|2012.0|506  |\n",
            "|2011.0|450  |\n",
            "|2025.0|444  |\n",
            "|2030.0|444  |\n",
            "|2010.0|356  |\n",
            "+------+-----+\n",
            "\n",
            "==*==*==*==*==*==*==*==*==*==*==*==*==*==*==*==*==*==*==*==*==*==*==*==*==*==*==*==*==*==*==*==*==*==*==*==*==*==*==*==*==*==*==*==*==*==*==*==*==*==*==*==*==*==*==*==*==*==*==*==*==*==*==*==*==*==*==*==*==*==*\n",
            "unit\n",
            "==*==*==*==*==*==*==*==*==*==*==*==*==*==*==*==*==*==*==*==*==*==*==*==*==*==*==*==*==*==*==*==*==*==*==*==*==*==*==*==*==*==*==*==*==*==*==*==*==*==*==*==*==*==*==*==*==*==*==*==*==*==*==*==*==*==*==*==*==*==*\n",
            "+-----------------------------+-----+\n",
            "|unit                         |count|\n",
            "+-----------------------------+-----+\n",
            "|Vehicles                     |4621 |\n",
            "|percent                      |2882 |\n",
            "|charging points              |664  |\n",
            "|Milion barrels per day       |654  |\n",
            "|Oil displacement, million lge|654  |\n",
            "|GWh                          |604  |\n",
            "+-----------------------------+-----+\n",
            "\n",
            "==*==*==*==*==*==*==*==*==*==*==*==*==*==*==*==*==*==*==*==*==*==*==*==*==*==*==*==*==*==*==*==*==*==*==*==*==*==*==*==*==*==*==*==*==*==*==*==*==*==*==*==*==*==*==*==*==*==*==*==*==*==*==*==*==*==*==*==*==*==*\n",
            "value\n",
            "==*==*==*==*==*==*==*==*==*==*==*==*==*==*==*==*==*==*==*==*==*==*==*==*==*==*==*==*==*==*==*==*==*==*==*==*==*==*==*==*==*==*==*==*==*==*==*==*==*==*==*==*==*==*==*==*==*==*==*==*==*==*==*==*==*==*==*==*==*==*\n",
            "+-----------------+-----+\n",
            "|value            |count|\n",
            "+-----------------+-----+\n",
            "|1                |123  |\n",
            "|2                |117  |\n",
            "|10999999940395300|78   |\n",
            "|5                |76   |\n",
            "|12999999523162800|69   |\n",
            "|1500             |67   |\n",
            "|1200             |63   |\n",
            "|1700             |61   |\n",
            "|3                |61   |\n",
            "|1100             |57   |\n",
            "|10               |56   |\n",
            "|120              |56   |\n",
            "|11               |54   |\n",
            "|4                |54   |\n",
            "|13               |54   |\n",
            "|15000            |52   |\n",
            "|10000000149011600|51   |\n",
            "|1600             |50   |\n",
            "|2199999988079070 |49   |\n",
            "|1000             |49   |\n",
            "|1400             |49   |\n",
            "|14               |48   |\n",
            "|140              |48   |\n",
            "|8                |46   |\n",
            "|6                |46   |\n",
            "|11999999731779000|46   |\n",
            "|110              |45   |\n",
            "|1300             |45   |\n",
            "|1899999976158140 |45   |\n",
            "|7                |44   |\n",
            "|18               |42   |\n",
            "|1800             |42   |\n",
            "|100              |42   |\n",
            "|130              |40   |\n",
            "|11000            |40   |\n",
            "|16               |39   |\n",
            "|12000            |39   |\n",
            "|220              |38   |\n",
            "|12000000476837100|37   |\n",
            "|1100000023841850 |37   |\n",
            "|180              |36   |\n",
            "|200              |36   |\n",
            "|9                |36   |\n",
            "|10000            |36   |\n",
            "|21000            |35   |\n",
            "|15               |35   |\n",
            "|17               |34   |\n",
            "|14000000059604600|34   |\n",
            "|12               |34   |\n",
            "|13000            |34   |\n",
            "+-----------------+-----+\n",
            "only showing top 50 rows\n",
            "\n"
          ]
        }
      ]
    },
    {
      "cell_type": "markdown",
      "source": [
        "#### Valores Nulos"
      ],
      "metadata": {
        "id": "TlaYgFOSNgL4"
      }
    },
    {
      "cell_type": "code",
      "source": [
        "# Verificar se há valores nulos/ausentes\n",
        "print('Ponto Recarga')\n",
        "fnull(dfp)\n",
        "\n",
        "print('Veiculos')\n",
        "fnull(dfv)"
      ],
      "metadata": {
        "id": "ByCYsxjVrNy4",
        "colab": {
          "base_uri": "https://localhost:8080/"
        },
        "outputId": "374e95b6-7bb7-4a04-ef65-cddcd135506e"
      },
      "execution_count": null,
      "outputs": [
        {
          "output_type": "stream",
          "name": "stdout",
          "text": [
            "Ponto Recarga\n",
            "+------+--------+---------+----+----------+----+----+-----+\n",
            "|region|category|parameter|mode|powertrain|year|unit|value|\n",
            "+------+--------+---------+----+----------+----+----+-----+\n",
            "|0     |0       |0        |0   |0         |0   |0   |0    |\n",
            "+------+--------+---------+----+----------+----+----+-----+\n",
            "\n",
            "Veiculos\n",
            "+------+--------+---------+----+----------+----+----+-----+\n",
            "|region|category|parameter|mode|powertrain|year|unit|value|\n",
            "+------+--------+---------+----+----------+----+----+-----+\n",
            "|0     |0       |0        |0   |0         |0   |0   |0    |\n",
            "+------+--------+---------+----+----------+----+----+-----+\n",
            "\n"
          ]
        }
      ]
    },
    {
      "cell_type": "markdown",
      "source": [
        "### Normalização de Dados\n",
        "Colocar os dados em um formato padronizado para facilitar a análise."
      ],
      "metadata": {
        "id": "FG2L2jSi2Alp"
      }
    },
    {
      "cell_type": "markdown",
      "source": [
        "#### Renomeando"
      ],
      "metadata": {
        "id": "PlcatBQq-QkD"
      }
    },
    {
      "cell_type": "code",
      "source": [
        "# Backup dataframes\n",
        "pbr = dfp\n",
        "vbr = dfv\n",
        "\n",
        "print('Ponto Recarga')\n",
        "pbr.show(truncate=False)\n",
        "\n",
        "print('Veiculos')\n",
        "vbr.show(truncate=False)"
      ],
      "metadata": {
        "id": "rVB3T2O0GZyH",
        "colab": {
          "base_uri": "https://localhost:8080/"
        },
        "outputId": "dfd5e99d-0351-47a5-c5eb-e616e1a69582"
      },
      "execution_count": null,
      "outputs": [
        {
          "output_type": "stream",
          "name": "stdout",
          "text": [
            "Ponto Recarga\n",
            "+---------+----------+------------------+----+-----------------------+----+---------------+-----------------+\n",
            "|region   |category  |parameter         |mode|powertrain             |year|unit           |value            |\n",
            "+---------+----------+------------------+----+-----------------------+----+---------------+-----------------+\n",
            "|Australia|Historical|EV charging points|EV  |Publicly available fast|2017|charging points|40               |\n",
            "|Australia|Historical|EV charging points|EV  |Publicly available slow|2017|charging points|440              |\n",
            "|Australia|Historical|EV charging points|EV  |Publicly available fast|2018|charging points|61               |\n",
            "|Australia|Historical|EV charging points|EV  |Publicly available slow|2018|charging points|670              |\n",
            "|Australia|Historical|EV charging points|EV  |Publicly available fast|2019|charging points|250              |\n",
            "|Australia|Historical|EV charging points|EV  |Publicly available slow|2019|charging points|1700             |\n",
            "|Australia|Historical|EV charging points|EV  |Publicly available fast|2020|charging points|350              |\n",
            "|Australia|Historical|EV charging points|EV  |Publicly available slow|2020|charging points|2000             |\n",
            "|Australia|Historical|EV charging points|EV  |Publicly available fast|2021|charging points|320              |\n",
            "|Australia|Historical|EV charging points|EV  |Publicly available slow|2021|charging points|2000             |\n",
            "|Australia|Historical|EV charging points|EV  |Publicly available fast|2022|charging points|470              |\n",
            "|Australia|Historical|EV charging points|EV  |Publicly available slow|2022|charging points|2100             |\n",
            "|Austria  |Historical|EV charging points|EV  |Publicly available fast|2011|charging points|10000000149011600|\n",
            "|Austria  |Historical|EV charging points|EV  |Publicly available slow|2011|charging points|10000000149011600|\n",
            "|Austria  |Historical|EV charging points|EV  |Publicly available fast|2012|charging points|10000000149011600|\n",
            "|Austria  |Historical|EV charging points|EV  |Publicly available slow|2012|charging points|10000000149011600|\n",
            "|Austria  |Historical|EV charging points|EV  |Publicly available fast|2013|charging points|10000000149011600|\n",
            "|Austria  |Historical|EV charging points|EV  |Publicly available slow|2013|charging points|10000000149011600|\n",
            "|Austria  |Historical|EV charging points|EV  |Publicly available fast|2014|charging points|10000000149011600|\n",
            "|Austria  |Historical|EV charging points|EV  |Publicly available slow|2014|charging points|10000000149011600|\n",
            "+---------+----------+------------------+----+-----------------------+----+---------------+-----------------+\n",
            "only showing top 20 rows\n",
            "\n",
            "Veiculos\n",
            "+---------+----------+--------------+----+----------+------+--------+-----------------+\n",
            "|region   |category  |parameter     |mode|powertrain|year  |unit    |value            |\n",
            "+---------+----------+--------------+----+----------+------+--------+-----------------+\n",
            "|Australia|Historical|EV sales      |Cars|BEV       |2011.0|Vehicles|49               |\n",
            "|Australia|Historical|EV stock      |Cars|BEV       |2011.0|Vehicles|49               |\n",
            "|Australia|Historical|EV sales share|Cars|EV        |2011.0|percent |6500000134110450 |\n",
            "|Australia|Historical|EV stock share|Cars|EV        |2011.0|percent |4600000102072950 |\n",
            "|Australia|Historical|EV stock share|Cars|EV        |2012.0|percent |279999990016222  |\n",
            "|Australia|Historical|EV sales share|Cars|EV        |2012.0|percent |29999999329447700|\n",
            "|Australia|Historical|EV stock      |Cars|BEV       |2012.0|Vehicles|220              |\n",
            "|Australia|Historical|EV stock      |Cars|PHEV      |2012.0|Vehicles|80               |\n",
            "|Australia|Historical|EV sales      |Cars|PHEV      |2012.0|Vehicles|80               |\n",
            "|Australia|Historical|EV sales      |Cars|BEV       |2012.0|Vehicles|170              |\n",
            "|Australia|Historical|EV sales      |Cars|BEV       |2013.0|Vehicles|190              |\n",
            "|Australia|Historical|EV sales      |Cars|PHEV      |2013.0|Vehicles|100              |\n",
            "|Australia|Historical|EV stock      |Cars|PHEV      |2013.0|Vehicles|180              |\n",
            "|Australia|Historical|EV stock      |Cars|BEV       |2013.0|Vehicles|410              |\n",
            "|Australia|Historical|EV sales share|Cars|EV        |2013.0|percent |3400000184774390 |\n",
            "|Australia|Historical|EV stock share|Cars|EV        |2013.0|percent |5400000140070910 |\n",
            "|Australia|Historical|EV stock share|Cars|EV        |2014.0|percent |17000000923871900|\n",
            "|Australia|Historical|EV sales share|Cars|EV        |2014.0|percent |1599999964237210 |\n",
            "|Australia|Historical|EV stock      |Cars|BEV       |2014.0|Vehicles|780              |\n",
            "|Australia|Historical|EV stock      |Cars|PHEV      |2014.0|Vehicles|1100             |\n",
            "+---------+----------+--------------+----+----------+------+--------+-----------------+\n",
            "only showing top 20 rows\n",
            "\n"
          ]
        }
      ]
    },
    {
      "cell_type": "code",
      "source": [
        "# Renomeando registros do dataframe\n",
        "traducao = {\n",
        "    'Publicly available slow': 'LENTO',\n",
        "    'Publicly available fast': 'RAPIDO',\n",
        "    \"Sweden\": \"SUECIA\",\n",
        "    \"Germany\": \"ALEMANHA\",\n",
        "    \"France\": \"FRANCA\",\n",
        "    \"Greece\": \"GRECIA\",\n",
        "    \"Belgium\": \"BELGICA\",\n",
        "    \"Finland\": \"FINLANDIA\",\n",
        "    \"China\": \"CHINA\",\n",
        "    \"India\": \"INDIA\",\n",
        "    \"Chile\": \"CHILE\",\n",
        "    \"Italy\": \"ITALIA\",\n",
        "    \"Norway\": \"NORUEGA\",\n",
        "    \"Spain\": \"ESPANHA\",\n",
        "    \"Denmark\": \"DINAMARCA\",\n",
        "    \"Thailand\": \"TAILANDIA\",\n",
        "    \"Iceland\": \"ISLANDIA\",\n",
        "    \"Israel\": \"ISRAEL\",\n",
        "    \"USA\": \"ESTADOS UNIDOS\",\n",
        "    \"Mexico\": \"MEXICO\",\n",
        "    \"Indonesia\": \"INDONESIA\",\n",
        "    \"Switzerland\": \"SUIÇA\",\n",
        "    \"Turkiye\": \"TURQUIA\",\n",
        "    \"Canada\": \"CANADA\",\n",
        "    \"Brazil\": \"BRASIL\",\n",
        "    \"Japan\": \"JAPAO\",\n",
        "    \"New Zealand\": \"NOVA ZELANDIA\",\n",
        "    \"Poland\": \"POLONIA\",\n",
        "    \"Portugal\": \"PORTUGAL\",\n",
        "    \"Australia\": \"AUSTRALIA\",\n",
        "    \"Austria\": \"AUSTRIA\",\n",
        "    \"Korea\": \"COREIA\",\n",
        "    \"South Africa\": \"AFRICA DO SUL\",\n",
        "    \"United Kingdom\": \"REINO UNIDO\",\n",
        "    \"Netherlands\": \"PAISES BAIXOS\",\n",
        "    \"World\" : \"GLOBAL\",\n",
        "    \"Rest of the world\": \"OUTROS GLOBAL\",\n",
        "    \"Europe\": \"EUROPA\",\n",
        "    \"Other Europe\": \"OUTROS EUROPA\",\n",
        "    \"EU27\": \"UNIAO EUROPEIA\",\n",
        "    \"Historical\": \"HISTORICO\",\n",
        "    \"Projection-STEPS\": \"CENARIO POLITICA DECLARADA\",\n",
        "    \"Projection-APS\": \"CENARIO POLITICA ANUNCIADA\",\n",
        "    \"charging points\": \"PONTOS DE CARREGAMENTO\",\n",
        "    \"EV stock share\": \"PARTICIPACAO NO ESTOQUE DE VEICULOS ELETRICOS\",\n",
        "    \"Electricity demand\": \"DEMANDA ENERGIA ELETRICA\",\n",
        "    \"EV sales\": \"VENDAS\",\n",
        "    \"EV sales share\": \"PARTICIPACAO NAS VENDAS DE VEICULOS ELETRICOS\",\n",
        "    \"Oil displacement Mbd\": \"DESLOCAMENTO DE OLEO MBD\",\n",
        "    \"EV stock\" : \"ESTOQUE\",\n",
        "    \"Vehicles\" : \"VEICULOS\",\n",
        "    \"percent\" : \"PERCENTUAL\",\n",
        "    \"Milion barrels per day\" : \"MILHOES BARRIS POR DIA\",\n",
        "    \"Oil displacement, million lge\" : \"DESLOCAMENTO DE OLEO EM MILHOES LGE\",\n",
        "    \"GWh\" : \"GIGAWATTS HORA\",\n",
        "    \"EV charging points\": \"PONTOS DE CARREGAMENTO VEICULAR\",\n",
        "    \"EV\": \"VEICULOS ELETRICOS\",\n",
        "    \"PHEV\": \"VEICULO ELETRICO HIBRIDO\",\n",
        "    \"BEV\": \"VEICULO ELETRICO EXCLUSIVO\",\n",
        "    \"Buses\": \"ONIBUS\",\n",
        "    \"Cars\": \"CARROS\",\n",
        "    \"Trucks\": \"CAMINHOES\",\n",
        "    \"Vans\": \"UTILITARIOS\"\n",
        "}\n",
        "\n",
        "# LGE = líquido gerador de espuma\n",
        "# Fonte: https://www.iea.org/data-and-statistics/data-tools/global-ev-data-explorer"
      ],
      "metadata": {
        "id": "PPPWrxZi7HFW"
      },
      "execution_count": null,
      "outputs": []
    },
    {
      "cell_type": "code",
      "source": [
        "# Renomeando registros\n",
        "print('Ponto Recarga')\n",
        "for i in pbr.columns:\n",
        "    pbr = pbr.withColumn(i, F.coalesce(*(F.when(F.col(i) == value, F.lit(traducao[value])) for value in traducao.keys()), F.col(i)))"
      ],
      "metadata": {
        "colab": {
          "base_uri": "https://localhost:8080/"
        },
        "id": "eCg4q-MXn1x6",
        "outputId": "f6d7929b-e71f-4778-d359-481193e2bc78"
      },
      "execution_count": null,
      "outputs": [
        {
          "output_type": "stream",
          "name": "stdout",
          "text": [
            "Ponto Recarga\n"
          ]
        }
      ]
    },
    {
      "cell_type": "code",
      "source": [
        "# Renomeando registros\n",
        "print('Veiculo')\n",
        "for i in vbr.columns:\n",
        "    vbr = vbr.withColumn(i, F.coalesce(*(F.when(F.col(i) == value, F.lit(traducao[value])) for value in traducao.keys()), F.col(i)))"
      ],
      "metadata": {
        "colab": {
          "base_uri": "https://localhost:8080/"
        },
        "id": "JI7OTVgGn5uy",
        "outputId": "7ab6ad77-7531-49fd-a27a-0755b6a2c446"
      },
      "execution_count": null,
      "outputs": [
        {
          "output_type": "stream",
          "name": "stdout",
          "text": [
            "Veiculo\n"
          ]
        }
      ]
    },
    {
      "cell_type": "code",
      "source": [
        "# tradução das colunas do dataframe\n",
        "pbr = pbr.withColumnRenamed(\"region\", \"pais\")\\\n",
        "         .withColumnRenamed(\"category\", \"categoria\")\\\n",
        "         .withColumnRenamed(\"parameter\", \"parametro\")\\\n",
        "         .withColumnRenamed(\"mode\", \"veiculo\")\\\n",
        "         .withColumnRenamed(\"powertrain\", \"carregamento\")\\\n",
        "         .withColumnRenamed(\"unit\", \"unidade\")\\\n",
        "         .withColumn(\"valor\", F.col(\"value\").cast(\"long\"))\\\n",
        "         .withColumn(\"ano\", F.col(\"year\").cast(\"int\"))\n",
        "\n",
        "vbr = vbr.withColumnRenamed(\"region\", \"pais\")\\\n",
        "         .withColumnRenamed(\"category\", \"categoria\")\\\n",
        "         .withColumnRenamed(\"parameter\", \"parametro\")\\\n",
        "         .withColumnRenamed(\"mode\", \"veiculo\")\\\n",
        "         .withColumnRenamed(\"powertrain\", \"carregamento\")\\\n",
        "         .withColumnRenamed(\"unit\", \"unidade\")\\\n",
        "         .withColumn(\"valor\", F.col(\"value\"))\\\n",
        "         .withColumn(\"ano\", F.col(\"year\").cast(\"int\"))"
      ],
      "metadata": {
        "id": "lSzEaIDJVIeP"
      },
      "execution_count": null,
      "outputs": []
    },
    {
      "cell_type": "code",
      "source": [
        "# Tipos de dados\n",
        "print('Ponto Recarga')\n",
        "pbr.dtypes"
      ],
      "metadata": {
        "id": "QUEdMMi1ux3U",
        "colab": {
          "base_uri": "https://localhost:8080/"
        },
        "outputId": "4ef94ea5-2926-4d30-bb32-11a39f943048"
      },
      "execution_count": null,
      "outputs": [
        {
          "output_type": "stream",
          "name": "stdout",
          "text": [
            "Ponto Recarga\n"
          ]
        },
        {
          "output_type": "execute_result",
          "data": {
            "text/plain": [
              "[('pais', 'string'),\n",
              " ('categoria', 'string'),\n",
              " ('parametro', 'string'),\n",
              " ('veiculo', 'string'),\n",
              " ('carregamento', 'string'),\n",
              " ('year', 'string'),\n",
              " ('unidade', 'string'),\n",
              " ('value', 'string'),\n",
              " ('valor', 'bigint'),\n",
              " ('ano', 'int')]"
            ]
          },
          "metadata": {},
          "execution_count": 32
        }
      ]
    },
    {
      "cell_type": "code",
      "source": [
        "# Tipos de daosd\n",
        "print('Veiculos')\n",
        "vbr.dtypes"
      ],
      "metadata": {
        "colab": {
          "base_uri": "https://localhost:8080/"
        },
        "id": "XvxX7xLRj2yv",
        "outputId": "4a5943dc-d63d-407b-f2bb-92a3054fb415"
      },
      "execution_count": null,
      "outputs": [
        {
          "output_type": "stream",
          "name": "stdout",
          "text": [
            "Veiculos\n"
          ]
        },
        {
          "output_type": "execute_result",
          "data": {
            "text/plain": [
              "[('pais', 'string'),\n",
              " ('categoria', 'string'),\n",
              " ('parametro', 'string'),\n",
              " ('veiculo', 'string'),\n",
              " ('carregamento', 'string'),\n",
              " ('year', 'string'),\n",
              " ('unidade', 'string'),\n",
              " ('value', 'string'),\n",
              " ('valor', 'string'),\n",
              " ('ano', 'int')]"
            ]
          },
          "metadata": {},
          "execution_count": 33
        }
      ]
    },
    {
      "cell_type": "code",
      "source": [
        "# Eliminação de colunas redundantes\n",
        "print('Ponto Recarga')\n",
        "pbr = pbr.drop('year', 'value')\n",
        "print(pbr.columns)\n",
        "\n",
        "print('\\n')\n",
        "\n",
        "print('Veiculos')\n",
        "vbr = vbr.drop('year', 'value')\n",
        "print(vbr.columns)"
      ],
      "metadata": {
        "id": "Tx6lJI3Tu_ON",
        "colab": {
          "base_uri": "https://localhost:8080/"
        },
        "outputId": "075a6888-9899-4650-c376-c45253176a1b"
      },
      "execution_count": null,
      "outputs": [
        {
          "output_type": "stream",
          "name": "stdout",
          "text": [
            "Ponto Recarga\n",
            "['pais', 'categoria', 'parametro', 'veiculo', 'carregamento', 'unidade', 'valor', 'ano']\n",
            "\n",
            "\n",
            "Veiculos\n",
            "['pais', 'categoria', 'parametro', 'veiculo', 'carregamento', 'unidade', 'valor', 'ano']\n"
          ]
        }
      ]
    },
    {
      "cell_type": "markdown",
      "source": [
        "# **Qualidade e integridade dos dados**"
      ],
      "metadata": {
        "id": "j6krOtKKvkR-"
      }
    },
    {
      "cell_type": "markdown",
      "source": [
        "### **Validação da estrutura dos dados (schema)**"
      ],
      "metadata": {
        "id": "S03P8PdZwETm"
      }
    },
    {
      "cell_type": "code",
      "source": [
        "# Definindo o esquema de validação e o examinando\n",
        "schemaBR1 = StructType([ StructField(\"pais\", StringType()),\n",
        "                        StructField(\"categoria\", StringType()),\n",
        "                        StructField(\"parametro\", StringType()),\n",
        "                        StructField(\"veiculo\", StringType()),\n",
        "                        StructField(\"carregamento\", StringType()),\n",
        "                        StructField(\"unidade\", StringType()),\n",
        "                        StructField(\"valor\", LongType()),\n",
        "                        StructField(\"ano\", IntegerType())\n",
        "                      ])\n",
        "\n",
        "schemaBR2 = StructType([ StructField(\"pais\", StringType()),\n",
        "                        StructField(\"categoria\", StringType()),\n",
        "                        StructField(\"parametro\", StringType()),\n",
        "                        StructField(\"veiculo\", StringType()),\n",
        "                        StructField(\"carregamento\", StringType()),\n",
        "                        StructField(\"unidade\", StringType()),\n",
        "                        StructField(\"valor\", StringType()),\n",
        "                        StructField(\"ano\", IntegerType())\n",
        "                      ])"
      ],
      "metadata": {
        "id": "pSPVby2swCzm"
      },
      "execution_count": null,
      "outputs": []
    },
    {
      "cell_type": "code",
      "source": [
        "# Verificando valores nulos remanescentes\n",
        "pbr.where( F.col('valor').isNull()).show(n=75, truncate=False)"
      ],
      "metadata": {
        "colab": {
          "base_uri": "https://localhost:8080/"
        },
        "id": "lvSx2MF3JI9D",
        "outputId": "e7a5016f-d408-4073-a4bf-b5bc6af44410"
      },
      "execution_count": null,
      "outputs": [
        {
          "output_type": "stream",
          "name": "stdout",
          "text": [
            "+----+---------+---------+-------+------------+-------+-----+---+\n",
            "|pais|categoria|parametro|veiculo|carregamento|unidade|valor|ano|\n",
            "+----+---------+---------+-------+------------+-------+-----+---+\n",
            "+----+---------+---------+-------+------------+-------+-----+---+\n",
            "\n"
          ]
        }
      ]
    },
    {
      "cell_type": "code",
      "source": [
        "# Verificando valores nulos remanescentes\n",
        "vbr.where( F.col('valor').isNull()).show(n=100, truncate=False)"
      ],
      "metadata": {
        "colab": {
          "base_uri": "https://localhost:8080/"
        },
        "id": "LI96BbYrcN-Z",
        "outputId": "102c4307-765e-418f-d274-237fe6f399b2"
      },
      "execution_count": null,
      "outputs": [
        {
          "output_type": "stream",
          "name": "stdout",
          "text": [
            "+----+---------+---------+-------+------------+-------+-----+---+\n",
            "|pais|categoria|parametro|veiculo|carregamento|unidade|valor|ano|\n",
            "+----+---------+---------+-------+------------+-------+-----+---+\n",
            "+----+---------+---------+-------+------------+-------+-----+---+\n",
            "\n"
          ]
        }
      ]
    },
    {
      "cell_type": "code",
      "source": [
        "# Aplicando a função para validação do Schema e inexistência de registros nulos\n",
        "validar(pbr, 'iea_ponto_revenda')"
      ],
      "metadata": {
        "colab": {
          "base_uri": "https://localhost:8080/"
        },
        "id": "eGAIyD1_jVHh",
        "outputId": "2ab4dc13-ea2d-4749-957b-d9569f72cde3"
      },
      "execution_count": null,
      "outputs": [
        {
          "output_type": "stream",
          "name": "stdout",
          "text": [
            "Tabela iea_ponto_revenda VALIDADA!\n"
          ]
        }
      ]
    },
    {
      "cell_type": "code",
      "source": [
        "# Aplicando a função para validação do Schema e inexistência de registros nulos\n",
        "validar(vbr, 'iea_veiculos')"
      ],
      "metadata": {
        "colab": {
          "base_uri": "https://localhost:8080/"
        },
        "id": "gbXPMeHqjfa4",
        "outputId": "e58047d2-2b1e-416d-c25f-4f959d906f1c"
      },
      "execution_count": null,
      "outputs": [
        {
          "output_type": "stream",
          "name": "stdout",
          "text": [
            "Tabela iea_veiculos VALIDADA!\n"
          ]
        }
      ]
    },
    {
      "cell_type": "markdown",
      "source": [
        "## **Colunas Persistidas**"
      ],
      "metadata": {
        "id": "JqXejczoZybS"
      }
    },
    {
      "cell_type": "markdown",
      "source": [
        "================================================================================\n",
        "String\n",
        "================================================================================\n",
        "* pais\n",
        "* categoria\n",
        "* parametro\n",
        "* veiculo\n",
        "* carregamento\n",
        "* unidade\n",
        "\n",
        "================================================================================\n",
        "BigInt\n",
        "================================================================================\n",
        "* valor\n",
        "\n",
        "================================================================================\n",
        "Int\n",
        "================================================================================\n",
        "* ano\n"
      ],
      "metadata": {
        "id": "mNOCmwZecd8v"
      }
    },
    {
      "cell_type": "markdown",
      "source": [
        "## Copia de segurança do tratamento - Backup"
      ],
      "metadata": {
        "id": "59UEX6yQCrqX"
      }
    },
    {
      "cell_type": "code",
      "source": [
        "# Backup para analise\n",
        "df_tratado_ponto = pbr\n",
        "df_tratado_veiculo = vbr"
      ],
      "metadata": {
        "id": "kPn9PJEFvtWW"
      },
      "execution_count": null,
      "outputs": []
    },
    {
      "cell_type": "markdown",
      "source": [
        "# Load\n",
        "Depois que os dados são extraídos e transformados adequadamente, eles estarão prontos para as análise, mas antes disso eles precisam ser carregados em um local de armazenamento adequado. Podendo ser um banco de dados SQL ou NoSQL, um sistema de armazenamento em nuvem, e para o caso de disponibilizar o projeto publicamente é ideal que ele seja colocar em uma pasta de datasets, diferenciando o arquivo bruto e o tratado."
      ],
      "metadata": {
        "id": "0hT5rrbf2Xrw"
      }
    },
    {
      "cell_type": "code",
      "source": [
        "# convertendo em um dataframe Pandas\n",
        "gcsp = pbr.toPandas()\n",
        "gcsv = vbr.toPandas()\n",
        "\n",
        "# carregamento no GCS\n",
        "gcsp.to_csv(outpathPontoRecarga, index=False)\n",
        "gcsv.to_csv(outpathVeiculos, index=False)\n",
        "\n",
        "# encerrando o SparkSession\n",
        "spark.stop()"
      ],
      "metadata": {
        "id": "S6385Mam2kko"
      },
      "execution_count": null,
      "outputs": []
    }
  ]
}