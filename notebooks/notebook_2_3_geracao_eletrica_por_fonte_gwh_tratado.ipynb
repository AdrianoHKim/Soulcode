{
  "nbformat": 4,
  "nbformat_minor": 0,
  "metadata": {
    "colab": {
      "provenance": [],
      "collapsed_sections": [
        "ELp0xHUwTO0T",
        "L7abbfpEBjvV",
        "FG2L2jSi2Alp",
        "61BpULdxB4eG",
        "mGQ05qUq6O-Q"
      ],
      "include_colab_link": true
    },
    "kernelspec": {
      "name": "python3",
      "display_name": "Python 3"
    },
    "language_info": {
      "name": "python"
    }
  },
  "cells": [
    {
      "cell_type": "markdown",
      "metadata": {
        "id": "view-in-github",
        "colab_type": "text"
      },
      "source": [
        "<a href=\"https://colab.research.google.com/github/AdrianoHKim/Soulcode/blob/main/notebooks/notebook_2_3_geracao_eletrica_por_fonte_gwh_tratado.ipynb\" target=\"_parent\"><img src=\"https://colab.research.google.com/assets/colab-badge.svg\" alt=\"Open In Colab\"/></a>"
      ]
    },
    {
      "cell_type": "markdown",
      "source": [
        "## **Projeto Final**\n",
        "Escola: SoulCode Academy\n",
        "\n",
        "Curso: Bootcamp Analista de Dados - Martech - AD2\n",
        "\n",
        "**Alunos: Adriano Kim, José Aurelio, Marcos Paulo, Paulo Vitorino e Renato Costa e Wesley Luiz**\n",
        "\n",
        "Professores: Douglas Ribeiro, Franciane Rodrigues e"
      ],
      "metadata": {
        "id": "8AvV2uVhNLpj"
      }
    },
    {
      "cell_type": "markdown",
      "source": [
        "# Base de Dados Informações gerais\n",
        "A Empresa de Pesquisa Energética (EPE) apresenta o Anuário Estatístico de Energia Elétrica, que traz as informações relativas à cadeia de energia elétrica do Brasil, bem como informações regionais e das unidades federativas.\n",
        "\n",
        "Este Anuário resulta da compilação de dados dos anos de 2013 a 2022, coletados e consolidados pela EPE ao longo de 2023. Cumpre ressaltar que os dados apresentados não contemplam a parcela consumida em unidades autoprodutoras de energia elétrica.Realizado no âmbito da Comissão Permanente de Análise e Acompanhamento do Mercado de Energia Elétrica (COPAM), sob a coordenação da EPE.\n",
        "\n",
        "Os dados relativos à capacidade instalada e geração de energia elétrica são obtidos pelo sistema de informações de geração da Associação Nacional de Energia Elétrica(ANEEL) e pelo Balanço Energético Nacional (BEN).\n",
        "\n",
        "Fonte: hhttps://dashboard.epe.gov.br/apps/anuario-livro/#Apresenta%C3%A7%C3%A3o\n"
      ],
      "metadata": {
        "id": "ELp0xHUwTO0T"
      }
    },
    {
      "cell_type": "markdown",
      "source": [
        "## **Dicionário de dados**"
      ],
      "metadata": {
        "id": "-KiI5to9Uj6i"
      }
    },
    {
      "cell_type": "markdown",
      "source": [
        "### Base de dados: Geração elétrica por fonte (GWh)\n",
        "\n",
        "* Biomassa (iii): Energia proveniente da queima de resíduos orgânicos, como madeira, cascas de frutas e resíduos agrícolas, para gerar eletricidade.\n",
        "\n",
        "* Carvão: Energia gerada pela queima de carvão mineral, uma fonte fóssil não renovável, para produzir calor e eletricidade.\n",
        "\n",
        "* Derivados de Petróleo (ii): Energia obtida da queima de produtos derivados do petróleo, como gasolina, diesel e óleo combustível.\n",
        "\n",
        "* Eólica: Energia gerada pelo movimento do vento, capturado por turbinas eólicas, que é transformada em eletricidade.\n",
        "\n",
        "* Gás Natural: Energia produzida pela queima de gás natural, uma fonte fóssil, para geração de calor e eletricidade.\n",
        "\n",
        "* Hidráulica (i): Energia hidrelétrica gerada pelo fluxo de água em usinas, convertendo a energia cinética da água em eletricidade.\n",
        "\n",
        "* Nuclear: Energia obtida através de reações nucleares, onde átomos são divididos para liberar uma quantidade significativa de energia.\n",
        "\n",
        "* Outras (iv): Outras fontes de energia não especificadas anteriormente.\n",
        "\n",
        "* Solar: Energia solar obtida da radiação solar, convertida em eletricidade por meio de painéis solares ou coletores térmicos.\n",
        "\n",
        "* Total: Representa a produção total de energia (GWh), a partir de várias fontes ao longo do período de tempo considerado.\n",
        "\n",
        "\n",
        "\n",
        "\n",
        "\n"
      ],
      "metadata": {
        "id": "SYdPRuwh2PEe"
      }
    },
    {
      "cell_type": "markdown",
      "source": [
        "# ETL\n",
        "Extração, transformação, carregamento dos dados\n",
        "\n"
      ],
      "metadata": {
        "id": "1J_bHlTG0UPq"
      }
    },
    {
      "cell_type": "markdown",
      "source": [
        "## Instalações  e Bibliotecas\n",
        "Instalações e importações das bibliotecas necessárias para o processo de ETL."
      ],
      "metadata": {
        "id": "L7abbfpEBjvV"
      }
    },
    {
      "cell_type": "code",
      "execution_count": null,
      "metadata": {
        "id": "cGTV4K2w0xhZ",
        "colab": {
          "base_uri": "https://localhost:8080/"
        },
        "outputId": "a81d928d-724f-4d26-acc4-a273628a2071"
      },
      "outputs": [
        {
          "output_type": "stream",
          "name": "stdout",
          "text": [
            "Requirement already satisfied: gcsfs in /usr/local/lib/python3.10/dist-packages (2023.6.0)\n",
            "Requirement already satisfied: aiohttp!=4.0.0a0,!=4.0.0a1 in /usr/local/lib/python3.10/dist-packages (from gcsfs) (3.8.5)\n",
            "Requirement already satisfied: decorator>4.1.2 in /usr/local/lib/python3.10/dist-packages (from gcsfs) (4.4.2)\n",
            "Requirement already satisfied: fsspec==2023.6.0 in /usr/local/lib/python3.10/dist-packages (from gcsfs) (2023.6.0)\n",
            "Requirement already satisfied: google-auth>=1.2 in /usr/local/lib/python3.10/dist-packages (from gcsfs) (2.17.3)\n",
            "Requirement already satisfied: google-auth-oauthlib in /usr/local/lib/python3.10/dist-packages (from gcsfs) (1.0.0)\n",
            "Requirement already satisfied: google-cloud-storage in /usr/local/lib/python3.10/dist-packages (from gcsfs) (2.8.0)\n",
            "Requirement already satisfied: requests in /usr/local/lib/python3.10/dist-packages (from gcsfs) (2.27.1)\n",
            "Requirement already satisfied: attrs>=17.3.0 in /usr/local/lib/python3.10/dist-packages (from aiohttp!=4.0.0a0,!=4.0.0a1->gcsfs) (23.1.0)\n",
            "Requirement already satisfied: charset-normalizer<4.0,>=2.0 in /usr/local/lib/python3.10/dist-packages (from aiohttp!=4.0.0a0,!=4.0.0a1->gcsfs) (2.0.12)\n",
            "Requirement already satisfied: multidict<7.0,>=4.5 in /usr/local/lib/python3.10/dist-packages (from aiohttp!=4.0.0a0,!=4.0.0a1->gcsfs) (6.0.4)\n",
            "Requirement already satisfied: async-timeout<5.0,>=4.0.0a3 in /usr/local/lib/python3.10/dist-packages (from aiohttp!=4.0.0a0,!=4.0.0a1->gcsfs) (4.0.2)\n",
            "Requirement already satisfied: yarl<2.0,>=1.0 in /usr/local/lib/python3.10/dist-packages (from aiohttp!=4.0.0a0,!=4.0.0a1->gcsfs) (1.9.2)\n",
            "Requirement already satisfied: frozenlist>=1.1.1 in /usr/local/lib/python3.10/dist-packages (from aiohttp!=4.0.0a0,!=4.0.0a1->gcsfs) (1.4.0)\n",
            "Requirement already satisfied: aiosignal>=1.1.2 in /usr/local/lib/python3.10/dist-packages (from aiohttp!=4.0.0a0,!=4.0.0a1->gcsfs) (1.3.1)\n",
            "Requirement already satisfied: cachetools<6.0,>=2.0.0 in /usr/local/lib/python3.10/dist-packages (from google-auth>=1.2->gcsfs) (5.3.1)\n",
            "Requirement already satisfied: pyasn1-modules>=0.2.1 in /usr/local/lib/python3.10/dist-packages (from google-auth>=1.2->gcsfs) (0.3.0)\n",
            "Requirement already satisfied: six>=1.9.0 in /usr/local/lib/python3.10/dist-packages (from google-auth>=1.2->gcsfs) (1.16.0)\n",
            "Requirement already satisfied: rsa<5,>=3.1.4 in /usr/local/lib/python3.10/dist-packages (from google-auth>=1.2->gcsfs) (4.9)\n",
            "Requirement already satisfied: requests-oauthlib>=0.7.0 in /usr/local/lib/python3.10/dist-packages (from google-auth-oauthlib->gcsfs) (1.3.1)\n",
            "Requirement already satisfied: google-api-core!=2.0.*,!=2.1.*,!=2.2.*,!=2.3.0,<3.0.0dev,>=1.31.5 in /usr/local/lib/python3.10/dist-packages (from google-cloud-storage->gcsfs) (2.11.1)\n",
            "Requirement already satisfied: google-cloud-core<3.0dev,>=2.3.0 in /usr/local/lib/python3.10/dist-packages (from google-cloud-storage->gcsfs) (2.3.3)\n",
            "Requirement already satisfied: google-resumable-media>=2.3.2 in /usr/local/lib/python3.10/dist-packages (from google-cloud-storage->gcsfs) (2.5.0)\n",
            "Requirement already satisfied: urllib3<1.27,>=1.21.1 in /usr/local/lib/python3.10/dist-packages (from requests->gcsfs) (1.26.16)\n",
            "Requirement already satisfied: certifi>=2017.4.17 in /usr/local/lib/python3.10/dist-packages (from requests->gcsfs) (2023.7.22)\n",
            "Requirement already satisfied: idna<4,>=2.5 in /usr/local/lib/python3.10/dist-packages (from requests->gcsfs) (3.4)\n",
            "Requirement already satisfied: googleapis-common-protos<2.0.dev0,>=1.56.2 in /usr/local/lib/python3.10/dist-packages (from google-api-core!=2.0.*,!=2.1.*,!=2.2.*,!=2.3.0,<3.0.0dev,>=1.31.5->google-cloud-storage->gcsfs) (1.59.1)\n",
            "Requirement already satisfied: protobuf!=3.20.0,!=3.20.1,!=4.21.0,!=4.21.1,!=4.21.2,!=4.21.3,!=4.21.4,!=4.21.5,<5.0.0.dev0,>=3.19.5 in /usr/local/lib/python3.10/dist-packages (from google-api-core!=2.0.*,!=2.1.*,!=2.2.*,!=2.3.0,<3.0.0dev,>=1.31.5->google-cloud-storage->gcsfs) (3.20.3)\n",
            "Requirement already satisfied: google-crc32c<2.0dev,>=1.0 in /usr/local/lib/python3.10/dist-packages (from google-resumable-media>=2.3.2->google-cloud-storage->gcsfs) (1.5.0)\n",
            "Requirement already satisfied: pyasn1<0.6.0,>=0.4.6 in /usr/local/lib/python3.10/dist-packages (from pyasn1-modules>=0.2.1->google-auth>=1.2->gcsfs) (0.5.0)\n",
            "Requirement already satisfied: oauthlib>=3.0.0 in /usr/local/lib/python3.10/dist-packages (from requests-oauthlib>=0.7.0->google-auth-oauthlib->gcsfs) (3.2.2)\n"
          ]
        }
      ],
      "source": [
        "# instalaçao de biblioteca para interagir com google cloud\n",
        "!pip install gcsfs"
      ]
    },
    {
      "cell_type": "code",
      "source": [
        "# instalaçao de biblioteca para validar dados com pandera\n",
        "!pip install pandera"
      ],
      "metadata": {
        "id": "jnnF93Nv9L64",
        "colab": {
          "base_uri": "https://localhost:8080/"
        },
        "outputId": "51e115a0-98ab-48bd-8b81-a3f51f03e5ce"
      },
      "execution_count": null,
      "outputs": [
        {
          "output_type": "stream",
          "name": "stdout",
          "text": [
            "Requirement already satisfied: pandera in /usr/local/lib/python3.10/dist-packages (0.16.1)\n",
            "Requirement already satisfied: multimethod in /usr/local/lib/python3.10/dist-packages (from pandera) (1.9.1)\n",
            "Requirement already satisfied: numpy>=1.19.0 in /usr/local/lib/python3.10/dist-packages (from pandera) (1.22.4)\n",
            "Requirement already satisfied: packaging>=20.0 in /usr/local/lib/python3.10/dist-packages (from pandera) (23.1)\n",
            "Requirement already satisfied: pandas>=1.2.0 in /usr/local/lib/python3.10/dist-packages (from pandera) (1.5.3)\n",
            "Requirement already satisfied: pydantic<2.0.0 in /usr/local/lib/python3.10/dist-packages (from pandera) (1.10.12)\n",
            "Requirement already satisfied: typeguard>=3.0.2 in /usr/local/lib/python3.10/dist-packages (from pandera) (4.1.0)\n",
            "Requirement already satisfied: typing-inspect>=0.6.0 in /usr/local/lib/python3.10/dist-packages (from pandera) (0.9.0)\n",
            "Requirement already satisfied: wrapt in /usr/local/lib/python3.10/dist-packages (from pandera) (1.14.1)\n",
            "Requirement already satisfied: python-dateutil>=2.8.1 in /usr/local/lib/python3.10/dist-packages (from pandas>=1.2.0->pandera) (2.8.2)\n",
            "Requirement already satisfied: pytz>=2020.1 in /usr/local/lib/python3.10/dist-packages (from pandas>=1.2.0->pandera) (2022.7.1)\n",
            "Requirement already satisfied: typing-extensions>=4.2.0 in /usr/local/lib/python3.10/dist-packages (from pydantic<2.0.0->pandera) (4.7.1)\n",
            "Requirement already satisfied: mypy-extensions>=0.3.0 in /usr/local/lib/python3.10/dist-packages (from typing-inspect>=0.6.0->pandera) (1.0.0)\n",
            "Requirement already satisfied: six>=1.5 in /usr/local/lib/python3.10/dist-packages (from python-dateutil>=2.8.1->pandas>=1.2.0->pandera) (1.16.0)\n"
          ]
        }
      ]
    },
    {
      "cell_type": "code",
      "source": [
        "#Importando bibliotecas\n",
        "import os\n",
        "import pandas as pd\n",
        "import numpy as np\n",
        "import os\n",
        "import pandera as pa\n",
        "import matplotlib.pyplot as plt\n",
        "import matplotlib.patches as mpatches\n",
        "import seaborn as sns\n",
        "from google.cloud import storage\n",
        "from oauth2client.client import GoogleCredentials"
      ],
      "metadata": {
        "id": "9PyA1knO9Wau"
      },
      "execution_count": null,
      "outputs": []
    },
    {
      "cell_type": "code",
      "source": [],
      "metadata": {
        "id": "RZerQzPKkS_L"
      },
      "execution_count": null,
      "outputs": []
    },
    {
      "cell_type": "code",
      "source": [
        "# Ignorando alguns alertas desnecessários\n",
        "import warnings\n",
        "warnings.filterwarnings(\"ignore\")"
      ],
      "metadata": {
        "id": "um2OUpf69mnW"
      },
      "execution_count": null,
      "outputs": []
    },
    {
      "cell_type": "code",
      "source": [
        "# Configuração da quantidade de colunas para aparecer em um DataFrame\n",
        "pd.set_option('display.max_columns',100)"
      ],
      "metadata": {
        "id": "AeslQXYjNiEy"
      },
      "execution_count": null,
      "outputs": []
    },
    {
      "cell_type": "markdown",
      "source": [
        "## Extração\n",
        "A primeira etapa da ETL é a extração dos dados de sua fonte original. Dependendo do tipo de dados e da fonte, você pode precisar de diferentes ferramentas e técnicas para extrair os dados."
      ],
      "metadata": {
        "id": "0dZJqZvm1DES"
      }
    },
    {
      "cell_type": "code",
      "source": [
        "# CONFIGURANDO DA CHAVE DE SEGURANCA - ACESSO O PROJETO\n",
        "serviceAccount = '/content/projeto-final-ad2-e8-ae566c3a2c2b.json'\n",
        "os.environ['GOOGLE_APPLICATION_CREDENTIALS'] = serviceAccount"
      ],
      "metadata": {
        "id": "15DlC0EbFcRL"
      },
      "execution_count": null,
      "outputs": []
    },
    {
      "cell_type": "code",
      "source": [
        "# Conexão com a bucket do Google Cloud\n",
        "\n",
        "client = storage.Client()\n",
        "bucket = client.get_bucket('projeto-final-ad2-e8') # nome do bucket\n",
        "bucket.blob('projeto-final-ad2-e8/dados/brutos/excel/2_3_geracao_eletrica_por_fonte_gwh.xlsx ') # nome do arquivo\n",
        "path = 'gs://projeto-final-ad2-e8/dados/brutos/excel/2_3_geracao_eletrica_por_fonte_gwh.xlsx' # gsutil\n",
        "\n"
      ],
      "metadata": {
        "id": "TV-rH7EWbVpm"
      },
      "execution_count": null,
      "outputs": []
    },
    {
      "cell_type": "code",
      "source": [
        "# Leitura e configuração dos arquivos extraidos\n",
        "df = pd.read_excel(path)"
      ],
      "metadata": {
        "id": "5RA70GsGesUH"
      },
      "execution_count": null,
      "outputs": []
    },
    {
      "cell_type": "markdown",
      "source": [
        "### Pré Análise"
      ],
      "metadata": {
        "id": "V1UNCIESAaZN"
      }
    },
    {
      "cell_type": "code",
      "source": [
        "# Visualização geral\n",
        "df.head()"
      ],
      "metadata": {
        "id": "ji1Xb8ccfuyt",
        "colab": {
          "base_uri": "https://localhost:8080/",
          "height": 206
        },
        "outputId": "b91381a0-44ad-49d6-a3f6-0c5dcd46a25b"
      },
      "execution_count": null,
      "outputs": [
        {
          "output_type": "execute_result",
          "data": {
            "text/plain": [
              "    ano                       grupo         total\n",
              "0  2013              Biomassa (iii)  39683.802484\n",
              "1  2013                      Carvão  14801.485105\n",
              "2  2013  Derivados de Petróleo (ii)  22223.190607\n",
              "3  2013                      Eólica   6578.409847\n",
              "4  2013                 Gás Natural  68941.547741"
            ],
            "text/html": [
              "\n",
              "\n",
              "  <div id=\"df-16ea900f-8d9e-46ab-86c5-a8b237888e7b\">\n",
              "    <div class=\"colab-df-container\">\n",
              "      <div>\n",
              "<style scoped>\n",
              "    .dataframe tbody tr th:only-of-type {\n",
              "        vertical-align: middle;\n",
              "    }\n",
              "\n",
              "    .dataframe tbody tr th {\n",
              "        vertical-align: top;\n",
              "    }\n",
              "\n",
              "    .dataframe thead th {\n",
              "        text-align: right;\n",
              "    }\n",
              "</style>\n",
              "<table border=\"1\" class=\"dataframe\">\n",
              "  <thead>\n",
              "    <tr style=\"text-align: right;\">\n",
              "      <th></th>\n",
              "      <th>ano</th>\n",
              "      <th>grupo</th>\n",
              "      <th>total</th>\n",
              "    </tr>\n",
              "  </thead>\n",
              "  <tbody>\n",
              "    <tr>\n",
              "      <th>0</th>\n",
              "      <td>2013</td>\n",
              "      <td>Biomassa (iii)</td>\n",
              "      <td>39683.802484</td>\n",
              "    </tr>\n",
              "    <tr>\n",
              "      <th>1</th>\n",
              "      <td>2013</td>\n",
              "      <td>Carvão</td>\n",
              "      <td>14801.485105</td>\n",
              "    </tr>\n",
              "    <tr>\n",
              "      <th>2</th>\n",
              "      <td>2013</td>\n",
              "      <td>Derivados de Petróleo (ii)</td>\n",
              "      <td>22223.190607</td>\n",
              "    </tr>\n",
              "    <tr>\n",
              "      <th>3</th>\n",
              "      <td>2013</td>\n",
              "      <td>Eólica</td>\n",
              "      <td>6578.409847</td>\n",
              "    </tr>\n",
              "    <tr>\n",
              "      <th>4</th>\n",
              "      <td>2013</td>\n",
              "      <td>Gás Natural</td>\n",
              "      <td>68941.547741</td>\n",
              "    </tr>\n",
              "  </tbody>\n",
              "</table>\n",
              "</div>\n",
              "      <button class=\"colab-df-convert\" onclick=\"convertToInteractive('df-16ea900f-8d9e-46ab-86c5-a8b237888e7b')\"\n",
              "              title=\"Convert this dataframe to an interactive table.\"\n",
              "              style=\"display:none;\">\n",
              "\n",
              "  <svg xmlns=\"http://www.w3.org/2000/svg\" height=\"24px\"viewBox=\"0 0 24 24\"\n",
              "       width=\"24px\">\n",
              "    <path d=\"M0 0h24v24H0V0z\" fill=\"none\"/>\n",
              "    <path d=\"M18.56 5.44l.94 2.06.94-2.06 2.06-.94-2.06-.94-.94-2.06-.94 2.06-2.06.94zm-11 1L8.5 8.5l.94-2.06 2.06-.94-2.06-.94L8.5 2.5l-.94 2.06-2.06.94zm10 10l.94 2.06.94-2.06 2.06-.94-2.06-.94-.94-2.06-.94 2.06-2.06.94z\"/><path d=\"M17.41 7.96l-1.37-1.37c-.4-.4-.92-.59-1.43-.59-.52 0-1.04.2-1.43.59L10.3 9.45l-7.72 7.72c-.78.78-.78 2.05 0 2.83L4 21.41c.39.39.9.59 1.41.59.51 0 1.02-.2 1.41-.59l7.78-7.78 2.81-2.81c.8-.78.8-2.07 0-2.86zM5.41 20L4 18.59l7.72-7.72 1.47 1.35L5.41 20z\"/>\n",
              "  </svg>\n",
              "      </button>\n",
              "\n",
              "\n",
              "\n",
              "    <div id=\"df-91ae0b72-30de-45d1-89ca-a7342f9fd352\">\n",
              "      <button class=\"colab-df-quickchart\" onclick=\"quickchart('df-91ae0b72-30de-45d1-89ca-a7342f9fd352')\"\n",
              "              title=\"Suggest charts.\"\n",
              "              style=\"display:none;\">\n",
              "\n",
              "<svg xmlns=\"http://www.w3.org/2000/svg\" height=\"24px\"viewBox=\"0 0 24 24\"\n",
              "     width=\"24px\">\n",
              "    <g>\n",
              "        <path d=\"M19 3H5c-1.1 0-2 .9-2 2v14c0 1.1.9 2 2 2h14c1.1 0 2-.9 2-2V5c0-1.1-.9-2-2-2zM9 17H7v-7h2v7zm4 0h-2V7h2v10zm4 0h-2v-4h2v4z\"/>\n",
              "    </g>\n",
              "</svg>\n",
              "      </button>\n",
              "    </div>\n",
              "\n",
              "<style>\n",
              "  .colab-df-quickchart {\n",
              "    background-color: #E8F0FE;\n",
              "    border: none;\n",
              "    border-radius: 50%;\n",
              "    cursor: pointer;\n",
              "    display: none;\n",
              "    fill: #1967D2;\n",
              "    height: 32px;\n",
              "    padding: 0 0 0 0;\n",
              "    width: 32px;\n",
              "  }\n",
              "\n",
              "  .colab-df-quickchart:hover {\n",
              "    background-color: #E2EBFA;\n",
              "    box-shadow: 0px 1px 2px rgba(60, 64, 67, 0.3), 0px 1px 3px 1px rgba(60, 64, 67, 0.15);\n",
              "    fill: #174EA6;\n",
              "  }\n",
              "\n",
              "  [theme=dark] .colab-df-quickchart {\n",
              "    background-color: #3B4455;\n",
              "    fill: #D2E3FC;\n",
              "  }\n",
              "\n",
              "  [theme=dark] .colab-df-quickchart:hover {\n",
              "    background-color: #434B5C;\n",
              "    box-shadow: 0px 1px 3px 1px rgba(0, 0, 0, 0.15);\n",
              "    filter: drop-shadow(0px 1px 2px rgba(0, 0, 0, 0.3));\n",
              "    fill: #FFFFFF;\n",
              "  }\n",
              "</style>\n",
              "\n",
              "    <script>\n",
              "      async function quickchart(key) {\n",
              "        const containerElement = document.querySelector('#' + key);\n",
              "        const charts = await google.colab.kernel.invokeFunction(\n",
              "            'suggestCharts', [key], {});\n",
              "      }\n",
              "    </script>\n",
              "\n",
              "      <script>\n",
              "\n",
              "function displayQuickchartButton(domScope) {\n",
              "  let quickchartButtonEl =\n",
              "    domScope.querySelector('#df-91ae0b72-30de-45d1-89ca-a7342f9fd352 button.colab-df-quickchart');\n",
              "  quickchartButtonEl.style.display =\n",
              "    google.colab.kernel.accessAllowed ? 'block' : 'none';\n",
              "}\n",
              "\n",
              "        displayQuickchartButton(document);\n",
              "      </script>\n",
              "      <style>\n",
              "    .colab-df-container {\n",
              "      display:flex;\n",
              "      flex-wrap:wrap;\n",
              "      gap: 12px;\n",
              "    }\n",
              "\n",
              "    .colab-df-convert {\n",
              "      background-color: #E8F0FE;\n",
              "      border: none;\n",
              "      border-radius: 50%;\n",
              "      cursor: pointer;\n",
              "      display: none;\n",
              "      fill: #1967D2;\n",
              "      height: 32px;\n",
              "      padding: 0 0 0 0;\n",
              "      width: 32px;\n",
              "    }\n",
              "\n",
              "    .colab-df-convert:hover {\n",
              "      background-color: #E2EBFA;\n",
              "      box-shadow: 0px 1px 2px rgba(60, 64, 67, 0.3), 0px 1px 3px 1px rgba(60, 64, 67, 0.15);\n",
              "      fill: #174EA6;\n",
              "    }\n",
              "\n",
              "    [theme=dark] .colab-df-convert {\n",
              "      background-color: #3B4455;\n",
              "      fill: #D2E3FC;\n",
              "    }\n",
              "\n",
              "    [theme=dark] .colab-df-convert:hover {\n",
              "      background-color: #434B5C;\n",
              "      box-shadow: 0px 1px 3px 1px rgba(0, 0, 0, 0.15);\n",
              "      filter: drop-shadow(0px 1px 2px rgba(0, 0, 0, 0.3));\n",
              "      fill: #FFFFFF;\n",
              "    }\n",
              "  </style>\n",
              "\n",
              "      <script>\n",
              "        const buttonEl =\n",
              "          document.querySelector('#df-16ea900f-8d9e-46ab-86c5-a8b237888e7b button.colab-df-convert');\n",
              "        buttonEl.style.display =\n",
              "          google.colab.kernel.accessAllowed ? 'block' : 'none';\n",
              "\n",
              "        async function convertToInteractive(key) {\n",
              "          const element = document.querySelector('#df-16ea900f-8d9e-46ab-86c5-a8b237888e7b');\n",
              "          const dataTable =\n",
              "            await google.colab.kernel.invokeFunction('convertToInteractive',\n",
              "                                                     [key], {});\n",
              "          if (!dataTable) return;\n",
              "\n",
              "          const docLinkHtml = 'Like what you see? Visit the ' +\n",
              "            '<a target=\"_blank\" href=https://colab.research.google.com/notebooks/data_table.ipynb>data table notebook</a>'\n",
              "            + ' to learn more about interactive tables.';\n",
              "          element.innerHTML = '';\n",
              "          dataTable['output_type'] = 'display_data';\n",
              "          await google.colab.output.renderOutput(dataTable, element);\n",
              "          const docLink = document.createElement('div');\n",
              "          docLink.innerHTML = docLinkHtml;\n",
              "          element.appendChild(docLink);\n",
              "        }\n",
              "      </script>\n",
              "    </div>\n",
              "  </div>\n"
            ]
          },
          "metadata": {},
          "execution_count": 9
        }
      ]
    },
    {
      "cell_type": "code",
      "source": [
        "# Visualização de forma aleatoria\n",
        "df.sample(100)"
      ],
      "metadata": {
        "id": "7VOwplWAj1qP",
        "colab": {
          "base_uri": "https://localhost:8080/",
          "height": 424
        },
        "outputId": "a82244f4-54f9-4bfe-8134-8b99b958aa30"
      },
      "execution_count": null,
      "outputs": [
        {
          "output_type": "execute_result",
          "data": {
            "text/plain": [
              "     ano                       grupo          total\n",
              "81  2022              Biomassa (iii)   52046.858099\n",
              "17  2014                       Solar      16.299118\n",
              "58  2019                 Gás Natural   60188.291121\n",
              "98  2021                       Total  656109.156622\n",
              "26  2015                       Solar      58.884676\n",
              "..   ...                         ...            ...\n",
              "33  2016                     Nuclear   15864.343667\n",
              "94  2017                       Total  587961.724254\n",
              "47  2018  Derivados de Petróleo (ii)   10292.703112\n",
              "24  2015                     Nuclear   14734.152640\n",
              "74  2021  Derivados de Petróleo (ii)   18243.690084\n",
              "\n",
              "[100 rows x 3 columns]"
            ],
            "text/html": [
              "\n",
              "\n",
              "  <div id=\"df-e46c6c64-91b4-4c7d-ba5c-0c066fd43583\">\n",
              "    <div class=\"colab-df-container\">\n",
              "      <div>\n",
              "<style scoped>\n",
              "    .dataframe tbody tr th:only-of-type {\n",
              "        vertical-align: middle;\n",
              "    }\n",
              "\n",
              "    .dataframe tbody tr th {\n",
              "        vertical-align: top;\n",
              "    }\n",
              "\n",
              "    .dataframe thead th {\n",
              "        text-align: right;\n",
              "    }\n",
              "</style>\n",
              "<table border=\"1\" class=\"dataframe\">\n",
              "  <thead>\n",
              "    <tr style=\"text-align: right;\">\n",
              "      <th></th>\n",
              "      <th>ano</th>\n",
              "      <th>grupo</th>\n",
              "      <th>total</th>\n",
              "    </tr>\n",
              "  </thead>\n",
              "  <tbody>\n",
              "    <tr>\n",
              "      <th>81</th>\n",
              "      <td>2022</td>\n",
              "      <td>Biomassa (iii)</td>\n",
              "      <td>52046.858099</td>\n",
              "    </tr>\n",
              "    <tr>\n",
              "      <th>17</th>\n",
              "      <td>2014</td>\n",
              "      <td>Solar</td>\n",
              "      <td>16.299118</td>\n",
              "    </tr>\n",
              "    <tr>\n",
              "      <th>58</th>\n",
              "      <td>2019</td>\n",
              "      <td>Gás Natural</td>\n",
              "      <td>60188.291121</td>\n",
              "    </tr>\n",
              "    <tr>\n",
              "      <th>98</th>\n",
              "      <td>2021</td>\n",
              "      <td>Total</td>\n",
              "      <td>656109.156622</td>\n",
              "    </tr>\n",
              "    <tr>\n",
              "      <th>26</th>\n",
              "      <td>2015</td>\n",
              "      <td>Solar</td>\n",
              "      <td>58.884676</td>\n",
              "    </tr>\n",
              "    <tr>\n",
              "      <th>...</th>\n",
              "      <td>...</td>\n",
              "      <td>...</td>\n",
              "      <td>...</td>\n",
              "    </tr>\n",
              "    <tr>\n",
              "      <th>33</th>\n",
              "      <td>2016</td>\n",
              "      <td>Nuclear</td>\n",
              "      <td>15864.343667</td>\n",
              "    </tr>\n",
              "    <tr>\n",
              "      <th>94</th>\n",
              "      <td>2017</td>\n",
              "      <td>Total</td>\n",
              "      <td>587961.724254</td>\n",
              "    </tr>\n",
              "    <tr>\n",
              "      <th>47</th>\n",
              "      <td>2018</td>\n",
              "      <td>Derivados de Petróleo (ii)</td>\n",
              "      <td>10292.703112</td>\n",
              "    </tr>\n",
              "    <tr>\n",
              "      <th>24</th>\n",
              "      <td>2015</td>\n",
              "      <td>Nuclear</td>\n",
              "      <td>14734.152640</td>\n",
              "    </tr>\n",
              "    <tr>\n",
              "      <th>74</th>\n",
              "      <td>2021</td>\n",
              "      <td>Derivados de Petróleo (ii)</td>\n",
              "      <td>18243.690084</td>\n",
              "    </tr>\n",
              "  </tbody>\n",
              "</table>\n",
              "<p>100 rows × 3 columns</p>\n",
              "</div>\n",
              "      <button class=\"colab-df-convert\" onclick=\"convertToInteractive('df-e46c6c64-91b4-4c7d-ba5c-0c066fd43583')\"\n",
              "              title=\"Convert this dataframe to an interactive table.\"\n",
              "              style=\"display:none;\">\n",
              "\n",
              "  <svg xmlns=\"http://www.w3.org/2000/svg\" height=\"24px\"viewBox=\"0 0 24 24\"\n",
              "       width=\"24px\">\n",
              "    <path d=\"M0 0h24v24H0V0z\" fill=\"none\"/>\n",
              "    <path d=\"M18.56 5.44l.94 2.06.94-2.06 2.06-.94-2.06-.94-.94-2.06-.94 2.06-2.06.94zm-11 1L8.5 8.5l.94-2.06 2.06-.94-2.06-.94L8.5 2.5l-.94 2.06-2.06.94zm10 10l.94 2.06.94-2.06 2.06-.94-2.06-.94-.94-2.06-.94 2.06-2.06.94z\"/><path d=\"M17.41 7.96l-1.37-1.37c-.4-.4-.92-.59-1.43-.59-.52 0-1.04.2-1.43.59L10.3 9.45l-7.72 7.72c-.78.78-.78 2.05 0 2.83L4 21.41c.39.39.9.59 1.41.59.51 0 1.02-.2 1.41-.59l7.78-7.78 2.81-2.81c.8-.78.8-2.07 0-2.86zM5.41 20L4 18.59l7.72-7.72 1.47 1.35L5.41 20z\"/>\n",
              "  </svg>\n",
              "      </button>\n",
              "\n",
              "\n",
              "\n",
              "    <div id=\"df-76c17416-ac06-419e-aab1-47124febdf44\">\n",
              "      <button class=\"colab-df-quickchart\" onclick=\"quickchart('df-76c17416-ac06-419e-aab1-47124febdf44')\"\n",
              "              title=\"Suggest charts.\"\n",
              "              style=\"display:none;\">\n",
              "\n",
              "<svg xmlns=\"http://www.w3.org/2000/svg\" height=\"24px\"viewBox=\"0 0 24 24\"\n",
              "     width=\"24px\">\n",
              "    <g>\n",
              "        <path d=\"M19 3H5c-1.1 0-2 .9-2 2v14c0 1.1.9 2 2 2h14c1.1 0 2-.9 2-2V5c0-1.1-.9-2-2-2zM9 17H7v-7h2v7zm4 0h-2V7h2v10zm4 0h-2v-4h2v4z\"/>\n",
              "    </g>\n",
              "</svg>\n",
              "      </button>\n",
              "    </div>\n",
              "\n",
              "<style>\n",
              "  .colab-df-quickchart {\n",
              "    background-color: #E8F0FE;\n",
              "    border: none;\n",
              "    border-radius: 50%;\n",
              "    cursor: pointer;\n",
              "    display: none;\n",
              "    fill: #1967D2;\n",
              "    height: 32px;\n",
              "    padding: 0 0 0 0;\n",
              "    width: 32px;\n",
              "  }\n",
              "\n",
              "  .colab-df-quickchart:hover {\n",
              "    background-color: #E2EBFA;\n",
              "    box-shadow: 0px 1px 2px rgba(60, 64, 67, 0.3), 0px 1px 3px 1px rgba(60, 64, 67, 0.15);\n",
              "    fill: #174EA6;\n",
              "  }\n",
              "\n",
              "  [theme=dark] .colab-df-quickchart {\n",
              "    background-color: #3B4455;\n",
              "    fill: #D2E3FC;\n",
              "  }\n",
              "\n",
              "  [theme=dark] .colab-df-quickchart:hover {\n",
              "    background-color: #434B5C;\n",
              "    box-shadow: 0px 1px 3px 1px rgba(0, 0, 0, 0.15);\n",
              "    filter: drop-shadow(0px 1px 2px rgba(0, 0, 0, 0.3));\n",
              "    fill: #FFFFFF;\n",
              "  }\n",
              "</style>\n",
              "\n",
              "    <script>\n",
              "      async function quickchart(key) {\n",
              "        const containerElement = document.querySelector('#' + key);\n",
              "        const charts = await google.colab.kernel.invokeFunction(\n",
              "            'suggestCharts', [key], {});\n",
              "      }\n",
              "    </script>\n",
              "\n",
              "      <script>\n",
              "\n",
              "function displayQuickchartButton(domScope) {\n",
              "  let quickchartButtonEl =\n",
              "    domScope.querySelector('#df-76c17416-ac06-419e-aab1-47124febdf44 button.colab-df-quickchart');\n",
              "  quickchartButtonEl.style.display =\n",
              "    google.colab.kernel.accessAllowed ? 'block' : 'none';\n",
              "}\n",
              "\n",
              "        displayQuickchartButton(document);\n",
              "      </script>\n",
              "      <style>\n",
              "    .colab-df-container {\n",
              "      display:flex;\n",
              "      flex-wrap:wrap;\n",
              "      gap: 12px;\n",
              "    }\n",
              "\n",
              "    .colab-df-convert {\n",
              "      background-color: #E8F0FE;\n",
              "      border: none;\n",
              "      border-radius: 50%;\n",
              "      cursor: pointer;\n",
              "      display: none;\n",
              "      fill: #1967D2;\n",
              "      height: 32px;\n",
              "      padding: 0 0 0 0;\n",
              "      width: 32px;\n",
              "    }\n",
              "\n",
              "    .colab-df-convert:hover {\n",
              "      background-color: #E2EBFA;\n",
              "      box-shadow: 0px 1px 2px rgba(60, 64, 67, 0.3), 0px 1px 3px 1px rgba(60, 64, 67, 0.15);\n",
              "      fill: #174EA6;\n",
              "    }\n",
              "\n",
              "    [theme=dark] .colab-df-convert {\n",
              "      background-color: #3B4455;\n",
              "      fill: #D2E3FC;\n",
              "    }\n",
              "\n",
              "    [theme=dark] .colab-df-convert:hover {\n",
              "      background-color: #434B5C;\n",
              "      box-shadow: 0px 1px 3px 1px rgba(0, 0, 0, 0.15);\n",
              "      filter: drop-shadow(0px 1px 2px rgba(0, 0, 0, 0.3));\n",
              "      fill: #FFFFFF;\n",
              "    }\n",
              "  </style>\n",
              "\n",
              "      <script>\n",
              "        const buttonEl =\n",
              "          document.querySelector('#df-e46c6c64-91b4-4c7d-ba5c-0c066fd43583 button.colab-df-convert');\n",
              "        buttonEl.style.display =\n",
              "          google.colab.kernel.accessAllowed ? 'block' : 'none';\n",
              "\n",
              "        async function convertToInteractive(key) {\n",
              "          const element = document.querySelector('#df-e46c6c64-91b4-4c7d-ba5c-0c066fd43583');\n",
              "          const dataTable =\n",
              "            await google.colab.kernel.invokeFunction('convertToInteractive',\n",
              "                                                     [key], {});\n",
              "          if (!dataTable) return;\n",
              "\n",
              "          const docLinkHtml = 'Like what you see? Visit the ' +\n",
              "            '<a target=\"_blank\" href=https://colab.research.google.com/notebooks/data_table.ipynb>data table notebook</a>'\n",
              "            + ' to learn more about interactive tables.';\n",
              "          element.innerHTML = '';\n",
              "          dataTable['output_type'] = 'display_data';\n",
              "          await google.colab.output.renderOutput(dataTable, element);\n",
              "          const docLink = document.createElement('div');\n",
              "          docLink.innerHTML = docLinkHtml;\n",
              "          element.appendChild(docLink);\n",
              "        }\n",
              "      </script>\n",
              "    </div>\n",
              "  </div>\n"
            ]
          },
          "metadata": {},
          "execution_count": 10
        }
      ]
    },
    {
      "cell_type": "code",
      "source": [
        "# Tamanho total de (linhas , colunas)\n",
        "df.shape"
      ],
      "metadata": {
        "id": "Vk8p8Nd-kMWP",
        "colab": {
          "base_uri": "https://localhost:8080/"
        },
        "outputId": "fc7c37e8-0f36-4826-c680-f397fd995618"
      },
      "execution_count": null,
      "outputs": [
        {
          "output_type": "execute_result",
          "data": {
            "text/plain": [
              "(100, 3)"
            ]
          },
          "metadata": {},
          "execution_count": 11
        }
      ]
    },
    {
      "cell_type": "code",
      "source": [
        "# Todos os tipos de dados presentes\n",
        "df.dtypes"
      ],
      "metadata": {
        "id": "fsZ6_xn6mGo3",
        "colab": {
          "base_uri": "https://localhost:8080/"
        },
        "outputId": "b5738708-2349-4657-a665-1df1f93b0e30"
      },
      "execution_count": null,
      "outputs": [
        {
          "output_type": "execute_result",
          "data": {
            "text/plain": [
              "ano        int64\n",
              "grupo     object\n",
              "total    float64\n",
              "dtype: object"
            ]
          },
          "metadata": {},
          "execution_count": 12
        }
      ]
    },
    {
      "cell_type": "code",
      "source": [
        "# Contagem de observações para cada coluna\n",
        "df.count()"
      ],
      "metadata": {
        "id": "-mLulv3imH94",
        "colab": {
          "base_uri": "https://localhost:8080/"
        },
        "outputId": "e8ce5e29-19b3-4a06-dbb4-c685cdbd3b61"
      },
      "execution_count": null,
      "outputs": [
        {
          "output_type": "execute_result",
          "data": {
            "text/plain": [
              "ano      100\n",
              "grupo    100\n",
              "total    100\n",
              "dtype: int64"
            ]
          },
          "metadata": {},
          "execution_count": 13
        }
      ]
    },
    {
      "cell_type": "code",
      "source": [
        "# Informações detalhadas\n",
        "df.info()"
      ],
      "metadata": {
        "id": "m6SgfErBpnz3",
        "colab": {
          "base_uri": "https://localhost:8080/"
        },
        "outputId": "92c96c57-fc2c-440a-de99-12b192262c54"
      },
      "execution_count": null,
      "outputs": [
        {
          "output_type": "stream",
          "name": "stdout",
          "text": [
            "<class 'pandas.core.frame.DataFrame'>\n",
            "RangeIndex: 100 entries, 0 to 99\n",
            "Data columns (total 3 columns):\n",
            " #   Column  Non-Null Count  Dtype  \n",
            "---  ------  --------------  -----  \n",
            " 0   ano     100 non-null    int64  \n",
            " 1   grupo   100 non-null    object \n",
            " 2   total   100 non-null    float64\n",
            "dtypes: float64(1), int64(1), object(1)\n",
            "memory usage: 2.5+ KB\n"
          ]
        }
      ]
    },
    {
      "cell_type": "code",
      "source": [
        "# Fazendo um relatório para mostrar os valores únicos de cada atributo.\n",
        "# O for vai garantir que a atividade seja feita automaticamentepara todos os atributos\n",
        "\n",
        "for coluna in df:\n",
        "    valor = (df[coluna].unique())\n",
        "    print(\"-\"*70)\n",
        "    msg = f\"Valores únicos para o atributo {coluna}:\"\n",
        "    print(f\"{msg:^70}\")\n",
        "    print(\"-\"*70)\n",
        "    print(f\"\\n{valor}\\n\")\n",
        "    print(\"-\"*70)\n"
      ],
      "metadata": {
        "id": "KcNCjl87B9rk",
        "colab": {
          "base_uri": "https://localhost:8080/"
        },
        "outputId": "39910d88-0869-4348-e867-2942d4729b1e"
      },
      "execution_count": null,
      "outputs": [
        {
          "output_type": "stream",
          "name": "stdout",
          "text": [
            "----------------------------------------------------------------------\n",
            "                 Valores únicos para o atributo ano:                  \n",
            "----------------------------------------------------------------------\n",
            "\n",
            "[2013 2014 2015 2016 2017 2018 2019 2020 2021 2022]\n",
            "\n",
            "----------------------------------------------------------------------\n",
            "----------------------------------------------------------------------\n",
            "                Valores únicos para o atributo grupo:                 \n",
            "----------------------------------------------------------------------\n",
            "\n",
            "['Biomassa (iii)' 'Carvão' 'Derivados de Petróleo (ii)' 'Eólica'\n",
            " 'Gás Natural' 'Hidráulica (i)' 'Nuclear' 'Outras (iv)' 'Solar' 'Total']\n",
            "\n",
            "----------------------------------------------------------------------\n",
            "----------------------------------------------------------------------\n",
            "                Valores únicos para o atributo total:                 \n",
            "----------------------------------------------------------------------\n",
            "\n",
            "[3.96838025e+04 1.48014851e+04 2.22231906e+04 6.57840985e+03\n",
            " 6.89415477e+04 3.90992014e+05 1.54496900e+04 1.21597129e+04\n",
            " 4.79471698e+00 4.49870618e+04 1.83854298e+04 3.15289216e+04\n",
            " 1.22102517e+04 8.10731140e+04 3.73439060e+05 1.53784625e+04\n",
            " 1.35237377e+04 1.62991179e+01 4.73942636e+04 1.90964945e+04\n",
            " 2.57075930e+04 2.16257022e+04 7.95034916e+04 3.59742808e+05\n",
            " 1.47341526e+04 1.36227007e+04 5.88846762e+01 4.92364290e+04\n",
            " 1.70013954e+04 1.22073482e+04 3.34889433e+04 5.65497472e+04\n",
            " 3.80910942e+05 1.58643437e+04 1.35539914e+04 8.51157562e+01\n",
            " 4.93850459e+04 1.62565870e+04 1.29108825e+04 4.23732582e+04\n",
            " 6.55905571e+04 3.70906456e+05 1.57391964e+04 1.39683672e+04\n",
            " 8.31373471e+02 5.18761065e+04 1.42043581e+04 1.02927031e+04\n",
            " 4.84751412e+04 5.42949522e+04 3.88971076e+05 1.56738870e+04\n",
            " 1.41468288e+04 3.46143483e+03 5.21111635e+04 1.53272265e+04\n",
            " 7.84611191e+03 5.59856217e+04 6.01882911e+04 3.97877057e+05\n",
            " 1.61288243e+04 1.42095122e+04 6.65054163e+03 5.56128395e+04\n",
            " 1.19455187e+04 8.55630527e+03 5.70507063e+04 5.35153510e+04\n",
            " 3.96381195e+05 1.40525982e+04 1.33872370e+04 1.07170019e+04\n",
            " 5.17105176e+04 1.75850764e+04 1.82436901e+04 7.22859749e+04\n",
            " 8.68613486e+04 3.62818451e+05 1.47045876e+04 1.51472295e+04\n",
            " 1.67522809e+04 5.20468581e+04 7.98832993e+03 7.81556193e+03\n",
            " 8.16315687e+04 4.20348142e+04 4.27113549e+05 1.45590132e+04\n",
            " 1.41207133e+04 3.01264616e+04 5.70834647e+05 5.90542339e+05\n",
            " 5.81486091e+05 5.78898256e+05 5.87961724e+05 6.01396488e+05\n",
            " 6.26324349e+05 6.21218753e+05 6.56109157e+05 6.77436870e+05]\n",
            "\n",
            "----------------------------------------------------------------------\n"
          ]
        }
      ]
    },
    {
      "cell_type": "markdown",
      "source": [
        "## Transformação\n",
        "Aqui os dados extraídos precisam ser transformados em um formato adequado para análise, e para isso deve seguir alguns passos, que podem precisar serem repetidos ao longo do processo de análise."
      ],
      "metadata": {
        "id": "VbLM1jZ51glR"
      }
    },
    {
      "cell_type": "markdown",
      "source": [
        "### Limpeza de Dados\n",
        "Remover dados duplicados, corrigir erros de digitação, tratar dados inconsistentes etc."
      ],
      "metadata": {
        "id": "2OIPr02e1w5B"
      }
    },
    {
      "cell_type": "code",
      "source": [
        "# Verificar se há valores duplicados\n",
        "df.duplicated()"
      ],
      "metadata": {
        "id": "Bbj-7zCn2Fee",
        "colab": {
          "base_uri": "https://localhost:8080/"
        },
        "outputId": "daccff44-6f98-493e-a94b-aeb091c7c546"
      },
      "execution_count": null,
      "outputs": [
        {
          "output_type": "execute_result",
          "data": {
            "text/plain": [
              "0     False\n",
              "1     False\n",
              "2     False\n",
              "3     False\n",
              "4     False\n",
              "      ...  \n",
              "95    False\n",
              "96    False\n",
              "97    False\n",
              "98    False\n",
              "99    False\n",
              "Length: 100, dtype: bool"
            ]
          },
          "metadata": {},
          "execution_count": 16
        }
      ]
    },
    {
      "cell_type": "code",
      "source": [
        "# Verificar se há valores nulos/ausentes\n",
        "df.isnull().sum()"
      ],
      "metadata": {
        "id": "ByCYsxjVrNy4",
        "colab": {
          "base_uri": "https://localhost:8080/"
        },
        "outputId": "3c1ed4de-3f65-46a7-9eb7-0bb9e2ea2407"
      },
      "execution_count": null,
      "outputs": [
        {
          "output_type": "execute_result",
          "data": {
            "text/plain": [
              "ano      0\n",
              "grupo    0\n",
              "total    0\n",
              "dtype: int64"
            ]
          },
          "metadata": {},
          "execution_count": 17
        }
      ]
    },
    {
      "cell_type": "code",
      "source": [
        "#Backup\n",
        "backup_bruto = df.copy()"
      ],
      "metadata": {
        "id": "rX4pVyz0G2NP"
      },
      "execution_count": null,
      "outputs": []
    },
    {
      "cell_type": "markdown",
      "source": [
        "### Normalização de Dados\n",
        "Colocar os dados em um formato padronizado para facilitar a análise."
      ],
      "metadata": {
        "id": "FG2L2jSi2Alp"
      }
    },
    {
      "cell_type": "markdown",
      "source": [
        "Tipagem"
      ],
      "metadata": {
        "id": "wvAVi48v-O2s"
      }
    },
    {
      "cell_type": "code",
      "source": [
        "#Criando um dataframe para realizar normalização dos dados\n",
        "df_analise = df.copy()"
      ],
      "metadata": {
        "id": "4HEkhOOIHFq_"
      },
      "execution_count": null,
      "outputs": []
    },
    {
      "cell_type": "code",
      "source": [
        "# Convertendo a coluna 'ano' para datetime\n",
        "df_analise['ano'] = pd.to_datetime(df_analise['ano'], format='%Y')"
      ],
      "metadata": {
        "id": "Xab0KVoeIQRN"
      },
      "execution_count": null,
      "outputs": []
    },
    {
      "cell_type": "code",
      "source": [
        "# Extraindo o ano usando o atributo .dt.year\n",
        "df_analise.ano.astype('datetime64[ns]')\n",
        "df_analise.ano.dt.year"
      ],
      "metadata": {
        "colab": {
          "base_uri": "https://localhost:8080/"
        },
        "id": "Aa7dU9NtHe_F",
        "outputId": "7d0de66b-7169-485a-bfa1-f8e5ac45faed"
      },
      "execution_count": null,
      "outputs": [
        {
          "output_type": "execute_result",
          "data": {
            "text/plain": [
              "0     2013\n",
              "1     2013\n",
              "2     2013\n",
              "3     2013\n",
              "4     2013\n",
              "      ... \n",
              "95    2018\n",
              "96    2019\n",
              "97    2020\n",
              "98    2021\n",
              "99    2022\n",
              "Name: ano, Length: 100, dtype: int64"
            ]
          },
          "metadata": {},
          "execution_count": 21
        }
      ]
    },
    {
      "cell_type": "code",
      "source": [
        "df_analise.info()"
      ],
      "metadata": {
        "colab": {
          "base_uri": "https://localhost:8080/"
        },
        "id": "XC2AvxENIUiL",
        "outputId": "3e8581b9-7098-4ed1-9d71-08e447408f07"
      },
      "execution_count": null,
      "outputs": [
        {
          "output_type": "stream",
          "name": "stdout",
          "text": [
            "<class 'pandas.core.frame.DataFrame'>\n",
            "RangeIndex: 100 entries, 0 to 99\n",
            "Data columns (total 3 columns):\n",
            " #   Column  Non-Null Count  Dtype         \n",
            "---  ------  --------------  -----         \n",
            " 0   ano     100 non-null    datetime64[ns]\n",
            " 1   grupo   100 non-null    object        \n",
            " 2   total   100 non-null    float64       \n",
            "dtypes: datetime64[ns](1), float64(1), object(1)\n",
            "memory usage: 2.5+ KB\n"
          ]
        }
      ]
    },
    {
      "cell_type": "code",
      "source": [
        "# Renomeando nomes de colunas\n",
        "\n",
        "traducao = {\n",
        "    'ano': 'Ano',\n",
        "    'grupo': 'Grupo',\n",
        "    'total': 'Total',\n",
        "}\n",
        "df_analise.rename(columns=traducao,inplace=True)"
      ],
      "metadata": {
        "id": "PPPWrxZi7HFW"
      },
      "execution_count": null,
      "outputs": []
    },
    {
      "cell_type": "code",
      "source": [
        "#Visualização do cabeçalho após a normalização\n",
        "df_analise.head(1)"
      ],
      "metadata": {
        "colab": {
          "base_uri": "https://localhost:8080/",
          "height": 81
        },
        "id": "nr2547P6J5UE",
        "outputId": "80cfaf25-6474-4718-f79d-4d256f32750c"
      },
      "execution_count": null,
      "outputs": [
        {
          "output_type": "execute_result",
          "data": {
            "text/plain": [
              "         Ano           Grupo         Total\n",
              "0 2013-01-01  Biomassa (iii)  39683.802484"
            ],
            "text/html": [
              "\n",
              "\n",
              "  <div id=\"df-433657c2-7546-4d9b-89c2-98b6ffac97b5\">\n",
              "    <div class=\"colab-df-container\">\n",
              "      <div>\n",
              "<style scoped>\n",
              "    .dataframe tbody tr th:only-of-type {\n",
              "        vertical-align: middle;\n",
              "    }\n",
              "\n",
              "    .dataframe tbody tr th {\n",
              "        vertical-align: top;\n",
              "    }\n",
              "\n",
              "    .dataframe thead th {\n",
              "        text-align: right;\n",
              "    }\n",
              "</style>\n",
              "<table border=\"1\" class=\"dataframe\">\n",
              "  <thead>\n",
              "    <tr style=\"text-align: right;\">\n",
              "      <th></th>\n",
              "      <th>Ano</th>\n",
              "      <th>Grupo</th>\n",
              "      <th>Total</th>\n",
              "    </tr>\n",
              "  </thead>\n",
              "  <tbody>\n",
              "    <tr>\n",
              "      <th>0</th>\n",
              "      <td>2013-01-01</td>\n",
              "      <td>Biomassa (iii)</td>\n",
              "      <td>39683.802484</td>\n",
              "    </tr>\n",
              "  </tbody>\n",
              "</table>\n",
              "</div>\n",
              "      <button class=\"colab-df-convert\" onclick=\"convertToInteractive('df-433657c2-7546-4d9b-89c2-98b6ffac97b5')\"\n",
              "              title=\"Convert this dataframe to an interactive table.\"\n",
              "              style=\"display:none;\">\n",
              "\n",
              "  <svg xmlns=\"http://www.w3.org/2000/svg\" height=\"24px\"viewBox=\"0 0 24 24\"\n",
              "       width=\"24px\">\n",
              "    <path d=\"M0 0h24v24H0V0z\" fill=\"none\"/>\n",
              "    <path d=\"M18.56 5.44l.94 2.06.94-2.06 2.06-.94-2.06-.94-.94-2.06-.94 2.06-2.06.94zm-11 1L8.5 8.5l.94-2.06 2.06-.94-2.06-.94L8.5 2.5l-.94 2.06-2.06.94zm10 10l.94 2.06.94-2.06 2.06-.94-2.06-.94-.94-2.06-.94 2.06-2.06.94z\"/><path d=\"M17.41 7.96l-1.37-1.37c-.4-.4-.92-.59-1.43-.59-.52 0-1.04.2-1.43.59L10.3 9.45l-7.72 7.72c-.78.78-.78 2.05 0 2.83L4 21.41c.39.39.9.59 1.41.59.51 0 1.02-.2 1.41-.59l7.78-7.78 2.81-2.81c.8-.78.8-2.07 0-2.86zM5.41 20L4 18.59l7.72-7.72 1.47 1.35L5.41 20z\"/>\n",
              "  </svg>\n",
              "      </button>\n",
              "\n",
              "\n",
              "\n",
              "    <div id=\"df-1d836dbb-e99d-4760-92cc-cd6e6517fd1c\">\n",
              "      <button class=\"colab-df-quickchart\" onclick=\"quickchart('df-1d836dbb-e99d-4760-92cc-cd6e6517fd1c')\"\n",
              "              title=\"Suggest charts.\"\n",
              "              style=\"display:none;\">\n",
              "\n",
              "<svg xmlns=\"http://www.w3.org/2000/svg\" height=\"24px\"viewBox=\"0 0 24 24\"\n",
              "     width=\"24px\">\n",
              "    <g>\n",
              "        <path d=\"M19 3H5c-1.1 0-2 .9-2 2v14c0 1.1.9 2 2 2h14c1.1 0 2-.9 2-2V5c0-1.1-.9-2-2-2zM9 17H7v-7h2v7zm4 0h-2V7h2v10zm4 0h-2v-4h2v4z\"/>\n",
              "    </g>\n",
              "</svg>\n",
              "      </button>\n",
              "    </div>\n",
              "\n",
              "<style>\n",
              "  .colab-df-quickchart {\n",
              "    background-color: #E8F0FE;\n",
              "    border: none;\n",
              "    border-radius: 50%;\n",
              "    cursor: pointer;\n",
              "    display: none;\n",
              "    fill: #1967D2;\n",
              "    height: 32px;\n",
              "    padding: 0 0 0 0;\n",
              "    width: 32px;\n",
              "  }\n",
              "\n",
              "  .colab-df-quickchart:hover {\n",
              "    background-color: #E2EBFA;\n",
              "    box-shadow: 0px 1px 2px rgba(60, 64, 67, 0.3), 0px 1px 3px 1px rgba(60, 64, 67, 0.15);\n",
              "    fill: #174EA6;\n",
              "  }\n",
              "\n",
              "  [theme=dark] .colab-df-quickchart {\n",
              "    background-color: #3B4455;\n",
              "    fill: #D2E3FC;\n",
              "  }\n",
              "\n",
              "  [theme=dark] .colab-df-quickchart:hover {\n",
              "    background-color: #434B5C;\n",
              "    box-shadow: 0px 1px 3px 1px rgba(0, 0, 0, 0.15);\n",
              "    filter: drop-shadow(0px 1px 2px rgba(0, 0, 0, 0.3));\n",
              "    fill: #FFFFFF;\n",
              "  }\n",
              "</style>\n",
              "\n",
              "    <script>\n",
              "      async function quickchart(key) {\n",
              "        const containerElement = document.querySelector('#' + key);\n",
              "        const charts = await google.colab.kernel.invokeFunction(\n",
              "            'suggestCharts', [key], {});\n",
              "      }\n",
              "    </script>\n",
              "\n",
              "      <script>\n",
              "\n",
              "function displayQuickchartButton(domScope) {\n",
              "  let quickchartButtonEl =\n",
              "    domScope.querySelector('#df-1d836dbb-e99d-4760-92cc-cd6e6517fd1c button.colab-df-quickchart');\n",
              "  quickchartButtonEl.style.display =\n",
              "    google.colab.kernel.accessAllowed ? 'block' : 'none';\n",
              "}\n",
              "\n",
              "        displayQuickchartButton(document);\n",
              "      </script>\n",
              "      <style>\n",
              "    .colab-df-container {\n",
              "      display:flex;\n",
              "      flex-wrap:wrap;\n",
              "      gap: 12px;\n",
              "    }\n",
              "\n",
              "    .colab-df-convert {\n",
              "      background-color: #E8F0FE;\n",
              "      border: none;\n",
              "      border-radius: 50%;\n",
              "      cursor: pointer;\n",
              "      display: none;\n",
              "      fill: #1967D2;\n",
              "      height: 32px;\n",
              "      padding: 0 0 0 0;\n",
              "      width: 32px;\n",
              "    }\n",
              "\n",
              "    .colab-df-convert:hover {\n",
              "      background-color: #E2EBFA;\n",
              "      box-shadow: 0px 1px 2px rgba(60, 64, 67, 0.3), 0px 1px 3px 1px rgba(60, 64, 67, 0.15);\n",
              "      fill: #174EA6;\n",
              "    }\n",
              "\n",
              "    [theme=dark] .colab-df-convert {\n",
              "      background-color: #3B4455;\n",
              "      fill: #D2E3FC;\n",
              "    }\n",
              "\n",
              "    [theme=dark] .colab-df-convert:hover {\n",
              "      background-color: #434B5C;\n",
              "      box-shadow: 0px 1px 3px 1px rgba(0, 0, 0, 0.15);\n",
              "      filter: drop-shadow(0px 1px 2px rgba(0, 0, 0, 0.3));\n",
              "      fill: #FFFFFF;\n",
              "    }\n",
              "  </style>\n",
              "\n",
              "      <script>\n",
              "        const buttonEl =\n",
              "          document.querySelector('#df-433657c2-7546-4d9b-89c2-98b6ffac97b5 button.colab-df-convert');\n",
              "        buttonEl.style.display =\n",
              "          google.colab.kernel.accessAllowed ? 'block' : 'none';\n",
              "\n",
              "        async function convertToInteractive(key) {\n",
              "          const element = document.querySelector('#df-433657c2-7546-4d9b-89c2-98b6ffac97b5');\n",
              "          const dataTable =\n",
              "            await google.colab.kernel.invokeFunction('convertToInteractive',\n",
              "                                                     [key], {});\n",
              "          if (!dataTable) return;\n",
              "\n",
              "          const docLinkHtml = 'Like what you see? Visit the ' +\n",
              "            '<a target=\"_blank\" href=https://colab.research.google.com/notebooks/data_table.ipynb>data table notebook</a>'\n",
              "            + ' to learn more about interactive tables.';\n",
              "          element.innerHTML = '';\n",
              "          dataTable['output_type'] = 'display_data';\n",
              "          await google.colab.output.renderOutput(dataTable, element);\n",
              "          const docLink = document.createElement('div');\n",
              "          docLink.innerHTML = docLinkHtml;\n",
              "          element.appendChild(docLink);\n",
              "        }\n",
              "      </script>\n",
              "    </div>\n",
              "  </div>\n"
            ]
          },
          "metadata": {},
          "execution_count": 26
        }
      ]
    },
    {
      "cell_type": "markdown",
      "source": [
        "# **Qualidade e integridade dos dados**"
      ],
      "metadata": {
        "id": "j6krOtKKvkR-"
      }
    },
    {
      "cell_type": "markdown",
      "source": [
        "### **Validação da estrutura dos dados (schema)**"
      ],
      "metadata": {
        "id": "S03P8PdZwETm"
      }
    },
    {
      "cell_type": "code",
      "source": [
        "df_analise.info()"
      ],
      "metadata": {
        "colab": {
          "base_uri": "https://localhost:8080/"
        },
        "id": "Hj44LvsPK0tF",
        "outputId": "292f6b83-4ac8-4c73-a5f2-cc51b0ed7d98"
      },
      "execution_count": null,
      "outputs": [
        {
          "output_type": "stream",
          "name": "stdout",
          "text": [
            "<class 'pandas.core.frame.DataFrame'>\n",
            "RangeIndex: 100 entries, 0 to 99\n",
            "Data columns (total 3 columns):\n",
            " #   Column  Non-Null Count  Dtype         \n",
            "---  ------  --------------  -----         \n",
            " 0   Ano     100 non-null    datetime64[ns]\n",
            " 1   Grupo   100 non-null    object        \n",
            " 2   Total   100 non-null    float64       \n",
            "dtypes: datetime64[ns](1), float64(1), object(1)\n",
            "memory usage: 2.5+ KB\n"
          ]
        }
      ]
    },
    {
      "cell_type": "code",
      "source": [
        "# Definindo o esquema de validação e o examinando\n",
        "schema = pa.DataFrameSchema({\n",
        "    'Ano': pa.Column(pa.DateTime),\n",
        "    'Grupo': pa.Column(pa.String),\n",
        "    'Total': pa.Column(pa.Float)\n",
        "})\n",
        "\n",
        "schema.validate(df_analise)"
      ],
      "metadata": {
        "id": "pSPVby2swCzm",
        "colab": {
          "base_uri": "https://localhost:8080/",
          "height": 424
        },
        "outputId": "0a63a0d8-aa5c-4c49-d8ae-15d27ca92470"
      },
      "execution_count": null,
      "outputs": [
        {
          "output_type": "execute_result",
          "data": {
            "text/plain": [
              "          Ano                       Grupo          Total\n",
              "0  2013-01-01              Biomassa (iii)   39683.802484\n",
              "1  2013-01-01                      Carvão   14801.485105\n",
              "2  2013-01-01  Derivados de Petróleo (ii)   22223.190607\n",
              "3  2013-01-01                      Eólica    6578.409847\n",
              "4  2013-01-01                 Gás Natural   68941.547741\n",
              "..        ...                         ...            ...\n",
              "95 2018-01-01                       Total  601396.487660\n",
              "96 2019-01-01                       Total  626324.349399\n",
              "97 2020-01-01                       Total  621218.753276\n",
              "98 2021-01-01                       Total  656109.156622\n",
              "99 2022-01-01                       Total  677436.870162\n",
              "\n",
              "[100 rows x 3 columns]"
            ],
            "text/html": [
              "\n",
              "\n",
              "  <div id=\"df-3bbe1d2d-544e-4ad5-a57d-88d7c5bb5482\">\n",
              "    <div class=\"colab-df-container\">\n",
              "      <div>\n",
              "<style scoped>\n",
              "    .dataframe tbody tr th:only-of-type {\n",
              "        vertical-align: middle;\n",
              "    }\n",
              "\n",
              "    .dataframe tbody tr th {\n",
              "        vertical-align: top;\n",
              "    }\n",
              "\n",
              "    .dataframe thead th {\n",
              "        text-align: right;\n",
              "    }\n",
              "</style>\n",
              "<table border=\"1\" class=\"dataframe\">\n",
              "  <thead>\n",
              "    <tr style=\"text-align: right;\">\n",
              "      <th></th>\n",
              "      <th>Ano</th>\n",
              "      <th>Grupo</th>\n",
              "      <th>Total</th>\n",
              "    </tr>\n",
              "  </thead>\n",
              "  <tbody>\n",
              "    <tr>\n",
              "      <th>0</th>\n",
              "      <td>2013-01-01</td>\n",
              "      <td>Biomassa (iii)</td>\n",
              "      <td>39683.802484</td>\n",
              "    </tr>\n",
              "    <tr>\n",
              "      <th>1</th>\n",
              "      <td>2013-01-01</td>\n",
              "      <td>Carvão</td>\n",
              "      <td>14801.485105</td>\n",
              "    </tr>\n",
              "    <tr>\n",
              "      <th>2</th>\n",
              "      <td>2013-01-01</td>\n",
              "      <td>Derivados de Petróleo (ii)</td>\n",
              "      <td>22223.190607</td>\n",
              "    </tr>\n",
              "    <tr>\n",
              "      <th>3</th>\n",
              "      <td>2013-01-01</td>\n",
              "      <td>Eólica</td>\n",
              "      <td>6578.409847</td>\n",
              "    </tr>\n",
              "    <tr>\n",
              "      <th>4</th>\n",
              "      <td>2013-01-01</td>\n",
              "      <td>Gás Natural</td>\n",
              "      <td>68941.547741</td>\n",
              "    </tr>\n",
              "    <tr>\n",
              "      <th>...</th>\n",
              "      <td>...</td>\n",
              "      <td>...</td>\n",
              "      <td>...</td>\n",
              "    </tr>\n",
              "    <tr>\n",
              "      <th>95</th>\n",
              "      <td>2018-01-01</td>\n",
              "      <td>Total</td>\n",
              "      <td>601396.487660</td>\n",
              "    </tr>\n",
              "    <tr>\n",
              "      <th>96</th>\n",
              "      <td>2019-01-01</td>\n",
              "      <td>Total</td>\n",
              "      <td>626324.349399</td>\n",
              "    </tr>\n",
              "    <tr>\n",
              "      <th>97</th>\n",
              "      <td>2020-01-01</td>\n",
              "      <td>Total</td>\n",
              "      <td>621218.753276</td>\n",
              "    </tr>\n",
              "    <tr>\n",
              "      <th>98</th>\n",
              "      <td>2021-01-01</td>\n",
              "      <td>Total</td>\n",
              "      <td>656109.156622</td>\n",
              "    </tr>\n",
              "    <tr>\n",
              "      <th>99</th>\n",
              "      <td>2022-01-01</td>\n",
              "      <td>Total</td>\n",
              "      <td>677436.870162</td>\n",
              "    </tr>\n",
              "  </tbody>\n",
              "</table>\n",
              "<p>100 rows × 3 columns</p>\n",
              "</div>\n",
              "      <button class=\"colab-df-convert\" onclick=\"convertToInteractive('df-3bbe1d2d-544e-4ad5-a57d-88d7c5bb5482')\"\n",
              "              title=\"Convert this dataframe to an interactive table.\"\n",
              "              style=\"display:none;\">\n",
              "\n",
              "  <svg xmlns=\"http://www.w3.org/2000/svg\" height=\"24px\"viewBox=\"0 0 24 24\"\n",
              "       width=\"24px\">\n",
              "    <path d=\"M0 0h24v24H0V0z\" fill=\"none\"/>\n",
              "    <path d=\"M18.56 5.44l.94 2.06.94-2.06 2.06-.94-2.06-.94-.94-2.06-.94 2.06-2.06.94zm-11 1L8.5 8.5l.94-2.06 2.06-.94-2.06-.94L8.5 2.5l-.94 2.06-2.06.94zm10 10l.94 2.06.94-2.06 2.06-.94-2.06-.94-.94-2.06-.94 2.06-2.06.94z\"/><path d=\"M17.41 7.96l-1.37-1.37c-.4-.4-.92-.59-1.43-.59-.52 0-1.04.2-1.43.59L10.3 9.45l-7.72 7.72c-.78.78-.78 2.05 0 2.83L4 21.41c.39.39.9.59 1.41.59.51 0 1.02-.2 1.41-.59l7.78-7.78 2.81-2.81c.8-.78.8-2.07 0-2.86zM5.41 20L4 18.59l7.72-7.72 1.47 1.35L5.41 20z\"/>\n",
              "  </svg>\n",
              "      </button>\n",
              "\n",
              "\n",
              "\n",
              "    <div id=\"df-b5d925a8-9e95-499a-b28a-1ae6c77d5692\">\n",
              "      <button class=\"colab-df-quickchart\" onclick=\"quickchart('df-b5d925a8-9e95-499a-b28a-1ae6c77d5692')\"\n",
              "              title=\"Suggest charts.\"\n",
              "              style=\"display:none;\">\n",
              "\n",
              "<svg xmlns=\"http://www.w3.org/2000/svg\" height=\"24px\"viewBox=\"0 0 24 24\"\n",
              "     width=\"24px\">\n",
              "    <g>\n",
              "        <path d=\"M19 3H5c-1.1 0-2 .9-2 2v14c0 1.1.9 2 2 2h14c1.1 0 2-.9 2-2V5c0-1.1-.9-2-2-2zM9 17H7v-7h2v7zm4 0h-2V7h2v10zm4 0h-2v-4h2v4z\"/>\n",
              "    </g>\n",
              "</svg>\n",
              "      </button>\n",
              "    </div>\n",
              "\n",
              "<style>\n",
              "  .colab-df-quickchart {\n",
              "    background-color: #E8F0FE;\n",
              "    border: none;\n",
              "    border-radius: 50%;\n",
              "    cursor: pointer;\n",
              "    display: none;\n",
              "    fill: #1967D2;\n",
              "    height: 32px;\n",
              "    padding: 0 0 0 0;\n",
              "    width: 32px;\n",
              "  }\n",
              "\n",
              "  .colab-df-quickchart:hover {\n",
              "    background-color: #E2EBFA;\n",
              "    box-shadow: 0px 1px 2px rgba(60, 64, 67, 0.3), 0px 1px 3px 1px rgba(60, 64, 67, 0.15);\n",
              "    fill: #174EA6;\n",
              "  }\n",
              "\n",
              "  [theme=dark] .colab-df-quickchart {\n",
              "    background-color: #3B4455;\n",
              "    fill: #D2E3FC;\n",
              "  }\n",
              "\n",
              "  [theme=dark] .colab-df-quickchart:hover {\n",
              "    background-color: #434B5C;\n",
              "    box-shadow: 0px 1px 3px 1px rgba(0, 0, 0, 0.15);\n",
              "    filter: drop-shadow(0px 1px 2px rgba(0, 0, 0, 0.3));\n",
              "    fill: #FFFFFF;\n",
              "  }\n",
              "</style>\n",
              "\n",
              "    <script>\n",
              "      async function quickchart(key) {\n",
              "        const containerElement = document.querySelector('#' + key);\n",
              "        const charts = await google.colab.kernel.invokeFunction(\n",
              "            'suggestCharts', [key], {});\n",
              "      }\n",
              "    </script>\n",
              "\n",
              "      <script>\n",
              "\n",
              "function displayQuickchartButton(domScope) {\n",
              "  let quickchartButtonEl =\n",
              "    domScope.querySelector('#df-b5d925a8-9e95-499a-b28a-1ae6c77d5692 button.colab-df-quickchart');\n",
              "  quickchartButtonEl.style.display =\n",
              "    google.colab.kernel.accessAllowed ? 'block' : 'none';\n",
              "}\n",
              "\n",
              "        displayQuickchartButton(document);\n",
              "      </script>\n",
              "      <style>\n",
              "    .colab-df-container {\n",
              "      display:flex;\n",
              "      flex-wrap:wrap;\n",
              "      gap: 12px;\n",
              "    }\n",
              "\n",
              "    .colab-df-convert {\n",
              "      background-color: #E8F0FE;\n",
              "      border: none;\n",
              "      border-radius: 50%;\n",
              "      cursor: pointer;\n",
              "      display: none;\n",
              "      fill: #1967D2;\n",
              "      height: 32px;\n",
              "      padding: 0 0 0 0;\n",
              "      width: 32px;\n",
              "    }\n",
              "\n",
              "    .colab-df-convert:hover {\n",
              "      background-color: #E2EBFA;\n",
              "      box-shadow: 0px 1px 2px rgba(60, 64, 67, 0.3), 0px 1px 3px 1px rgba(60, 64, 67, 0.15);\n",
              "      fill: #174EA6;\n",
              "    }\n",
              "\n",
              "    [theme=dark] .colab-df-convert {\n",
              "      background-color: #3B4455;\n",
              "      fill: #D2E3FC;\n",
              "    }\n",
              "\n",
              "    [theme=dark] .colab-df-convert:hover {\n",
              "      background-color: #434B5C;\n",
              "      box-shadow: 0px 1px 3px 1px rgba(0, 0, 0, 0.15);\n",
              "      filter: drop-shadow(0px 1px 2px rgba(0, 0, 0, 0.3));\n",
              "      fill: #FFFFFF;\n",
              "    }\n",
              "  </style>\n",
              "\n",
              "      <script>\n",
              "        const buttonEl =\n",
              "          document.querySelector('#df-3bbe1d2d-544e-4ad5-a57d-88d7c5bb5482 button.colab-df-convert');\n",
              "        buttonEl.style.display =\n",
              "          google.colab.kernel.accessAllowed ? 'block' : 'none';\n",
              "\n",
              "        async function convertToInteractive(key) {\n",
              "          const element = document.querySelector('#df-3bbe1d2d-544e-4ad5-a57d-88d7c5bb5482');\n",
              "          const dataTable =\n",
              "            await google.colab.kernel.invokeFunction('convertToInteractive',\n",
              "                                                     [key], {});\n",
              "          if (!dataTable) return;\n",
              "\n",
              "          const docLinkHtml = 'Like what you see? Visit the ' +\n",
              "            '<a target=\"_blank\" href=https://colab.research.google.com/notebooks/data_table.ipynb>data table notebook</a>'\n",
              "            + ' to learn more about interactive tables.';\n",
              "          element.innerHTML = '';\n",
              "          dataTable['output_type'] = 'display_data';\n",
              "          await google.colab.output.renderOutput(dataTable, element);\n",
              "          const docLink = document.createElement('div');\n",
              "          docLink.innerHTML = docLinkHtml;\n",
              "          element.appendChild(docLink);\n",
              "        }\n",
              "      </script>\n",
              "    </div>\n",
              "  </div>\n"
            ]
          },
          "metadata": {},
          "execution_count": 28
        }
      ]
    },
    {
      "cell_type": "markdown",
      "source": [
        "* coluna1"
      ],
      "metadata": {
        "id": "mNOCmwZecd8v"
      }
    },
    {
      "cell_type": "markdown",
      "source": [
        "## Copia de segurança do tratamento - Backup"
      ],
      "metadata": {
        "id": "59UEX6yQCrqX"
      }
    },
    {
      "cell_type": "code",
      "source": [
        "# Backup para analise\n",
        "df_tratado = df_analise.copy()"
      ],
      "metadata": {
        "id": "kPn9PJEFvtWW"
      },
      "execution_count": null,
      "outputs": []
    },
    {
      "cell_type": "markdown",
      "source": [
        "## Carregamento\n",
        "Depois que os dados são extraídos e transformados adequadamente, eles estarão prontos para as análise, mas antes disso eles precisam ser carregados em um local de armazenamento adequado. Podendo ser um banco de dados SQL ou NoSQL, um sistema de armazenamento em nuvem, e para o caso de disponibilizar o projeto publicamente é ideal que ele seja colocar em uma pasta de datasets, diferenciando o arquivo bruto e o tratado."
      ],
      "metadata": {
        "id": "0hT5rrbf2Xrw"
      }
    },
    {
      "cell_type": "code",
      "source": [
        "# Upando para o Google Cloud\n",
        "\n",
        "#df_tratado.to_csv('gs://projeto-final-ad2-e8/dados/tratados/dataset_tratados_xlsx/2_3_geracao_eletrica_por_fonte_gwh_tratado.xlsx', index=False)\n"
      ],
      "metadata": {
        "id": "ya7oNjhIlxeF"
      },
      "execution_count": null,
      "outputs": []
    },
    {
      "cell_type": "markdown",
      "source": [
        "# Análise exploratória de dados.\n",
        "- Descrição de dados: identificação dos tipos de variáveis, dimensões dos dados, valores extremos e estatísticas descritivas.\n",
        "- Visualização dos dados: criação de gráficos, tabelas e outros tipos de visualização para entender a distribuição e a relação entre as variáveis.\n",
        "- Identificação de padrões: identificação de padrões, tendências, correlações e outras relações entre as variáveis.\n",
        "- Testes estatísticos: aplicação de testes estatísticos para confirmar ou refutar hipóteses sobre os dados."
      ],
      "metadata": {
        "id": "CpbY0Z4Fre--"
      }
    },
    {
      "cell_type": "markdown",
      "source": [
        "## **Estatisticas**"
      ],
      "metadata": {
        "id": "aIrfIb9Qyw9r"
      }
    },
    {
      "cell_type": "code",
      "source": [
        "# Estatistica descritiva\n",
        "df_tratado.describe()\n"
      ],
      "metadata": {
        "id": "mdmgT-41-RZ8",
        "colab": {
          "base_uri": "https://localhost:8080/",
          "height": 300
        },
        "outputId": "5f4af428-9815-47ff-e2ce-5ab236efec27"
      },
      "execution_count": null,
      "outputs": [
        {
          "output_type": "execute_result",
          "data": {
            "text/plain": [
              "               Total\n",
              "count     100.000000\n",
              "mean   121844.173495\n",
              "std    196618.211962\n",
              "min         4.794717\n",
              "25%     14103.684484\n",
              "50%     23965.391800\n",
              "75%     69777.654524\n",
              "max    677436.870162"
            ],
            "text/html": [
              "\n",
              "\n",
              "  <div id=\"df-0a2dce3e-d547-40c0-bba0-9fc42d1b2c04\">\n",
              "    <div class=\"colab-df-container\">\n",
              "      <div>\n",
              "<style scoped>\n",
              "    .dataframe tbody tr th:only-of-type {\n",
              "        vertical-align: middle;\n",
              "    }\n",
              "\n",
              "    .dataframe tbody tr th {\n",
              "        vertical-align: top;\n",
              "    }\n",
              "\n",
              "    .dataframe thead th {\n",
              "        text-align: right;\n",
              "    }\n",
              "</style>\n",
              "<table border=\"1\" class=\"dataframe\">\n",
              "  <thead>\n",
              "    <tr style=\"text-align: right;\">\n",
              "      <th></th>\n",
              "      <th>Total</th>\n",
              "    </tr>\n",
              "  </thead>\n",
              "  <tbody>\n",
              "    <tr>\n",
              "      <th>count</th>\n",
              "      <td>100.000000</td>\n",
              "    </tr>\n",
              "    <tr>\n",
              "      <th>mean</th>\n",
              "      <td>121844.173495</td>\n",
              "    </tr>\n",
              "    <tr>\n",
              "      <th>std</th>\n",
              "      <td>196618.211962</td>\n",
              "    </tr>\n",
              "    <tr>\n",
              "      <th>min</th>\n",
              "      <td>4.794717</td>\n",
              "    </tr>\n",
              "    <tr>\n",
              "      <th>25%</th>\n",
              "      <td>14103.684484</td>\n",
              "    </tr>\n",
              "    <tr>\n",
              "      <th>50%</th>\n",
              "      <td>23965.391800</td>\n",
              "    </tr>\n",
              "    <tr>\n",
              "      <th>75%</th>\n",
              "      <td>69777.654524</td>\n",
              "    </tr>\n",
              "    <tr>\n",
              "      <th>max</th>\n",
              "      <td>677436.870162</td>\n",
              "    </tr>\n",
              "  </tbody>\n",
              "</table>\n",
              "</div>\n",
              "      <button class=\"colab-df-convert\" onclick=\"convertToInteractive('df-0a2dce3e-d547-40c0-bba0-9fc42d1b2c04')\"\n",
              "              title=\"Convert this dataframe to an interactive table.\"\n",
              "              style=\"display:none;\">\n",
              "\n",
              "  <svg xmlns=\"http://www.w3.org/2000/svg\" height=\"24px\"viewBox=\"0 0 24 24\"\n",
              "       width=\"24px\">\n",
              "    <path d=\"M0 0h24v24H0V0z\" fill=\"none\"/>\n",
              "    <path d=\"M18.56 5.44l.94 2.06.94-2.06 2.06-.94-2.06-.94-.94-2.06-.94 2.06-2.06.94zm-11 1L8.5 8.5l.94-2.06 2.06-.94-2.06-.94L8.5 2.5l-.94 2.06-2.06.94zm10 10l.94 2.06.94-2.06 2.06-.94-2.06-.94-.94-2.06-.94 2.06-2.06.94z\"/><path d=\"M17.41 7.96l-1.37-1.37c-.4-.4-.92-.59-1.43-.59-.52 0-1.04.2-1.43.59L10.3 9.45l-7.72 7.72c-.78.78-.78 2.05 0 2.83L4 21.41c.39.39.9.59 1.41.59.51 0 1.02-.2 1.41-.59l7.78-7.78 2.81-2.81c.8-.78.8-2.07 0-2.86zM5.41 20L4 18.59l7.72-7.72 1.47 1.35L5.41 20z\"/>\n",
              "  </svg>\n",
              "      </button>\n",
              "\n",
              "\n",
              "\n",
              "    <div id=\"df-9da758ea-d7dd-4abe-a202-1e7cbb027117\">\n",
              "      <button class=\"colab-df-quickchart\" onclick=\"quickchart('df-9da758ea-d7dd-4abe-a202-1e7cbb027117')\"\n",
              "              title=\"Suggest charts.\"\n",
              "              style=\"display:none;\">\n",
              "\n",
              "<svg xmlns=\"http://www.w3.org/2000/svg\" height=\"24px\"viewBox=\"0 0 24 24\"\n",
              "     width=\"24px\">\n",
              "    <g>\n",
              "        <path d=\"M19 3H5c-1.1 0-2 .9-2 2v14c0 1.1.9 2 2 2h14c1.1 0 2-.9 2-2V5c0-1.1-.9-2-2-2zM9 17H7v-7h2v7zm4 0h-2V7h2v10zm4 0h-2v-4h2v4z\"/>\n",
              "    </g>\n",
              "</svg>\n",
              "      </button>\n",
              "    </div>\n",
              "\n",
              "<style>\n",
              "  .colab-df-quickchart {\n",
              "    background-color: #E8F0FE;\n",
              "    border: none;\n",
              "    border-radius: 50%;\n",
              "    cursor: pointer;\n",
              "    display: none;\n",
              "    fill: #1967D2;\n",
              "    height: 32px;\n",
              "    padding: 0 0 0 0;\n",
              "    width: 32px;\n",
              "  }\n",
              "\n",
              "  .colab-df-quickchart:hover {\n",
              "    background-color: #E2EBFA;\n",
              "    box-shadow: 0px 1px 2px rgba(60, 64, 67, 0.3), 0px 1px 3px 1px rgba(60, 64, 67, 0.15);\n",
              "    fill: #174EA6;\n",
              "  }\n",
              "\n",
              "  [theme=dark] .colab-df-quickchart {\n",
              "    background-color: #3B4455;\n",
              "    fill: #D2E3FC;\n",
              "  }\n",
              "\n",
              "  [theme=dark] .colab-df-quickchart:hover {\n",
              "    background-color: #434B5C;\n",
              "    box-shadow: 0px 1px 3px 1px rgba(0, 0, 0, 0.15);\n",
              "    filter: drop-shadow(0px 1px 2px rgba(0, 0, 0, 0.3));\n",
              "    fill: #FFFFFF;\n",
              "  }\n",
              "</style>\n",
              "\n",
              "    <script>\n",
              "      async function quickchart(key) {\n",
              "        const containerElement = document.querySelector('#' + key);\n",
              "        const charts = await google.colab.kernel.invokeFunction(\n",
              "            'suggestCharts', [key], {});\n",
              "      }\n",
              "    </script>\n",
              "\n",
              "      <script>\n",
              "\n",
              "function displayQuickchartButton(domScope) {\n",
              "  let quickchartButtonEl =\n",
              "    domScope.querySelector('#df-9da758ea-d7dd-4abe-a202-1e7cbb027117 button.colab-df-quickchart');\n",
              "  quickchartButtonEl.style.display =\n",
              "    google.colab.kernel.accessAllowed ? 'block' : 'none';\n",
              "}\n",
              "\n",
              "        displayQuickchartButton(document);\n",
              "      </script>\n",
              "      <style>\n",
              "    .colab-df-container {\n",
              "      display:flex;\n",
              "      flex-wrap:wrap;\n",
              "      gap: 12px;\n",
              "    }\n",
              "\n",
              "    .colab-df-convert {\n",
              "      background-color: #E8F0FE;\n",
              "      border: none;\n",
              "      border-radius: 50%;\n",
              "      cursor: pointer;\n",
              "      display: none;\n",
              "      fill: #1967D2;\n",
              "      height: 32px;\n",
              "      padding: 0 0 0 0;\n",
              "      width: 32px;\n",
              "    }\n",
              "\n",
              "    .colab-df-convert:hover {\n",
              "      background-color: #E2EBFA;\n",
              "      box-shadow: 0px 1px 2px rgba(60, 64, 67, 0.3), 0px 1px 3px 1px rgba(60, 64, 67, 0.15);\n",
              "      fill: #174EA6;\n",
              "    }\n",
              "\n",
              "    [theme=dark] .colab-df-convert {\n",
              "      background-color: #3B4455;\n",
              "      fill: #D2E3FC;\n",
              "    }\n",
              "\n",
              "    [theme=dark] .colab-df-convert:hover {\n",
              "      background-color: #434B5C;\n",
              "      box-shadow: 0px 1px 3px 1px rgba(0, 0, 0, 0.15);\n",
              "      filter: drop-shadow(0px 1px 2px rgba(0, 0, 0, 0.3));\n",
              "      fill: #FFFFFF;\n",
              "    }\n",
              "  </style>\n",
              "\n",
              "      <script>\n",
              "        const buttonEl =\n",
              "          document.querySelector('#df-0a2dce3e-d547-40c0-bba0-9fc42d1b2c04 button.colab-df-convert');\n",
              "        buttonEl.style.display =\n",
              "          google.colab.kernel.accessAllowed ? 'block' : 'none';\n",
              "\n",
              "        async function convertToInteractive(key) {\n",
              "          const element = document.querySelector('#df-0a2dce3e-d547-40c0-bba0-9fc42d1b2c04');\n",
              "          const dataTable =\n",
              "            await google.colab.kernel.invokeFunction('convertToInteractive',\n",
              "                                                     [key], {});\n",
              "          if (!dataTable) return;\n",
              "\n",
              "          const docLinkHtml = 'Like what you see? Visit the ' +\n",
              "            '<a target=\"_blank\" href=https://colab.research.google.com/notebooks/data_table.ipynb>data table notebook</a>'\n",
              "            + ' to learn more about interactive tables.';\n",
              "          element.innerHTML = '';\n",
              "          dataTable['output_type'] = 'display_data';\n",
              "          await google.colab.output.renderOutput(dataTable, element);\n",
              "          const docLink = document.createElement('div');\n",
              "          docLink.innerHTML = docLinkHtml;\n",
              "          element.appendChild(docLink);\n",
              "        }\n",
              "      </script>\n",
              "    </div>\n",
              "  </div>\n"
            ]
          },
          "metadata": {},
          "execution_count": 41
        }
      ]
    },
    {
      "cell_type": "markdown",
      "source": [
        "### Filtros e agrupamentos\n",
        "Criar novas variáveis com base nos dados originais para permitir uma análise mais detalhada por agrupamento."
      ],
      "metadata": {
        "id": "-bEZz8EE2JGS"
      }
    },
    {
      "cell_type": "code",
      "source": [
        "# Agrupamento por Ano\n",
        "grupo_ano = df_tratado.groupby('Ano')['Total'].sum()\n",
        "print(grupo_ano)"
      ],
      "metadata": {
        "id": "2OeL066smKJx",
        "colab": {
          "base_uri": "https://localhost:8080/"
        },
        "outputId": "3c3acd24-146b-4785-fd44-d1df52b6bec1"
      },
      "execution_count": null,
      "outputs": [
        {
          "output_type": "stream",
          "name": "stdout",
          "text": [
            "Ano\n",
            "2013-01-01    1.141669e+06\n",
            "2014-01-01    1.181085e+06\n",
            "2015-01-01    1.162972e+06\n",
            "2016-01-01    1.157797e+06\n",
            "2017-01-01    1.175923e+06\n",
            "2018-01-01    1.202793e+06\n",
            "2019-01-01    1.252649e+06\n",
            "2020-01-01    1.242438e+06\n",
            "2021-01-01    1.312218e+06\n",
            "2022-01-01    1.354874e+06\n",
            "Name: Total, dtype: float64\n"
          ]
        }
      ]
    },
    {
      "cell_type": "code",
      "source": [
        "\n",
        "# Agrupamento por Grupo\n",
        "grupo_grupo = df_tratado.groupby('Grupo')['Total'].sum()\n",
        "print(grupo_grupo)"
      ],
      "metadata": {
        "id": "T1WhCbF2mOVy",
        "colab": {
          "base_uri": "https://localhost:8080/"
        },
        "outputId": "f1b3a311-a5dc-4015-ab43-e0d613cb5488"
      },
      "execution_count": null,
      "outputs": [
        {
          "output_type": "stream",
          "name": "stdout",
          "text": [
            "Grupo\n",
            "Biomassa (iii)                4.940441e+05\n",
            "Carvão                        1.525919e+05\n",
            "Derivados de Petróleo (ii)    1.573323e+05\n",
            "Eólica                        4.317056e+05\n",
            "Gás Natural                   6.485532e+05\n",
            "Hidráulica (i)                3.849153e+06\n",
            "Nuclear                       1.522848e+05\n",
            "Outras (iv)                   1.378400e+05\n",
            "Solar                         6.870419e+04\n",
            "Total                         6.092209e+06\n",
            "Name: Total, dtype: float64\n"
          ]
        }
      ]
    },
    {
      "cell_type": "code",
      "source": [
        "# Agrupamento por Ano e Grupo\n",
        "grupo_ano_grupo = df_tratado.groupby(['Ano', 'Grupo'])['Total'].sum()\n",
        "print(grupo_ano_grupo)"
      ],
      "metadata": {
        "id": "a5DbVUnYmWHw",
        "colab": {
          "base_uri": "https://localhost:8080/"
        },
        "outputId": "ca5e3c60-eba7-4c13-ce32-d034f93a2d6a"
      },
      "execution_count": null,
      "outputs": [
        {
          "output_type": "stream",
          "name": "stdout",
          "text": [
            "Ano         Grupo                     \n",
            "2013-01-01  Biomassa (iii)                 39683.802484\n",
            "            Carvão                         14801.485105\n",
            "            Derivados de Petróleo (ii)     22223.190607\n",
            "            Eólica                          6578.409847\n",
            "            Gás Natural                    68941.547741\n",
            "                                              ...      \n",
            "2022-01-01  Hidráulica (i)                427113.549289\n",
            "            Nuclear                        14559.013213\n",
            "            Outras (iv)                    14120.713255\n",
            "            Solar                          30126.461566\n",
            "            Total                         677436.870162\n",
            "Name: Total, Length: 100, dtype: float64\n"
          ]
        }
      ]
    },
    {
      "cell_type": "markdown",
      "source": [
        "## Visualização"
      ],
      "metadata": {
        "id": "_IRmFDtibEJ5"
      }
    },
    {
      "cell_type": "code",
      "source": [
        "# Vamos transformar a coluna 'Ano' para o formato de data\n",
        "df_tratado['Ano'] = pd.to_datetime(df_tratado['Ano'])\n",
        "\n",
        "# Separar o DataFrame excluindo a linha 'Total'\n",
        "df_grupos = df_tratado[df_tratado['Grupo'] != 'Total']\n",
        "\n",
        "# Gráfico de barra horizontal para Agrupamento por Grupo\n",
        "plt.figure(figsize=(10, 5))\n",
        "grupo_grupo = df_grupos.groupby('Grupo')['Total'].sum()\n",
        "grupo_grupo = grupo_grupo.sort_values()\n",
        "\n",
        "# Plotar o gráfico\n",
        "bars = plt.barh(grupo_grupo.index, grupo_grupo.values)\n",
        "plt.title('Geração de Energia por Fonte')\n",
        "plt.xlabel('Total de Geração de Energia (GWh)')\n",
        "plt.ylabel('Fonte Geradora')\n",
        "\n",
        "# Adicionar valores no final das barras em negrito\n",
        "for bar in bars:\n",
        "    plt.text(bar.get_width(), bar.get_y() + bar.get_height() / 2, f'{bar.get_width():.2f}', va='center', ha='left', fontsize=8, weight='bold')\n",
        "\n",
        "plt.tight_layout()\n",
        "plt.show()"
      ],
      "metadata": {
        "colab": {
          "base_uri": "https://localhost:8080/",
          "height": 463
        },
        "id": "bbzG2PIXywxA",
        "outputId": "08149963-e069-4925-cc6d-9239bd292cdc"
      },
      "execution_count": null,
      "outputs": [
        {
          "output_type": "display_data",
          "data": {
            "text/plain": [
              "<Figure size 1000x500 with 1 Axes>"
            ],
            "image/png": "[encoded data removed]"
          },
          "metadata": {}
        }
      ]
    },
    {
      "cell_type": "code",
      "source": [
        "# Vamos transformar a coluna 'Ano' para o formato de data\n",
        "df_tratado['Ano'] = pd.to_datetime(df_tratado['Ano'])\n",
        "\n",
        "# Separar o DataFrame excluindo a linha 'Total'\n",
        "df_grupos = df_tratado[df_tratado['Grupo'] != 'Total']\n",
        "\n",
        "# Pivotar os dados para ter os grupos como colunas\n",
        "df_pivot = df_grupos.pivot(index='Ano', columns='Grupo', values='Total')\n",
        "\n",
        "# Criar um gráfico de barras empilhadas\n",
        "plt.figure(figsize=(10, 6))\n",
        "ax = df_pivot.plot(kind='bar', stacked=True)\n",
        "plt.xlabel('Ano')\n",
        "plt.ylabel('Total de Energia (GWh)')\n",
        "plt.title('Geração Elétrica por Fonte')\n",
        "\n",
        "# Posicionar a legenda fora do gráfico\n",
        "plt.legend(loc='upper left', bbox_to_anchor=(1, 1))\n",
        "\n",
        "# Formatar o eixo x para mostrar apenas o ano\n",
        "years = df_pivot.index.year\n",
        "ax.set_xticklabels(years)\n",
        "\n",
        "plt.xticks(rotation=45)\n",
        "plt.tight_layout()\n",
        "\n",
        "plt.show()"
      ],
      "metadata": {
        "colab": {
          "base_uri": "https://localhost:8080/",
          "height": 504
        },
        "id": "hxev44iLyUDF",
        "outputId": "456b4f84-ec94-41c4-d24a-29d75318bfda"
      },
      "execution_count": null,
      "outputs": [
        {
          "output_type": "display_data",
          "data": {
            "text/plain": [
              "<Figure size 1000x600 with 0 Axes>"
            ]
          },
          "metadata": {}
        },
        {
          "output_type": "display_data",
          "data": {
            "text/plain": [
              "<Figure size 640x480 with 1 Axes>"
            ],
            "image/png": "[encoded data removed]"
          },
          "metadata": {}
        }
      ]
    }
  ]
}