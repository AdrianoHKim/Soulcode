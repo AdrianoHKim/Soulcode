{
  "nbformat": 4,
  "nbformat_minor": 0,
  "metadata": {
    "colab": {
      "provenance": [],
      "toc_visible": true,
      "authorship_tag": "ABX9TyMbUnIluoxIgH1eR52TFR65",
      "include_colab_link": true
    },
    "kernelspec": {
      "name": "python3",
      "display_name": "Python 3"
    },
    "language_info": {
      "name": "python"
    }
  },
  "cells": [
    {
      "cell_type": "markdown",
      "metadata": {
        "id": "view-in-github",
        "colab_type": "text"
      },
      "source": [
        "<a href=\"https://colab.research.google.com/github/AdrianoHKim/Soulcode/blob/main/atividade03_python.ipynb\" target=\"_parent\"><img src=\"https://colab.research.google.com/assets/colab-badge.svg\" alt=\"Open In Colab\"/></a>"
      ]
    },
    {
      "cell_type": "markdown",
      "source": [
        "# **Projeto - Fundamentos de Python**\n",
        "\n",
        "Este projeto tem como principal objetivo proporcionar ao estudante a verificação  das principais habilidades técnicas sobre fundamentos de Python aprendidas na quarta semana do Bootcamp de análise de dados na turma AD2. A proposta alia conceitos fundamentais de Python com o tema da primeira semana do Bootcamp (análise exploratória de dados).\n",
        "Neste projeto o estudante deverá individualmente construir um script em Python que receba do usuário duas variáveis de valores referentes a variáveis quantitativas e devolva como resposta a seguintes medidas de estatística descritiva para cada variável informada:\n",
        "\n",
        "* Média aritmética;\n",
        "* Mediana;\n",
        "* Moda (se houver);\n",
        "* Variância amostral;\n",
        "* Desvio Padrão amostral;\n",
        "* Amplitude total;\n",
        "* Q1 (primeiro quartil);\n",
        "* Q3 (terceiro quartil);\n",
        "* AIQ (amplitude interquartílica);\n",
        "* Limite inferior (LI do boxplot);\n",
        "* Limite superior (LS do boxplot);\n",
        "* Identificação e classificação de possíveis outliers na amostra;\n",
        "* Coeficiente de Correlação de Pearson ( r );\n",
        "* Coeficiente de determinação ( r ao quadrado);\n",
        "* Coeficiente a ou alpha da equação de regressão linear simples para as duas variáveis escolhidas pelo usuário;\n",
        "* Coeficiente b ou beta da equação de regressão linear simples para as duas variáveis escolhidas pelo usuário;\n",
        "\n",
        "Requisitos obrigatórios:\n",
        "\n",
        "O programa deve conter todas as medidas de estatística descritiva solicitadas no bloco anterior;\n",
        "O Programa deve conter no mínimo as seguintes estruturas:\n",
        "* 1 - (if, elif e else),\n",
        "* 1 - (laço de repetição For)\n",
        "* 1 - (loop While);\n",
        "* O programa não pode incorporar módulos e frameworks não estudados até o presente momento no bootcamp.\n",
        "\n",
        "Requisitos não obrigatórios (opcionais):\n",
        "\n",
        "* Tratamentos de erros para entradas dos usuários;\n",
        "* Quaisquer outras melhorias de código que não sejam contrárias aos requisitos obrigatórios."
      ],
      "metadata": {
        "id": "MfHLu4O8jJsk"
      }
    },
    {
      "cell_type": "markdown",
      "source": [
        "## **Ínicio do programa e validação**\n"
      ],
      "metadata": {
        "id": "FS9xwtAajXYd"
      }
    },
    {
      "cell_type": "code",
      "source": [
        "lista1 = []\n",
        "lista2 = []\n",
        "\n",
        "while True:\n",
        "    try:\n",
        "        numeros1 = input(\"Digite os números da primeira lista, separados por espaços: \").split()\n",
        "        numeros1 = [float(numero) for numero in numeros1]\n",
        "\n",
        "        numeros2 = input(\"\\nDigite os números da segunda lista, separados por espaços:\\nCOM A MESMA QUANTIDADE DE VALORES DA PRIMEIRA LISTA!!!: \").split()\n",
        "        numeros2 = [float(numero) for numero in numeros2]\n",
        "\n",
        "\n",
        "        for num1 in numeros1:  # adiciona os numeros \"splitados\" na lista\n",
        "            lista1.append(num1)\n",
        "\n",
        "\n",
        "        for num2 in numeros2:  # adiciona os numeros \"splitados\" na lista\n",
        "            lista2.append(num2)\n",
        "\n",
        "\n",
        "        if len(lista1) != len(lista2):  # compara se a lista 1 tem  tamanho diferente da lista 2\n",
        "            lista1 = []  # limpa as listas caso os tamanhos sejam diferentes\n",
        "            lista2 = []\n",
        "            print('As listas devem possuir a mesma quantidade de valores! Reinicie o programa e tente novamente.')\n",
        "            break\n",
        "        else:\n",
        "            print(f'\\nListas validadas com sucesso!\\nLista 1: {lista1}\\nLista 2: {lista2}')\n",
        "        break\n",
        "\n",
        "    except:\n",
        "        print(\"Lista de valores inválida. Digite somente números e separe-os com espaço.\")\n",
        "        pass\n"
      ],
      "metadata": {
        "id": "KAcFduGljNuJ",
        "colab": {
          "base_uri": "https://localhost:8080/"
        },
        "outputId": "623e7a1c-d7dd-4a07-fdb6-13e2fa9e7a9b"
      },
      "execution_count": null,
      "outputs": [
        {
          "output_type": "stream",
          "name": "stdout",
          "text": [
            "Digite os números da primeira lista, separados por espaços: 1 2 3 4 5\n",
            "\n",
            "Digite os números da segunda lista, separados por espaços:\n",
            "COM A MESMA QUANTIDADE DE VALORES DA PRIMEIRA LISTA!!!: 1 2 4 5 8\n",
            "\n",
            "Listas validadas com sucesso!\n",
            "Lista 1: [1.0, 2.0, 3.0, 4.0, 5.0]\n",
            "Lista 2: [1.0, 2.0, 4.0, 5.0, 8.0]\n"
          ]
        }
      ]
    },
    {
      "cell_type": "markdown",
      "source": [
        "## **Média aritmética**"
      ],
      "metadata": {
        "id": "WpDSwPqWjqJu"
      }
    },
    {
      "cell_type": "code",
      "source": [
        "# Médias:\n",
        "\n",
        "media1 = sum(lista1)/len(lista1)  # calcula a média\n",
        "print(f'A média aritmética da lista 1 é: {media1:.2f}')\n",
        "\n",
        "media2 = sum(lista2)/len(lista2)\n",
        "print(f'A média aritmética da lista 2 é: {media2:.2f}')\n"
      ],
      "metadata": {
        "colab": {
          "base_uri": "https://localhost:8080/"
        },
        "id": "cEIf46Bojtmd",
        "outputId": "7b8ffa41-03cf-4450-adf0-5781498b8817"
      },
      "execution_count": null,
      "outputs": [
        {
          "output_type": "stream",
          "name": "stdout",
          "text": [
            "A média aritmética da lista 1 é: 3.00\n",
            "A média aritmética da lista 2 é: 4.00\n"
          ]
        }
      ]
    },
    {
      "cell_type": "markdown",
      "source": [
        "## **Mediana**"
      ],
      "metadata": {
        "id": "CikndRasj0c_"
      }
    },
    {
      "cell_type": "code",
      "source": [
        "# Medianas:\n",
        "\n",
        "lista1_ord = sorted(lista1)  # organiza as lista em ordem A - Z (crescente)\n",
        "lista2_ord = sorted(lista2)\n",
        "\n",
        "if len(lista1_ord) % 2 == 1:  # tamanho ímpar\n",
        "    mediana1 = len(lista1_ord) // 2\n",
        "    print(f'A mediana da lista 1 é: {lista1_ord[mediana1]}')\n",
        "else:  # tamanho par\n",
        "    indice1 = len(lista1_ord) // 2 - 1\n",
        "    indice2 = len(lista1_ord) // 2\n",
        "    mediana1 = (lista1_ord[indice1] + lista1_ord[indice2]) / 2\n",
        "    print(f'A mediana da lista 1 é: {mediana1}')\n",
        "\n",
        "if len(lista2_ord) % 2 == 1:  # tamanho ímpar\n",
        "    mediana2 = len(lista2_ord) // 2\n",
        "    print(f'A mediana da lista 2 é: {lista2_ord[mediana2]}')\n",
        "else:  # tamanho par\n",
        "    indice12 = len(lista2_ord) // 2 - 1\n",
        "    indice22 = len(lista2_ord) // 2\n",
        "    mediana2 = (lista2_ord[indice12] + lista2_ord[indice22]) / 2\n",
        "    print(f'A mediana da lista 2 é: {mediana2}')\n"
      ],
      "metadata": {
        "colab": {
          "base_uri": "https://localhost:8080/"
        },
        "id": "OCkmNpW7j6Y2",
        "outputId": "7f301578-c746-4b8a-aca9-99c1eea49bc3"
      },
      "execution_count": null,
      "outputs": [
        {
          "output_type": "stream",
          "name": "stdout",
          "text": [
            "A mediana da lista 1 é: 3.0\n",
            "A mediana da lista 2 é: 4.0\n"
          ]
        }
      ]
    },
    {
      "cell_type": "markdown",
      "source": [
        "## **Moda (se houver)**"
      ],
      "metadata": {
        "id": "xp0CYXr-kF0f"
      }
    },
    {
      "cell_type": "code",
      "source": [
        "# Moda:\n",
        "\n",
        "moda1 = []\n",
        "frequencias1 = []\n",
        "\n",
        "\n",
        "for valor1 in lista1_ord:  # Calcula a frequência de cada número\n",
        "    frequencia1 = 0\n",
        "    for num1 in lista1_ord:\n",
        "        if num1 == valor1:\n",
        "            frequencia1 += 1  # aumenta a contagem de cada número\n",
        "    frequencias1.append(frequencia1)\n",
        "\n",
        "\n",
        "maior_frequencia1 = 0  # referência para a maior frequência\n",
        "\n",
        "\n",
        "for i in range(len(frequencias1)):  # Encontra a maior frequência\n",
        "    if frequencias1[i] > maior_frequencia1:\n",
        "        maior_frequencia1 = frequencias1[i]\n",
        "        moda1 = [lista1_ord[i]]\n",
        "    elif frequencias1[i] == maior_frequencia1 and lista1_ord[i] not in moda1:\n",
        "        moda1.append(lista1_ord[i])\n",
        "\n",
        "\n",
        "# Exibe os números com a maior frequência na tela\n",
        "if len(moda1) == 1:\n",
        "    print(f'A moda da lista 1 é: {moda1[0]}')\n",
        "elif len(moda1) != len(frequencias1):\n",
        "    print(f'As modas da lista 1 são: {moda1}')\n",
        "else:\n",
        "    print('A lista 1 não possui moda.')\n",
        "\n",
        "moda2 = []\n",
        "frequencias2 = []\n",
        "\n",
        "\n",
        "for valor2 in lista2_ord:  # Calcula a frequência de cada número\n",
        "    frequencia2 = 0\n",
        "    for num2 in lista2_ord:\n",
        "        if num2 == valor2:\n",
        "            frequencia2 += 1\n",
        "    frequencias2.append(frequencia2)\n",
        "\n",
        "\n",
        "maior_frequencia2 = 0\n",
        "\n",
        "\n",
        "for i in range(len(frequencias2)):  # Encontra a maior frequência\n",
        "    if frequencias2[i] > maior_frequencia2:\n",
        "        maior_frequencia2 = frequencias2[i]\n",
        "        moda2 = [lista2_ord[i]]\n",
        "    elif frequencias2[i] == maior_frequencia2 and lista2_ord[i] not in moda2:\n",
        "        moda2.append(lista2_ord[i])\n",
        "\n",
        "\n",
        "# Exibe os números com a maior frequência na tela\n",
        "if len(moda2) == 1:\n",
        "    print(f'A moda da lista 2 é: {moda2[0]}')\n",
        "elif len(moda2) != len(frequencias2):\n",
        "    print(f'As modas da lista 2 são: {moda2}')\n",
        "else:\n",
        "    print('A lista 2 não possui moda.')\n"
      ],
      "metadata": {
        "colab": {
          "base_uri": "https://localhost:8080/"
        },
        "id": "_Vh3mXqEkWa1",
        "outputId": "205ff428-f5cf-4d47-e757-48054e38d8c8"
      },
      "execution_count": null,
      "outputs": [
        {
          "output_type": "stream",
          "name": "stdout",
          "text": [
            "A lista 1 não possui moda.\n",
            "A lista 2 não possui moda.\n"
          ]
        }
      ]
    },
    {
      "cell_type": "markdown",
      "source": [
        "## **Variância amostral**"
      ],
      "metadata": {
        "id": "Pw525H5OklSw"
      }
    },
    {
      "cell_type": "code",
      "source": [
        "# Variância amostral\n",
        "t_quad1 = []\n",
        "\n",
        "if len(lista1_ord) > 1:\n",
        "    variancia1 = sum((x - media1) ** 2 for x in lista1_ord) / (len(lista1_ord) - 1)  # Usando a fórmula da variância\n",
        "    print(f'A variância da lista 1 é: {variancia1:.2f}')  # Retorna a variância\n",
        "else:\n",
        "    print('A lista 1 não possui variancia.')\n",
        "\n",
        "if len(lista1_ord) > 1:\n",
        "    variancia2 = sum((x - media2) ** 2 for x in lista2_ord) / (len(lista2_ord) - 1)  # Usando a fórmula da variância\n",
        "    print(f'A variância da lista 2 é: {variancia2:.2f}')  # Retorna a variância\n",
        "else:\n",
        "    print('A lista 2 não possui variancia.')\n"
      ],
      "metadata": {
        "colab": {
          "base_uri": "https://localhost:8080/"
        },
        "id": "6lqZztY5kmuX",
        "outputId": "3898b4f1-738a-4dab-844c-01fdd7ce575b"
      },
      "execution_count": null,
      "outputs": [
        {
          "output_type": "stream",
          "name": "stdout",
          "text": [
            "A variância da lista 1 é: 2.50\n",
            "A variância da lista 2 é: 7.50\n"
          ]
        }
      ]
    },
    {
      "cell_type": "markdown",
      "source": [
        "## **Desvio Padrão amostral**"
      ],
      "metadata": {
        "id": "m6u88yV0kx_P"
      }
    },
    {
      "cell_type": "code",
      "source": [
        "# Desvio Padrão amostral\n",
        "\n",
        "if len(lista1_ord) > 1:\n",
        "    desvio_padrao1 = variancia1 ** 0.5\n",
        "    print(f'O desvio padrão da lista 1 é {desvio_padrao1:.2f}')\n",
        "\n",
        "else:\n",
        "    print('A lista 1 não possui desvio padrão')\n",
        "\n",
        "if len(lista2_ord) > 1:\n",
        "    desvio_padrao2 = variancia2 ** 0.5\n",
        "    print(f'O desvio padrão da lista 2 é {desvio_padrao2:.2f}')\n",
        "else:\n",
        "    print('A lista 2 não possui desvio padrão')\n"
      ],
      "metadata": {
        "colab": {
          "base_uri": "https://localhost:8080/"
        },
        "id": "YV5SNn4jk2mO",
        "outputId": "5761b1ec-a5ce-4a2b-b5e9-6166be5e9e76"
      },
      "execution_count": null,
      "outputs": [
        {
          "output_type": "stream",
          "name": "stdout",
          "text": [
            "O desvio padrão da lista 1 é 1.58\n",
            "O desvio padrão da lista 2 é 2.74\n"
          ]
        }
      ]
    },
    {
      "cell_type": "markdown",
      "source": [
        "## **Amplitude total**"
      ],
      "metadata": {
        "id": "SS7ak4hzll85"
      }
    },
    {
      "cell_type": "code",
      "source": [
        "# Amplitude total\n",
        "\n",
        "menor_val1 = lista1_ord[0]  # lista para guardar o menor valor\n",
        "maior_val1 = lista1_ord[0]  # lista para guardar o maior valor\n",
        "\n",
        "\n",
        "for valor1 in lista1_ord:  # compara os valores da lista para achar o menor e o maior valor\n",
        "    if valor1 < menor_val1:\n",
        "        menor_val1 = valor1\n",
        "    if valor1 > maior_val1:\n",
        "        maior_val1 = valor1\n",
        "\n",
        "\n",
        "amp_total1 = maior_val1 - menor_val1  # fórmula da amplitude total\n",
        "print(f'A amplitude total da lista 1 é: {amp_total1}')\n",
        "\n",
        "menor_val2 = lista2_ord[0]\n",
        "maior_val2 = lista2_ord[0]\n",
        "\n",
        "\n",
        "for valor2 in lista2_ord:\n",
        "    if valor2 < menor_val2:\n",
        "        menor_val2 = valor2\n",
        "    if valor2 > maior_val2:\n",
        "        maior_val2 = valor2\n",
        "\n",
        "\n",
        "amp_total2 = maior_val2 - menor_val2\n",
        "print(f'A amplitude total da lista 2 é: {amp_total2}')\n"
      ],
      "metadata": {
        "colab": {
          "base_uri": "https://localhost:8080/"
        },
        "id": "o2sGNVuVlqZd",
        "outputId": "0d055d7e-f4cc-4f80-ca3a-92b516ad2b8f"
      },
      "execution_count": null,
      "outputs": [
        {
          "output_type": "stream",
          "name": "stdout",
          "text": [
            "A amplitude total da lista 1 é: 4.0\n",
            "A amplitude total da lista 2 é: 7.0\n"
          ]
        }
      ]
    },
    {
      "cell_type": "markdown",
      "source": [
        "## **Q1 (primeiro quartil)**"
      ],
      "metadata": {
        "id": "Oa_urO_umPrF"
      }
    },
    {
      "cell_type": "code",
      "source": [
        "# Q1 - Primeiro quartil\n",
        "\n",
        "if len(lista1_ord) % 2 == 0:  # condicional que verifica se a lista tem quantidade par de elementos\n",
        "    q1_1 = (len(lista1_ord) + 1) // 4\n",
        "    print(f'O primeiro quartil da lista 1 é: {lista1_ord[q1_1]}')\n",
        "\n",
        "else:\n",
        "    listaq1_1 = lista1_ord[:mediana1]\n",
        "    try:\n",
        "        if len(listaq1_1) % 2 == 0:\n",
        "            vi1_1 = len(listaq1_1) // 2\n",
        "            vs1_1 = len(listaq1_1) // 2 - 1\n",
        "            q1_1 = (listaq1_1[vi1_1] + listaq1_1[vs1_1]) / 2\n",
        "            print(f'O primeiro quartil da lista 1 é: {q1_1}')\n",
        "    except:\n",
        "        print('Não é possível calcular o quartil da lista 1.')\n",
        "\n",
        "if len(lista2_ord) % 2 == 0:\n",
        "    q1_2 = (len(lista2_ord) + 1) // 4\n",
        "    print(f'O primeiro quartil da lista 2 é: {lista2_ord[q1_2]}')\n",
        "\n",
        "else:\n",
        "    listaq1_2 = lista2_ord[:mediana2]\n",
        "    try:\n",
        "        if len(listaq1_2) % 2 == 0:\n",
        "            vi1_2 = len(listaq1_2) // 2\n",
        "            vs1_2 = len(listaq1_2) // 2 - 1\n",
        "            q1_2 = (listaq1_2[vi1_2] + listaq1_2[vs1_2]) / 2\n",
        "            print(f'O primeiro quartil da lista 2 é: {q1_2}')\n",
        "    except:\n",
        "        print('Não é possível calcular o quartil da lista 2.')\n"
      ],
      "metadata": {
        "colab": {
          "base_uri": "https://localhost:8080/"
        },
        "id": "b5MwuQgamTal",
        "outputId": "03a5b5d2-f2f9-4e42-f27b-7b37c79fb0fd"
      },
      "execution_count": null,
      "outputs": [
        {
          "output_type": "stream",
          "name": "stdout",
          "text": [
            "O primeiro quartil da lista 1 é: 1.5\n",
            "O primeiro quartil da lista 2 é: 1.5\n"
          ]
        }
      ]
    },
    {
      "cell_type": "markdown",
      "source": [
        "## **Q3 (terceiro quartil)**"
      ],
      "metadata": {
        "id": "uouap9XOml55"
      }
    },
    {
      "cell_type": "code",
      "source": [
        "# Q3 - Terceiro quartil\n",
        "\n",
        "if len(lista1_ord) % 2 == 0:\n",
        "    q3_1 = (3 * len(lista1_ord) + 1) // 4\n",
        "    print(f'O terceiro quartil da lista 1 é: {lista1_ord[q3_1]}')\n",
        "\n",
        "else:\n",
        "    listaq3_1 = lista1_ord[mediana1 + 1:]\n",
        "    try:\n",
        "        if len(listaq3_1) % 2 == 0:\n",
        "            vi3_1 = len(listaq3_1) // 2\n",
        "            vs3_1 = len(listaq3_1) // 2 - 1\n",
        "            q3_1 = (listaq3_1[vi3_1] + listaq3_1[vs3_1]) / 2\n",
        "            print(f'O terceiro quartil da lista 1 é: {q3_1}')\n",
        "    except:\n",
        "        print('Não é possível calcular o quartil da lista 1.')\n",
        "\n",
        "if len(lista2_ord) % 2 == 0:\n",
        "    q3_2 = (3 * len(lista2_ord) + 1) // 4\n",
        "    print(f'O terceiro quartil da lista 2 é: {lista2_ord[q3_2]}')\n",
        "\n",
        "else:\n",
        "    listaq3_2 = lista2_ord[mediana2 + 1:]\n",
        "    try:\n",
        "        if len(listaq3_2) % 2 == 0:\n",
        "            vi3_2 = len(listaq3_2) // 2\n",
        "            vs3_2 = len(listaq3_2) // 2 - 1\n",
        "            q3_2 = (listaq3_2[vi3_2] + listaq3_2[vs3_2]) / 2\n",
        "            print(f'O terceiro quartil da lista 2 é: {q3_2}')\n",
        "    except:\n",
        "        print('Não é possível calcular o quartil da lista 2.')\n",
        "\n"
      ],
      "metadata": {
        "colab": {
          "base_uri": "https://localhost:8080/"
        },
        "id": "92RwMpLTmsuH",
        "outputId": "be315827-c719-42e7-8cce-d22e5c2b3b5a"
      },
      "execution_count": null,
      "outputs": [
        {
          "output_type": "stream",
          "name": "stdout",
          "text": [
            "O terceiro quartil da lista 1 é: 4.5\n",
            "O terceiro quartil da lista 2 é: 6.5\n"
          ]
        }
      ]
    },
    {
      "cell_type": "markdown",
      "source": [
        "## **AIQ (amplitude interquartílica)**"
      ],
      "metadata": {
        "id": "QHAhQtC9nAV-"
      }
    },
    {
      "cell_type": "code",
      "source": [
        "# Amplitude Interquartílica (AIQ)\n",
        "\n",
        "if len(lista1_ord) % 2 == 0:\n",
        "    aiq1 = lista1_ord[q3_1] - lista1_ord[q1_1]\n",
        "    print(f'O AIQ da lista 1 é: {aiq1}')\n",
        "else:\n",
        "    aiq1 = q3_1 - q1_1\n",
        "    print(f'O AIQ da lista 1 é: {aiq1}')\n",
        "\n",
        "if len(lista2_ord) % 2 == 0:\n",
        "    aiq2 = lista2_ord[q3_2] - lista2_ord[q1_2]\n",
        "    print(f'O AIQ da lista 2 é: {aiq2}')\n",
        "else:\n",
        "    aiq2 = q3_2 - q1_2\n",
        "    print(f'O AIQ da lista 2 é: {aiq2}')\n"
      ],
      "metadata": {
        "colab": {
          "base_uri": "https://localhost:8080/"
        },
        "id": "U-gFEBaVnD4V",
        "outputId": "a0071a3b-332b-442b-8d96-ca6644d22ce4"
      },
      "execution_count": null,
      "outputs": [
        {
          "output_type": "stream",
          "name": "stdout",
          "text": [
            "O AIQ da lista 1 é: 3.0\n",
            "O AIQ da lista 2 é: 5.0\n"
          ]
        }
      ]
    },
    {
      "cell_type": "markdown",
      "source": [
        "## **Limite inferior (LI do boxplot)**"
      ],
      "metadata": {
        "id": "N4cqrOyanKme"
      }
    },
    {
      "cell_type": "code",
      "source": [
        "# Limite Inferior (L.I.)\n",
        "\n",
        "if len(lista1_ord) % 2 == 0:\n",
        "    lim_inf1 = lista1_ord[q1_1] - 1.5 * aiq1\n",
        "    print(f'O limite inferior da lista 1 é: {lim_inf1}')\n",
        "else:\n",
        "    lim_inf1 = q1_1 - 1.5 * aiq1\n",
        "    print(f'O limite inferior da lista 1 é: {lim_inf1}')\n",
        "\n",
        "if len(lista2_ord) % 2 == 0:\n",
        "    lim_inf2 = lista2_ord[q1_2] - 1.5 * aiq2\n",
        "    print(f'O limite inferior da lista 2 é: {lim_inf2}')\n",
        "else:\n",
        "    lim_inf2 = q1_2 - 1.5 * aiq2\n",
        "    print(f'O limite inferior da lista 2 é: {lim_inf2}')\n"
      ],
      "metadata": {
        "colab": {
          "base_uri": "https://localhost:8080/"
        },
        "id": "QkxIgbj5nPL1",
        "outputId": "6cd738f7-4cf9-417a-a20b-7d447d479eaa"
      },
      "execution_count": null,
      "outputs": [
        {
          "output_type": "stream",
          "name": "stdout",
          "text": [
            "O limite inferior da lista 1 é: -3.0\n",
            "O limite inferior da lista 2 é: -6.0\n"
          ]
        }
      ]
    },
    {
      "cell_type": "markdown",
      "source": [
        "## **Limite superior (LS do boxplot)**"
      ],
      "metadata": {
        "id": "0q_P08pInSUR"
      }
    },
    {
      "cell_type": "code",
      "source": [
        "# Limite Superior (L.S.)\n",
        "\n",
        "if len(lista1_ord) % 2 == 0:\n",
        "    lim_sup1 = lista1_ord[q3_1] + 1.5 * aiq1\n",
        "    print(f'O limite superior da lista 1 é: {lim_sup1}')\n",
        "else:\n",
        "    lim_sup1 = q3_1 + 1.5 * aiq1\n",
        "    print(f'O limite superior da lista 1 é: {lim_sup1}')\n",
        "\n",
        "if len(lista2_ord) % 2 == 0:\n",
        "    lim_sup2 = lista2_ord[q3_2] +1.5 * aiq2\n",
        "    print(f'O limite superior da lista 2 é: {lim_sup2}')\n",
        "else:\n",
        "    lim_sup2 = q3_2 + 1.5 * aiq2\n",
        "    print(f'O limite superior da lista 2 é: {lim_sup2}')"
      ],
      "metadata": {
        "colab": {
          "base_uri": "https://localhost:8080/"
        },
        "id": "pR2swGewnYXl",
        "outputId": "953b5bff-e0c3-47a2-9b79-a91f92c408e3"
      },
      "execution_count": null,
      "outputs": [
        {
          "output_type": "stream",
          "name": "stdout",
          "text": [
            "O limite superior da lista 1 é: 9.0\n",
            "O limite superior da lista 2 é: 14.0\n"
          ]
        }
      ]
    },
    {
      "cell_type": "markdown",
      "source": [
        "## **Identificação e classificação de possíveis outliers na amostra**"
      ],
      "metadata": {
        "id": "zRxOMMErnePH"
      }
    },
    {
      "cell_type": "code",
      "source": [
        "# Outliers\n",
        "\n",
        "lista_out_sup1 = []\n",
        "lista_out_inf1 = []\n",
        "\n",
        "\n",
        "for out1 in lista1_ord:\n",
        "    if out1 > lim_sup1 and out1 not in lista_out_sup1:\n",
        "        lista_out_sup1.append(out1)\n",
        "    if out1 < lim_inf1 and out1 not in lista_out_inf1:\n",
        "        lista_out_inf1.append(out1)\n",
        "\n",
        "\n",
        "if len(lista_out_sup1) > 1:\n",
        "    print(f'Os outliers superiores da lista 1 são: {lista_out_sup1}')\n",
        "elif len(lista_out_sup1) == 1:\n",
        "    print(f'O outlier superior da lista 1 é: {lista_out_sup1}')\n",
        "else:\n",
        "    print('A lista 1 não possui outlier superior.')\n",
        "\n",
        "if len(lista_out_inf1) > 1:\n",
        "    print(f'Os outliers inferiores da lista 1 são: {lista_out_inf1}')\n",
        "elif len(lista_out_inf1) == 1:\n",
        "    print(f'O outlier inferior da lista 1 é: {lista_out_inf1}')\n",
        "else:\n",
        "    print('A lista 1 não possui outlier inferior.')\n",
        "\n",
        "\n",
        "lista_out_sup2 = []\n",
        "lista_out_inf2 = []\n",
        "\n",
        "\n",
        "for out2 in lista2_ord:\n",
        "    if out2 > lim_sup2 and out2 not in lista_out_sup2:\n",
        "        lista_out_sup2.append(out2)\n",
        "    if out2 < lim_inf2 and out2 not in lista_out_inf2:\n",
        "        lista_out_inf2.append(out2)\n",
        "\n",
        "\n",
        "if len(lista_out_sup2) > 1:\n",
        "    print(f'Os outliers superiores da lista 2 são: {lista_out_sup2}')\n",
        "elif len(lista_out_sup2) == 1:\n",
        "    print(f'O outlier superior da lista 2 é: {lista_out_sup2}')\n",
        "else:\n",
        "    print('A lista 2 não possui outlier superior.')\n",
        "\n",
        "if len(lista_out_inf2) > 1:\n",
        "    print(f'Os outliers inferiores da lista 2 são: {lista_out_inf2}')\n",
        "elif len(lista_out_inf2) == 1:\n",
        "    print(f'O outlier inferior da lista 2 é: {lista_out_inf2}')\n",
        "else:\n",
        "    print('A lista 2 não possui outlier inferior.')"
      ],
      "metadata": {
        "colab": {
          "base_uri": "https://localhost:8080/"
        },
        "id": "lsZqJ9Thnik1",
        "outputId": "ed464a2c-d2fc-47e3-821c-931c7f14787c"
      },
      "execution_count": null,
      "outputs": [
        {
          "output_type": "stream",
          "name": "stdout",
          "text": [
            "A lista 1 não possui outlier superior.\n",
            "A lista 1 não possui outlier inferior.\n",
            "A lista 2 não possui outlier superior.\n",
            "A lista 2 não possui outlier inferior.\n"
          ]
        }
      ]
    },
    {
      "cell_type": "markdown",
      "source": [
        "## **Coeficiente de Correlação de Pearson ( r )**"
      ],
      "metadata": {
        "id": "lt4100v2nsgf"
      }
    },
    {
      "cell_type": "code",
      "source": [
        "# Coeficiente de correlação de Pearson(r)\n",
        "\n",
        "if len(lista1_ord) == len(lista2_ord):\n",
        "    n = len(lista1_ord)\n",
        "\n",
        "    lista1_quad = []\n",
        "    lista2_quad = []\n",
        "    l1xl2 = []\n",
        "\n",
        "\n",
        "    for f2 in range(len(lista1_ord)):  # percorre cada elemento da lista\n",
        "        lista1_quad.append(lista1_ord[f2] ** 2)  # eleva ao quadrado cada elemento da lista 1\n",
        "        lista2_quad.append(lista2_ord[f2] ** 2)  # eleva ao quadrado cada elemento da lista 2\n",
        "        l1xl2.append(lista1_ord[f2] * lista2_ord[f2])  # multiplica cada elemento da lista 1 pelo respectivo elemento da lista 2\n",
        "\n",
        "\n",
        "    soma1 = sum(lista1_ord)\n",
        "    soma2 = sum(lista2_ord)\n",
        "    sum_l1_quad = sum(lista1_quad)\n",
        "    sum_l2_quad = sum(lista2_quad)\n",
        "    sum_l1l2 = sum(l1xl2)\n",
        "\n",
        "    coef1 = (sum_l1l2 - ((soma1 * soma2) / n))/ ((sum_l1_quad - ((soma1 ** 2)/n)) * (sum_l2_quad - ((soma2** 2)/n))) ** 0.5\n",
        "\n",
        "    print(f'O coeficiente de Pearson(r) é: {coef1:.2f}')\n",
        "\n",
        "else:\n",
        "    print('As listas contém quantidades diferentes de números! Não é possível fazer a correlação de pearson entre elas.')\n"
      ],
      "metadata": {
        "colab": {
          "base_uri": "https://localhost:8080/"
        },
        "id": "JnP32djfn0JF",
        "outputId": "531328e3-efb3-4d78-f7dd-b3c8c0a0a8f9"
      },
      "execution_count": null,
      "outputs": [
        {
          "output_type": "stream",
          "name": "stdout",
          "text": [
            "O coeficiente de Pearson(r) é: 0.98\n"
          ]
        }
      ]
    },
    {
      "cell_type": "markdown",
      "source": [
        "## **Coeficiente de determinação ( r ao quadrado)**"
      ],
      "metadata": {
        "id": "hQ9odI1goKYc"
      }
    },
    {
      "cell_type": "code",
      "source": [
        "# Coeficiente de determinação ( r ao quadrado)\n",
        "\n",
        "if len(lista1_ord) == len(lista2_ord):\n",
        "    coef_det = coef1 ** 2\n",
        "    print(f'O Coeficiente de determinação é: {coef_det:.2f}')\n",
        "else:\n",
        "    print(f'As listas contém quantidades diferentes de números! Não é possível fazer a correlação de determinação entre elas.')\n"
      ],
      "metadata": {
        "colab": {
          "base_uri": "https://localhost:8080/"
        },
        "id": "V9DGrKoLoTTt",
        "outputId": "f7e36f41-5c11-4ff3-86e9-dd56ac27f280"
      },
      "execution_count": null,
      "outputs": [
        {
          "output_type": "stream",
          "name": "stdout",
          "text": [
            "O Coeficiente de determinação é: 0.96\n"
          ]
        }
      ]
    },
    {
      "cell_type": "markdown",
      "source": [
        "## **Coeficiente b ou beta da equação de regressão linear simples para as duas variáveis escolhidas pelo usuário**"
      ],
      "metadata": {
        "id": "uzKdfEiYoZiY"
      }
    },
    {
      "cell_type": "code",
      "source": [
        "# Coeficiente beta\n",
        "\n",
        "if len(lista1_ord) == len(lista2_ord):\n",
        "    beta = (sum_l1l2 - ((soma1 * soma2) / n)) / (sum_l1_quad - ((soma1 ** 2)/n))\n",
        "    print(f'O coeficiente beta é: {beta:.2f}')\n",
        "else:\n",
        "    print('As listas possuem tamanhos diferentes, não é possível calcular o coeficiente beta.')"
      ],
      "metadata": {
        "colab": {
          "base_uri": "https://localhost:8080/"
        },
        "id": "6NiSw-84oc_9",
        "outputId": "95d5c319-fbaf-4656-a102-01d1887c1a00"
      },
      "execution_count": null,
      "outputs": [
        {
          "output_type": "stream",
          "name": "stdout",
          "text": [
            "O coeficiente beta é: 1.70\n"
          ]
        }
      ]
    },
    {
      "cell_type": "markdown",
      "source": [
        "## **Coeficiente a ou alpha da equação de regressão linear simples para as duas variáveis escolhidas pelo usuário**"
      ],
      "metadata": {
        "id": "t-Enp7Zjodsb"
      }
    },
    {
      "cell_type": "code",
      "source": [
        "# Coeficiente alpha\n",
        "\n",
        "if len(lista1_ord) == len(lista2_ord):\n",
        "    alpha = (soma2 / n) - (soma1 / n) * beta\n",
        "    print(f'O coeficiente alpha é: {alpha:.2f}')\n",
        "else:\n",
        "    print('As listas possuem tamanhos diferentes, não é possível calcular o coeficiente alpha.')\n"
      ],
      "metadata": {
        "colab": {
          "base_uri": "https://localhost:8080/"
        },
        "id": "WJrp0Lbgohlt",
        "outputId": "56f1605a-1ea6-45bf-e234-23b005309956"
      },
      "execution_count": null,
      "outputs": [
        {
          "output_type": "stream",
          "name": "stdout",
          "text": [
            "O coeficiente alpha é: -1.10\n"
          ]
        }
      ]
    }
  ]
}