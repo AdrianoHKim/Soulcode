{
  "nbformat": 4,
  "nbformat_minor": 0,
  "metadata": {
    "colab": {
      "provenance": [],
      "authorship_tag": "ABX9TyMEyBlD0/BiXnkByWxs8hvc",
      "include_colab_link": true
    },
    "kernelspec": {
      "name": "python3",
      "display_name": "Python 3"
    },
    "language_info": {
      "name": "python"
    }
  },
  "cells": [
    {
      "cell_type": "markdown",
      "metadata": {
        "id": "view-in-github",
        "colab_type": "text"
      },
      "source": [
        "<a href=\"https://colab.research.google.com/github/AdrianoHKim/Soulcode/blob/main/atividade02_python.ipynb\" target=\"_parent\"><img src=\"https://colab.research.google.com/assets/colab-badge.svg\" alt=\"Open In Colab\"/></a>"
      ]
    },
    {
      "cell_type": "markdown",
      "source": [
        "FUNDAMENTOS DE PYTHON\n",
        "Prof. Douglas e Prof. Franciane\n",
        "\n",
        "* 1 - Crie um script que receba do usuário uma lista de n números inteiros digitados pelo\n",
        "usuário na mesma caixa de entrada separados por espaços e após isso utilize o método\n",
        "split para separar esses números e armazená-los em uma lista acesse o índice 0 dessa\n",
        "nova lista e verifique seu tipo e caso seja o tipo inteiro imprima para o usuário a seguinte\n",
        "mensagem: este valor é do tipo inteiro, caso contrário imprima: este valor não é do tipo\n",
        "inteiro.\n",
        "\n",
        "* 2 - Crie um script que aproveite a lista utilizada para imprimir a mensagem do exercício\n",
        "anterior e utilize uma estrutura for que percorra toda a lista e faça a tipagem de cada\n",
        "valor como inteiro, após isso acesse o índice 0 dessa nova lista e verifique seu tipo e\n",
        "caso seja o tipo inteiro imprima para o usuário a seguinte mensagem: este valor é do\n",
        "tipo inteiro, caso contrário imprima: este valor não é do tipo inteiro.\n",
        "\n",
        "* 3 - Utilizando a lista tipada como int do exercício 2, faça um print que exiba a soma de\n",
        "todos os valores dessa lista.\n",
        "\n",
        "* 4 - Crie uma lista vazia denominada quadrados e utilizando a lista tipada como int do\n",
        "exercício 2, faça uma estrutura do tipo for que percorra cada elemento dessa lista de\n",
        "números inteiros, eleve cada valor encontrado ao quadrado e insira cada resultado na\n",
        "lista quadrados e ao final exiba a soma dos valores da lista quadrados.\n",
        "\n",
        "* 5 - Crie um programa que receba do usuário duas listas de n números inteiros digitados\n",
        "pelo usuário separados por espaços e após isso utilize o método split para dividir cada\n",
        "lista gerando duas novas listas chamadas x e y é importante deixar claro para o usuário\n",
        "que as duas listas digitadas devem ter a mesma quantidade de números digitados\n",
        "independente de quantos sejam. Após isso, faça a tipagem de todos os números das\n",
        "duas listas como float, então crie três novas listas vazias: xquad, yquad e xy. Agora\n",
        "preencha a lista xquad com cada elemento da lista x elevado ao quadrado, depois faça\n",
        "o mesmo para yquad, elevando cada elemento de y ao quadrado e por último preencha\n",
        "a lista xy fazendo a multiplicação de cada valor da lista x pelo seu correspondente na\n",
        "lista y. No final crie a variável sx que recebe a soma dos valores da lista x, a variável sy\n",
        "que recebe a soma dos valores da lista y, a variável sxquad, que recebe a soma da lista\n",
        "xquad, a variável syquad que recebe a soma da lista de yquad e a variável sxy que\n",
        "recebe a soma da lista de xy e no final imprima todas as variáveis de soma criadas."
      ],
      "metadata": {
        "id": "egpPbWWQ-XFe"
      }
    },
    {
      "cell_type": "code",
      "source": [
        "\"\"\"\n",
        "1 - Crie um script que receba do usuário uma lista de n números inteiros digitados pelo\n",
        "usuário na mesma caixa de entrada separados por espaços e após isso utilize o método\n",
        "split para separar esses números e armazená-los em uma lista acesse o índice 0 dessa\n",
        "nova lista e verifique seu tipo e caso seja o tipo inteiro imprima para o usuário a seguinte\n",
        "mensagem: este valor é do tipo inteiro, caso contrário imprima: este valor não é do tipo\n",
        "inteiro.\n",
        "\"\"\"\n",
        "\n",
        "\n",
        "numeros = input('Digite os números inteiros, separando cada um com espaço: ')  # coleta os valores\n",
        "\n",
        "lista_num = numeros.split()  # separa os números por espaços e coloca cada um deles na lista_num\n",
        "\n",
        "if type(lista_num[0]) == int:  # primeira condicional, compara se o primeiro elemento da lista é do tipo int\n",
        "    print(f'Este valor {lista_num[0]} é do tipo inteiro.')\n",
        "else:  # segunda e última condicional possível\n",
        "    print(f'Este valor {lista_num[0]} não é do tipo inteiro.')\n"
      ],
      "metadata": {
        "colab": {
          "base_uri": "https://localhost:8080/"
        },
        "id": "mDTG0YdS-YVT",
        "outputId": "b462f990-d1fd-4e5a-c26a-bdf746dd4699"
      },
      "execution_count": 1,
      "outputs": [
        {
          "output_type": "stream",
          "name": "stdout",
          "text": [
            "Digite os números inteiros, separando cada um com espaço: 2 2\n",
            "Este valor 2 não é do tipo inteiro.\n"
          ]
        }
      ]
    },
    {
      "cell_type": "code",
      "source": [
        "\"\"\"\n",
        "2 - Crie um script que aproveite a lista utilizada para imprimir a mensagem do exercício\n",
        "anterior e utilize uma estrutura for que percorra toda a lista e faça a tipagem de cada\n",
        "valor como inteiro, após isso acesse o índice 0 dessa nova lista e verifique seu tipo e\n",
        "caso seja o tipo inteiro imprima para o usuário a seguinte mensagem: este valor é do\n",
        "tipo inteiro, caso contrário imprima: este valor não é do tipo inteiro.\n",
        "\"\"\"\n",
        "\n",
        "\n",
        "numeros = input('Digite os números inteiros, separando cada um com espaço: ')  # coleta os valores\n",
        "\n",
        "lista_num = numeros.split()  # separa os números por espaços e coloca cada um deles na lista_num\n",
        "\n",
        "for c in range(len(lista_num)):  # transforma cada elemento da lista de str para int\n",
        "    lista_num[c] = int(lista_num[c])\n",
        "\n",
        "if type(lista_num[0]) == int:  # compara se o primeiro elemento da lista é do tipo inteiro\n",
        "    print(f'O valor {lista_num[0]} foi transformado para o tipo inteiro.')\n",
        "\n",
        "else:  # segunda e última condicional possível\n",
        "    print(f'Este valor {lista_num[0]} não é do tipo inteiro.')\n"
      ],
      "metadata": {
        "colab": {
          "base_uri": "https://localhost:8080/"
        },
        "id": "k5AsFZWuHSLz",
        "outputId": "716d647f-9acd-465e-a02f-cc31b2977c6a"
      },
      "execution_count": 9,
      "outputs": [
        {
          "output_type": "stream",
          "name": "stdout",
          "text": [
            "Digite os números inteiros, separando cada um com espaço: 2 6 8\n",
            "Este valor 2 foi transformado para o tipo inteiro.\n"
          ]
        }
      ]
    },
    {
      "cell_type": "code",
      "source": [
        "\"\"\"\n",
        "3 - Utilizando a lista tipada como int do exercício 2, faça um print que exiba\n",
        "a soma de todos os valores dessa lista.\n",
        "\"\"\"\n",
        "\n",
        "\n",
        "numeros = input('Digite os números inteiros, separando cada um com espaço: ')  # coleta os valores\n",
        "\n",
        "lista_num = numeros.split()  # separa os números por espaços e coloca cada um deles na lista_num\n",
        "\n",
        "for c in range(len(lista_num)):  # transforma cada elemento da lista de str para int\n",
        "    lista_num[c] = int(lista_num[c])\n",
        "\n",
        "\n",
        "print(f'A soma dos valores da lista é: {sum(lista_num)}')  # Mostra a soma dos elementos da lista\n"
      ],
      "metadata": {
        "colab": {
          "base_uri": "https://localhost:8080/"
        },
        "id": "ZY_wwpdJN2V2",
        "outputId": "72fe5b8a-cf66-402c-d7e6-89baf3e5bdf8"
      },
      "execution_count": 10,
      "outputs": [
        {
          "output_type": "stream",
          "name": "stdout",
          "text": [
            "Digite os números inteiros, separando cada um com espaço: 2 6 8\n",
            "A soma dos valores da lista é: 16\n"
          ]
        }
      ]
    },
    {
      "cell_type": "code",
      "source": [
        "\"\"\"\n",
        "4 - Crie uma lista vazia denominada quadrados e utilizando a lista tipada como\n",
        "int do exercício 2, faça uma estrutura do tipo for que percorra cada elemento\n",
        "dessa lista de números inteiros, eleve cada valor encontrado ao quadrado e\n",
        "insira cada resultado na lista quadrados e ao final exiba a soma dos\n",
        "valores da lista quadrados.\n",
        "\"\"\"\n",
        "\n",
        "\n",
        "numeros = input('Digite os números inteiros, separando cada um com espaço: ')  # coleta os valores\n",
        "\n",
        "lista_num = numeros.split()  # separa os números por espaços e coloca cada um deles na lista_num\n",
        "\n",
        "for c in range(len(lista_num)):  # transforma cada elemento da lista de str para int\n",
        "    lista_num[c] = int(lista_num[c])\n",
        "\n",
        "\n",
        "quadrados = []  # lista vazia criada\n",
        "\n",
        "for ele1 in lista_num:  # percorre cada elemento da lista_num\n",
        "    ele1 = ele1 ** 2  # eleva ao quadrado cada elemento da lista_num\n",
        "    quadrados.append(ele1)  # adiciona esse novo valor à lista quadrados\n",
        "\n",
        "print(f'A soma dos valores da lista quadrados é: {sum(quadrados)}')  # mostra a soma dos elementos da lista quadrados\n"
      ],
      "metadata": {
        "colab": {
          "base_uri": "https://localhost:8080/"
        },
        "id": "Kt13ebURT8DO",
        "outputId": "ad961efa-ea0a-4e99-a162-b90c809b8dad"
      },
      "execution_count": 11,
      "outputs": [
        {
          "output_type": "stream",
          "name": "stdout",
          "text": [
            "Digite os números inteiros, separando cada um com espaço: 2 2 4\n",
            "A soma dos valores da lista quadrados é: 24\n"
          ]
        }
      ]
    },
    {
      "cell_type": "code",
      "source": [
        "\"\"\"\n",
        "5 - Crie um programa que receba do usuário duas listas de n números inteiros digitados\n",
        "pelo usuário separados por espaços e após isso utilize o método split para dividir cada\n",
        "lista gerando duas novas listas chamadas x e y é importante deixar claro para o usuário\n",
        "que as duas listas digitadas devem ter a mesma quantidade de números digitados\n",
        "independente de quantos sejam. Após isso, faça a tipagem de todos os números das\n",
        "duas listas como float, então crie três novas listas vazias: xquad, yquad e xy. Agora\n",
        "preencha a lista xquad com cada elemento da lista x elevado ao quadrado, depois faça\n",
        "o mesmo para yquad, elevando cada elemento de y ao quadrado e por último preencha\n",
        "a lista xy fazendo a multiplicação de cada valor da lista x pelo seu correspondente na\n",
        "lista y. No final crie a variável sx que recebe a soma dos valores da lista x, a variável sy\n",
        "que recebe a soma dos valores da lista y, a variável sxquad, que recebe a soma da lista\n",
        "xquad, a variável syquad que recebe a soma da lista de yquad e a variável sxy que\n",
        "recebe a soma da lista de xy e no final imprima todas as variáveis de soma criadas.\n",
        "\"\"\"\n",
        "\n",
        "\n",
        "numeros2 = input('Digite a primeira lista de números inteiros, separando cada um com espaço: ')  # recebe a primeira lista\n",
        "numeros3 = input('Digite a segunda lista de números inteiros, separando cada um com espaço.\\nATENÇÃO! DEVE CONTER A MESMA QUANTIDADE DE NÚMEROS DA PRIMEIRA LISTA!: ')\n",
        "\n",
        "x = numeros2.split()  # cria a lista x e coloca apenas os numeros, sem os espaços\n",
        "y = numeros3.split()  # cria a lista y e coloca apenas os numeros, sem os espaços\n",
        "\n",
        "if len(x) == len(y):  # compara se as duas listas tem a mesma quantidade de números e prossegue com o programa\n",
        "    for f1 in range(len(x)):  # percorre cada elemento da lista x\n",
        "        x[f1] = float(x[f1])  # transforma cada elemento da lista x de str para float\n",
        "        y[f1] = float(y[f1])  # transforma cada elemento da lista y de str para float\n",
        "\n",
        "    xquad = []  # lista vazia criada\n",
        "    yquad = []  # lista vazia criada\n",
        "    xy = []  # lista vazia criada\n",
        "\n",
        "    for f2 in range(len(x)):  # percorre cada elemento da lista x\n",
        "        xquad.append(x[f2] ** 2)  # eleva ao quadrado cada elemento da lista x\n",
        "        yquad.append(y[f2] ** 2)  # eleva ao quadrado cada elemento da lista y\n",
        "        xy.append(x[f2] * y[f2])  # multiplica cada elemento da lista x pelo respectivo elemento da lista y\n",
        "\n",
        "    # variáveis criadas (requisitos do exercício)\n",
        "    sx = sum(x)\n",
        "    sy = sum(y)\n",
        "    sxquad = sum(xquad)\n",
        "    syquad = sum(yquad)\n",
        "    sxy = sum(xy)\n",
        "\n",
        "    print(f'Os resultados das variáveis são:\\nA soma dos valores de x é: {sx}\\nA soma dos valores de y é: {sy}\\nA soma dos valores de xquad é: {sxquad}\\nA soma dos valores de yquad é: {syquad}\\nA soma dos valores de xy é: {sxy}')  # retorna os resultados\n",
        "\n",
        "else:\n",
        "    print('As listas contém quantidades diferentes de números! Reinicie o programa e tente novamente.')\n"
      ],
      "metadata": {
        "colab": {
          "base_uri": "https://localhost:8080/"
        },
        "id": "qNtwerG_U15W",
        "outputId": "8dac7afa-cdd4-4273-ecf0-5c14417e9a7f"
      },
      "execution_count": 19,
      "outputs": [
        {
          "output_type": "stream",
          "name": "stdout",
          "text": [
            "Digite a primeira lista de números inteiros, separando cada um com espaço: 2 2\n",
            "Digite a segunda lista de números inteiros, separando cada um com espaço.\n",
            "ATENÇÃO! DEVE CONTER A MESMA QUANTIDADE DE NÚMEROS DA PRIMEIRA LISTA!: 2 2\n",
            "Os resultados das variáveis são:\n",
            "A soma dos valores de x é: 4.0\n",
            "A soma dos valores de y é: 4.0\n",
            "A soma dos valores de xquad é: 8.0\n",
            "A soma dos valores de yquad é: 8.0\n",
            "A soma dos valores de xy é: 8.0\n"
          ]
        }
      ]
    }
  ]
}