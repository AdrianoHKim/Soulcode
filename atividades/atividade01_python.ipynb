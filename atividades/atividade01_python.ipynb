{
  "nbformat": 4,
  "nbformat_minor": 0,
  "metadata": {
    "colab": {
      "provenance": [],
      "authorship_tag": "ABX9TyMZlTkMNsvt4pX/+Vk0dDTI",
      "include_colab_link": true
    },
    "kernelspec": {
      "name": "python3",
      "display_name": "Python 3"
    },
    "language_info": {
      "name": "python"
    }
  },
  "cells": [
    {
      "cell_type": "markdown",
      "metadata": {
        "id": "view-in-github",
        "colab_type": "text"
      },
      "source": [
        "<a href=\"https://colab.research.google.com/github/AdrianoHKim/Soulcode/blob/main/atividade01_python.ipynb\" target=\"_parent\"><img src=\"https://colab.research.google.com/assets/colab-badge.svg\" alt=\"Open In Colab\"/></a>"
      ]
    },
    {
      "cell_type": "markdown",
      "source": [
        "Atividade disponibilizada pela profa. Franciane Rodrigues durante a aula sobre fundamentos de python do bootcamp da SoulCode.\n",
        "\n",
        "Exercícios:\n",
        "1. Faça um algoritmo que leia um número inteiro e diga se ele é maior, menor ou igual a 10;\n",
        "2. Faça um algoritmo que leia dois números inteiros e apresente na tela o maior deles ou se eles são iguais;\n",
        "3. Crie um algoritmo que leia um número e diga se ele está no intervalo fechado entre 25 e 200;\n",
        "4. Crie um algoritmo que leia um número e informe na tela se o mesmo é positivo. Caso seja, mostre o número na tela;\n",
        "5. Crie um algoritmo que leia um número e informe se ele é divisível por 7.\n",
        "6. Crie um algoritmo que leia um número e diga se ele é par ou ímpar.\n",
        "7. Escreva um programa em Python que solicite ao usuário que digite uma letra. Em seguida, verifique se a letra digitada é uma vogal ou não.\n",
        "8. Escreva um programa que solicite ao usuário três notas de um aluno e calcule a média. Em seguida, exiba a média e uma mensagem informando se o aluno foi aprovado (média maior ou igual a 7) ou reprovado.\n",
        "9. Escreva um programa que solicite ao usuário os comprimentos dos três lados de um triângulo. Em seguida, exiba uma mensagem informando se o triângulo é equilátero (todos os lados iguais), isósceles (dois lados iguais) ou escaleno (todos os lados diferentes).\n",
        "10.  Escreva um programa que solicite ao usuário sua idade e exiba uma mensagem informando em qual faixa etária ele se encontra: criança (0-12 anos), adolescente (13-17 anos), adulto (18-59 anos) ou idoso (60 anos ou mais).\n"
      ],
      "metadata": {
        "id": "8666icCm-u_h"
      }
    },
    {
      "cell_type": "code",
      "source": [
        "\"\"\"\n",
        "EX. 01\n",
        "Faça um algoritmo que leia um número inteiro e diga se ele é maior, menor ou igual a 10;\n",
        "\"\"\"\n",
        "\n",
        "numero = int(input('Digite um número inteiro: '))  # recebe e guarda o dado em tipo int\n",
        "\n",
        "if numero == 10:  # Primeira condicional, verifica se  o número é igual a 10\n",
        "    print(f'O número {numero} é igual a 10.')\n",
        "elif numero > 10:  # Segunda condicional, verifica se o número é maior que 10\n",
        "    print(f'O número {numero} é maior que 10.')\n",
        "else:  # última condicional possível restante, se o número é menor que 10\n",
        "    print(f'O número {numero} é menor que 10.')\n"
      ],
      "metadata": {
        "id": "OAt8Iwks_EfC"
      },
      "execution_count": null,
      "outputs": []
    },
    {
      "cell_type": "code",
      "source": [
        "\"\"\"\n",
        "EX. 02\n",
        "Faça um algoritmo que leia dois números inteiros e apresente na tela o maior deles ou se eles são iguais;\n",
        "\"\"\"\n",
        "\n",
        "num1 = int(input('Informe um número inteiro: '))  # recebe e guarda o dado em tipo int\n",
        "num2 = int(input('Informe outro número inteiro: '))  # recebe e guarda o dado em tipo int\n",
        "\n",
        "if num1 == num2:  # Primeira condicional, verifica se  o num1 é igual ao num2\n",
        "    print(f'Os números {num1} e {num2} são iguais.')\n",
        "elif num1 > num2:  # Segunda condicional, verifica se  o num1 é maior ao num2\n",
        "    print(f'O maior número informado é: {num1}.')\n",
        "else:  # terceira condicional, retorna a última condicional possível.\n",
        "    print(f'O maior número informado é: {num2}.')\n"
      ],
      "metadata": {
        "id": "-hdrtsq6_67Z"
      },
      "execution_count": null,
      "outputs": []
    },
    {
      "cell_type": "code",
      "source": [
        "\"\"\"\n",
        "EX. 03\n",
        "Crie um algoritmo que leia um número e diga se ele está no intervalo fechado entre 25 e 200;\n",
        "\"\"\"\n",
        "\n",
        "num3 = float(input('Digite um número: '))  # recebe e guarda o dado em tipo float\n",
        "\n",
        "if 25 <= num3 <=200:  # verifica se o numero está no intervalo de 25 a 200\n",
        "    print(f'O número {num3} está no intervalo de 25 a 200.')\n",
        "else:\n",
        "    print(f'O número {num3} não se encontra no intervalo de 25 a 200.')\n",
        "\n",
        "# poderia colocar pass no else, caso não queira colocar um argumento/print\n"
      ],
      "metadata": {
        "id": "6JkFr5R0APm7"
      },
      "execution_count": null,
      "outputs": []
    },
    {
      "cell_type": "code",
      "source": [
        "\"\"\"\n",
        "EX. 04\n",
        "Crie um algoritmo que leia um número e informe na tela se o mesmo é positivo. Caso seja, mostre o número na tela;\n",
        "\"\"\"\n",
        "\n",
        "num4 = float(input('Digite um número: '))  # recebe e guarda o dado em tipo float\n",
        "\n",
        "if num4 >= 0:  # Primeira condicional, verifica se  o num4 é maior ou igual a 0\n",
        "    print(f'O número {num4} é positivo.')\n",
        "else:\n",
        "    print(f'O número {num4} é negativo.')\n",
        "\n",
        "# poderia colocar pass no else, caso não queira colocar um argumento/print\n"
      ],
      "metadata": {
        "id": "j4CFcahxA57t"
      },
      "execution_count": null,
      "outputs": []
    },
    {
      "cell_type": "code",
      "source": [
        "\"\"\"\n",
        "EX. 05\n",
        "Crie um algoritmo que leia um número e informe se ele é divisível por 7.\n",
        "\"\"\"\n",
        "\n",
        "num5 = float(input('Digite um número: '))  # Coleta e guarda o valor informado\n",
        "\n",
        "if (num5 % 7) == 0:  # Primeira condicional, verifica se o resto do num5/7 é 0\n",
        "    print('O número informado é divisível por 7.')\n",
        "\n",
        "else:\n",
        "    print(f'O número {num5} não é divisível por 7.')"
      ],
      "metadata": {
        "id": "0My0i_zABcyW"
      },
      "execution_count": null,
      "outputs": []
    },
    {
      "cell_type": "code",
      "source": [
        "\"\"\"\n",
        "EX. 06\n",
        "Crie um algoritmo que leia um número e diga se ele é par ou ímpar.\n",
        "\"\"\"\n",
        "\n",
        "num6 = float(input('Digite um número: '))  # Coleta e guarda o valor informado\n",
        "\n",
        "if num6 % 2 == 0 and num6 != 0:  # Primeira condicional, verifica se o num6 é um numero par, checando se existe resto na divisão do num6 por 2\n",
        "    print(f'O número {num6} é par.')\n",
        "elif num6 % 2 != 0 and num6 != 0:\n",
        "    print(f'O número {num6} é impar')\n",
        "else:\n",
        "    pass\n"
      ],
      "metadata": {
        "id": "EWMLr0fMFfu7"
      },
      "execution_count": null,
      "outputs": []
    },
    {
      "cell_type": "code",
      "source": [
        "\"\"\"\n",
        "EX. 07\n",
        "Escreva um programa em Python que solicite ao usuário que digite uma letra.\n",
        "Em seguida, verifique se a letra digitada é uma vogal ou não.\n",
        "\"\"\"\n",
        "\n",
        "vogal = 'a e i o u'.split()  # string com as vogais para ser usado na comparação em uma condicional\n",
        "\n",
        "letra = str(input('Digite uma letra: ')).casefold()  # Coleta e guarda o valor informado forçando a letra para lower case\n",
        "\n",
        "if letra in vogal:  # Verifica se a letra se encontra na lista de vogais\n",
        "    print(f'A letra {letra} é uma vogal.')\n",
        "else:  # Retorna a unica condicional restante possível.\n",
        "    print(f'A letra {letra} é uma consoante.')\n"
      ],
      "metadata": {
        "id": "sBZ9KMrfKZak"
      },
      "execution_count": null,
      "outputs": []
    },
    {
      "cell_type": "code",
      "source": [
        "\"\"\"\n",
        "EX. 08\n",
        "Escreva um programa que solicite ao usuário três notas de um aluno e calcule\n",
        "a média. Em seguida, exiba a média e uma mensagem informando se o aluno foi\n",
        "aprovado (média maior ou igual a 7) ou reprovado.\n",
        "\"\"\"\n",
        "\n",
        "nota1 = float(input('Informe a primeira nota: '))  # Coleta e guarda o valor informado\n",
        "nota2 = float(input('Informe a segunda nota: '))  # Coleta e guarda o valor informado\n",
        "nota3 = float(input('Informe a terceira nota: '))  # Coleta e guarda o valor informado\n",
        "\n",
        "media = (nota1 + nota2 + nota3) / 3  # Calcula a média das 3 notas\n",
        "\n",
        "if media >= 7:  # primeira condicional que verifica se a média é maior ou igual a 7\n",
        "    print(f'A média do aluno é {media:.2f}, ele foi aprovado.')\n",
        "else:  # Retorna a única condicional restante possível.\n",
        "    print(f'A média do aluno é {media:.2f}, ele foi reprovado.')\n"
      ],
      "metadata": {
        "id": "KFPKn5uRKw1E"
      },
      "execution_count": null,
      "outputs": []
    },
    {
      "cell_type": "code",
      "source": [
        "\"\"\"\n",
        "EX. 09\n",
        "Escreva um programa que solicite ao usuário os comprimentos dos três lados de\n",
        "um triângulo. Em seguida, exiba uma mensagem informando se o triângulo é\n",
        "equilátero (todos os lados iguais), isósceles (dois lados iguais)\n",
        "ou escaleno (todos os lados diferentes).\n",
        "\"\"\"\n",
        "\n",
        "lado1 = float(input('Digite o comprimento do primeiro lado em cm:'))  # Coleta e guarda o valor informado\n",
        "lado2 = float(input('Digite o comprimento do segundo lado em cm:'))  # Coleta e guarda o valor informado\n",
        "lado3 = float(input('Digite o comprimento do terceiro lado em cm:'))  # Coleta e guarda o valor informado\n",
        "\n",
        "tri = False\n",
        "\n",
        "if lado1 < (lado2 + lado3) and lado2 < (lado1 + lado3) and lado3 < (lado2 + lado1):  # primeira condicional, verifica se os lados formam um triangulo\n",
        "    tri = True\n",
        "\n",
        "if lado1 == lado2 == lado3 and tri == True:\n",
        "    print('O triângulo possui todos os lados iguais, portanto é equilátero.')\n",
        "\n",
        "elif lado1 == lado2 or lado3 == lado1 or lado3 == lado2 and tri == True:  # segunda condicional, verifica se existem 2 lados iguais\n",
        "    print('O triângulo possui dois lados iguais, portanto é isósceles.')  # terceira condicional, verifica se existem\n",
        "                                                                          # 3 lados diferentes\n",
        "elif lado1 != lado2 != lado3 and tri == True:\n",
        "    print('O triângulo possui os 3 lados diferentes, portanto é escaleno.')\n",
        "\n",
        "else:  # Retorna a única condicional restante possível.\n",
        "    print('Os lados informados não formam um triângulo.')"
      ],
      "metadata": {
        "id": "sZPCojIGLA4I"
      },
      "execution_count": null,
      "outputs": []
    },
    {
      "cell_type": "code",
      "source": [
        "\"\"\"\n",
        "EX. 10\n",
        "Escreva um programa que solicite ao usuário sua idade e exiba uma mensagem\n",
        "informando em qual faixa etária ele se encontra: criança (0-12 anos),\n",
        "adolescente (13-17 anos), adulto (18-59 anos) ou idoso (60 anos ou mais).\n",
        "\"\"\"\n",
        "\n",
        "idade = int(input('Digite sua idade em anos inteiros: '))  # Coleta e guarda o valor informado\n",
        "\n",
        "if 0 <= idade <= 12:  # primeira condicional, verifica se a idade se encontra na 1 faixa etária\n",
        "    print('Você é uma criança.')\n",
        "elif 13 <= idade <= 17: # segunda condicional, verifica se a idade se encontra na 2 faixa etária\n",
        "    print('Você é um aborrescente.')\n",
        "elif 18 <= idade <= 59: # terceira condicional, verifica se a idade se encontra na 3 faixa etária\n",
        "    print('Você é um adulto.')\n",
        "else: # Retorna a única condicional restante possível (4 faixa etária)\n",
        "    print('Você é um idoso.')\n"
      ],
      "metadata": {
        "id": "dCDXGKYeLXbt"
      },
      "execution_count": null,
      "outputs": []
    }
  ]
}