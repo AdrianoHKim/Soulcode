{
  "nbformat": 4,
  "nbformat_minor": 0,
  "metadata": {
    "colab": {
      "provenance": [],
      "authorship_tag": "ABX9TyOWmGTDHyY+OdLVdPgkX+r8",
      "include_colab_link": true
    },
    "kernelspec": {
      "name": "python3",
      "display_name": "Python 3"
    },
    "language_info": {
      "name": "python"
    }
  },
  "cells": [
    {
      "cell_type": "markdown",
      "metadata": {
        "id": "view-in-github",
        "colab_type": "text"
      },
      "source": [
        "<a href=\"https://colab.research.google.com/github/AdrianoHKim/Soulcode/blob/main/atividade02_python.ipynb\" target=\"_parent\"><img src=\"https://colab.research.google.com/assets/colab-badge.svg\" alt=\"Open In Colab\"/></a>"
      ]
    },
    {
      "cell_type": "markdown",
      "source": [
        "FUNDAMENTOS DE PYTHON\n",
        "Prof. Douglas e Prof. Franciane\n",
        "\n",
        "* 1 - Crie um script que receba do usuário uma lista de n números inteiros digitados pelo\n",
        "usuário na mesma caixa de entrada separados por espaços e após isso utilize o método\n",
        "split para separar esses números e armazená-los em uma lista acesse o índice 0 dessa\n",
        "nova lista e verifique seu tipo e caso seja o tipo inteiro imprima para o usuário a seguinte\n",
        "mensagem: este valor é do tipo inteiro, caso contrário imprima: este valor não é do tipo\n",
        "inteiro.\n",
        "\n",
        "* 2 - Crie um script que aproveite a lista utilizada para imprimir a mensagem do exercício\n",
        "anterior e utilize uma estrutura for que percorra toda a lista e faça a tipagem de cada\n",
        "valor como inteiro, após isso acesse o índice 0 dessa nova lista e verifique seu tipo e\n",
        "caso seja o tipo inteiro imprima para o usuário a seguinte mensagem: este valor é do\n",
        "tipo inteiro, caso contrário imprima: este valor não é do tipo inteiro.\n",
        "\n",
        "* 3 - Utilizando a lista tipada como int do exercício 2, faça um print que exiba a soma de\n",
        "todos os valores dessa lista.\n",
        "\n",
        "* 4 - Crie uma lista vazia denominada quadrados e utilizando a lista tipada como int do\n",
        "exercício 2, faça uma estrutura do tipo for que percorra cada elemento dessa lista de\n",
        "números inteiros, eleve cada valor encontrado ao quadrado e insira cada resultado na\n",
        "lista quadrados e ao final exiba a soma dos valores da lista quadrados.\n",
        "\n",
        "* 5 - Crie um programa que receba do usuário duas listas de n números inteiros digitados\n",
        "pelo usuário separados por espaços e após isso utilize o método split para dividir cada\n",
        "lista gerando duas novas listas chamadas x e y é importante deixar claro para o usuário\n",
        "que as duas listas digitadas devem ter a mesma quantidade de números digitados\n",
        "independente de quantos sejam. Após isso, faça a tipagem de todos os números das\n",
        "duas listas como float, então crie três novas listas vazias: xquad, yquad e xy. Agora\n",
        "preencha a lista xquad com cada elemento da lista x elevado ao quadrado, depois faça\n",
        "o mesmo para yquad, elevando cada elemento de y ao quadrado e por último preencha\n",
        "a lista xy fazendo a multiplicação de cada valor da lista x pelo seu correspondente na\n",
        "lista y. No final crie a variável sx que recebe a soma dos valores da lista x, a variável sy\n",
        "que recebe a soma dos valores da lista y, a variável sxquad, que recebe a soma da lista\n",
        "xquad, a variável syquad que recebe a soma da lista de yquad e a variável sxy que\n",
        "recebe a soma da lista de xy e no final imprima todas as variáveis de soma criadas."
      ],
      "metadata": {
        "id": "egpPbWWQ-XFe"
      }
    },
    {
      "cell_type": "code",
      "source": [
        "\"\"\"\n",
        "1 - Crie um script que receba do usuário uma lista de n números inteiros digitados pelo\n",
        "usuário na mesma caixa de entrada separados por espaços e após isso utilize o método\n",
        "split para separar esses números e armazená-los em uma lista acesse o índice 0 dessa\n",
        "nova lista e verifique seu tipo e caso seja o tipo inteiro imprima para o usuário a seguinte\n",
        "mensagem: este valor é do tipo inteiro, caso contrário imprima: este valor não é do tipo\n",
        "inteiro.\n",
        "\"\"\"\n",
        "\n",
        "\n",
        "lista_num = []  # lista vazia criada\n",
        "\n",
        "numeros = input('Digite os números inteiros, separando cada um com espaço: ')  # coleta os valores\n",
        "\n",
        "lista = numeros.split()  # separa os números por espaços\n",
        "\n",
        "for x in lista:\n",
        "    lista_num.append(x)  # adiciona os números separados por espaços na lista vazia\n",
        "\n",
        "if lista_num[0] == int:  # primeira condicional, compara se o primeiro elemento da lista é do tipo int\n",
        "    print(f'Este valor {lista_num[0]} é do tipo inteiro.')\n",
        "else:  # segunda e última condicional possível\n",
        "    print(f'Este valor {lista_num[0]} não é do tipo inteiro.')\n"
      ],
      "metadata": {
        "colab": {
          "base_uri": "https://localhost:8080/"
        },
        "id": "mDTG0YdS-YVT",
        "outputId": "c62ae197-1cdc-4c6d-da4f-c91e47f6260c"
      },
      "execution_count": 113,
      "outputs": [
        {
          "output_type": "stream",
          "name": "stdout",
          "text": [
            "Digite os números inteiros, separando cada um com espaço: 2 2\n",
            "Este valor 2 não é do tipo inteiro.\n"
          ]
        }
      ]
    },
    {
      "cell_type": "code",
      "source": [
        "\"\"\"\n",
        "2 - Crie um script que aproveite a lista utilizada para imprimir a mensagem do exercício\n",
        "anterior e utilize uma estrutura for que percorra toda a lista e faça a tipagem de cada\n",
        "valor como inteiro, após isso acesse o índice 0 dessa nova lista e verifique seu tipo e\n",
        "caso seja o tipo inteiro imprima para o usuário a seguinte mensagem: este valor é do\n",
        "tipo inteiro, caso contrário imprima: este valor não é do tipo inteiro.\n",
        "\"\"\"\n",
        "\n",
        "\n",
        "if lista_num[0] == int:  # primeira condicional, compara se o primeiro elemento da lista é do tipo int\n",
        "    print(f'Este valor {lista_num[0]} é do tipo inteiro.')\n",
        "else:  # segunda e última condicional possível\n",
        "    print(f'Este valor {lista_num[0]} não é do tipo inteiro.')\n",
        "\n",
        "for c in range(len(lista_num)):  # transforma cada elemento da lista de str para int\n",
        "    lista_num[c] = int(lista_num[c])\n",
        "\n",
        "if lista_num[0] == int(lista_num[0]):  # compara se o primeiro elemento da lista é do tipo inteiro\n",
        "    print(f'Este valor {lista_num[0]} foi transformado para o tipo inteiro.')\n",
        "\n",
        "else:  # segunda e última condicional possível\n",
        "    print(f'Este valor {lista_num[0]} não é do tipo inteiro.')\n"
      ],
      "metadata": {
        "colab": {
          "base_uri": "https://localhost:8080/"
        },
        "id": "k5AsFZWuHSLz",
        "outputId": "3ba66902-143d-4c29-dc1d-c31aacbf74f4"
      },
      "execution_count": 115,
      "outputs": [
        {
          "output_type": "stream",
          "name": "stdout",
          "text": [
            "Este valor 2 não é do tipo inteiro.\n",
            "Este valor 2 é do tipo inteiro.\n"
          ]
        }
      ]
    },
    {
      "cell_type": "code",
      "source": [
        "\"\"\"\n",
        "3 - Utilizando a lista tipada como int do exercício 2, faça um print que exiba\n",
        "a soma de todos os valores dessa lista.\n",
        "\"\"\"\n",
        "\n",
        "print(f'A soma dos valores da lista é: {sum(lista_num)}')  # Mostra a soma dos elementos da lista\n"
      ],
      "metadata": {
        "colab": {
          "base_uri": "https://localhost:8080/"
        },
        "id": "ZY_wwpdJN2V2",
        "outputId": "5ec4e0f8-2c70-4ed0-c8e5-926e1fb0c9f2"
      },
      "execution_count": 74,
      "outputs": [
        {
          "output_type": "stream",
          "name": "stdout",
          "text": [
            "A soma dos elementos da lista é: 20\n"
          ]
        }
      ]
    },
    {
      "cell_type": "code",
      "source": [
        "\"\"\"\n",
        "4 - Crie uma lista vazia denominada quadrados e utilizando a lista tipada como\n",
        "int do exercício 2, faça uma estrutura do tipo for que percorra cada elemento\n",
        "dessa lista de números inteiros, eleve cada valor encontrado ao quadrado e\n",
        "insira cada resultado na lista quadrados e ao final exiba a soma dos\n",
        "valores da lista quadrados.\n",
        "\"\"\"\n",
        "\n",
        "\n",
        "quadrados = []  # lista vazia criada\n",
        "\n",
        "for ele1 in lista_num:  # percorre cada elemento da lista_num\n",
        "    ele1 = ele1 ** 2  # eleva ao quadrado cada elemento da lista_num\n",
        "    quadrados.append(ele1)  # adiciona esse novo valor à lista quadrados\n",
        "\n",
        "print(f'A soma dos valores da lista quadrados é: {sum(quadrados)}')  # mostra a soma dos elementos da lista quadrados\n"
      ],
      "metadata": {
        "colab": {
          "base_uri": "https://localhost:8080/"
        },
        "id": "Kt13ebURT8DO",
        "outputId": "9d92593b-4215-4dc4-8820-05f79e1d345f"
      },
      "execution_count": 77,
      "outputs": [
        {
          "output_type": "stream",
          "name": "stdout",
          "text": [
            "A soma dos valores da lista quadrados é: 120\n"
          ]
        }
      ]
    },
    {
      "cell_type": "code",
      "source": [
        "\"\"\"\n",
        "5 - Crie um programa que receba do usuário duas listas de n números inteiros digitados\n",
        "pelo usuário separados por espaços e após isso utilize o método split para dividir cada\n",
        "lista gerando duas novas listas chamadas x e y é importante deixar claro para o usuário\n",
        "que as duas listas digitadas devem ter a mesma quantidade de números digitados\n",
        "independente de quantos sejam. Após isso, faça a tipagem de todos os números das\n",
        "duas listas como float, então crie três novas listas vazias: xquad, yquad e xy. Agora\n",
        "preencha a lista xquad com cada elemento da lista x elevado ao quadrado, depois faça\n",
        "o mesmo para yquad, elevando cada elemento de y ao quadrado e por último preencha\n",
        "a lista xy fazendo a multiplicação de cada valor da lista x pelo seu correspondente na\n",
        "lista y. No final crie a variável sx que recebe a soma dos valores da lista x, a variável sy\n",
        "que recebe a soma dos valores da lista y, a variável sxquad, que recebe a soma da lista\n",
        "xquad, a variável syquad que recebe a soma da lista de yquad e a variável sxy que\n",
        "recebe a soma da lista de xy e no final imprima todas as variáveis de soma criadas.\n",
        "\"\"\"\n",
        "\n",
        "\n",
        "x = []  # lista vazia criada\n",
        "y = []  # lista vazia criada\n",
        "\n",
        "numeros2 = input('Digite a primeira lista de números inteiros, separando cada um com espaço: ')  # recebe a primeira lista\n",
        "\n",
        "lista2 = numeros2.split()  # separa os números dos espaços\n",
        "\n",
        "for ele2 in lista2:  # adiciona os números na primeira lista\n",
        "    x.append(ele2)\n",
        "\n",
        "# recebe a segunda lista\n",
        "numeros3 = input('Digite a segunda lista de números inteiros, separando cada um com espaço.\\nATENÇÃO! DEVE CONTER A MESMA QUANTIDADE DE NÚMEROS DA PRIMEIRA LISTA!: ')\n",
        "\n",
        "lista3 = numeros3.split()  # separa os números dos espaços\n",
        "\n",
        "for ele3 in lista3:  # adiciona os números na segunda lista\n",
        "    y.append(ele3)\n",
        "\n",
        "if len(x) != len(y):  # compara se as duas listas tem a mesma quantidade de números\n",
        "    print('As listas contém quantidades diferentes de números! Reinicie o programa e tente novamente.')\n",
        "\n",
        "else:  # prossegue com as etapas apos conferir se as listas tem o mesmo tamanho\n",
        "    for f1 in range(len(x)):  # percorre cada elemento da lista x\n",
        "        x[f1] = float(x[f1])  # transforma cada elemento da lista x de str para float\n",
        "\n",
        "    for f2 in range(len(y)):  # percorre cada elemento da lista y\n",
        "        y[f2] = float(y[f2])  # transforma cada elemento da lista y de str para float\n",
        "\n",
        "\n",
        "    xquad = []  # lista vazia criada\n",
        "    yquad = []  # lista vazia criada\n",
        "    xy = []  # lista vazia criada\n",
        "\n",
        "    for quad1 in x:  # percorre cada elemento da lista x\n",
        "        quad1 = quad1 ** 2  # eleva ao quadrado cada elemento da lista x\n",
        "        xquad.append(quad1)  # adiciona cada elemento ao quadrado na lista xquad\n",
        "\n",
        "    for quad2 in y:  # percorre cada elemento da lista y\n",
        "        quad2 = quad2 ** 2  # eleva ao quadrado cada elemento da lista y\n",
        "        yquad.append(quad2)  # adiciona cada elemento ao quadrado na lista yquad\n",
        "\n",
        "    for xy2 in range(len(x)) and range(len(y)):  # percorre cada elemento da lista x E da lista y\n",
        "        xy2 = x[xy2] * y[xy2]  # multiplica cada elemento da lista x pelo respectivo elemento da lista y\n",
        "        xy.append(xy2)  # adiciona cada elemento multiplicado na lista xy\n",
        "\n",
        "\n",
        "    print(f'Os resultados das variáveis são:\\nsx: {sx}\\nsy: {sy}\\nsxquad: {sxquad}\\nsyquad: {syquad}\\nsxy: {sxy}')  # retorna os resultados\n"
      ],
      "metadata": {
        "colab": {
          "base_uri": "https://localhost:8080/"
        },
        "id": "qNtwerG_U15W",
        "outputId": "36575cfd-0ecb-4ddc-f463-bb919e594c85"
      },
      "execution_count": 116,
      "outputs": [
        {
          "output_type": "stream",
          "name": "stdout",
          "text": [
            "Digite a primeira lista de números inteiros, separando cada um com espaço: 2 2\n",
            "Digite a segunda lista de números inteiros, separando cada um com espaço.\n",
            "ATENÇÃO! DEVE CONTER A MESMA QUANTIDADE DE NÚMEROS DA PRIMEIRA LISTA!: 2 2 2\n",
            "As listas contém quantidades diferentes de números! Reinicie o programa e tente novamente.\n"
          ]
        }
      ]
    }
  ]
}